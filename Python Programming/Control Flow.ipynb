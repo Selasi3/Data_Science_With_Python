{
 "cells": [
  {
   "cell_type": "markdown",
   "id": "6f86ea59",
   "metadata": {},
   "source": [
    "**Control Flow**\n",
    "\n",
    "The control flow refers to how a program codes is executed.\n",
    "\n",
    "Example of Control flow:\n",
    "\n",
    "- if-else statement\n",
    "- for loops\n",
    "- while loops\n",
    "- break and continue statement\n",
    "- try and except statement\n"
   ]
  },
  {
   "cell_type": "markdown",
   "id": "937d4d0f",
   "metadata": {},
   "source": [
    "### If-else statement"
   ]
  },
  {
   "cell_type": "markdown",
   "id": "75d51ed3",
   "metadata": {},
   "source": [
    "The if statement runs a block of codes if a condition is true and the else statement runs if the condition is false. "
   ]
  },
  {
   "cell_type": "raw",
   "id": "29025336",
   "metadata": {},
   "source": [
    "if condition:\n",
    "    # code to be executed if condition is true\n",
    "else:\n",
    "    # code to be executed if condition is false"
   ]
  },
  {
   "cell_type": "code",
   "execution_count": 1,
   "id": "83b28cfe",
   "metadata": {},
   "outputs": [
    {
     "name": "stdout",
     "output_type": "stream",
     "text": [
      "Equal\n"
     ]
    }
   ],
   "source": [
    "if 5==5:\n",
    "    print(\"Equal\")"
   ]
  },
  {
   "cell_type": "code",
   "execution_count": 2,
   "id": "8a1ee5f5",
   "metadata": {},
   "outputs": [
    {
     "name": "stdout",
     "output_type": "stream",
     "text": [
      "Not Equal\n"
     ]
    }
   ],
   "source": [
    "if 5==4:\n",
    "    print(\"Equal\")\n",
    "else:\n",
    "    print(\"Not Equal\")"
   ]
  },
  {
   "cell_type": "code",
   "execution_count": 6,
   "id": "82427e19",
   "metadata": {},
   "outputs": [
    {
     "name": "stdout",
     "output_type": "stream",
     "text": [
      "Enter a number25\n",
      "Number is greater than 20 but less than 30\n"
     ]
    }
   ],
   "source": [
    "number = int(input(\"Enter a number\"))\n",
    "\n",
    "if number < 10:\n",
    "    print(\"Number is less than 10\")\n",
    "    \n",
    "elif number >10 and number < 20:\n",
    "    print(\"Number is greater than 10 but less than 20\")\n",
    "    \n",
    "elif number >20 and number < 30:\n",
    "    print(\"Number is greater than 20 but less than 30\")\n",
    "    \n",
    "else:\n",
    "    print(\"Number is greater or equal to 30\")"
   ]
  },
  {
   "cell_type": "markdown",
   "id": "6365b405",
   "metadata": {},
   "source": [
    "### Nested Condition"
   ]
  },
  {
   "cell_type": "code",
   "execution_count": 9,
   "id": "90ab31d4",
   "metadata": {},
   "outputs": [
    {
     "name": "stdout",
     "output_type": "stream",
     "text": [
      "Enter a number33\n",
      "33 is greater than 10\n"
     ]
    }
   ],
   "source": [
    "num = int(input(\"Enter a number\"))\n",
    "\n",
    "if num > 10:\n",
    "    print(f\"{num} is greater than 10\")\n",
    "else:\n",
    "    if num%3 ==0:\n",
    "        print(f\"{num} is a multiple of 3\")\n",
    "    else:\n",
    "        print(f\"{num} is not a multiple of 3\")\n",
    "    print(f\"{num} is less than 10\")"
   ]
  },
  {
   "cell_type": "code",
   "execution_count": null,
   "id": "bea8caad",
   "metadata": {},
   "outputs": [],
   "source": []
  },
  {
   "cell_type": "markdown",
   "id": "6997a17c",
   "metadata": {},
   "source": [
    "### for loop"
   ]
  },
  {
   "cell_type": "markdown",
   "id": "77fcbcf8",
   "metadata": {},
   "source": [
    "A for loop is used to iterate over a sequence(eg list,string, tuple) and execute a block of code for each item in the sequence."
   ]
  },
  {
   "cell_type": "raw",
   "id": "a5d5f3c6",
   "metadata": {},
   "source": [
    "for item in sequence:\n",
    "    #code to execute"
   ]
  },
  {
   "cell_type": "code",
   "execution_count": 10,
   "id": "6392fadb",
   "metadata": {},
   "outputs": [
    {
     "name": "stdout",
     "output_type": "stream",
     "text": [
      "S\n",
      "e\n",
      "l\n",
      "a\n",
      "s\n",
      "i\n"
     ]
    }
   ],
   "source": [
    "name = \"Selasi\"\n",
    "\n",
    "for character in name:\n",
    "    print(character)"
   ]
  },
  {
   "cell_type": "code",
   "execution_count": 11,
   "id": "1e2d81e4",
   "metadata": {},
   "outputs": [
    {
     "name": "stdout",
     "output_type": "stream",
     "text": [
      "3 is less than 10\n",
      "12\n",
      "23\n",
      "4 is less than 10\n",
      "5 is less than 10\n",
      "7 is less than 10\n",
      "11\n",
      "9 is less than 10\n"
     ]
    }
   ],
   "source": [
    "list_numbers = [3,12,23,4,5,7,11,9]\n",
    "\n",
    "for number in list_numbers:\n",
    "    \n",
    "    if number >10:\n",
    "        print(number)\n",
    "        \n",
    "    else:\n",
    "        print(f\"{number} is less than 10\")"
   ]
  },
  {
   "cell_type": "markdown",
   "id": "7dba37fb",
   "metadata": {},
   "source": [
    "**range()** is a function that generate a sequence of numbers starting from 0(by default), increasing by 1 (by default) and stops before a specified number.\n",
    "\n",
    "- **range(stop)**\n",
    "\n",
    "- **range(start, stop)**\n",
    "\n",
    "- **range(start, stop, step)**\n",
    "\n",
    "\n",
    "- start - starting point\n",
    "- stop - ending point(exclusive)\n",
    "- step - interval"
   ]
  },
  {
   "cell_type": "code",
   "execution_count": 13,
   "id": "c5df6781",
   "metadata": {},
   "outputs": [
    {
     "name": "stdout",
     "output_type": "stream",
     "text": [
      "0\n",
      "1\n",
      "2\n",
      "3\n",
      "4\n",
      "5\n"
     ]
    }
   ],
   "source": [
    "# Generate numbers frrm 0 to 5\n",
    "for i in range(6):\n",
    "    print(i)\n"
   ]
  },
  {
   "cell_type": "code",
   "execution_count": 14,
   "id": "de4f2fb1",
   "metadata": {},
   "outputs": [
    {
     "name": "stdout",
     "output_type": "stream",
     "text": [
      "10\n",
      "11\n",
      "12\n",
      "13\n",
      "14\n",
      "15\n",
      "16\n",
      "17\n",
      "18\n",
      "19\n",
      "20\n"
     ]
    }
   ],
   "source": [
    "# Generate numbers from 10 to 20\n",
    "for i in range(10,21):\n",
    "    print(i)"
   ]
  },
  {
   "cell_type": "code",
   "execution_count": 15,
   "id": "684c3a42",
   "metadata": {},
   "outputs": [
    {
     "name": "stdout",
     "output_type": "stream",
     "text": [
      "10\n",
      "12\n",
      "14\n",
      "16\n",
      "18\n",
      "20\n"
     ]
    }
   ],
   "source": [
    "# Generate even numbers from 10 to 20\n",
    "for i in range(10,21,2):\n",
    "    print(i)"
   ]
  },
  {
   "cell_type": "markdown",
   "id": "575f4a66",
   "metadata": {},
   "source": [
    "### While loop"
   ]
  },
  {
   "cell_type": "markdown",
   "id": "c5953fcd",
   "metadata": {},
   "source": [
    "A while loop is used to repeatedly execute a block of code as long as a given condition is True, the code run repeatedly until a condition False is met"
   ]
  },
  {
   "cell_type": "raw",
   "id": "c6f1854f",
   "metadata": {},
   "source": [
    "while conditon:\n",
    "    # code to execute"
   ]
  },
  {
   "cell_type": "markdown",
   "id": "540dab55",
   "metadata": {},
   "source": [
    "### Infinite loop"
   ]
  },
  {
   "cell_type": "markdown",
   "id": "cd8161a2",
   "metadata": {},
   "source": [
    "This is a loop whose exit condition is never met, the code continues to run indefinitely."
   ]
  },
  {
   "cell_type": "raw",
   "id": "1a1b39b5",
   "metadata": {},
   "source": [
    "while True:\n",
    "    print(\"Infinite loop\")\n"
   ]
  },
  {
   "cell_type": "code",
   "execution_count": 21,
   "id": "af5de65c",
   "metadata": {},
   "outputs": [
    {
     "name": "stdout",
     "output_type": "stream",
     "text": [
      "10\n",
      "9\n",
      "8\n",
      "7\n",
      "6\n",
      "5\n",
      "4\n",
      "3\n",
      "2\n",
      "1\n"
     ]
    }
   ],
   "source": [
    "#Display number from 10 to 1 using a while loop\n",
    "number =10\n",
    "\n",
    "while number>0:\n",
    "    print(number)\n",
    "    number-=1\n",
    "    "
   ]
  },
  {
   "cell_type": "code",
   "execution_count": 22,
   "id": "fe57e4b3",
   "metadata": {},
   "outputs": [],
   "source": [
    "#Display list of number from 10 to 1 using a while loop\n",
    "\n",
    "number =10\n",
    "list_numbers = []\n",
    "while number>0:\n",
    "    list_numbers.append(number)\n",
    "    number-=1"
   ]
  },
  {
   "cell_type": "code",
   "execution_count": 23,
   "id": "d91103e6",
   "metadata": {},
   "outputs": [
    {
     "data": {
      "text/plain": [
       "[10, 9, 8, 7, 6, 5, 4, 3, 2, 1]"
      ]
     },
     "execution_count": 23,
     "metadata": {},
     "output_type": "execute_result"
    }
   ],
   "source": [
    "list_numbers"
   ]
  },
  {
   "cell_type": "code",
   "execution_count": null,
   "id": "c5c5dd37",
   "metadata": {},
   "outputs": [],
   "source": []
  },
  {
   "cell_type": "markdown",
   "id": "b97e9c8a",
   "metadata": {},
   "source": [
    "**break**\n",
    "\n",
    "This statement is used to terminate a loop prematurely and skip to the next part of the code."
   ]
  },
  {
   "cell_type": "code",
   "execution_count": 24,
   "id": "63b67f46",
   "metadata": {},
   "outputs": [
    {
     "name": "stdout",
     "output_type": "stream",
     "text": [
      "0\n",
      "1\n",
      "2\n",
      "3\n",
      "4\n",
      "5\n",
      "6\n",
      "7\n"
     ]
    }
   ],
   "source": [
    "for i in range(10):\n",
    "    if i == 8:\n",
    "        break\n",
    "    print(i)"
   ]
  },
  {
   "cell_type": "code",
   "execution_count": 34,
   "id": "cee8a31e",
   "metadata": {},
   "outputs": [],
   "source": [
    "nums = [2,3,4,5,1,4,5,5]\n",
    "total =0\n",
    "for i in range(len(nums)):    \n",
    "    while total<10:\n",
    "        total+=nums[i]\n",
    "        break\n",
    "    \n",
    "        \n"
   ]
  },
  {
   "cell_type": "code",
   "execution_count": 35,
   "id": "d5f71405",
   "metadata": {},
   "outputs": [
    {
     "data": {
      "text/plain": [
       "14"
      ]
     },
     "execution_count": 35,
     "metadata": {},
     "output_type": "execute_result"
    }
   ],
   "source": [
    "total"
   ]
  },
  {
   "cell_type": "markdown",
   "id": "7291eab1",
   "metadata": {},
   "source": [
    "**continue**\n",
    "\n",
    "The continue keyword is used skip the current iteration of the loop and continues to the next iteration"
   ]
  },
  {
   "cell_type": "code",
   "execution_count": 36,
   "id": "d56adc89",
   "metadata": {},
   "outputs": [
    {
     "name": "stdout",
     "output_type": "stream",
     "text": [
      "1\n",
      "2\n",
      "3\n",
      "4\n",
      "6\n",
      "7\n",
      "8\n",
      "9\n",
      "10\n"
     ]
    }
   ],
   "source": [
    "for i in range(1,11):\n",
    "    if i==5:\n",
    "        continue\n",
    "    print(i)"
   ]
  },
  {
   "cell_type": "code",
   "execution_count": null,
   "id": "c8db1043",
   "metadata": {},
   "outputs": [],
   "source": [
    "names = [\"Akua\",\"Akos\",\"Adjoa\",\"\"]"
   ]
  }
 ],
 "metadata": {
  "kernelspec": {
   "display_name": "Python 3 (ipykernel)",
   "language": "python",
   "name": "python3"
  },
  "language_info": {
   "codemirror_mode": {
    "name": "ipython",
    "version": 3
   },
   "file_extension": ".py",
   "mimetype": "text/x-python",
   "name": "python",
   "nbconvert_exporter": "python",
   "pygments_lexer": "ipython3",
   "version": "3.9.12"
  }
 },
 "nbformat": 4,
 "nbformat_minor": 5
}
