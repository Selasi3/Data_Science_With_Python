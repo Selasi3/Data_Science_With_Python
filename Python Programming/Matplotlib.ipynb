{
 "cells": [
  {
   "cell_type": "markdown",
   "id": "9e263180",
   "metadata": {},
   "source": [
    "### Introduction\n",
    "\n",
    "Matplotlib is a Python lbirary used for creating static, animated, and interactive visualizations in Python.\n",
    "\n",
    "It is built on top of the NumPy and SciPy libraries, which provide the numerical and scientific computing capabilities needed to manipulate data and perform calculations."
   ]
  },
  {
   "cell_type": "markdown",
   "id": "c420a43b",
   "metadata": {},
   "source": [
    "### Installation\n",
    "\n",
    "Matplotlib can be installed using the following:\n",
    "\n",
    "#### Anaconda Prompt\n",
    "  Run the code below in the anaconda prompt:\n",
    "  \n",
    "`conda install maplotlib`\n",
    "\n",
    "#### Command Prompt\n",
    "  Run the code below in the command prompt:\n",
    "  \n",
    "`pip install maplotlib`\n",
    "\n",
    "#### Jupyter Notebook\n",
    "  Run the code below in the cell of the jupyter notebook:\n",
    "  \n",
    "`!pip install maplotlib`"
   ]
  },
  {
   "cell_type": "markdown",
   "id": "6082081a",
   "metadata": {},
   "source": [
    "### Check Version\n",
    "\n",
    "To check the version of matplotlib, run the following code in a Python shell or a Jupyter notebook:\n"
   ]
  },
  {
   "cell_type": "raw",
   "id": "d956c76e",
   "metadata": {},
   "source": [
    "import matplotlib\n",
    "print(matplotlib.__version__)"
   ]
  },
  {
   "cell_type": "code",
   "execution_count": 1,
   "id": "cf18896c",
   "metadata": {},
   "outputs": [
    {
     "name": "stdout",
     "output_type": "stream",
     "text": [
      "3.5.1\n"
     ]
    }
   ],
   "source": [
    "import matplotlib\n",
    "print(matplotlib.__version__)"
   ]
  },
  {
   "cell_type": "markdown",
   "id": "23292782",
   "metadata": {},
   "source": [
    "### Usage\n",
    "In order to use the matplotlib, the library need to be imported in a Python script or a Jupyter notebook using the following line of code:\n",
    "\n",
    "`import matplotlib.pyplot as plt`\n",
    "\n",
    "The most common alias used for matplotlib is `plt`"
   ]
  },
  {
   "cell_type": "markdown",
   "id": "87a39b0d",
   "metadata": {},
   "source": [
    "### Matplotlib Basic Concept"
   ]
  },
  {
   "cell_type": "markdown",
   "id": "98f0d871",
   "metadata": {},
   "source": [
    "#### figure\n",
    "A figure is a container that holds all the elements of a plot such as axes, titles, legends etc\n",
    "\n",
    "It can contain one or more subplots.\n",
    "\n",
    "The figure() function is used to create a new figure object, which can be customized using various parameters.\n",
    "\n"
   ]
  },
  {
   "cell_type": "markdown",
   "id": "40b46b7d",
   "metadata": {},
   "source": [
    "#### Axes\n",
    "It represents a set of axes that can be used to create a plot. \n",
    "\n",
    "It refers to the subplots on the figure.\n",
    "\n",
    "It is created using `add_subplot()` method of a figure object"
   ]
  },
  {
   "cell_type": "markdown",
   "id": "24cb65a4",
   "metadata": {},
   "source": [
    "#### Axis\n",
    "\n",
    "It represents the dimensions of a figure eg x-xis, y-axis.\n",
    "Commonly used methods of the axis include:\n",
    "\n",
    "**set_xlim()**: sets the limits of the x-axis\n",
    "\n",
    "**set_ylim()**: sets the limits of the y-axis\n",
    "\n",
    "**set_xscale()**: sets the scale of the x-axis (linear, logarithmic, etc.)\n",
    "\n",
    "**set_yscale()**: sets the scale of the y-axis (linear, logarithmic, etc.)\n",
    "\n",
    "**set_xlabel()**: sets the label of the x-axis\n",
    "\n",
    "**set_ylabel()**: sets the label of the y-axis\n",
    "\n",
    "***set_xticks()**: sets the positions of the tick marks on the x-axis\n",
    "\n",
    "**set_yticks()**: sets the positions of the tick marks on the y-axis"
   ]
  },
  {
   "cell_type": "markdown",
   "id": "9b71eced",
   "metadata": {},
   "source": [
    "#### Annotation\n",
    "\n",
    "Annotation is used to add text, arrows or other shapes to a plot to provide additional information or highlight specific features of the data.\n",
    "\n",
    "The annotation is added to a plot using the `annotate()`  method of  the axis.\n"
   ]
  },
  {
   "cell_type": "markdown",
   "id": "c48336fe",
   "metadata": {},
   "source": [
    "#### Legend\n",
    "It is a graphical representation of the labels attached to a plot.\n",
    "\n",
    "The legend allows users to understand the meaning of the various lines, markers or other visual elements in a plot\n",
    "\n",
    "The legend are added to a plot using the `legend()` method of the axes object"
   ]
  },
  {
   "cell_type": "markdown",
   "id": "8529002e",
   "metadata": {},
   "source": [
    "#### Title\n"
   ]
  }
 ],
 "metadata": {
  "kernelspec": {
   "display_name": "Python 3 (ipykernel)",
   "language": "python",
   "name": "python3"
  },
  "language_info": {
   "codemirror_mode": {
    "name": "ipython",
    "version": 3
   },
   "file_extension": ".py",
   "mimetype": "text/x-python",
   "name": "python",
   "nbconvert_exporter": "python",
   "pygments_lexer": "ipython3",
   "version": "3.9.12"
  }
 },
 "nbformat": 4,
 "nbformat_minor": 5
}
