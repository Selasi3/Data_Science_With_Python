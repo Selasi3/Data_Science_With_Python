{
 "cells": [
  {
   "cell_type": "markdown",
   "id": "66fb6234",
   "metadata": {},
   "source": [
    "### Numpy\n"
   ]
  },
  {
   "cell_type": "markdown",
   "id": "958c9cba",
   "metadata": {},
   "source": [
    "Numpy stands for Numerical Python.\n",
    "\n",
    "It is a popular Python library built on C programming which is used for scientific computing."
   ]
  },
  {
   "cell_type": "markdown",
   "id": "b1a59737",
   "metadata": {},
   "source": [
    "### Advantages of Numpy\n"
   ]
  },
  {
   "cell_type": "markdown",
   "id": "d3ae960c",
   "metadata": {},
   "source": [
    "- Numpy array manipulations are faster as compared to the list data structure.\n",
    "- Numpy provides a wide range of universal functions for performing element-wise opperations on arrays such as addition, multiplicaton \n",
    "- NumPy provides a powerful and flexible data structure called ndarrays (N-dimensional arrays), which can represent and manipulate data in multiple dimensions.\n",
    "- NumPy's broadcasting feature allows arrays with different shapes to be used in arithmetic operations, which can greatly simplify code and reduce memory usage."
   ]
  },
  {
   "cell_type": "markdown",
   "id": "ef41fe9e",
   "metadata": {},
   "source": [
    "### Installation of Numpy"
   ]
  },
  {
   "cell_type": "markdown",
   "id": "9be0c728",
   "metadata": {},
   "source": [
    "The numpy library can be installed using the following:"
   ]
  },
  {
   "cell_type": "markdown",
   "id": "35123f40",
   "metadata": {},
   "source": [
    "\n",
    "**1. Command Prompt**\n",
    "\n",
    "- Launch the command prompt\n",
    "- Type the code below to install the numpy library\n",
    "\n",
    "`pip install numpy`\n"
   ]
  },
  {
   "cell_type": "markdown",
   "id": "991dc0f8",
   "metadata": {},
   "source": [
    "\n",
    "**2. Anaconda Terminal**\n",
    "\n",
    "- Launch the anaconda terminal\n",
    "- Type the code below to install the numpy library\n",
    "\n",
    "`conda install numpy`\n"
   ]
  },
  {
   "cell_type": "markdown",
   "id": "7a39d3cd",
   "metadata": {},
   "source": [
    "### Using Numpy"
   ]
  },
  {
   "cell_type": "markdown",
   "id": "9c73bbad",
   "metadata": {},
   "source": [
    "To use the numpy library import the numpy library using:\n",
    "\n",
    "`import numpy as np`"
   ]
  },
  {
   "cell_type": "markdown",
   "id": "033a9af4",
   "metadata": {},
   "source": [
    "The **np** is the popular alias for the numpy library."
   ]
  },
  {
   "cell_type": "code",
   "execution_count": 1,
   "id": "06af53ac",
   "metadata": {},
   "outputs": [],
   "source": [
    "import numpy as np"
   ]
  },
  {
   "cell_type": "markdown",
   "id": "6b3ce06f",
   "metadata": {},
   "source": [
    "### Numpy Arrays"
   ]
  },
  {
   "cell_type": "markdown",
   "id": "76a3a6a9",
   "metadata": {},
   "source": [
    "A numpy array is a grid of values with the same data type and that is indexed by a tuple of non-negative integers.\n",
    "\n",
    "Numpy arrays can havr any number of dimensions, but the most popular types are the one dimensional array(vectors) and two dimensional arrays(matrices)"
   ]
  },
  {
   "cell_type": "markdown",
   "id": "a6a43c09",
   "metadata": {},
   "source": [
    "#### Creating  a 1D array"
   ]
  },
  {
   "cell_type": "code",
   "execution_count": 2,
   "id": "138f7470",
   "metadata": {},
   "outputs": [],
   "source": [
    "arr_1 = np.array([1,2,3,4])"
   ]
  },
  {
   "cell_type": "code",
   "execution_count": 3,
   "id": "2b8ecb15",
   "metadata": {},
   "outputs": [
    {
     "data": {
      "text/plain": [
       "array([1, 2, 3, 4])"
      ]
     },
     "execution_count": 3,
     "metadata": {},
     "output_type": "execute_result"
    }
   ],
   "source": [
    "arr_1"
   ]
  },
  {
   "cell_type": "code",
   "execution_count": 4,
   "id": "9f651267",
   "metadata": {},
   "outputs": [
    {
     "data": {
      "text/plain": [
       "1"
      ]
     },
     "execution_count": 4,
     "metadata": {},
     "output_type": "execute_result"
    }
   ],
   "source": [
    "#Check the dimension of the array\n",
    "arr_1.ndim"
   ]
  },
  {
   "cell_type": "code",
   "execution_count": 5,
   "id": "b92aea68",
   "metadata": {},
   "outputs": [
    {
     "data": {
      "text/plain": [
       "(4,)"
      ]
     },
     "execution_count": 5,
     "metadata": {},
     "output_type": "execute_result"
    }
   ],
   "source": [
    "#check the shape of the array\n",
    "arr_1.shape"
   ]
  },
  {
   "cell_type": "markdown",
   "id": "1343437e",
   "metadata": {},
   "source": [
    "#### Creating a 1D array from a list"
   ]
  },
  {
   "cell_type": "code",
   "execution_count": 6,
   "id": "5b08b634",
   "metadata": {},
   "outputs": [],
   "source": [
    "ls_1 = [2,3,4,5]"
   ]
  },
  {
   "cell_type": "code",
   "execution_count": 7,
   "id": "3eec2ca5",
   "metadata": {},
   "outputs": [],
   "source": [
    "arr_2 = np.array(ls_1)"
   ]
  },
  {
   "cell_type": "code",
   "execution_count": 8,
   "id": "e8fdd724",
   "metadata": {},
   "outputs": [
    {
     "data": {
      "text/plain": [
       "array([2, 3, 4, 5])"
      ]
     },
     "execution_count": 8,
     "metadata": {},
     "output_type": "execute_result"
    }
   ],
   "source": [
    "arr_2"
   ]
  },
  {
   "cell_type": "code",
   "execution_count": 9,
   "id": "671364cc",
   "metadata": {},
   "outputs": [
    {
     "data": {
      "text/plain": [
       "(4,)"
      ]
     },
     "execution_count": 9,
     "metadata": {},
     "output_type": "execute_result"
    }
   ],
   "source": [
    "arr_2.shape"
   ]
  },
  {
   "cell_type": "code",
   "execution_count": 10,
   "id": "50db1d15",
   "metadata": {},
   "outputs": [
    {
     "data": {
      "text/plain": [
       "numpy.ndarray"
      ]
     },
     "execution_count": 10,
     "metadata": {},
     "output_type": "execute_result"
    }
   ],
   "source": [
    "#Get the data type of the array\n",
    "type(arr_2)"
   ]
  },
  {
   "cell_type": "markdown",
   "id": "470a0a97",
   "metadata": {},
   "source": [
    "### Sorting an array"
   ]
  },
  {
   "cell_type": "code",
   "execution_count": 11,
   "id": "4ed5b9bb",
   "metadata": {},
   "outputs": [
    {
     "data": {
      "text/plain": [
       "array([5, 6, 3, 2, 9])"
      ]
     },
     "execution_count": 11,
     "metadata": {},
     "output_type": "execute_result"
    }
   ],
   "source": [
    "arr_7 = np.array([5,6,3,2,9])\n",
    "arr_7"
   ]
  },
  {
   "cell_type": "code",
   "execution_count": 12,
   "id": "980ae22e",
   "metadata": {},
   "outputs": [
    {
     "data": {
      "text/plain": [
       "array([2, 3, 5, 6, 9])"
      ]
     },
     "execution_count": 12,
     "metadata": {},
     "output_type": "execute_result"
    }
   ],
   "source": [
    "np.sort(arr_7)"
   ]
  },
  {
   "cell_type": "code",
   "execution_count": 13,
   "id": "11af48f3",
   "metadata": {},
   "outputs": [
    {
     "data": {
      "text/plain": [
       "array([9, 6, 5, 3, 2])"
      ]
     },
     "execution_count": 13,
     "metadata": {},
     "output_type": "execute_result"
    }
   ],
   "source": [
    "np.sort(arr_7)[::-1]"
   ]
  },
  {
   "cell_type": "code",
   "execution_count": 14,
   "id": "6664215a",
   "metadata": {},
   "outputs": [
    {
     "data": {
      "text/plain": [
       "array([[3, 6, 5],\n",
       "       [4, 6, 7],\n",
       "       [1, 6, 8]])"
      ]
     },
     "execution_count": 14,
     "metadata": {},
     "output_type": "execute_result"
    }
   ],
   "source": [
    "arr_8= np.array([[3,6,5],[4,6,7],[1,6,8]])\n",
    "arr_8"
   ]
  },
  {
   "cell_type": "code",
   "execution_count": 15,
   "id": "f5ea4be3",
   "metadata": {},
   "outputs": [
    {
     "data": {
      "text/plain": [
       "array([[3, 5, 6],\n",
       "       [4, 6, 7],\n",
       "       [1, 6, 8]])"
      ]
     },
     "execution_count": 15,
     "metadata": {},
     "output_type": "execute_result"
    }
   ],
   "source": [
    "#sorting by columns\n",
    "np.sort(arr_8,axis=1)"
   ]
  },
  {
   "cell_type": "code",
   "execution_count": 16,
   "id": "4dac5106",
   "metadata": {},
   "outputs": [
    {
     "data": {
      "text/plain": [
       "array([[1, 6, 5],\n",
       "       [3, 6, 7],\n",
       "       [4, 6, 8]])"
      ]
     },
     "execution_count": 16,
     "metadata": {},
     "output_type": "execute_result"
    }
   ],
   "source": [
    "#sorting by row\n",
    "np.sort(arr_8,axis=0)"
   ]
  },
  {
   "cell_type": "markdown",
   "id": "51668f15",
   "metadata": {},
   "source": [
    "### Creating Matrix Using Numpy"
   ]
  },
  {
   "cell_type": "code",
   "execution_count": 17,
   "id": "7cfc5206",
   "metadata": {},
   "outputs": [],
   "source": [
    "mat_1 = np.array([[1,2,3],[4,5,6]]) "
   ]
  },
  {
   "cell_type": "code",
   "execution_count": 18,
   "id": "cb820a62",
   "metadata": {},
   "outputs": [
    {
     "data": {
      "text/plain": [
       "array([[1, 2, 3],\n",
       "       [4, 5, 6]])"
      ]
     },
     "execution_count": 18,
     "metadata": {},
     "output_type": "execute_result"
    }
   ],
   "source": [
    "mat_1"
   ]
  },
  {
   "cell_type": "code",
   "execution_count": 19,
   "id": "741799c0",
   "metadata": {},
   "outputs": [
    {
     "data": {
      "text/plain": [
       "2"
      ]
     },
     "execution_count": 19,
     "metadata": {},
     "output_type": "execute_result"
    }
   ],
   "source": [
    "mat_1.ndim"
   ]
  },
  {
   "cell_type": "code",
   "execution_count": 20,
   "id": "63faf1c9",
   "metadata": {},
   "outputs": [
    {
     "data": {
      "text/plain": [
       "(2, 3)"
      ]
     },
     "execution_count": 20,
     "metadata": {},
     "output_type": "execute_result"
    }
   ],
   "source": [
    "mat_1.shape"
   ]
  },
  {
   "cell_type": "markdown",
   "id": "1bf949f8",
   "metadata": {},
   "source": [
    "#### Creating a matrix from list of list"
   ]
  },
  {
   "cell_type": "code",
   "execution_count": 21,
   "id": "65589502",
   "metadata": {},
   "outputs": [
    {
     "data": {
      "text/plain": [
       "[[2, 3, 4, 5], [6, 3, 2, 5], [3, 4, 7, 5]]"
      ]
     },
     "execution_count": 21,
     "metadata": {},
     "output_type": "execute_result"
    }
   ],
   "source": [
    "lst_2 = [[2,3,4,5],[6,3,2,5], [3,4,7,5]]\n",
    "lst_2"
   ]
  },
  {
   "cell_type": "code",
   "execution_count": 22,
   "id": "8c9fba4d",
   "metadata": {},
   "outputs": [],
   "source": [
    "mat_2 = np.array(lst_2)"
   ]
  },
  {
   "cell_type": "code",
   "execution_count": 23,
   "id": "aff7b79f",
   "metadata": {},
   "outputs": [
    {
     "data": {
      "text/plain": [
       "array([[2, 3, 4, 5],\n",
       "       [6, 3, 2, 5],\n",
       "       [3, 4, 7, 5]])"
      ]
     },
     "execution_count": 23,
     "metadata": {},
     "output_type": "execute_result"
    }
   ],
   "source": [
    "mat_2"
   ]
  },
  {
   "cell_type": "code",
   "execution_count": 24,
   "id": "86567d38",
   "metadata": {},
   "outputs": [
    {
     "data": {
      "text/plain": [
       "2"
      ]
     },
     "execution_count": 24,
     "metadata": {},
     "output_type": "execute_result"
    }
   ],
   "source": [
    "mat_2.ndim"
   ]
  },
  {
   "cell_type": "code",
   "execution_count": 25,
   "id": "3cde1727",
   "metadata": {},
   "outputs": [
    {
     "data": {
      "text/plain": [
       "(3, 4)"
      ]
     },
     "execution_count": 25,
     "metadata": {},
     "output_type": "execute_result"
    }
   ],
   "source": [
    "mat_2.shape"
   ]
  },
  {
   "cell_type": "code",
   "execution_count": 26,
   "id": "520b7d1a",
   "metadata": {},
   "outputs": [
    {
     "data": {
      "text/plain": [
       "matrix([[1, 2],\n",
       "        [3, 4]])"
      ]
     },
     "execution_count": 26,
     "metadata": {},
     "output_type": "execute_result"
    }
   ],
   "source": [
    "# creating a two by two matrix using np.matrix\n",
    "matrix_1 =np.matrix([[1,2],[3,4]])\n",
    "matrix_1"
   ]
  },
  {
   "cell_type": "markdown",
   "id": "45fde2ac",
   "metadata": {},
   "source": [
    "### Mathematical Operations with Arrays"
   ]
  },
  {
   "cell_type": "code",
   "execution_count": 97,
   "id": "1a5bc041",
   "metadata": {},
   "outputs": [],
   "source": [
    "a = np.array([[2,4], [6,8]])\n",
    "b = np.array([[1,7],[2,4]])"
   ]
  },
  {
   "cell_type": "code",
   "execution_count": 98,
   "id": "1748f678",
   "metadata": {},
   "outputs": [
    {
     "data": {
      "text/plain": [
       "array([[2, 4],\n",
       "       [6, 8]])"
      ]
     },
     "execution_count": 98,
     "metadata": {},
     "output_type": "execute_result"
    }
   ],
   "source": [
    "a"
   ]
  },
  {
   "cell_type": "code",
   "execution_count": 99,
   "id": "c1b1b8bb",
   "metadata": {},
   "outputs": [
    {
     "data": {
      "text/plain": [
       "array([[1, 7],\n",
       "       [2, 4]])"
      ]
     },
     "execution_count": 99,
     "metadata": {},
     "output_type": "execute_result"
    }
   ],
   "source": [
    "b"
   ]
  },
  {
   "cell_type": "code",
   "execution_count": 100,
   "id": "c37e6fe9",
   "metadata": {},
   "outputs": [
    {
     "data": {
      "text/plain": [
       "array([[ 3, 11],\n",
       "       [ 8, 12]])"
      ]
     },
     "execution_count": 100,
     "metadata": {},
     "output_type": "execute_result"
    }
   ],
   "source": [
    "#addition\n",
    "a+b"
   ]
  },
  {
   "cell_type": "code",
   "execution_count": 101,
   "id": "d79db74a",
   "metadata": {},
   "outputs": [
    {
     "data": {
      "text/plain": [
       "array([[ 1, -3],\n",
       "       [ 4,  4]])"
      ]
     },
     "execution_count": 101,
     "metadata": {},
     "output_type": "execute_result"
    }
   ],
   "source": [
    "#subtraction\n",
    "a-b"
   ]
  },
  {
   "cell_type": "code",
   "execution_count": 102,
   "id": "82d74f17",
   "metadata": {},
   "outputs": [
    {
     "data": {
      "text/plain": [
       "array([[ 2, 28],\n",
       "       [12, 32]])"
      ]
     },
     "execution_count": 102,
     "metadata": {},
     "output_type": "execute_result"
    }
   ],
   "source": [
    "#multiplcation\n",
    "a*b"
   ]
  },
  {
   "cell_type": "code",
   "execution_count": 103,
   "id": "39a10a71",
   "metadata": {},
   "outputs": [
    {
     "data": {
      "text/plain": [
       "array([[ 2, 28],\n",
       "       [12, 32]])"
      ]
     },
     "execution_count": 103,
     "metadata": {},
     "output_type": "execute_result"
    }
   ],
   "source": [
    "b*a"
   ]
  },
  {
   "cell_type": "code",
   "execution_count": 105,
   "id": "8fa71e86",
   "metadata": {},
   "outputs": [
    {
     "data": {
      "text/plain": [
       "array([[2.        , 0.57142857],\n",
       "       [3.        , 2.        ]])"
      ]
     },
     "execution_count": 105,
     "metadata": {},
     "output_type": "execute_result"
    }
   ],
   "source": [
    "# Division\n",
    "a/b"
   ]
  },
  {
   "cell_type": "code",
   "execution_count": null,
   "id": "6a105191",
   "metadata": {},
   "outputs": [],
   "source": []
  },
  {
   "cell_type": "markdown",
   "id": "1837532f",
   "metadata": {},
   "source": [
    "### Broadcasting"
   ]
  },
  {
   "cell_type": "code",
   "execution_count": 112,
   "id": "2e5c7a50",
   "metadata": {},
   "outputs": [],
   "source": [
    "d = 5\n",
    "arr_a = np.array([[5,6],[4,2]])\n",
    "arr_b = np.array([2,3])"
   ]
  },
  {
   "cell_type": "code",
   "execution_count": 113,
   "id": "95bb9492",
   "metadata": {},
   "outputs": [
    {
     "data": {
      "text/plain": [
       "5"
      ]
     },
     "execution_count": 113,
     "metadata": {},
     "output_type": "execute_result"
    }
   ],
   "source": [
    "d"
   ]
  },
  {
   "cell_type": "code",
   "execution_count": 114,
   "id": "5299e032",
   "metadata": {},
   "outputs": [
    {
     "data": {
      "text/plain": [
       "array([[5, 6],\n",
       "       [4, 2]])"
      ]
     },
     "execution_count": 114,
     "metadata": {},
     "output_type": "execute_result"
    }
   ],
   "source": [
    "arr_a"
   ]
  },
  {
   "cell_type": "code",
   "execution_count": 115,
   "id": "55a701a3",
   "metadata": {},
   "outputs": [
    {
     "data": {
      "text/plain": [
       "array([2, 3])"
      ]
     },
     "execution_count": 115,
     "metadata": {},
     "output_type": "execute_result"
    }
   ],
   "source": [
    "arr_b"
   ]
  },
  {
   "cell_type": "code",
   "execution_count": 116,
   "id": "e1532da9",
   "metadata": {},
   "outputs": [
    {
     "data": {
      "text/plain": [
       "array([[25, 30],\n",
       "       [20, 10]])"
      ]
     },
     "execution_count": 116,
     "metadata": {},
     "output_type": "execute_result"
    }
   ],
   "source": [
    "#scalar with array\n",
    "d * arr_a"
   ]
  },
  {
   "cell_type": "code",
   "execution_count": 117,
   "id": "a0375363",
   "metadata": {},
   "outputs": [
    {
     "data": {
      "text/plain": [
       "array([[10, 11],\n",
       "       [ 9,  7]])"
      ]
     },
     "execution_count": 117,
     "metadata": {},
     "output_type": "execute_result"
    }
   ],
   "source": [
    "d+ arr_a"
   ]
  },
  {
   "cell_type": "code",
   "execution_count": 118,
   "id": "050e0af6",
   "metadata": {},
   "outputs": [
    {
     "data": {
      "text/plain": [
       "array([[7, 9],\n",
       "       [6, 5]])"
      ]
     },
     "execution_count": 118,
     "metadata": {},
     "output_type": "execute_result"
    }
   ],
   "source": [
    "# adding arrays with different shapes\n",
    "arr_a +arr_b"
   ]
  },
  {
   "cell_type": "code",
   "execution_count": 119,
   "id": "c2ffae35",
   "metadata": {},
   "outputs": [
    {
     "data": {
      "text/plain": [
       "array([[10, 18],\n",
       "       [ 8,  6]])"
      ]
     },
     "execution_count": 119,
     "metadata": {},
     "output_type": "execute_result"
    }
   ],
   "source": [
    "arr_a *arr_b"
   ]
  },
  {
   "cell_type": "code",
   "execution_count": 120,
   "id": "4f60c935",
   "metadata": {},
   "outputs": [
    {
     "data": {
      "text/plain": [
       "array([[10, 18],\n",
       "       [ 8,  6]])"
      ]
     },
     "execution_count": 120,
     "metadata": {},
     "output_type": "execute_result"
    }
   ],
   "source": [
    "arr_b*arr_a"
   ]
  },
  {
   "cell_type": "code",
   "execution_count": null,
   "id": "0faaeecd",
   "metadata": {},
   "outputs": [],
   "source": []
  },
  {
   "cell_type": "code",
   "execution_count": null,
   "id": "e9527e45",
   "metadata": {},
   "outputs": [],
   "source": []
  },
  {
   "cell_type": "markdown",
   "id": "084251d5",
   "metadata": {},
   "source": [
    "### Numpy Indexing and Selection"
   ]
  },
  {
   "cell_type": "markdown",
   "id": "e162a7e1",
   "metadata": {},
   "source": [
    "Numpy indexing is similar to indexing in list data structure.\n",
    "\n",
    "For a 1D array, elementss are accessed using their integer indicies"
   ]
  },
  {
   "cell_type": "code",
   "execution_count": 27,
   "id": "05f2901e",
   "metadata": {},
   "outputs": [
    {
     "data": {
      "text/plain": [
       "array([ 5, 10, 15, 20, 25, 30, 35])"
      ]
     },
     "execution_count": 27,
     "metadata": {},
     "output_type": "execute_result"
    }
   ],
   "source": [
    "\n",
    "arr_3 = np.arange(5,40,5)\n",
    "arr_3"
   ]
  },
  {
   "cell_type": "code",
   "execution_count": 28,
   "id": "1cb3fb00",
   "metadata": {},
   "outputs": [
    {
     "data": {
      "text/plain": [
       "5"
      ]
     },
     "execution_count": 28,
     "metadata": {},
     "output_type": "execute_result"
    }
   ],
   "source": [
    "# get the first element of arr_3\n",
    "arr_3[0]"
   ]
  },
  {
   "cell_type": "code",
   "execution_count": 29,
   "id": "a3c647ea",
   "metadata": {},
   "outputs": [
    {
     "data": {
      "text/plain": [
       "15"
      ]
     },
     "execution_count": 29,
     "metadata": {},
     "output_type": "execute_result"
    }
   ],
   "source": [
    "# get the third element of arr_3\n",
    "arr_3[2]"
   ]
  },
  {
   "cell_type": "code",
   "execution_count": 30,
   "id": "b2cb9c00",
   "metadata": {},
   "outputs": [
    {
     "data": {
      "text/plain": [
       "35"
      ]
     },
     "execution_count": 30,
     "metadata": {},
     "output_type": "execute_result"
    }
   ],
   "source": [
    "# get the last element of arr_3\n",
    "arr_3[-1]"
   ]
  },
  {
   "cell_type": "markdown",
   "id": "23f4553c",
   "metadata": {},
   "source": [
    "In a 2D array, a pair of indicies separated by a conna to access individual elements.\n"
   ]
  },
  {
   "cell_type": "code",
   "execution_count": 31,
   "id": "de1169d2",
   "metadata": {},
   "outputs": [],
   "source": [
    "array_4 = np.array([[2,5,6],[3,4,5]])"
   ]
  },
  {
   "cell_type": "code",
   "execution_count": 32,
   "id": "d6935c4a",
   "metadata": {},
   "outputs": [
    {
     "data": {
      "text/plain": [
       "array([[2, 5, 6],\n",
       "       [3, 4, 5]])"
      ]
     },
     "execution_count": 32,
     "metadata": {},
     "output_type": "execute_result"
    }
   ],
   "source": [
    "array_4"
   ]
  },
  {
   "cell_type": "code",
   "execution_count": 33,
   "id": "559b46c2",
   "metadata": {},
   "outputs": [
    {
     "data": {
      "text/plain": [
       "6"
      ]
     },
     "execution_count": 33,
     "metadata": {},
     "output_type": "execute_result"
    }
   ],
   "source": [
    "#Selecting the element in the first row and third column\n",
    "array_4[0,2]"
   ]
  },
  {
   "cell_type": "code",
   "execution_count": 34,
   "id": "e7ccf7b3",
   "metadata": {},
   "outputs": [
    {
     "data": {
      "text/plain": [
       "4"
      ]
     },
     "execution_count": 34,
     "metadata": {},
     "output_type": "execute_result"
    }
   ],
   "source": [
    "#Selecting the element in the second row and second column\n",
    "array_4[1,1]"
   ]
  },
  {
   "cell_type": "markdown",
   "id": "f44909c0",
   "metadata": {},
   "source": [
    "### Slicing Arrays"
   ]
  },
  {
   "cell_type": "code",
   "execution_count": 35,
   "id": "b6784883",
   "metadata": {},
   "outputs": [
    {
     "data": {
      "text/plain": [
       "array([ 5, 10, 15, 20, 25, 30, 35])"
      ]
     },
     "execution_count": 35,
     "metadata": {},
     "output_type": "execute_result"
    }
   ],
   "source": [
    "arr_3"
   ]
  },
  {
   "cell_type": "code",
   "execution_count": 36,
   "id": "1569c7dc",
   "metadata": {},
   "outputs": [
    {
     "data": {
      "text/plain": [
       "array([ 5, 10, 15])"
      ]
     },
     "execution_count": 36,
     "metadata": {},
     "output_type": "execute_result"
    }
   ],
   "source": [
    "#The first three elements of arr_3\n",
    "arr_3[:3]"
   ]
  },
  {
   "cell_type": "code",
   "execution_count": 37,
   "id": "9d2f435b",
   "metadata": {},
   "outputs": [
    {
     "data": {
      "text/plain": [
       "array([10, 20])"
      ]
     },
     "execution_count": 37,
     "metadata": {},
     "output_type": "execute_result"
    }
   ],
   "source": [
    "arr_3[1:5:2]"
   ]
  },
  {
   "cell_type": "code",
   "execution_count": 38,
   "id": "6186485d",
   "metadata": {},
   "outputs": [
    {
     "data": {
      "text/plain": [
       "array([20, 25, 30])"
      ]
     },
     "execution_count": 38,
     "metadata": {},
     "output_type": "execute_result"
    }
   ],
   "source": [
    "arr_3[3:6]"
   ]
  },
  {
   "cell_type": "code",
   "execution_count": null,
   "id": "1ebf1d65",
   "metadata": {},
   "outputs": [],
   "source": []
  },
  {
   "cell_type": "code",
   "execution_count": 39,
   "id": "c7463bb6",
   "metadata": {},
   "outputs": [],
   "source": [
    "mat_A = np.array(([3,6,9],[12,15,18],[21,24,27]))"
   ]
  },
  {
   "cell_type": "code",
   "execution_count": 40,
   "id": "300d50aa",
   "metadata": {},
   "outputs": [
    {
     "data": {
      "text/plain": [
       "array([[ 3,  6,  9],\n",
       "       [12, 15, 18],\n",
       "       [21, 24, 27]])"
      ]
     },
     "execution_count": 40,
     "metadata": {},
     "output_type": "execute_result"
    }
   ],
   "source": [
    "mat_A"
   ]
  },
  {
   "cell_type": "code",
   "execution_count": 41,
   "id": "26a1d18d",
   "metadata": {},
   "outputs": [
    {
     "data": {
      "text/plain": [
       "array([12, 15, 18])"
      ]
     },
     "execution_count": 41,
     "metadata": {},
     "output_type": "execute_result"
    }
   ],
   "source": [
    "#Getting all elements in the second row\n",
    "mat_A[1,:]"
   ]
  },
  {
   "cell_type": "code",
   "execution_count": 42,
   "id": "6e92df31",
   "metadata": {},
   "outputs": [
    {
     "data": {
      "text/plain": [
       "array([ 6, 15, 24])"
      ]
     },
     "execution_count": 42,
     "metadata": {},
     "output_type": "execute_result"
    }
   ],
   "source": [
    "#Getting all elements in the second column\n",
    "mat_A[:,1]"
   ]
  },
  {
   "cell_type": "code",
   "execution_count": 43,
   "id": "f1110751",
   "metadata": {},
   "outputs": [
    {
     "data": {
      "text/plain": [
       "24"
      ]
     },
     "execution_count": 43,
     "metadata": {},
     "output_type": "execute_result"
    }
   ],
   "source": [
    "mat_A[2,1]"
   ]
  },
  {
   "cell_type": "code",
   "execution_count": 44,
   "id": "5da7f23c",
   "metadata": {},
   "outputs": [],
   "source": [
    "#Updating an element\n",
    "mat_A[2,1] = 0"
   ]
  },
  {
   "cell_type": "code",
   "execution_count": 45,
   "id": "2edea44d",
   "metadata": {},
   "outputs": [
    {
     "data": {
      "text/plain": [
       "array([[ 3,  6,  9],\n",
       "       [12, 15, 18],\n",
       "       [21,  0, 27]])"
      ]
     },
     "execution_count": 45,
     "metadata": {},
     "output_type": "execute_result"
    }
   ],
   "source": [
    "mat_A"
   ]
  },
  {
   "cell_type": "code",
   "execution_count": 46,
   "id": "3b31b954",
   "metadata": {},
   "outputs": [
    {
     "data": {
      "text/plain": [
       "array([[ 6,  9],\n",
       "       [15, 18],\n",
       "       [ 0, 27]])"
      ]
     },
     "execution_count": 46,
     "metadata": {},
     "output_type": "execute_result"
    }
   ],
   "source": [
    "np.delete(mat_A, 0, axis =1)"
   ]
  },
  {
   "cell_type": "code",
   "execution_count": 47,
   "id": "90ba819a",
   "metadata": {},
   "outputs": [
    {
     "data": {
      "text/plain": [
       "array([[ 3,  6,  9],\n",
       "       [12, 15, 18],\n",
       "       [21,  0, 27]])"
      ]
     },
     "execution_count": 47,
     "metadata": {},
     "output_type": "execute_result"
    }
   ],
   "source": [
    "mat_A"
   ]
  },
  {
   "cell_type": "code",
   "execution_count": 48,
   "id": "535155f4",
   "metadata": {},
   "outputs": [
    {
     "data": {
      "text/plain": [
       "array([[ 3,  6,  9],\n",
       "       [12, 15, 18]])"
      ]
     },
     "execution_count": 48,
     "metadata": {},
     "output_type": "execute_result"
    }
   ],
   "source": [
    "np.delete(mat_A, 2, axis =0)"
   ]
  },
  {
   "cell_type": "code",
   "execution_count": null,
   "id": "bbd0a435",
   "metadata": {},
   "outputs": [],
   "source": []
  },
  {
   "cell_type": "markdown",
   "id": "8d2862e5",
   "metadata": {},
   "source": [
    "### Boolean Indexing\n",
    "Selecting elements from an array that meet a certain condition.\n",
    "\n",
    "The boolean condition is an expression that returns a true or false value for each element in an array."
   ]
  },
  {
   "cell_type": "code",
   "execution_count": null,
   "id": "4e9b7d03",
   "metadata": {},
   "outputs": [],
   "source": []
  },
  {
   "cell_type": "code",
   "execution_count": 49,
   "id": "78495b03",
   "metadata": {},
   "outputs": [],
   "source": [
    "array_5 = np.array([4,3,2,8])"
   ]
  },
  {
   "cell_type": "code",
   "execution_count": 50,
   "id": "213c5fce",
   "metadata": {},
   "outputs": [
    {
     "data": {
      "text/plain": [
       "array([4, 8])"
      ]
     },
     "execution_count": 50,
     "metadata": {},
     "output_type": "execute_result"
    }
   ],
   "source": [
    "#Selecting elements of array_5 greater than 3\n",
    "array_5[array_5>3]"
   ]
  },
  {
   "cell_type": "code",
   "execution_count": 51,
   "id": "967cdbff",
   "metadata": {},
   "outputs": [
    {
     "data": {
      "text/plain": [
       "array([4, 2, 8])"
      ]
     },
     "execution_count": 51,
     "metadata": {},
     "output_type": "execute_result"
    }
   ],
   "source": [
    "#Selecting elements of array_5 that is evenly divided by 2\n",
    "array_5[array_5%2==0]"
   ]
  },
  {
   "cell_type": "code",
   "execution_count": 52,
   "id": "fc363031",
   "metadata": {},
   "outputs": [
    {
     "data": {
      "text/plain": [
       "array([2])"
      ]
     },
     "execution_count": 52,
     "metadata": {},
     "output_type": "execute_result"
    }
   ],
   "source": [
    "#Selecting elements of array_5 less than 3\n",
    "\n",
    "array_5[array_5<3]"
   ]
  },
  {
   "cell_type": "code",
   "execution_count": null,
   "id": "339b572a",
   "metadata": {},
   "outputs": [],
   "source": []
  },
  {
   "cell_type": "markdown",
   "id": "85c3c24c",
   "metadata": {},
   "source": [
    "### Numpy Built in Functions"
   ]
  },
  {
   "cell_type": "markdown",
   "id": "0c432c59",
   "metadata": {},
   "source": [
    "**size**\n",
    "\n",
    "It is used to return the number of elements in a numpy array"
   ]
  },
  {
   "cell_type": "code",
   "execution_count": 53,
   "id": "f02bc01d",
   "metadata": {},
   "outputs": [
    {
     "data": {
      "text/plain": [
       "array([[1, 2],\n",
       "       [3, 4],\n",
       "       [5, 6]])"
      ]
     },
     "execution_count": 53,
     "metadata": {},
     "output_type": "execute_result"
    }
   ],
   "source": [
    "arr_6 = np.array([[1,2], [3,4],[5,6]])\n",
    "arr_6"
   ]
  },
  {
   "cell_type": "code",
   "execution_count": 54,
   "id": "566bb5fb",
   "metadata": {},
   "outputs": [
    {
     "data": {
      "text/plain": [
       "6"
      ]
     },
     "execution_count": 54,
     "metadata": {},
     "output_type": "execute_result"
    }
   ],
   "source": [
    "np.size(arr_6)"
   ]
  },
  {
   "cell_type": "markdown",
   "id": "4b46058c",
   "metadata": {},
   "source": [
    "#### reshape\n",
    "\n",
    "It is used to change the shape of an array without changing its data"
   ]
  },
  {
   "cell_type": "code",
   "execution_count": 55,
   "id": "4f45d6e7",
   "metadata": {},
   "outputs": [
    {
     "data": {
      "text/plain": [
       "array([ 1,  2,  3,  4,  5,  6,  7,  8,  9, 10])"
      ]
     },
     "execution_count": 55,
     "metadata": {},
     "output_type": "execute_result"
    }
   ],
   "source": [
    "arr_4 = np.arange(1,11)\n",
    "arr_4"
   ]
  },
  {
   "cell_type": "code",
   "execution_count": 56,
   "id": "26393850",
   "metadata": {},
   "outputs": [
    {
     "data": {
      "text/plain": [
       "(10,)"
      ]
     },
     "execution_count": 56,
     "metadata": {},
     "output_type": "execute_result"
    }
   ],
   "source": [
    "arr_4.shape"
   ]
  },
  {
   "cell_type": "code",
   "execution_count": 57,
   "id": "ca87e1ca",
   "metadata": {},
   "outputs": [
    {
     "data": {
      "text/plain": [
       "array([[ 1,  2,  3,  4,  5],\n",
       "       [ 6,  7,  8,  9, 10]])"
      ]
     },
     "execution_count": 57,
     "metadata": {},
     "output_type": "execute_result"
    }
   ],
   "source": [
    "#Reshaping arr_4 to a 2x5 matrix\n",
    "arr_4.reshape((2,5))"
   ]
  },
  {
   "cell_type": "code",
   "execution_count": 58,
   "id": "8530835a",
   "metadata": {},
   "outputs": [
    {
     "data": {
      "text/plain": [
       "array([[ 1,  2],\n",
       "       [ 3,  4],\n",
       "       [ 5,  6],\n",
       "       [ 7,  8],\n",
       "       [ 9, 10]])"
      ]
     },
     "execution_count": 58,
     "metadata": {},
     "output_type": "execute_result"
    }
   ],
   "source": [
    "#Reshaping arr_4 to a 5X2 matrix\n",
    "arr_4.reshape((5,2))"
   ]
  },
  {
   "cell_type": "code",
   "execution_count": 59,
   "id": "5bc309d3",
   "metadata": {},
   "outputs": [
    {
     "data": {
      "text/plain": [
       "array([[ 0,  1,  2,  3],\n",
       "       [ 4,  5,  6,  7],\n",
       "       [ 8,  9, 10, 11]])"
      ]
     },
     "execution_count": 59,
     "metadata": {},
     "output_type": "execute_result"
    }
   ],
   "source": [
    "arr_5 = np.array([[0, 1, 2, 3],\n",
    "              [4, 5, 6, 7],\n",
    "              [8, 9, 10, 11]])\n",
    "arr_5"
   ]
  },
  {
   "cell_type": "code",
   "execution_count": 60,
   "id": "77a06e32",
   "metadata": {},
   "outputs": [
    {
     "data": {
      "text/plain": [
       "array([[ 0,  1,  2,  3,  4,  5],\n",
       "       [ 6,  7,  8,  9, 10, 11]])"
      ]
     },
     "execution_count": 60,
     "metadata": {},
     "output_type": "execute_result"
    }
   ],
   "source": [
    "arr_5.reshape((2,6))"
   ]
  },
  {
   "cell_type": "code",
   "execution_count": null,
   "id": "8a240d80",
   "metadata": {},
   "outputs": [],
   "source": []
  },
  {
   "cell_type": "code",
   "execution_count": null,
   "id": "691d4e17",
   "metadata": {},
   "outputs": [],
   "source": []
  },
  {
   "cell_type": "code",
   "execution_count": null,
   "id": "e6cb6892",
   "metadata": {},
   "outputs": [],
   "source": []
  },
  {
   "cell_type": "markdown",
   "id": "a3727ffc",
   "metadata": {},
   "source": [
    "#### arange\n",
    "\n",
    "It is a function that provdies a  1D array of evenly spaced values within a specific range.\n",
    "\n",
    "The value of the stop is exclusive\n",
    "\n",
    "The deafult step size between values is 1.\n",
    "\n",
    "It has the following syntax:\n",
    "\n",
    "`np.arange(stop)`\n",
    "\n",
    "`np.arange(start,stop )`\n",
    "\n",
    "`np.arange(start,stop,step)`\n"
   ]
  },
  {
   "cell_type": "code",
   "execution_count": 61,
   "id": "bcdc40a7",
   "metadata": {},
   "outputs": [
    {
     "data": {
      "text/plain": [
       "array([0, 1, 2, 3, 4, 5, 6, 7, 8, 9])"
      ]
     },
     "execution_count": 61,
     "metadata": {},
     "output_type": "execute_result"
    }
   ],
   "source": [
    "np.arange(10)"
   ]
  },
  {
   "cell_type": "code",
   "execution_count": 62,
   "id": "424d6140",
   "metadata": {
    "scrolled": true
   },
   "outputs": [
    {
     "data": {
      "text/plain": [
       "array([ 1,  2,  3,  4,  5,  6,  7,  8,  9, 10])"
      ]
     },
     "execution_count": 62,
     "metadata": {},
     "output_type": "execute_result"
    }
   ],
   "source": [
    "np.arange(1,11)"
   ]
  },
  {
   "cell_type": "code",
   "execution_count": 63,
   "id": "180bc86b",
   "metadata": {},
   "outputs": [
    {
     "data": {
      "text/plain": [
       "array([ 2,  4,  6,  8, 10, 12, 14, 16, 18, 20, 22, 24, 26, 28, 30, 32, 34,\n",
       "       36, 38, 40, 42, 44, 46, 48, 50])"
      ]
     },
     "execution_count": 63,
     "metadata": {},
     "output_type": "execute_result"
    }
   ],
   "source": [
    "np.arange(2,51,2)"
   ]
  },
  {
   "cell_type": "markdown",
   "id": "3bdbd419",
   "metadata": {},
   "source": [
    "**linspace**\n",
    "\n",
    "It is used to create a 1D array of evenly spaced values within a specified interval, with a specificed number of elements."
   ]
  },
  {
   "cell_type": "code",
   "execution_count": 64,
   "id": "65cdfaba",
   "metadata": {},
   "outputs": [
    {
     "data": {
      "text/plain": [
       "array([ 0.        ,  5.55555556, 11.11111111, 16.66666667, 22.22222222,\n",
       "       27.77777778, 33.33333333, 38.88888889, 44.44444444, 50.        ])"
      ]
     },
     "execution_count": 64,
     "metadata": {},
     "output_type": "execute_result"
    }
   ],
   "source": [
    "np.linspace(0,50,10)"
   ]
  },
  {
   "cell_type": "code",
   "execution_count": 65,
   "id": "30de2e0b",
   "metadata": {},
   "outputs": [
    {
     "data": {
      "text/plain": [
       "array([ 0.,  5., 10., 15., 20., 25., 30., 35., 40., 45.])"
      ]
     },
     "execution_count": 65,
     "metadata": {},
     "output_type": "execute_result"
    }
   ],
   "source": [
    "np.linspace(0,50,10, endpoint=False)"
   ]
  },
  {
   "cell_type": "code",
   "execution_count": 66,
   "id": "844f0f7b",
   "metadata": {},
   "outputs": [
    {
     "data": {
      "text/plain": [
       "array([20.        , 21.11111111, 22.22222222, 23.33333333, 24.44444444,\n",
       "       25.55555556, 26.66666667, 27.77777778, 28.88888889, 30.        ])"
      ]
     },
     "execution_count": 66,
     "metadata": {},
     "output_type": "execute_result"
    }
   ],
   "source": [
    "np.linspace(20,30,10)"
   ]
  },
  {
   "cell_type": "markdown",
   "id": "8b822f0f",
   "metadata": {},
   "source": [
    "#### zeros\n",
    "\n",
    "Generate an array of specific shape with values of zeros"
   ]
  },
  {
   "cell_type": "code",
   "execution_count": 67,
   "id": "31874277",
   "metadata": {},
   "outputs": [
    {
     "data": {
      "text/plain": [
       "array([0., 0.])"
      ]
     },
     "execution_count": 67,
     "metadata": {},
     "output_type": "execute_result"
    }
   ],
   "source": [
    "z1 =np.zeros(2)\n",
    "z1"
   ]
  },
  {
   "cell_type": "code",
   "execution_count": 68,
   "id": "5506a87d",
   "metadata": {},
   "outputs": [
    {
     "data": {
      "text/plain": [
       "1"
      ]
     },
     "execution_count": 68,
     "metadata": {},
     "output_type": "execute_result"
    }
   ],
   "source": [
    "z1.ndim"
   ]
  },
  {
   "cell_type": "code",
   "execution_count": 69,
   "id": "5adf00ef",
   "metadata": {},
   "outputs": [
    {
     "data": {
      "text/plain": [
       "array([[0., 0., 0.],\n",
       "       [0., 0., 0.]])"
      ]
     },
     "execution_count": 69,
     "metadata": {},
     "output_type": "execute_result"
    }
   ],
   "source": [
    "np.zeros((2,3))"
   ]
  },
  {
   "cell_type": "markdown",
   "id": "087961a0",
   "metadata": {},
   "source": [
    "#### ones\n",
    "\n",
    "Generate an array of specific shape with values of ones"
   ]
  },
  {
   "cell_type": "code",
   "execution_count": 70,
   "id": "e2801063",
   "metadata": {},
   "outputs": [
    {
     "data": {
      "text/plain": [
       "array([1., 1., 1., 1., 1.])"
      ]
     },
     "execution_count": 70,
     "metadata": {},
     "output_type": "execute_result"
    }
   ],
   "source": [
    "np.ones(5)"
   ]
  },
  {
   "cell_type": "code",
   "execution_count": 71,
   "id": "1f91c8c2",
   "metadata": {},
   "outputs": [
    {
     "data": {
      "text/plain": [
       "array([[1., 1., 1., 1.],\n",
       "       [1., 1., 1., 1.],\n",
       "       [1., 1., 1., 1.]])"
      ]
     },
     "execution_count": 71,
     "metadata": {},
     "output_type": "execute_result"
    }
   ],
   "source": [
    "np.ones((3,4))"
   ]
  },
  {
   "cell_type": "markdown",
   "id": "941dd91a",
   "metadata": {},
   "source": [
    "**full**\n",
    "\n",
    "Generate an array of specific shape with all elements initialized to a specific value."
   ]
  },
  {
   "cell_type": "code",
   "execution_count": 72,
   "id": "a8790e90",
   "metadata": {},
   "outputs": [
    {
     "data": {
      "text/plain": [
       "array([3, 3, 3, 3, 3])"
      ]
     },
     "execution_count": 72,
     "metadata": {},
     "output_type": "execute_result"
    }
   ],
   "source": [
    "np.full(5,3)"
   ]
  },
  {
   "cell_type": "code",
   "execution_count": 73,
   "id": "ffb95558",
   "metadata": {},
   "outputs": [
    {
     "data": {
      "text/plain": [
       "array([[2., 2., 2., 2., 2.],\n",
       "       [2., 2., 2., 2., 2.],\n",
       "       [2., 2., 2., 2., 2.],\n",
       "       [2., 2., 2., 2., 2.]])"
      ]
     },
     "execution_count": 73,
     "metadata": {},
     "output_type": "execute_result"
    }
   ],
   "source": [
    "np.full((4,5),2.0)"
   ]
  },
  {
   "cell_type": "markdown",
   "id": "595d5b4c",
   "metadata": {},
   "source": [
    "**eye**\n",
    "\n",
    "Create identity matrix of a 2D array with ones on the diagonal and zeros elsewhere"
   ]
  },
  {
   "cell_type": "code",
   "execution_count": 74,
   "id": "6007b0b9",
   "metadata": {},
   "outputs": [
    {
     "data": {
      "text/plain": [
       "array([[1., 0.],\n",
       "       [0., 1.]])"
      ]
     },
     "execution_count": 74,
     "metadata": {},
     "output_type": "execute_result"
    }
   ],
   "source": [
    "np.eye(2)"
   ]
  },
  {
   "cell_type": "code",
   "execution_count": 75,
   "id": "0b4e2a7e",
   "metadata": {},
   "outputs": [
    {
     "data": {
      "text/plain": [
       "array([[1., 0., 0., 0., 0.],\n",
       "       [0., 1., 0., 0., 0.],\n",
       "       [0., 0., 1., 0., 0.],\n",
       "       [0., 0., 0., 1., 0.],\n",
       "       [0., 0., 0., 0., 1.]])"
      ]
     },
     "execution_count": 75,
     "metadata": {},
     "output_type": "execute_result"
    }
   ],
   "source": [
    "np.eye(5)"
   ]
  },
  {
   "cell_type": "markdown",
   "id": "bc5e8b07",
   "metadata": {},
   "source": [
    "**diag**\n",
    "\n",
    "It is used to create a 2D array with specific diagonal values and zeros elsewhere."
   ]
  },
  {
   "cell_type": "code",
   "execution_count": 76,
   "id": "1cd86e6a",
   "metadata": {},
   "outputs": [
    {
     "data": {
      "text/plain": [
       "array([[3, 0, 0],\n",
       "       [0, 6, 0],\n",
       "       [0, 0, 9]])"
      ]
     },
     "execution_count": 76,
     "metadata": {},
     "output_type": "execute_result"
    }
   ],
   "source": [
    "np.diag([3,6,9])"
   ]
  },
  {
   "cell_type": "code",
   "execution_count": 77,
   "id": "804c3e6b",
   "metadata": {},
   "outputs": [
    {
     "data": {
      "text/plain": [
       "array([[1, 0, 0, 0],\n",
       "       [0, 1, 0, 0],\n",
       "       [0, 0, 1, 0],\n",
       "       [0, 0, 0, 1]])"
      ]
     },
     "execution_count": 77,
     "metadata": {},
     "output_type": "execute_result"
    }
   ],
   "source": [
    "np.diag([1,1,1,1])"
   ]
  },
  {
   "cell_type": "markdown",
   "id": "1386d40f",
   "metadata": {},
   "source": [
    "### Universal Function"
   ]
  },
  {
   "cell_type": "code",
   "execution_count": 78,
   "id": "1fac1f75",
   "metadata": {},
   "outputs": [],
   "source": [
    "arr_9 = np.array([3,4,5,3,2,4,3,4,3])"
   ]
  },
  {
   "cell_type": "code",
   "execution_count": 79,
   "id": "cb4fbb36",
   "metadata": {},
   "outputs": [
    {
     "data": {
      "text/plain": [
       "31"
      ]
     },
     "execution_count": 79,
     "metadata": {},
     "output_type": "execute_result"
    }
   ],
   "source": [
    "np.sum(arr_9)"
   ]
  },
  {
   "cell_type": "code",
   "execution_count": 80,
   "id": "a3f82164",
   "metadata": {},
   "outputs": [
    {
     "data": {
      "text/plain": [
       "2"
      ]
     },
     "execution_count": 80,
     "metadata": {},
     "output_type": "execute_result"
    }
   ],
   "source": [
    "np.min(arr_9)"
   ]
  },
  {
   "cell_type": "code",
   "execution_count": 81,
   "id": "67b656cf",
   "metadata": {},
   "outputs": [
    {
     "data": {
      "text/plain": [
       "5"
      ]
     },
     "execution_count": 81,
     "metadata": {},
     "output_type": "execute_result"
    }
   ],
   "source": [
    "np.max(arr_9)"
   ]
  },
  {
   "cell_type": "code",
   "execution_count": 82,
   "id": "e72764bc",
   "metadata": {},
   "outputs": [
    {
     "data": {
      "text/plain": [
       "3.4444444444444446"
      ]
     },
     "execution_count": 82,
     "metadata": {},
     "output_type": "execute_result"
    }
   ],
   "source": [
    "np.mean(arr_9)"
   ]
  },
  {
   "cell_type": "code",
   "execution_count": 83,
   "id": "57b3a9d7",
   "metadata": {},
   "outputs": [
    {
     "data": {
      "text/plain": [
       "3.0"
      ]
     },
     "execution_count": 83,
     "metadata": {},
     "output_type": "execute_result"
    }
   ],
   "source": [
    "np.median(arr_9)"
   ]
  },
  {
   "cell_type": "code",
   "execution_count": 84,
   "id": "7eefd931",
   "metadata": {},
   "outputs": [
    {
     "data": {
      "text/plain": [
       "array([1.73205081, 2.        , 2.23606798, 1.73205081, 1.41421356,\n",
       "       2.        , 1.73205081, 2.        , 1.73205081])"
      ]
     },
     "execution_count": 84,
     "metadata": {},
     "output_type": "execute_result"
    }
   ],
   "source": [
    "np.sqrt(arr_9) "
   ]
  },
  {
   "cell_type": "code",
   "execution_count": 85,
   "id": "a537acae",
   "metadata": {},
   "outputs": [
    {
     "data": {
      "text/plain": [
       "array([[3, 4, 5, 3, 2, 4, 3, 4, 3],\n",
       "       [2, 9, 5, 3, 2, 8, 3, 4, 8]])"
      ]
     },
     "execution_count": 85,
     "metadata": {},
     "output_type": "execute_result"
    }
   ],
   "source": [
    "arr_10 = np.array([[3,4,5,3,2,4,3,4,3],[2,9,5,3,2,8,3,4,8]])\n",
    "arr_10"
   ]
  },
  {
   "cell_type": "code",
   "execution_count": 86,
   "id": "92f7d4ec",
   "metadata": {},
   "outputs": [
    {
     "data": {
      "text/plain": [
       "(2, 9)"
      ]
     },
     "execution_count": 86,
     "metadata": {},
     "output_type": "execute_result"
    }
   ],
   "source": [
    "arr_10.shape"
   ]
  },
  {
   "cell_type": "code",
   "execution_count": 87,
   "id": "88117b05",
   "metadata": {},
   "outputs": [
    {
     "data": {
      "text/plain": [
       "array([ 5, 13, 10,  6,  4, 12,  6,  8, 11])"
      ]
     },
     "execution_count": 87,
     "metadata": {},
     "output_type": "execute_result"
    }
   ],
   "source": [
    "np.sum(arr_10,axis=0)"
   ]
  },
  {
   "cell_type": "code",
   "execution_count": 88,
   "id": "fc55e2d5",
   "metadata": {},
   "outputs": [
    {
     "data": {
      "text/plain": [
       "array([31, 44])"
      ]
     },
     "execution_count": 88,
     "metadata": {},
     "output_type": "execute_result"
    }
   ],
   "source": [
    "np.sum(arr_10,axis=1)"
   ]
  },
  {
   "cell_type": "code",
   "execution_count": null,
   "id": "e293c1f3",
   "metadata": {},
   "outputs": [],
   "source": []
  }
 ],
 "metadata": {
  "kernelspec": {
   "display_name": "Python 3 (ipykernel)",
   "language": "python",
   "name": "python3"
  },
  "language_info": {
   "codemirror_mode": {
    "name": "ipython",
    "version": 3
   },
   "file_extension": ".py",
   "mimetype": "text/x-python",
   "name": "python",
   "nbconvert_exporter": "python",
   "pygments_lexer": "ipython3",
   "version": "3.9.12"
  }
 },
 "nbformat": 4,
 "nbformat_minor": 5
}
