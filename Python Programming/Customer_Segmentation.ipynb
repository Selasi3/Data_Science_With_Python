{
 "cells": [
  {
   "cell_type": "markdown",
   "metadata": {},
   "source": [
    "# Cohort Analysis and Customer Segmentation Project\n",
    "\n",
    "\n",
    "### \n",
    "\n",
    "\n",
    "\n",
    "\n",
    "\n",
    "\n",
    "\n",
    "\n",
    "\n"
   ]
  },
  {
   "cell_type": "markdown",
   "metadata": {},
   "source": [
    "# Introduction"
   ]
  },
  {
   "cell_type": "markdown",
   "metadata": {},
   "source": [
    "A Cohort is simply a group of people with shared characteristics.\n",
    "Cohort analysis is a type of behavioral analytics in which you group your users based on their shared traits to better track and understand their actions over a specified period. Cohort analysis allows you to ask more specific, targeted questions and make informed product decisions that will reduce churn and drastically increase revenue.\n",
    "Customer segmentation is the act of dividing customers into groups such that each group has similar characteristics. Customer segmentation could be based on customer location, demographics, or behavior.\n"
   ]
  },
  {
   "cell_type": "markdown",
   "metadata": {},
   "source": [
    "## Problem Statements"
   ]
  },
  {
   "cell_type": "markdown",
   "metadata": {},
   "source": [
    "An e-commerce giant wants to improve its product offerings, customer relations and also maximize profit.\n",
    "To achieve this, the company wants to calculate the percentage of customers it's able to retain every month.\n",
    "The company also needs to segment its customers for target marketing and promotions.\n"
   ]
  },
  {
   "cell_type": "markdown",
   "metadata": {},
   "source": [
    "## Objectives"
   ]
  },
  {
   "cell_type": "markdown",
   "metadata": {},
   "source": [
    "The project objectives are:\n",
    "1.\tTo calculate customer retention rate.\n",
    "2.\tTo segment the customers based on their behavior. The behavior under consideration includes customers’ recent transactions with the company, the frequency of purchases, and how much each customer spends on the company products.\n",
    "3.\tTo analyze customer segments based on Recency, Frequency, and Monetary value.\n"
   ]
  },
  {
   "cell_type": "markdown",
   "metadata": {},
   "source": [
    "## Definitions of metrics used"
   ]
  },
  {
   "cell_type": "markdown",
   "metadata": {},
   "source": [
    "Recency (R) refers to the days elapsed since the last purchase.\n",
    "It is calculated by deducting the date that the customer made the last purchase from the offset date (the assumed date when the analysis was carried out).\n",
    "\n",
    "Frequency (F) refers to the total number of transactions a customer has made with the company.\n",
    "It represents how often a customer purchased a product/product from the company. It is calculated by counting the number of complete purchases a customer has made with the company.\n",
    "\n",
    "Monetary (M) refers to the sum of a customer’s monies on the company's products.\n",
    "It is calculated by multiplying the number of products by the unit price of products.\n"
   ]
  },
  {
   "cell_type": "code",
   "execution_count": 1,
   "metadata": {},
   "outputs": [],
   "source": [
    "##Importing the necessary packages\n",
    "\n",
    "import pandas as pd\n",
    "import numpy as np\n",
    "import datetime as dt\n",
    "\n",
    "import matplotlib.pyplot as plt\n",
    "from matplotlib import style\n",
    "import seaborn as sns\n",
    "\n",
    "from sklearn.preprocessing import StandardScaler\n",
    "from sklearn.cluster import KMeans\n",
    "\n",
    "import warnings\n",
    "warnings.filterwarnings(\"ignore\")\n",
    "\n",
    "%matplotlib inline\n",
    "\n",
    "\n"
   ]
  },
  {
   "cell_type": "markdown",
   "metadata": {},
   "source": [
    "## Exploratory Data Analysis and Data Cleaning"
   ]
  },
  {
   "cell_type": "code",
   "execution_count": 2,
   "metadata": {},
   "outputs": [],
   "source": [
    "# load the data\n",
    "\n",
    "df = pd.read_csv(\"sample - Superstore.csv\", parse_dates = [\"Order Date\",\"Ship Date\"], encoding = \"latin1\")"
   ]
  },
  {
   "cell_type": "code",
   "execution_count": 3,
   "metadata": {
    "scrolled": true
   },
   "outputs": [
    {
     "data": {
      "text/html": [
       "<div>\n",
       "<style scoped>\n",
       "    .dataframe tbody tr th:only-of-type {\n",
       "        vertical-align: middle;\n",
       "    }\n",
       "\n",
       "    .dataframe tbody tr th {\n",
       "        vertical-align: top;\n",
       "    }\n",
       "\n",
       "    .dataframe thead th {\n",
       "        text-align: right;\n",
       "    }\n",
       "</style>\n",
       "<table border=\"1\" class=\"dataframe\">\n",
       "  <thead>\n",
       "    <tr style=\"text-align: right;\">\n",
       "      <th></th>\n",
       "      <th>Row ID</th>\n",
       "      <th>Order ID</th>\n",
       "      <th>Order Date</th>\n",
       "      <th>Ship Date</th>\n",
       "      <th>Ship Mode</th>\n",
       "      <th>Customer ID</th>\n",
       "      <th>Customer Name</th>\n",
       "      <th>Segment</th>\n",
       "      <th>Country</th>\n",
       "      <th>City</th>\n",
       "      <th>...</th>\n",
       "      <th>Postal Code</th>\n",
       "      <th>Region</th>\n",
       "      <th>Product ID</th>\n",
       "      <th>Category</th>\n",
       "      <th>Sub-Category</th>\n",
       "      <th>Product Name</th>\n",
       "      <th>Sales</th>\n",
       "      <th>Quantity</th>\n",
       "      <th>Discount</th>\n",
       "      <th>Profit</th>\n",
       "    </tr>\n",
       "  </thead>\n",
       "  <tbody>\n",
       "    <tr>\n",
       "      <th>0</th>\n",
       "      <td>1</td>\n",
       "      <td>CA-2016-152156</td>\n",
       "      <td>2016-11-08</td>\n",
       "      <td>2016-11-11</td>\n",
       "      <td>Second Class</td>\n",
       "      <td>CG-12520</td>\n",
       "      <td>Claire Gute</td>\n",
       "      <td>Consumer</td>\n",
       "      <td>United States</td>\n",
       "      <td>Henderson</td>\n",
       "      <td>...</td>\n",
       "      <td>42420</td>\n",
       "      <td>South</td>\n",
       "      <td>FUR-BO-10001798</td>\n",
       "      <td>Furniture</td>\n",
       "      <td>Bookcases</td>\n",
       "      <td>Bush Somerset Collection Bookcase</td>\n",
       "      <td>261.9600</td>\n",
       "      <td>2</td>\n",
       "      <td>0.00</td>\n",
       "      <td>41.9136</td>\n",
       "    </tr>\n",
       "    <tr>\n",
       "      <th>1</th>\n",
       "      <td>2</td>\n",
       "      <td>CA-2016-152156</td>\n",
       "      <td>2016-11-08</td>\n",
       "      <td>2016-11-11</td>\n",
       "      <td>Second Class</td>\n",
       "      <td>CG-12520</td>\n",
       "      <td>Claire Gute</td>\n",
       "      <td>Consumer</td>\n",
       "      <td>United States</td>\n",
       "      <td>Henderson</td>\n",
       "      <td>...</td>\n",
       "      <td>42420</td>\n",
       "      <td>South</td>\n",
       "      <td>FUR-CH-10000454</td>\n",
       "      <td>Furniture</td>\n",
       "      <td>Chairs</td>\n",
       "      <td>Hon Deluxe Fabric Upholstered Stacking Chairs,...</td>\n",
       "      <td>731.9400</td>\n",
       "      <td>3</td>\n",
       "      <td>0.00</td>\n",
       "      <td>219.5820</td>\n",
       "    </tr>\n",
       "    <tr>\n",
       "      <th>2</th>\n",
       "      <td>3</td>\n",
       "      <td>CA-2016-138688</td>\n",
       "      <td>2016-06-12</td>\n",
       "      <td>2016-06-16</td>\n",
       "      <td>Second Class</td>\n",
       "      <td>DV-13045</td>\n",
       "      <td>Darrin Van Huff</td>\n",
       "      <td>Corporate</td>\n",
       "      <td>United States</td>\n",
       "      <td>Los Angeles</td>\n",
       "      <td>...</td>\n",
       "      <td>90036</td>\n",
       "      <td>West</td>\n",
       "      <td>OFF-LA-10000240</td>\n",
       "      <td>Office Supplies</td>\n",
       "      <td>Labels</td>\n",
       "      <td>Self-Adhesive Address Labels for Typewriters b...</td>\n",
       "      <td>14.6200</td>\n",
       "      <td>2</td>\n",
       "      <td>0.00</td>\n",
       "      <td>6.8714</td>\n",
       "    </tr>\n",
       "    <tr>\n",
       "      <th>3</th>\n",
       "      <td>4</td>\n",
       "      <td>US-2015-108966</td>\n",
       "      <td>2015-10-11</td>\n",
       "      <td>2015-10-18</td>\n",
       "      <td>Standard Class</td>\n",
       "      <td>SO-20335</td>\n",
       "      <td>Sean O'Donnell</td>\n",
       "      <td>Consumer</td>\n",
       "      <td>United States</td>\n",
       "      <td>Fort Lauderdale</td>\n",
       "      <td>...</td>\n",
       "      <td>33311</td>\n",
       "      <td>South</td>\n",
       "      <td>FUR-TA-10000577</td>\n",
       "      <td>Furniture</td>\n",
       "      <td>Tables</td>\n",
       "      <td>Bretford CR4500 Series Slim Rectangular Table</td>\n",
       "      <td>957.5775</td>\n",
       "      <td>5</td>\n",
       "      <td>0.45</td>\n",
       "      <td>-383.0310</td>\n",
       "    </tr>\n",
       "    <tr>\n",
       "      <th>4</th>\n",
       "      <td>5</td>\n",
       "      <td>US-2015-108966</td>\n",
       "      <td>2015-10-11</td>\n",
       "      <td>2015-10-18</td>\n",
       "      <td>Standard Class</td>\n",
       "      <td>SO-20335</td>\n",
       "      <td>Sean O'Donnell</td>\n",
       "      <td>Consumer</td>\n",
       "      <td>United States</td>\n",
       "      <td>Fort Lauderdale</td>\n",
       "      <td>...</td>\n",
       "      <td>33311</td>\n",
       "      <td>South</td>\n",
       "      <td>OFF-ST-10000760</td>\n",
       "      <td>Office Supplies</td>\n",
       "      <td>Storage</td>\n",
       "      <td>Eldon Fold 'N Roll Cart System</td>\n",
       "      <td>22.3680</td>\n",
       "      <td>2</td>\n",
       "      <td>0.20</td>\n",
       "      <td>2.5164</td>\n",
       "    </tr>\n",
       "  </tbody>\n",
       "</table>\n",
       "<p>5 rows × 21 columns</p>\n",
       "</div>"
      ],
      "text/plain": [
       "   Row ID        Order ID Order Date  Ship Date       Ship Mode Customer ID  \\\n",
       "0       1  CA-2016-152156 2016-11-08 2016-11-11    Second Class    CG-12520   \n",
       "1       2  CA-2016-152156 2016-11-08 2016-11-11    Second Class    CG-12520   \n",
       "2       3  CA-2016-138688 2016-06-12 2016-06-16    Second Class    DV-13045   \n",
       "3       4  US-2015-108966 2015-10-11 2015-10-18  Standard Class    SO-20335   \n",
       "4       5  US-2015-108966 2015-10-11 2015-10-18  Standard Class    SO-20335   \n",
       "\n",
       "     Customer Name    Segment        Country             City  ...  \\\n",
       "0      Claire Gute   Consumer  United States        Henderson  ...   \n",
       "1      Claire Gute   Consumer  United States        Henderson  ...   \n",
       "2  Darrin Van Huff  Corporate  United States      Los Angeles  ...   \n",
       "3   Sean O'Donnell   Consumer  United States  Fort Lauderdale  ...   \n",
       "4   Sean O'Donnell   Consumer  United States  Fort Lauderdale  ...   \n",
       "\n",
       "  Postal Code  Region       Product ID         Category Sub-Category  \\\n",
       "0       42420   South  FUR-BO-10001798        Furniture    Bookcases   \n",
       "1       42420   South  FUR-CH-10000454        Furniture       Chairs   \n",
       "2       90036    West  OFF-LA-10000240  Office Supplies       Labels   \n",
       "3       33311   South  FUR-TA-10000577        Furniture       Tables   \n",
       "4       33311   South  OFF-ST-10000760  Office Supplies      Storage   \n",
       "\n",
       "                                        Product Name     Sales  Quantity  \\\n",
       "0                  Bush Somerset Collection Bookcase  261.9600         2   \n",
       "1  Hon Deluxe Fabric Upholstered Stacking Chairs,...  731.9400         3   \n",
       "2  Self-Adhesive Address Labels for Typewriters b...   14.6200         2   \n",
       "3      Bretford CR4500 Series Slim Rectangular Table  957.5775         5   \n",
       "4                     Eldon Fold 'N Roll Cart System   22.3680         2   \n",
       "\n",
       "   Discount    Profit  \n",
       "0      0.00   41.9136  \n",
       "1      0.00  219.5820  \n",
       "2      0.00    6.8714  \n",
       "3      0.45 -383.0310  \n",
       "4      0.20    2.5164  \n",
       "\n",
       "[5 rows x 21 columns]"
      ]
     },
     "execution_count": 3,
     "metadata": {},
     "output_type": "execute_result"
    }
   ],
   "source": [
    "# Display first few rows\n",
    "df.head()"
   ]
  },
  {
   "cell_type": "code",
   "execution_count": 4,
   "metadata": {},
   "outputs": [
    {
     "data": {
      "text/html": [
       "<div>\n",
       "<style scoped>\n",
       "    .dataframe tbody tr th:only-of-type {\n",
       "        vertical-align: middle;\n",
       "    }\n",
       "\n",
       "    .dataframe tbody tr th {\n",
       "        vertical-align: top;\n",
       "    }\n",
       "\n",
       "    .dataframe thead th {\n",
       "        text-align: right;\n",
       "    }\n",
       "</style>\n",
       "<table border=\"1\" class=\"dataframe\">\n",
       "  <thead>\n",
       "    <tr style=\"text-align: right;\">\n",
       "      <th></th>\n",
       "      <th>Row ID</th>\n",
       "      <th>Order ID</th>\n",
       "      <th>Order Date</th>\n",
       "      <th>Ship Date</th>\n",
       "      <th>Ship Mode</th>\n",
       "      <th>Customer ID</th>\n",
       "      <th>Customer Name</th>\n",
       "      <th>Segment</th>\n",
       "      <th>Country</th>\n",
       "      <th>City</th>\n",
       "      <th>...</th>\n",
       "      <th>Postal Code</th>\n",
       "      <th>Region</th>\n",
       "      <th>Product ID</th>\n",
       "      <th>Category</th>\n",
       "      <th>Sub-Category</th>\n",
       "      <th>Product Name</th>\n",
       "      <th>Sales</th>\n",
       "      <th>Quantity</th>\n",
       "      <th>Discount</th>\n",
       "      <th>Profit</th>\n",
       "    </tr>\n",
       "  </thead>\n",
       "  <tbody>\n",
       "    <tr>\n",
       "      <th>9989</th>\n",
       "      <td>9990</td>\n",
       "      <td>CA-2014-110422</td>\n",
       "      <td>2014-01-21</td>\n",
       "      <td>2014-01-23</td>\n",
       "      <td>Second Class</td>\n",
       "      <td>TB-21400</td>\n",
       "      <td>Tom Boeckenhauer</td>\n",
       "      <td>Consumer</td>\n",
       "      <td>United States</td>\n",
       "      <td>Miami</td>\n",
       "      <td>...</td>\n",
       "      <td>33180</td>\n",
       "      <td>South</td>\n",
       "      <td>FUR-FU-10001889</td>\n",
       "      <td>Furniture</td>\n",
       "      <td>Furnishings</td>\n",
       "      <td>Ultra Door Pull Handle</td>\n",
       "      <td>25.248</td>\n",
       "      <td>3</td>\n",
       "      <td>0.2</td>\n",
       "      <td>4.1028</td>\n",
       "    </tr>\n",
       "    <tr>\n",
       "      <th>9990</th>\n",
       "      <td>9991</td>\n",
       "      <td>CA-2017-121258</td>\n",
       "      <td>2017-02-26</td>\n",
       "      <td>2017-03-03</td>\n",
       "      <td>Standard Class</td>\n",
       "      <td>DB-13060</td>\n",
       "      <td>Dave Brooks</td>\n",
       "      <td>Consumer</td>\n",
       "      <td>United States</td>\n",
       "      <td>Costa Mesa</td>\n",
       "      <td>...</td>\n",
       "      <td>92627</td>\n",
       "      <td>West</td>\n",
       "      <td>FUR-FU-10000747</td>\n",
       "      <td>Furniture</td>\n",
       "      <td>Furnishings</td>\n",
       "      <td>Tenex B1-RE Series Chair Mats for Low Pile Car...</td>\n",
       "      <td>91.960</td>\n",
       "      <td>2</td>\n",
       "      <td>0.0</td>\n",
       "      <td>15.6332</td>\n",
       "    </tr>\n",
       "    <tr>\n",
       "      <th>9991</th>\n",
       "      <td>9992</td>\n",
       "      <td>CA-2017-121258</td>\n",
       "      <td>2017-02-26</td>\n",
       "      <td>2017-03-03</td>\n",
       "      <td>Standard Class</td>\n",
       "      <td>DB-13060</td>\n",
       "      <td>Dave Brooks</td>\n",
       "      <td>Consumer</td>\n",
       "      <td>United States</td>\n",
       "      <td>Costa Mesa</td>\n",
       "      <td>...</td>\n",
       "      <td>92627</td>\n",
       "      <td>West</td>\n",
       "      <td>TEC-PH-10003645</td>\n",
       "      <td>Technology</td>\n",
       "      <td>Phones</td>\n",
       "      <td>Aastra 57i VoIP phone</td>\n",
       "      <td>258.576</td>\n",
       "      <td>2</td>\n",
       "      <td>0.2</td>\n",
       "      <td>19.3932</td>\n",
       "    </tr>\n",
       "    <tr>\n",
       "      <th>9992</th>\n",
       "      <td>9993</td>\n",
       "      <td>CA-2017-121258</td>\n",
       "      <td>2017-02-26</td>\n",
       "      <td>2017-03-03</td>\n",
       "      <td>Standard Class</td>\n",
       "      <td>DB-13060</td>\n",
       "      <td>Dave Brooks</td>\n",
       "      <td>Consumer</td>\n",
       "      <td>United States</td>\n",
       "      <td>Costa Mesa</td>\n",
       "      <td>...</td>\n",
       "      <td>92627</td>\n",
       "      <td>West</td>\n",
       "      <td>OFF-PA-10004041</td>\n",
       "      <td>Office Supplies</td>\n",
       "      <td>Paper</td>\n",
       "      <td>It's Hot Message Books with Stickers, 2 3/4\" x 5\"</td>\n",
       "      <td>29.600</td>\n",
       "      <td>4</td>\n",
       "      <td>0.0</td>\n",
       "      <td>13.3200</td>\n",
       "    </tr>\n",
       "    <tr>\n",
       "      <th>9993</th>\n",
       "      <td>9994</td>\n",
       "      <td>CA-2017-119914</td>\n",
       "      <td>2017-05-04</td>\n",
       "      <td>2017-05-09</td>\n",
       "      <td>Second Class</td>\n",
       "      <td>CC-12220</td>\n",
       "      <td>Chris Cortes</td>\n",
       "      <td>Consumer</td>\n",
       "      <td>United States</td>\n",
       "      <td>Westminster</td>\n",
       "      <td>...</td>\n",
       "      <td>92683</td>\n",
       "      <td>West</td>\n",
       "      <td>OFF-AP-10002684</td>\n",
       "      <td>Office Supplies</td>\n",
       "      <td>Appliances</td>\n",
       "      <td>Acco 7-Outlet Masterpiece Power Center, Wihtou...</td>\n",
       "      <td>243.160</td>\n",
       "      <td>2</td>\n",
       "      <td>0.0</td>\n",
       "      <td>72.9480</td>\n",
       "    </tr>\n",
       "  </tbody>\n",
       "</table>\n",
       "<p>5 rows × 21 columns</p>\n",
       "</div>"
      ],
      "text/plain": [
       "      Row ID        Order ID Order Date  Ship Date       Ship Mode  \\\n",
       "9989    9990  CA-2014-110422 2014-01-21 2014-01-23    Second Class   \n",
       "9990    9991  CA-2017-121258 2017-02-26 2017-03-03  Standard Class   \n",
       "9991    9992  CA-2017-121258 2017-02-26 2017-03-03  Standard Class   \n",
       "9992    9993  CA-2017-121258 2017-02-26 2017-03-03  Standard Class   \n",
       "9993    9994  CA-2017-119914 2017-05-04 2017-05-09    Second Class   \n",
       "\n",
       "     Customer ID     Customer Name   Segment        Country         City  ...  \\\n",
       "9989    TB-21400  Tom Boeckenhauer  Consumer  United States        Miami  ...   \n",
       "9990    DB-13060       Dave Brooks  Consumer  United States   Costa Mesa  ...   \n",
       "9991    DB-13060       Dave Brooks  Consumer  United States   Costa Mesa  ...   \n",
       "9992    DB-13060       Dave Brooks  Consumer  United States   Costa Mesa  ...   \n",
       "9993    CC-12220      Chris Cortes  Consumer  United States  Westminster  ...   \n",
       "\n",
       "     Postal Code  Region       Product ID         Category Sub-Category  \\\n",
       "9989       33180   South  FUR-FU-10001889        Furniture  Furnishings   \n",
       "9990       92627    West  FUR-FU-10000747        Furniture  Furnishings   \n",
       "9991       92627    West  TEC-PH-10003645       Technology       Phones   \n",
       "9992       92627    West  OFF-PA-10004041  Office Supplies        Paper   \n",
       "9993       92683    West  OFF-AP-10002684  Office Supplies   Appliances   \n",
       "\n",
       "                                           Product Name    Sales  Quantity  \\\n",
       "9989                             Ultra Door Pull Handle   25.248         3   \n",
       "9990  Tenex B1-RE Series Chair Mats for Low Pile Car...   91.960         2   \n",
       "9991                              Aastra 57i VoIP phone  258.576         2   \n",
       "9992  It's Hot Message Books with Stickers, 2 3/4\" x 5\"   29.600         4   \n",
       "9993  Acco 7-Outlet Masterpiece Power Center, Wihtou...  243.160         2   \n",
       "\n",
       "      Discount   Profit  \n",
       "9989       0.2   4.1028  \n",
       "9990       0.0  15.6332  \n",
       "9991       0.2  19.3932  \n",
       "9992       0.0  13.3200  \n",
       "9993       0.0  72.9480  \n",
       "\n",
       "[5 rows x 21 columns]"
      ]
     },
     "execution_count": 4,
     "metadata": {},
     "output_type": "execute_result"
    }
   ],
   "source": [
    "# Display last few rows\n",
    "df.tail()"
   ]
  },
  {
   "cell_type": "markdown",
   "metadata": {},
   "source": [
    "## 1. About the dataset"
   ]
  },
  {
   "cell_type": "code",
   "execution_count": 5,
   "metadata": {
    "scrolled": true
   },
   "outputs": [
    {
     "name": "stdout",
     "output_type": "stream",
     "text": [
      "Row ID\n",
      "Order ID\n",
      "Order Date\n",
      "Ship Date\n",
      "Ship Mode\n",
      "Customer ID\n",
      "Customer Name\n",
      "Segment\n",
      "Country\n",
      "City\n",
      "State\n",
      "Postal Code\n",
      "Region\n",
      "Product ID\n",
      "Category\n",
      "Sub-Category\n",
      "Product Name\n",
      "Sales\n",
      "Quantity\n",
      "Discount\n",
      "Profit\n"
     ]
    }
   ],
   "source": [
    "# Show all columns\n",
    "for col in df.columns:\n",
    "    print(col)"
   ]
  },
  {
   "cell_type": "code",
   "execution_count": 6,
   "metadata": {},
   "outputs": [
    {
     "name": "stdout",
     "output_type": "stream",
     "text": [
      "There are 9994 rows and 21 columns in the dataset.\n"
     ]
    }
   ],
   "source": [
    "# Checking the the number of columns and rows of the data \n",
    "print(f\"There are {df.shape[0]} rows and {df.shape[1]} columns in the dataset.\")\n"
   ]
  },
  {
   "cell_type": "markdown",
   "metadata": {},
   "source": [
    "### 2.Exploratory data analysis, data cleaning, and Feature engineering"
   ]
  },
  {
   "cell_type": "markdown",
   "metadata": {},
   "source": [
    "The data has 21 columns. Row ID and default pandas index are the same. Hence Row ID is dropped."
   ]
  },
  {
   "cell_type": "code",
   "execution_count": 7,
   "metadata": {},
   "outputs": [
    {
     "data": {
      "text/html": [
       "<div>\n",
       "<style scoped>\n",
       "    .dataframe tbody tr th:only-of-type {\n",
       "        vertical-align: middle;\n",
       "    }\n",
       "\n",
       "    .dataframe tbody tr th {\n",
       "        vertical-align: top;\n",
       "    }\n",
       "\n",
       "    .dataframe thead th {\n",
       "        text-align: right;\n",
       "    }\n",
       "</style>\n",
       "<table border=\"1\" class=\"dataframe\">\n",
       "  <thead>\n",
       "    <tr style=\"text-align: right;\">\n",
       "      <th></th>\n",
       "      <th>Order ID</th>\n",
       "      <th>Order Date</th>\n",
       "      <th>Ship Date</th>\n",
       "      <th>Ship Mode</th>\n",
       "      <th>Customer ID</th>\n",
       "      <th>Customer Name</th>\n",
       "      <th>Segment</th>\n",
       "      <th>Country</th>\n",
       "      <th>City</th>\n",
       "      <th>State</th>\n",
       "      <th>Postal Code</th>\n",
       "      <th>Region</th>\n",
       "      <th>Product ID</th>\n",
       "      <th>Category</th>\n",
       "      <th>Sub-Category</th>\n",
       "      <th>Product Name</th>\n",
       "      <th>Sales</th>\n",
       "      <th>Quantity</th>\n",
       "      <th>Discount</th>\n",
       "      <th>Profit</th>\n",
       "    </tr>\n",
       "  </thead>\n",
       "  <tbody>\n",
       "    <tr>\n",
       "      <th>0</th>\n",
       "      <td>CA-2016-152156</td>\n",
       "      <td>2016-11-08</td>\n",
       "      <td>2016-11-11</td>\n",
       "      <td>Second Class</td>\n",
       "      <td>CG-12520</td>\n",
       "      <td>Claire Gute</td>\n",
       "      <td>Consumer</td>\n",
       "      <td>United States</td>\n",
       "      <td>Henderson</td>\n",
       "      <td>Kentucky</td>\n",
       "      <td>42420</td>\n",
       "      <td>South</td>\n",
       "      <td>FUR-BO-10001798</td>\n",
       "      <td>Furniture</td>\n",
       "      <td>Bookcases</td>\n",
       "      <td>Bush Somerset Collection Bookcase</td>\n",
       "      <td>261.9600</td>\n",
       "      <td>2</td>\n",
       "      <td>0.00</td>\n",
       "      <td>41.9136</td>\n",
       "    </tr>\n",
       "    <tr>\n",
       "      <th>1</th>\n",
       "      <td>CA-2016-152156</td>\n",
       "      <td>2016-11-08</td>\n",
       "      <td>2016-11-11</td>\n",
       "      <td>Second Class</td>\n",
       "      <td>CG-12520</td>\n",
       "      <td>Claire Gute</td>\n",
       "      <td>Consumer</td>\n",
       "      <td>United States</td>\n",
       "      <td>Henderson</td>\n",
       "      <td>Kentucky</td>\n",
       "      <td>42420</td>\n",
       "      <td>South</td>\n",
       "      <td>FUR-CH-10000454</td>\n",
       "      <td>Furniture</td>\n",
       "      <td>Chairs</td>\n",
       "      <td>Hon Deluxe Fabric Upholstered Stacking Chairs,...</td>\n",
       "      <td>731.9400</td>\n",
       "      <td>3</td>\n",
       "      <td>0.00</td>\n",
       "      <td>219.5820</td>\n",
       "    </tr>\n",
       "    <tr>\n",
       "      <th>2</th>\n",
       "      <td>CA-2016-138688</td>\n",
       "      <td>2016-06-12</td>\n",
       "      <td>2016-06-16</td>\n",
       "      <td>Second Class</td>\n",
       "      <td>DV-13045</td>\n",
       "      <td>Darrin Van Huff</td>\n",
       "      <td>Corporate</td>\n",
       "      <td>United States</td>\n",
       "      <td>Los Angeles</td>\n",
       "      <td>California</td>\n",
       "      <td>90036</td>\n",
       "      <td>West</td>\n",
       "      <td>OFF-LA-10000240</td>\n",
       "      <td>Office Supplies</td>\n",
       "      <td>Labels</td>\n",
       "      <td>Self-Adhesive Address Labels for Typewriters b...</td>\n",
       "      <td>14.6200</td>\n",
       "      <td>2</td>\n",
       "      <td>0.00</td>\n",
       "      <td>6.8714</td>\n",
       "    </tr>\n",
       "    <tr>\n",
       "      <th>3</th>\n",
       "      <td>US-2015-108966</td>\n",
       "      <td>2015-10-11</td>\n",
       "      <td>2015-10-18</td>\n",
       "      <td>Standard Class</td>\n",
       "      <td>SO-20335</td>\n",
       "      <td>Sean O'Donnell</td>\n",
       "      <td>Consumer</td>\n",
       "      <td>United States</td>\n",
       "      <td>Fort Lauderdale</td>\n",
       "      <td>Florida</td>\n",
       "      <td>33311</td>\n",
       "      <td>South</td>\n",
       "      <td>FUR-TA-10000577</td>\n",
       "      <td>Furniture</td>\n",
       "      <td>Tables</td>\n",
       "      <td>Bretford CR4500 Series Slim Rectangular Table</td>\n",
       "      <td>957.5775</td>\n",
       "      <td>5</td>\n",
       "      <td>0.45</td>\n",
       "      <td>-383.0310</td>\n",
       "    </tr>\n",
       "    <tr>\n",
       "      <th>4</th>\n",
       "      <td>US-2015-108966</td>\n",
       "      <td>2015-10-11</td>\n",
       "      <td>2015-10-18</td>\n",
       "      <td>Standard Class</td>\n",
       "      <td>SO-20335</td>\n",
       "      <td>Sean O'Donnell</td>\n",
       "      <td>Consumer</td>\n",
       "      <td>United States</td>\n",
       "      <td>Fort Lauderdale</td>\n",
       "      <td>Florida</td>\n",
       "      <td>33311</td>\n",
       "      <td>South</td>\n",
       "      <td>OFF-ST-10000760</td>\n",
       "      <td>Office Supplies</td>\n",
       "      <td>Storage</td>\n",
       "      <td>Eldon Fold 'N Roll Cart System</td>\n",
       "      <td>22.3680</td>\n",
       "      <td>2</td>\n",
       "      <td>0.20</td>\n",
       "      <td>2.5164</td>\n",
       "    </tr>\n",
       "  </tbody>\n",
       "</table>\n",
       "</div>"
      ],
      "text/plain": [
       "         Order ID Order Date  Ship Date       Ship Mode Customer ID  \\\n",
       "0  CA-2016-152156 2016-11-08 2016-11-11    Second Class    CG-12520   \n",
       "1  CA-2016-152156 2016-11-08 2016-11-11    Second Class    CG-12520   \n",
       "2  CA-2016-138688 2016-06-12 2016-06-16    Second Class    DV-13045   \n",
       "3  US-2015-108966 2015-10-11 2015-10-18  Standard Class    SO-20335   \n",
       "4  US-2015-108966 2015-10-11 2015-10-18  Standard Class    SO-20335   \n",
       "\n",
       "     Customer Name    Segment        Country             City       State  \\\n",
       "0      Claire Gute   Consumer  United States        Henderson    Kentucky   \n",
       "1      Claire Gute   Consumer  United States        Henderson    Kentucky   \n",
       "2  Darrin Van Huff  Corporate  United States      Los Angeles  California   \n",
       "3   Sean O'Donnell   Consumer  United States  Fort Lauderdale     Florida   \n",
       "4   Sean O'Donnell   Consumer  United States  Fort Lauderdale     Florida   \n",
       "\n",
       "   Postal Code Region       Product ID         Category Sub-Category  \\\n",
       "0        42420  South  FUR-BO-10001798        Furniture    Bookcases   \n",
       "1        42420  South  FUR-CH-10000454        Furniture       Chairs   \n",
       "2        90036   West  OFF-LA-10000240  Office Supplies       Labels   \n",
       "3        33311  South  FUR-TA-10000577        Furniture       Tables   \n",
       "4        33311  South  OFF-ST-10000760  Office Supplies      Storage   \n",
       "\n",
       "                                        Product Name     Sales  Quantity  \\\n",
       "0                  Bush Somerset Collection Bookcase  261.9600         2   \n",
       "1  Hon Deluxe Fabric Upholstered Stacking Chairs,...  731.9400         3   \n",
       "2  Self-Adhesive Address Labels for Typewriters b...   14.6200         2   \n",
       "3      Bretford CR4500 Series Slim Rectangular Table  957.5775         5   \n",
       "4                     Eldon Fold 'N Roll Cart System   22.3680         2   \n",
       "\n",
       "   Discount    Profit  \n",
       "0      0.00   41.9136  \n",
       "1      0.00  219.5820  \n",
       "2      0.00    6.8714  \n",
       "3      0.45 -383.0310  \n",
       "4      0.20    2.5164  "
      ]
     },
     "execution_count": 7,
     "metadata": {},
     "output_type": "execute_result"
    }
   ],
   "source": [
    "# Drop Row ID\n",
    "df.drop('Row ID' ,inplace = True, axis = 1)\n",
    "df.head()"
   ]
  },
  {
   "cell_type": "code",
   "execution_count": 8,
   "metadata": {},
   "outputs": [
    {
     "name": "stdout",
     "output_type": "stream",
     "text": [
      "There are 9994 rows and 20 columns in the dataset.\n"
     ]
    }
   ],
   "source": [
    "# Re-checking the shape\n",
    "print(f\"There are {df.shape[0]} rows and {df.shape[1]} columns in the dataset.\")\n"
   ]
  },
  {
   "cell_type": "markdown",
   "metadata": {},
   "source": [
    "#### Inspecting the data"
   ]
  },
  {
   "cell_type": "code",
   "execution_count": 9,
   "metadata": {},
   "outputs": [
    {
     "data": {
      "text/html": [
       "<div>\n",
       "<style scoped>\n",
       "    .dataframe tbody tr th:only-of-type {\n",
       "        vertical-align: middle;\n",
       "    }\n",
       "\n",
       "    .dataframe tbody tr th {\n",
       "        vertical-align: top;\n",
       "    }\n",
       "\n",
       "    .dataframe thead th {\n",
       "        text-align: right;\n",
       "    }\n",
       "</style>\n",
       "<table border=\"1\" class=\"dataframe\">\n",
       "  <thead>\n",
       "    <tr style=\"text-align: right;\">\n",
       "      <th></th>\n",
       "      <th>Order ID</th>\n",
       "      <th>Order Date</th>\n",
       "      <th>Ship Date</th>\n",
       "      <th>Ship Mode</th>\n",
       "      <th>Customer ID</th>\n",
       "      <th>Customer Name</th>\n",
       "      <th>Segment</th>\n",
       "      <th>Country</th>\n",
       "      <th>City</th>\n",
       "      <th>State</th>\n",
       "      <th>Postal Code</th>\n",
       "      <th>Region</th>\n",
       "      <th>Product ID</th>\n",
       "      <th>Category</th>\n",
       "      <th>Sub-Category</th>\n",
       "      <th>Product Name</th>\n",
       "      <th>Sales</th>\n",
       "      <th>Quantity</th>\n",
       "      <th>Discount</th>\n",
       "      <th>Profit</th>\n",
       "    </tr>\n",
       "  </thead>\n",
       "  <tbody>\n",
       "    <tr>\n",
       "      <th>0</th>\n",
       "      <td>CA-2016-152156</td>\n",
       "      <td>2016-11-08</td>\n",
       "      <td>2016-11-11</td>\n",
       "      <td>Second Class</td>\n",
       "      <td>CG-12520</td>\n",
       "      <td>Claire Gute</td>\n",
       "      <td>Consumer</td>\n",
       "      <td>United States</td>\n",
       "      <td>Henderson</td>\n",
       "      <td>Kentucky</td>\n",
       "      <td>42420</td>\n",
       "      <td>South</td>\n",
       "      <td>FUR-BO-10001798</td>\n",
       "      <td>Furniture</td>\n",
       "      <td>Bookcases</td>\n",
       "      <td>Bush Somerset Collection Bookcase</td>\n",
       "      <td>261.9600</td>\n",
       "      <td>2</td>\n",
       "      <td>0.00</td>\n",
       "      <td>41.9136</td>\n",
       "    </tr>\n",
       "    <tr>\n",
       "      <th>1</th>\n",
       "      <td>CA-2016-152156</td>\n",
       "      <td>2016-11-08</td>\n",
       "      <td>2016-11-11</td>\n",
       "      <td>Second Class</td>\n",
       "      <td>CG-12520</td>\n",
       "      <td>Claire Gute</td>\n",
       "      <td>Consumer</td>\n",
       "      <td>United States</td>\n",
       "      <td>Henderson</td>\n",
       "      <td>Kentucky</td>\n",
       "      <td>42420</td>\n",
       "      <td>South</td>\n",
       "      <td>FUR-CH-10000454</td>\n",
       "      <td>Furniture</td>\n",
       "      <td>Chairs</td>\n",
       "      <td>Hon Deluxe Fabric Upholstered Stacking Chairs,...</td>\n",
       "      <td>731.9400</td>\n",
       "      <td>3</td>\n",
       "      <td>0.00</td>\n",
       "      <td>219.5820</td>\n",
       "    </tr>\n",
       "    <tr>\n",
       "      <th>2</th>\n",
       "      <td>CA-2016-138688</td>\n",
       "      <td>2016-06-12</td>\n",
       "      <td>2016-06-16</td>\n",
       "      <td>Second Class</td>\n",
       "      <td>DV-13045</td>\n",
       "      <td>Darrin Van Huff</td>\n",
       "      <td>Corporate</td>\n",
       "      <td>United States</td>\n",
       "      <td>Los Angeles</td>\n",
       "      <td>California</td>\n",
       "      <td>90036</td>\n",
       "      <td>West</td>\n",
       "      <td>OFF-LA-10000240</td>\n",
       "      <td>Office Supplies</td>\n",
       "      <td>Labels</td>\n",
       "      <td>Self-Adhesive Address Labels for Typewriters b...</td>\n",
       "      <td>14.6200</td>\n",
       "      <td>2</td>\n",
       "      <td>0.00</td>\n",
       "      <td>6.8714</td>\n",
       "    </tr>\n",
       "    <tr>\n",
       "      <th>3</th>\n",
       "      <td>US-2015-108966</td>\n",
       "      <td>2015-10-11</td>\n",
       "      <td>2015-10-18</td>\n",
       "      <td>Standard Class</td>\n",
       "      <td>SO-20335</td>\n",
       "      <td>Sean O'Donnell</td>\n",
       "      <td>Consumer</td>\n",
       "      <td>United States</td>\n",
       "      <td>Fort Lauderdale</td>\n",
       "      <td>Florida</td>\n",
       "      <td>33311</td>\n",
       "      <td>South</td>\n",
       "      <td>FUR-TA-10000577</td>\n",
       "      <td>Furniture</td>\n",
       "      <td>Tables</td>\n",
       "      <td>Bretford CR4500 Series Slim Rectangular Table</td>\n",
       "      <td>957.5775</td>\n",
       "      <td>5</td>\n",
       "      <td>0.45</td>\n",
       "      <td>-383.0310</td>\n",
       "    </tr>\n",
       "    <tr>\n",
       "      <th>4</th>\n",
       "      <td>US-2015-108966</td>\n",
       "      <td>2015-10-11</td>\n",
       "      <td>2015-10-18</td>\n",
       "      <td>Standard Class</td>\n",
       "      <td>SO-20335</td>\n",
       "      <td>Sean O'Donnell</td>\n",
       "      <td>Consumer</td>\n",
       "      <td>United States</td>\n",
       "      <td>Fort Lauderdale</td>\n",
       "      <td>Florida</td>\n",
       "      <td>33311</td>\n",
       "      <td>South</td>\n",
       "      <td>OFF-ST-10000760</td>\n",
       "      <td>Office Supplies</td>\n",
       "      <td>Storage</td>\n",
       "      <td>Eldon Fold 'N Roll Cart System</td>\n",
       "      <td>22.3680</td>\n",
       "      <td>2</td>\n",
       "      <td>0.20</td>\n",
       "      <td>2.5164</td>\n",
       "    </tr>\n",
       "  </tbody>\n",
       "</table>\n",
       "</div>"
      ],
      "text/plain": [
       "         Order ID Order Date  Ship Date       Ship Mode Customer ID  \\\n",
       "0  CA-2016-152156 2016-11-08 2016-11-11    Second Class    CG-12520   \n",
       "1  CA-2016-152156 2016-11-08 2016-11-11    Second Class    CG-12520   \n",
       "2  CA-2016-138688 2016-06-12 2016-06-16    Second Class    DV-13045   \n",
       "3  US-2015-108966 2015-10-11 2015-10-18  Standard Class    SO-20335   \n",
       "4  US-2015-108966 2015-10-11 2015-10-18  Standard Class    SO-20335   \n",
       "\n",
       "     Customer Name    Segment        Country             City       State  \\\n",
       "0      Claire Gute   Consumer  United States        Henderson    Kentucky   \n",
       "1      Claire Gute   Consumer  United States        Henderson    Kentucky   \n",
       "2  Darrin Van Huff  Corporate  United States      Los Angeles  California   \n",
       "3   Sean O'Donnell   Consumer  United States  Fort Lauderdale     Florida   \n",
       "4   Sean O'Donnell   Consumer  United States  Fort Lauderdale     Florida   \n",
       "\n",
       "   Postal Code Region       Product ID         Category Sub-Category  \\\n",
       "0        42420  South  FUR-BO-10001798        Furniture    Bookcases   \n",
       "1        42420  South  FUR-CH-10000454        Furniture       Chairs   \n",
       "2        90036   West  OFF-LA-10000240  Office Supplies       Labels   \n",
       "3        33311  South  FUR-TA-10000577        Furniture       Tables   \n",
       "4        33311  South  OFF-ST-10000760  Office Supplies      Storage   \n",
       "\n",
       "                                        Product Name     Sales  Quantity  \\\n",
       "0                  Bush Somerset Collection Bookcase  261.9600         2   \n",
       "1  Hon Deluxe Fabric Upholstered Stacking Chairs,...  731.9400         3   \n",
       "2  Self-Adhesive Address Labels for Typewriters b...   14.6200         2   \n",
       "3      Bretford CR4500 Series Slim Rectangular Table  957.5775         5   \n",
       "4                     Eldon Fold 'N Roll Cart System   22.3680         2   \n",
       "\n",
       "   Discount    Profit  \n",
       "0      0.00   41.9136  \n",
       "1      0.00  219.5820  \n",
       "2      0.00    6.8714  \n",
       "3      0.45 -383.0310  \n",
       "4      0.20    2.5164  "
      ]
     },
     "execution_count": 9,
     "metadata": {},
     "output_type": "execute_result"
    }
   ],
   "source": [
    "# Display the first 5 rows of the dataset \n",
    "df.head()"
   ]
  },
  {
   "cell_type": "code",
   "execution_count": 10,
   "metadata": {},
   "outputs": [
    {
     "data": {
      "text/html": [
       "<div>\n",
       "<style scoped>\n",
       "    .dataframe tbody tr th:only-of-type {\n",
       "        vertical-align: middle;\n",
       "    }\n",
       "\n",
       "    .dataframe tbody tr th {\n",
       "        vertical-align: top;\n",
       "    }\n",
       "\n",
       "    .dataframe thead th {\n",
       "        text-align: right;\n",
       "    }\n",
       "</style>\n",
       "<table border=\"1\" class=\"dataframe\">\n",
       "  <thead>\n",
       "    <tr style=\"text-align: right;\">\n",
       "      <th></th>\n",
       "      <th>Order ID</th>\n",
       "      <th>Order Date</th>\n",
       "      <th>Ship Date</th>\n",
       "      <th>Ship Mode</th>\n",
       "      <th>Customer ID</th>\n",
       "      <th>Customer Name</th>\n",
       "      <th>Segment</th>\n",
       "      <th>Country</th>\n",
       "      <th>City</th>\n",
       "      <th>State</th>\n",
       "      <th>Postal Code</th>\n",
       "      <th>Region</th>\n",
       "      <th>Product ID</th>\n",
       "      <th>Category</th>\n",
       "      <th>Sub-Category</th>\n",
       "      <th>Product Name</th>\n",
       "      <th>Sales</th>\n",
       "      <th>Quantity</th>\n",
       "      <th>Discount</th>\n",
       "      <th>Profit</th>\n",
       "    </tr>\n",
       "  </thead>\n",
       "  <tbody>\n",
       "    <tr>\n",
       "      <th>9989</th>\n",
       "      <td>CA-2014-110422</td>\n",
       "      <td>2014-01-21</td>\n",
       "      <td>2014-01-23</td>\n",
       "      <td>Second Class</td>\n",
       "      <td>TB-21400</td>\n",
       "      <td>Tom Boeckenhauer</td>\n",
       "      <td>Consumer</td>\n",
       "      <td>United States</td>\n",
       "      <td>Miami</td>\n",
       "      <td>Florida</td>\n",
       "      <td>33180</td>\n",
       "      <td>South</td>\n",
       "      <td>FUR-FU-10001889</td>\n",
       "      <td>Furniture</td>\n",
       "      <td>Furnishings</td>\n",
       "      <td>Ultra Door Pull Handle</td>\n",
       "      <td>25.248</td>\n",
       "      <td>3</td>\n",
       "      <td>0.2</td>\n",
       "      <td>4.1028</td>\n",
       "    </tr>\n",
       "    <tr>\n",
       "      <th>9990</th>\n",
       "      <td>CA-2017-121258</td>\n",
       "      <td>2017-02-26</td>\n",
       "      <td>2017-03-03</td>\n",
       "      <td>Standard Class</td>\n",
       "      <td>DB-13060</td>\n",
       "      <td>Dave Brooks</td>\n",
       "      <td>Consumer</td>\n",
       "      <td>United States</td>\n",
       "      <td>Costa Mesa</td>\n",
       "      <td>California</td>\n",
       "      <td>92627</td>\n",
       "      <td>West</td>\n",
       "      <td>FUR-FU-10000747</td>\n",
       "      <td>Furniture</td>\n",
       "      <td>Furnishings</td>\n",
       "      <td>Tenex B1-RE Series Chair Mats for Low Pile Car...</td>\n",
       "      <td>91.960</td>\n",
       "      <td>2</td>\n",
       "      <td>0.0</td>\n",
       "      <td>15.6332</td>\n",
       "    </tr>\n",
       "    <tr>\n",
       "      <th>9991</th>\n",
       "      <td>CA-2017-121258</td>\n",
       "      <td>2017-02-26</td>\n",
       "      <td>2017-03-03</td>\n",
       "      <td>Standard Class</td>\n",
       "      <td>DB-13060</td>\n",
       "      <td>Dave Brooks</td>\n",
       "      <td>Consumer</td>\n",
       "      <td>United States</td>\n",
       "      <td>Costa Mesa</td>\n",
       "      <td>California</td>\n",
       "      <td>92627</td>\n",
       "      <td>West</td>\n",
       "      <td>TEC-PH-10003645</td>\n",
       "      <td>Technology</td>\n",
       "      <td>Phones</td>\n",
       "      <td>Aastra 57i VoIP phone</td>\n",
       "      <td>258.576</td>\n",
       "      <td>2</td>\n",
       "      <td>0.2</td>\n",
       "      <td>19.3932</td>\n",
       "    </tr>\n",
       "    <tr>\n",
       "      <th>9992</th>\n",
       "      <td>CA-2017-121258</td>\n",
       "      <td>2017-02-26</td>\n",
       "      <td>2017-03-03</td>\n",
       "      <td>Standard Class</td>\n",
       "      <td>DB-13060</td>\n",
       "      <td>Dave Brooks</td>\n",
       "      <td>Consumer</td>\n",
       "      <td>United States</td>\n",
       "      <td>Costa Mesa</td>\n",
       "      <td>California</td>\n",
       "      <td>92627</td>\n",
       "      <td>West</td>\n",
       "      <td>OFF-PA-10004041</td>\n",
       "      <td>Office Supplies</td>\n",
       "      <td>Paper</td>\n",
       "      <td>It's Hot Message Books with Stickers, 2 3/4\" x 5\"</td>\n",
       "      <td>29.600</td>\n",
       "      <td>4</td>\n",
       "      <td>0.0</td>\n",
       "      <td>13.3200</td>\n",
       "    </tr>\n",
       "    <tr>\n",
       "      <th>9993</th>\n",
       "      <td>CA-2017-119914</td>\n",
       "      <td>2017-05-04</td>\n",
       "      <td>2017-05-09</td>\n",
       "      <td>Second Class</td>\n",
       "      <td>CC-12220</td>\n",
       "      <td>Chris Cortes</td>\n",
       "      <td>Consumer</td>\n",
       "      <td>United States</td>\n",
       "      <td>Westminster</td>\n",
       "      <td>California</td>\n",
       "      <td>92683</td>\n",
       "      <td>West</td>\n",
       "      <td>OFF-AP-10002684</td>\n",
       "      <td>Office Supplies</td>\n",
       "      <td>Appliances</td>\n",
       "      <td>Acco 7-Outlet Masterpiece Power Center, Wihtou...</td>\n",
       "      <td>243.160</td>\n",
       "      <td>2</td>\n",
       "      <td>0.0</td>\n",
       "      <td>72.9480</td>\n",
       "    </tr>\n",
       "  </tbody>\n",
       "</table>\n",
       "</div>"
      ],
      "text/plain": [
       "            Order ID Order Date  Ship Date       Ship Mode Customer ID  \\\n",
       "9989  CA-2014-110422 2014-01-21 2014-01-23    Second Class    TB-21400   \n",
       "9990  CA-2017-121258 2017-02-26 2017-03-03  Standard Class    DB-13060   \n",
       "9991  CA-2017-121258 2017-02-26 2017-03-03  Standard Class    DB-13060   \n",
       "9992  CA-2017-121258 2017-02-26 2017-03-03  Standard Class    DB-13060   \n",
       "9993  CA-2017-119914 2017-05-04 2017-05-09    Second Class    CC-12220   \n",
       "\n",
       "         Customer Name   Segment        Country         City       State  \\\n",
       "9989  Tom Boeckenhauer  Consumer  United States        Miami     Florida   \n",
       "9990       Dave Brooks  Consumer  United States   Costa Mesa  California   \n",
       "9991       Dave Brooks  Consumer  United States   Costa Mesa  California   \n",
       "9992       Dave Brooks  Consumer  United States   Costa Mesa  California   \n",
       "9993      Chris Cortes  Consumer  United States  Westminster  California   \n",
       "\n",
       "      Postal Code Region       Product ID         Category Sub-Category  \\\n",
       "9989        33180  South  FUR-FU-10001889        Furniture  Furnishings   \n",
       "9990        92627   West  FUR-FU-10000747        Furniture  Furnishings   \n",
       "9991        92627   West  TEC-PH-10003645       Technology       Phones   \n",
       "9992        92627   West  OFF-PA-10004041  Office Supplies        Paper   \n",
       "9993        92683   West  OFF-AP-10002684  Office Supplies   Appliances   \n",
       "\n",
       "                                           Product Name    Sales  Quantity  \\\n",
       "9989                             Ultra Door Pull Handle   25.248         3   \n",
       "9990  Tenex B1-RE Series Chair Mats for Low Pile Car...   91.960         2   \n",
       "9991                              Aastra 57i VoIP phone  258.576         2   \n",
       "9992  It's Hot Message Books with Stickers, 2 3/4\" x 5\"   29.600         4   \n",
       "9993  Acco 7-Outlet Masterpiece Power Center, Wihtou...  243.160         2   \n",
       "\n",
       "      Discount   Profit  \n",
       "9989       0.2   4.1028  \n",
       "9990       0.0  15.6332  \n",
       "9991       0.2  19.3932  \n",
       "9992       0.0  13.3200  \n",
       "9993       0.0  72.9480  "
      ]
     },
     "execution_count": 10,
     "metadata": {},
     "output_type": "execute_result"
    }
   ],
   "source": [
    "# Display the last 5 rows of the dataset \n",
    "df.tail()"
   ]
  },
  {
   "cell_type": "markdown",
   "metadata": {},
   "source": [
    "#### Check the info for various colunms and datatype"
   ]
  },
  {
   "cell_type": "code",
   "execution_count": 11,
   "metadata": {},
   "outputs": [
    {
     "name": "stdout",
     "output_type": "stream",
     "text": [
      "<class 'pandas.core.frame.DataFrame'>\n",
      "RangeIndex: 9994 entries, 0 to 9993\n",
      "Data columns (total 20 columns):\n",
      " #   Column         Non-Null Count  Dtype         \n",
      "---  ------         --------------  -----         \n",
      " 0   Order ID       9994 non-null   object        \n",
      " 1   Order Date     9994 non-null   datetime64[ns]\n",
      " 2   Ship Date      9994 non-null   datetime64[ns]\n",
      " 3   Ship Mode      9994 non-null   object        \n",
      " 4   Customer ID    9994 non-null   object        \n",
      " 5   Customer Name  9994 non-null   object        \n",
      " 6   Segment        9994 non-null   object        \n",
      " 7   Country        9994 non-null   object        \n",
      " 8   City           9994 non-null   object        \n",
      " 9   State          9994 non-null   object        \n",
      " 10  Postal Code    9994 non-null   int64         \n",
      " 11  Region         9994 non-null   object        \n",
      " 12  Product ID     9994 non-null   object        \n",
      " 13  Category       9994 non-null   object        \n",
      " 14  Sub-Category   9994 non-null   object        \n",
      " 15  Product Name   9994 non-null   object        \n",
      " 16  Sales          9994 non-null   float64       \n",
      " 17  Quantity       9994 non-null   int64         \n",
      " 18  Discount       9994 non-null   float64       \n",
      " 19  Profit         9994 non-null   float64       \n",
      "dtypes: datetime64[ns](2), float64(3), int64(2), object(13)\n",
      "memory usage: 1.5+ MB\n"
     ]
    }
   ],
   "source": [
    "# Generate the info of the dataset\n",
    "\n",
    "df.info()"
   ]
  },
  {
   "cell_type": "markdown",
   "metadata": {},
   "source": [
    "There are no missing values. Data types for for all columns are correct except postal code which is in int."
   ]
  },
  {
   "cell_type": "code",
   "execution_count": 12,
   "metadata": {},
   "outputs": [
    {
     "data": {
      "text/plain": [
       "dtype('O')"
      ]
     },
     "execution_count": 12,
     "metadata": {},
     "output_type": "execute_result"
    }
   ],
   "source": [
    "# Converting Postal Code column to strings\n",
    "\n",
    "df['Postal Code'] = df['Postal Code'].astype('str')\n",
    "df['Postal Code'].dtype"
   ]
  },
  {
   "cell_type": "markdown",
   "metadata": {},
   "source": [
    "#### Check the summary statistics of the data"
   ]
  },
  {
   "cell_type": "code",
   "execution_count": 13,
   "metadata": {},
   "outputs": [
    {
     "data": {
      "text/html": [
       "<div>\n",
       "<style scoped>\n",
       "    .dataframe tbody tr th:only-of-type {\n",
       "        vertical-align: middle;\n",
       "    }\n",
       "\n",
       "    .dataframe tbody tr th {\n",
       "        vertical-align: top;\n",
       "    }\n",
       "\n",
       "    .dataframe thead th {\n",
       "        text-align: right;\n",
       "    }\n",
       "</style>\n",
       "<table border=\"1\" class=\"dataframe\">\n",
       "  <thead>\n",
       "    <tr style=\"text-align: right;\">\n",
       "      <th></th>\n",
       "      <th>Sales</th>\n",
       "      <th>Quantity</th>\n",
       "      <th>Discount</th>\n",
       "      <th>Profit</th>\n",
       "    </tr>\n",
       "  </thead>\n",
       "  <tbody>\n",
       "    <tr>\n",
       "      <th>count</th>\n",
       "      <td>9994.000000</td>\n",
       "      <td>9994.000000</td>\n",
       "      <td>9994.000000</td>\n",
       "      <td>9994.000000</td>\n",
       "    </tr>\n",
       "    <tr>\n",
       "      <th>mean</th>\n",
       "      <td>229.858001</td>\n",
       "      <td>3.789574</td>\n",
       "      <td>0.156203</td>\n",
       "      <td>28.656896</td>\n",
       "    </tr>\n",
       "    <tr>\n",
       "      <th>std</th>\n",
       "      <td>623.245101</td>\n",
       "      <td>2.225110</td>\n",
       "      <td>0.206452</td>\n",
       "      <td>234.260108</td>\n",
       "    </tr>\n",
       "    <tr>\n",
       "      <th>min</th>\n",
       "      <td>0.444000</td>\n",
       "      <td>1.000000</td>\n",
       "      <td>0.000000</td>\n",
       "      <td>-6599.978000</td>\n",
       "    </tr>\n",
       "    <tr>\n",
       "      <th>25%</th>\n",
       "      <td>17.280000</td>\n",
       "      <td>2.000000</td>\n",
       "      <td>0.000000</td>\n",
       "      <td>1.728750</td>\n",
       "    </tr>\n",
       "    <tr>\n",
       "      <th>50%</th>\n",
       "      <td>54.490000</td>\n",
       "      <td>3.000000</td>\n",
       "      <td>0.200000</td>\n",
       "      <td>8.666500</td>\n",
       "    </tr>\n",
       "    <tr>\n",
       "      <th>75%</th>\n",
       "      <td>209.940000</td>\n",
       "      <td>5.000000</td>\n",
       "      <td>0.200000</td>\n",
       "      <td>29.364000</td>\n",
       "    </tr>\n",
       "    <tr>\n",
       "      <th>max</th>\n",
       "      <td>22638.480000</td>\n",
       "      <td>14.000000</td>\n",
       "      <td>0.800000</td>\n",
       "      <td>8399.976000</td>\n",
       "    </tr>\n",
       "  </tbody>\n",
       "</table>\n",
       "</div>"
      ],
      "text/plain": [
       "              Sales     Quantity     Discount       Profit\n",
       "count   9994.000000  9994.000000  9994.000000  9994.000000\n",
       "mean     229.858001     3.789574     0.156203    28.656896\n",
       "std      623.245101     2.225110     0.206452   234.260108\n",
       "min        0.444000     1.000000     0.000000 -6599.978000\n",
       "25%       17.280000     2.000000     0.000000     1.728750\n",
       "50%       54.490000     3.000000     0.200000     8.666500\n",
       "75%      209.940000     5.000000     0.200000    29.364000\n",
       "max    22638.480000    14.000000     0.800000  8399.976000"
      ]
     },
     "execution_count": 13,
     "metadata": {},
     "output_type": "execute_result"
    }
   ],
   "source": [
    "# Describe the dataset\n",
    "\n",
    "df.describe()"
   ]
  },
  {
   "cell_type": "markdown",
   "metadata": {},
   "source": [
    "#### Check for duplicates"
   ]
  },
  {
   "cell_type": "code",
   "execution_count": 14,
   "metadata": {},
   "outputs": [],
   "source": [
    "# Check for duplicates\n",
    "\n",
    "duplicates = df.duplicated()"
   ]
  },
  {
   "cell_type": "code",
   "execution_count": 15,
   "metadata": {},
   "outputs": [
    {
     "data": {
      "text/html": [
       "<div>\n",
       "<style scoped>\n",
       "    .dataframe tbody tr th:only-of-type {\n",
       "        vertical-align: middle;\n",
       "    }\n",
       "\n",
       "    .dataframe tbody tr th {\n",
       "        vertical-align: top;\n",
       "    }\n",
       "\n",
       "    .dataframe thead th {\n",
       "        text-align: right;\n",
       "    }\n",
       "</style>\n",
       "<table border=\"1\" class=\"dataframe\">\n",
       "  <thead>\n",
       "    <tr style=\"text-align: right;\">\n",
       "      <th></th>\n",
       "      <th>Order ID</th>\n",
       "      <th>Order Date</th>\n",
       "      <th>Ship Date</th>\n",
       "      <th>Ship Mode</th>\n",
       "      <th>Customer ID</th>\n",
       "      <th>Customer Name</th>\n",
       "      <th>Segment</th>\n",
       "      <th>Country</th>\n",
       "      <th>City</th>\n",
       "      <th>State</th>\n",
       "      <th>Postal Code</th>\n",
       "      <th>Region</th>\n",
       "      <th>Product ID</th>\n",
       "      <th>Category</th>\n",
       "      <th>Sub-Category</th>\n",
       "      <th>Product Name</th>\n",
       "      <th>Sales</th>\n",
       "      <th>Quantity</th>\n",
       "      <th>Discount</th>\n",
       "      <th>Profit</th>\n",
       "    </tr>\n",
       "  </thead>\n",
       "  <tbody>\n",
       "    <tr>\n",
       "      <th>3406</th>\n",
       "      <td>US-2014-150119</td>\n",
       "      <td>2014-04-23</td>\n",
       "      <td>2014-04-27</td>\n",
       "      <td>Standard Class</td>\n",
       "      <td>LB-16795</td>\n",
       "      <td>Laurel Beltran</td>\n",
       "      <td>Home Office</td>\n",
       "      <td>United States</td>\n",
       "      <td>Columbus</td>\n",
       "      <td>Ohio</td>\n",
       "      <td>43229</td>\n",
       "      <td>East</td>\n",
       "      <td>FUR-CH-10002965</td>\n",
       "      <td>Furniture</td>\n",
       "      <td>Chairs</td>\n",
       "      <td>Global Leather Highback Executive Chair with P...</td>\n",
       "      <td>281.372</td>\n",
       "      <td>2</td>\n",
       "      <td>0.3</td>\n",
       "      <td>-12.0588</td>\n",
       "    </tr>\n",
       "  </tbody>\n",
       "</table>\n",
       "</div>"
      ],
      "text/plain": [
       "            Order ID Order Date  Ship Date       Ship Mode Customer ID  \\\n",
       "3406  US-2014-150119 2014-04-23 2014-04-27  Standard Class    LB-16795   \n",
       "\n",
       "       Customer Name      Segment        Country      City State Postal Code  \\\n",
       "3406  Laurel Beltran  Home Office  United States  Columbus  Ohio       43229   \n",
       "\n",
       "     Region       Product ID   Category Sub-Category  \\\n",
       "3406   East  FUR-CH-10002965  Furniture       Chairs   \n",
       "\n",
       "                                           Product Name    Sales  Quantity  \\\n",
       "3406  Global Leather Highback Executive Chair with P...  281.372         2   \n",
       "\n",
       "      Discount   Profit  \n",
       "3406       0.3 -12.0588  "
      ]
     },
     "execution_count": 15,
     "metadata": {},
     "output_type": "execute_result"
    }
   ],
   "source": [
    "df[duplicates]"
   ]
  },
  {
   "cell_type": "code",
   "execution_count": 16,
   "metadata": {},
   "outputs": [
    {
     "data": {
      "text/plain": [
       "(9994, 20)"
      ]
     },
     "execution_count": 16,
     "metadata": {},
     "output_type": "execute_result"
    }
   ],
   "source": [
    "df.shape"
   ]
  },
  {
   "cell_type": "markdown",
   "metadata": {},
   "source": [
    "There is a complete duplicate of Row ID 3406 in 3407. One row is dropped."
   ]
  },
  {
   "cell_type": "code",
   "execution_count": 17,
   "metadata": {},
   "outputs": [],
   "source": [
    "# Drop the duplicate\n",
    "\n",
    "df.drop_duplicates(inplace = True)"
   ]
  },
  {
   "cell_type": "code",
   "execution_count": 18,
   "metadata": {},
   "outputs": [
    {
     "data": {
      "text/plain": [
       "(9993, 20)"
      ]
     },
     "execution_count": 18,
     "metadata": {},
     "output_type": "execute_result"
    }
   ],
   "source": [
    "# Recheck for exiting duplicates\n",
    "\n",
    "df.shape"
   ]
  },
  {
   "cell_type": "markdown",
   "metadata": {},
   "source": [
    "#### Check for missing values"
   ]
  },
  {
   "cell_type": "code",
   "execution_count": 19,
   "metadata": {},
   "outputs": [
    {
     "data": {
      "text/plain": [
       "Order ID         0\n",
       "Order Date       0\n",
       "Ship Date        0\n",
       "Ship Mode        0\n",
       "Customer ID      0\n",
       "Customer Name    0\n",
       "Segment          0\n",
       "Country          0\n",
       "City             0\n",
       "State            0\n",
       "Postal Code      0\n",
       "Region           0\n",
       "Product ID       0\n",
       "Category         0\n",
       "Sub-Category     0\n",
       "Product Name     0\n",
       "Sales            0\n",
       "Quantity         0\n",
       "Discount         0\n",
       "Profit           0\n",
       "dtype: int64"
      ]
     },
     "execution_count": 19,
     "metadata": {},
     "output_type": "execute_result"
    }
   ],
   "source": [
    "# Check the sum of all missing values in the data\n",
    "\n",
    "df.isnull().sum()"
   ]
  },
  {
   "cell_type": "markdown",
   "metadata": {},
   "source": [
    "There are no missing values in the data"
   ]
  },
  {
   "cell_type": "markdown",
   "metadata": {},
   "source": [
    "### Inspecting and exploring various columns of the data"
   ]
  },
  {
   "cell_type": "code",
   "execution_count": 20,
   "metadata": {},
   "outputs": [],
   "source": [
    "categorical_var = df.select_dtypes(include = \"object\")\n",
    "numerical_var = df.select_dtypes(include = np.number)"
   ]
  },
  {
   "cell_type": "code",
   "execution_count": 21,
   "metadata": {},
   "outputs": [
    {
     "name": "stdout",
     "output_type": "stream",
     "text": [
      "Order ID\n",
      "Ship Mode\n",
      "Customer ID\n",
      "Customer Name\n",
      "Segment\n",
      "Country\n",
      "City\n",
      "State\n",
      "Postal Code\n",
      "Region\n",
      "Product ID\n",
      "Category\n",
      "Sub-Category\n",
      "Product Name\n"
     ]
    }
   ],
   "source": [
    "# Iterate all Categorical Variables in the data\n",
    "\n",
    "for col in categorical_var.columns:\n",
    "    print(col)"
   ]
  },
  {
   "cell_type": "markdown",
   "metadata": {},
   "source": [
    "### Create a function to explore the categorical variable"
   ]
  },
  {
   "cell_type": "markdown",
   "metadata": {},
   "source": [
    "This is to easily explore the numerical and graphical nature of the categorical variables"
   ]
  },
  {
   "cell_type": "code",
   "execution_count": 22,
   "metadata": {},
   "outputs": [],
   "source": [
    "# Create a function named \"explore_categorical_var\" to explore the categorical variables of the data\n",
    "\n",
    "def explore_categorical_var(df, x):\n",
    "    \n",
    "    \"\"\" To return the numerical and graphical summary of \n",
    "    categorical variables by taking df and x as argument \"\"\"\n",
    "    \n",
    "    nunique_categories = df[x].nunique()\n",
    "    if nunique_categories <= 6 :\n",
    "        print(\"Summary\")\n",
    "        print(\"===============================\")\n",
    "        print(df[x].describe(), \"\\n\")\n",
    "        sns.countplot(df[x])\n",
    "        plt.title(x)\n",
    "        plt.show()\n",
    "        print(\"===============================\")\n",
    "        print(\"Value count \\n\")\n",
    "        print(df[x].value_counts(), \"\\n\")\n",
    "        print(\"===============================\")\n",
    "        print(f\"Missing values: {df[x].isnull().sum()}\")\n",
    "        \n",
    "    elif nunique_categories > 6 and nunique_categories <= 17 :\n",
    "        print(\"Summary\")\n",
    "        print(\"===============================\")\n",
    "        print(df[x].describe(), \"\\n\")\n",
    "        sns.countplot(y = df[x])\n",
    "        plt.title(x)\n",
    "        plt.show()\n",
    "        print(\"===============================\")\n",
    "        print(\"Value count \\n\")\n",
    "        print(df[x].value_counts(), \"\\n\")\n",
    "        print(\"===============================\")\n",
    "        print(f\"Missing values: {df[x].isnull().sum()}\")\n",
    "        \n",
    "    else :\n",
    "        print(\"Summary\")\n",
    "        print(\"===============================\")\n",
    "        print(df[x].describe(), \"\\n\")\n",
    "        print(\"===============================\")\n",
    "        print(\"Value count \\n\")\n",
    "        print(df[x].value_counts(), \"\\n\")\n",
    "        print(\"===============================\")\n",
    "        print(f\"Missing values: {df[x].isnull().sum()}\")"
   ]
  },
  {
   "cell_type": "markdown",
   "metadata": {},
   "source": [
    "#### Explore Order ID column of the date"
   ]
  },
  {
   "cell_type": "code",
   "execution_count": 23,
   "metadata": {},
   "outputs": [
    {
     "data": {
      "text/plain": [
       "0    CA-2016-152156\n",
       "1    CA-2016-152156\n",
       "2    CA-2016-138688\n",
       "3    US-2015-108966\n",
       "4    US-2015-108966\n",
       "Name: Order ID, dtype: object"
      ]
     },
     "execution_count": 23,
     "metadata": {},
     "output_type": "execute_result"
    }
   ],
   "source": [
    "# Output the head of \"Order ID\"\n",
    "\n",
    "df[\"Order ID\"].head()"
   ]
  },
  {
   "cell_type": "code",
   "execution_count": 24,
   "metadata": {},
   "outputs": [
    {
     "name": "stdout",
     "output_type": "stream",
     "text": [
      "Summary\n",
      "===============================\n",
      "count               9993\n",
      "unique              5009\n",
      "top       CA-2017-100111\n",
      "freq                  14\n",
      "Name: Order ID, dtype: object \n",
      "\n",
      "===============================\n",
      "Value count \n",
      "\n",
      "CA-2017-100111    14\n",
      "CA-2017-157987    12\n",
      "US-2016-108504    11\n",
      "CA-2016-165330    11\n",
      "CA-2016-105732    10\n",
      "                  ..\n",
      "CA-2016-157259     1\n",
      "CA-2017-107986     1\n",
      "US-2015-112508     1\n",
      "US-2016-126844     1\n",
      "CA-2017-119914     1\n",
      "Name: Order ID, Length: 5009, dtype: int64 \n",
      "\n",
      "===============================\n",
      "Missing values: 0\n"
     ]
    }
   ],
   "source": [
    "# Call the \"explore_categorical_var\" function\n",
    "\n",
    "explore_categorical_var(df, \"Order ID\")"
   ]
  },
  {
   "cell_type": "markdown",
   "metadata": {},
   "source": [
    "#### Explore Ship Mode column of the date"
   ]
  },
  {
   "cell_type": "code",
   "execution_count": 25,
   "metadata": {},
   "outputs": [
    {
     "data": {
      "text/plain": [
       "0      Second Class\n",
       "1      Second Class\n",
       "2      Second Class\n",
       "3    Standard Class\n",
       "4    Standard Class\n",
       "Name: Ship Mode, dtype: object"
      ]
     },
     "execution_count": 25,
     "metadata": {},
     "output_type": "execute_result"
    }
   ],
   "source": [
    "# Output  the head of \"Ship Mode\"\n",
    "\n",
    "df[\"Ship Mode\"].head()"
   ]
  },
  {
   "cell_type": "code",
   "execution_count": 26,
   "metadata": {},
   "outputs": [
    {
     "name": "stdout",
     "output_type": "stream",
     "text": [
      "Summary\n",
      "===============================\n",
      "count               9993\n",
      "unique                 4\n",
      "top       Standard Class\n",
      "freq                5967\n",
      "Name: Ship Mode, dtype: object \n",
      "\n"
     ]
    },
    {
     "data": {
      "image/png": "[encoded data removed]",
      "text/plain": [
       "<Figure size 432x288 with 1 Axes>"
      ]
     },
     "metadata": {
      "needs_background": "light"
     },
     "output_type": "display_data"
    },
    {
     "name": "stdout",
     "output_type": "stream",
     "text": [
      "===============================\n",
      "Value count \n",
      "\n",
      "Standard Class    5967\n",
      "Second Class      1945\n",
      "First Class       1538\n",
      "Same Day           543\n",
      "Name: Ship Mode, dtype: int64 \n",
      "\n",
      "===============================\n",
      "Missing values: 0\n"
     ]
    }
   ],
   "source": [
    "# Call the \"explore_categorical_var\" function\n",
    "\n",
    "explore_categorical_var(df, \"Ship Mode\")"
   ]
  },
  {
   "cell_type": "markdown",
   "metadata": {},
   "source": [
    "#### Explore Customer ID column of the date"
   ]
  },
  {
   "cell_type": "code",
   "execution_count": 27,
   "metadata": {},
   "outputs": [
    {
     "data": {
      "text/plain": [
       "0    CG-12520\n",
       "1    CG-12520\n",
       "2    DV-13045\n",
       "3    SO-20335\n",
       "4    SO-20335\n",
       "Name: Customer ID, dtype: object"
      ]
     },
     "execution_count": 27,
     "metadata": {},
     "output_type": "execute_result"
    }
   ],
   "source": [
    "# Output the head of \"Customer ID\"\n",
    "\n",
    "df[\"Customer ID\"].head()"
   ]
  },
  {
   "cell_type": "code",
   "execution_count": 28,
   "metadata": {},
   "outputs": [
    {
     "name": "stdout",
     "output_type": "stream",
     "text": [
      "Summary\n",
      "===============================\n",
      "count         9993\n",
      "unique         793\n",
      "top       WB-21850\n",
      "freq            37\n",
      "Name: Customer ID, dtype: object \n",
      "\n",
      "===============================\n",
      "Value count \n",
      "\n",
      "WB-21850    37\n",
      "JL-15835    34\n",
      "MA-17560    34\n",
      "PP-18955    34\n",
      "CK-12205    32\n",
      "            ..\n",
      "LD-16855     1\n",
      "AO-10810     1\n",
      "CJ-11875     1\n",
      "RE-19405     1\n",
      "JR-15700     1\n",
      "Name: Customer ID, Length: 793, dtype: int64 \n",
      "\n",
      "===============================\n",
      "Missing values: 0\n"
     ]
    }
   ],
   "source": [
    "# Call the \"explore_categorical_var\" function\n",
    "\n",
    "explore_categorical_var(df, \"Customer ID\")"
   ]
  },
  {
   "cell_type": "markdown",
   "metadata": {},
   "source": [
    "#### Explore Customer Name column of the date"
   ]
  },
  {
   "cell_type": "code",
   "execution_count": 29,
   "metadata": {},
   "outputs": [
    {
     "data": {
      "text/plain": [
       "0        Claire Gute\n",
       "1        Claire Gute\n",
       "2    Darrin Van Huff\n",
       "3     Sean O'Donnell\n",
       "4     Sean O'Donnell\n",
       "Name: Customer Name, dtype: object"
      ]
     },
     "execution_count": 29,
     "metadata": {},
     "output_type": "execute_result"
    }
   ],
   "source": [
    "# Output the head of \"Customer Name\"\n",
    "df[\"Customer Name\"].head()"
   ]
  },
  {
   "cell_type": "code",
   "execution_count": 30,
   "metadata": {},
   "outputs": [
    {
     "name": "stdout",
     "output_type": "stream",
     "text": [
      "Summary\n",
      "===============================\n",
      "count              9993\n",
      "unique              793\n",
      "top       William Brown\n",
      "freq                 37\n",
      "Name: Customer Name, dtype: object \n",
      "\n",
      "===============================\n",
      "Value count \n",
      "\n",
      "William Brown          37\n",
      "John Lee               34\n",
      "Matt Abelman           34\n",
      "Paul Prost             34\n",
      "Chloris Kastensmidt    32\n",
      "                       ..\n",
      "Lela Donovan            1\n",
      "Anthony O'Donnell       1\n",
      "Carl Jackson            1\n",
      "Ricardo Emerson         1\n",
      "Jocasta Rupert          1\n",
      "Name: Customer Name, Length: 793, dtype: int64 \n",
      "\n",
      "===============================\n",
      "Missing values: 0\n"
     ]
    }
   ],
   "source": [
    "# Call the \"explore_categorical_var\" function\n",
    "\n",
    "explore_categorical_var(df, \"Customer Name\")"
   ]
  },
  {
   "cell_type": "markdown",
   "metadata": {},
   "source": [
    "#### Explore Segment column of the date"
   ]
  },
  {
   "cell_type": "code",
   "execution_count": 31,
   "metadata": {
    "scrolled": true
   },
   "outputs": [
    {
     "data": {
      "text/plain": [
       "0     Consumer\n",
       "1     Consumer\n",
       "2    Corporate\n",
       "3     Consumer\n",
       "4     Consumer\n",
       "Name: Segment, dtype: object"
      ]
     },
     "execution_count": 31,
     "metadata": {},
     "output_type": "execute_result"
    }
   ],
   "source": [
    "# Output the head of \"Segment\"\n",
    "\n",
    "df[\"Segment\"].head()"
   ]
  },
  {
   "cell_type": "code",
   "execution_count": 32,
   "metadata": {},
   "outputs": [
    {
     "name": "stdout",
     "output_type": "stream",
     "text": [
      "Summary\n",
      "===============================\n",
      "count         9993\n",
      "unique           3\n",
      "top       Consumer\n",
      "freq          5191\n",
      "Name: Segment, dtype: object \n",
      "\n"
     ]
    },
    {
     "data": {
      "image/png": "[encoded data removed]",
      "text/plain": [
       "<Figure size 432x288 with 1 Axes>"
      ]
     },
     "metadata": {
      "needs_background": "light"
     },
     "output_type": "display_data"
    },
    {
     "name": "stdout",
     "output_type": "stream",
     "text": [
      "===============================\n",
      "Value count \n",
      "\n",
      "Consumer       5191\n",
      "Corporate      3020\n",
      "Home Office    1782\n",
      "Name: Segment, dtype: int64 \n",
      "\n",
      "===============================\n",
      "Missing values: 0\n"
     ]
    }
   ],
   "source": [
    "# Call the \"explore_categorical_var\" function\n",
    "\n",
    "explore_categorical_var(df, \"Segment\")"
   ]
  },
  {
   "cell_type": "markdown",
   "metadata": {},
   "source": [
    "#### Explore Country column of the date"
   ]
  },
  {
   "cell_type": "code",
   "execution_count": 33,
   "metadata": {},
   "outputs": [
    {
     "data": {
      "text/plain": [
       "0    United States\n",
       "1    United States\n",
       "2    United States\n",
       "3    United States\n",
       "4    United States\n",
       "Name: Country, dtype: object"
      ]
     },
     "execution_count": 33,
     "metadata": {},
     "output_type": "execute_result"
    }
   ],
   "source": [
    "# Output the head of \"Country\"\n",
    "\n",
    "df[\"Country\"].head()"
   ]
  },
  {
   "cell_type": "code",
   "execution_count": 34,
   "metadata": {},
   "outputs": [
    {
     "name": "stdout",
     "output_type": "stream",
     "text": [
      "Summary\n",
      "===============================\n",
      "count              9993\n",
      "unique                1\n",
      "top       United States\n",
      "freq               9993\n",
      "Name: Country, dtype: object \n",
      "\n"
     ]
    },
    {
     "data": {
      "image/png": "[encoded data removed]",
      "text/plain": [
       "<Figure size 432x288 with 1 Axes>"
      ]
     },
     "metadata": {
      "needs_background": "light"
     },
     "output_type": "display_data"
    },
    {
     "name": "stdout",
     "output_type": "stream",
     "text": [
      "===============================\n",
      "Value count \n",
      "\n",
      "United States    9993\n",
      "Name: Country, dtype: int64 \n",
      "\n",
      "===============================\n",
      "Missing values: 0\n"
     ]
    }
   ],
   "source": [
    "# Call the \"explore_categorical_var\" function\n",
    "\n",
    "explore_categorical_var(df, \"Country\")"
   ]
  },
  {
   "cell_type": "markdown",
   "metadata": {},
   "source": [
    "#### Explore City column of the data "
   ]
  },
  {
   "cell_type": "code",
   "execution_count": 35,
   "metadata": {},
   "outputs": [
    {
     "data": {
      "text/plain": [
       "0          Henderson\n",
       "1          Henderson\n",
       "2        Los Angeles\n",
       "3    Fort Lauderdale\n",
       "4    Fort Lauderdale\n",
       "Name: City, dtype: object"
      ]
     },
     "execution_count": 35,
     "metadata": {},
     "output_type": "execute_result"
    }
   ],
   "source": [
    "# Output the head of \"City\"\n",
    "\n",
    "df[\"City\"].head()"
   ]
  },
  {
   "cell_type": "code",
   "execution_count": 36,
   "metadata": {},
   "outputs": [
    {
     "name": "stdout",
     "output_type": "stream",
     "text": [
      "Summary\n",
      "===============================\n",
      "count              9993\n",
      "unique              531\n",
      "top       New York City\n",
      "freq                915\n",
      "Name: City, dtype: object \n",
      "\n",
      "===============================\n",
      "Value count \n",
      "\n",
      "New York City      915\n",
      "Los Angeles        747\n",
      "Philadelphia       537\n",
      "San Francisco      510\n",
      "Seattle            428\n",
      "                  ... \n",
      "Glenview             1\n",
      "Missouri City        1\n",
      "Rochester Hills      1\n",
      "Palatine             1\n",
      "Manhattan            1\n",
      "Name: City, Length: 531, dtype: int64 \n",
      "\n",
      "===============================\n",
      "Missing values: 0\n"
     ]
    }
   ],
   "source": [
    "\n",
    "# Call the \"explore_categorical_var\" function\n",
    "\n",
    "explore_categorical_var(df, \"City\")"
   ]
  },
  {
   "cell_type": "markdown",
   "metadata": {},
   "source": [
    "#### Explore the  State column of the data"
   ]
  },
  {
   "cell_type": "code",
   "execution_count": 37,
   "metadata": {},
   "outputs": [
    {
     "data": {
      "text/plain": [
       "0      Kentucky\n",
       "1      Kentucky\n",
       "2    California\n",
       "3       Florida\n",
       "4       Florida\n",
       "Name: State, dtype: object"
      ]
     },
     "execution_count": 37,
     "metadata": {},
     "output_type": "execute_result"
    }
   ],
   "source": [
    "# Output the head of \"State\"\n",
    "\n",
    "df[\"State\"].head()"
   ]
  },
  {
   "cell_type": "code",
   "execution_count": 38,
   "metadata": {},
   "outputs": [
    {
     "name": "stdout",
     "output_type": "stream",
     "text": [
      "Summary\n",
      "===============================\n",
      "count           9993\n",
      "unique            49\n",
      "top       California\n",
      "freq            2001\n",
      "Name: State, dtype: object \n",
      "\n",
      "===============================\n",
      "Value count \n",
      "\n",
      "California              2001\n",
      "New York                1128\n",
      "Texas                    985\n",
      "Pennsylvania             587\n",
      "Washington               506\n",
      "Illinois                 492\n",
      "Ohio                     468\n",
      "Florida                  383\n",
      "Michigan                 255\n",
      "North Carolina           249\n",
      "Arizona                  224\n",
      "Virginia                 224\n",
      "Georgia                  184\n",
      "Tennessee                183\n",
      "Colorado                 182\n",
      "Indiana                  149\n",
      "Kentucky                 139\n",
      "Massachusetts            135\n",
      "New Jersey               130\n",
      "Oregon                   124\n",
      "Wisconsin                110\n",
      "Maryland                 105\n",
      "Delaware                  96\n",
      "Minnesota                 89\n",
      "Connecticut               82\n",
      "Oklahoma                  66\n",
      "Missouri                  66\n",
      "Alabama                   61\n",
      "Arkansas                  60\n",
      "Rhode Island              56\n",
      "Utah                      53\n",
      "Mississippi               53\n",
      "Louisiana                 42\n",
      "South Carolina            42\n",
      "Nevada                    39\n",
      "Nebraska                  38\n",
      "New Mexico                37\n",
      "Iowa                      30\n",
      "New Hampshire             27\n",
      "Kansas                    24\n",
      "Idaho                     21\n",
      "Montana                   15\n",
      "South Dakota              12\n",
      "Vermont                   11\n",
      "District of Columbia      10\n",
      "Maine                      8\n",
      "North Dakota               7\n",
      "West Virginia              4\n",
      "Wyoming                    1\n",
      "Name: State, dtype: int64 \n",
      "\n",
      "===============================\n",
      "Missing values: 0\n"
     ]
    }
   ],
   "source": [
    "# Call the \"explore_categorical_var\" function\n",
    "\n",
    "explore_categorical_var(df, \"State\")"
   ]
  },
  {
   "cell_type": "markdown",
   "metadata": {},
   "source": [
    "#### Explore Region column of the data\n",
    "\n"
   ]
  },
  {
   "cell_type": "code",
   "execution_count": 39,
   "metadata": {},
   "outputs": [
    {
     "data": {
      "text/plain": [
       "0    South\n",
       "1    South\n",
       "2     West\n",
       "3    South\n",
       "4    South\n",
       "Name: Region, dtype: object"
      ]
     },
     "execution_count": 39,
     "metadata": {},
     "output_type": "execute_result"
    }
   ],
   "source": [
    "# Output the head\n",
    "\n",
    "df[\"Region\"].head()"
   ]
  },
  {
   "cell_type": "code",
   "execution_count": 40,
   "metadata": {},
   "outputs": [
    {
     "name": "stdout",
     "output_type": "stream",
     "text": [
      "Summary\n",
      "===============================\n",
      "count     9993\n",
      "unique       4\n",
      "top       West\n",
      "freq      3203\n",
      "Name: Region, dtype: object \n",
      "\n"
     ]
    },
    {
     "data": {
      "image/png": "[encoded data removed]",
      "text/plain": [
       "<Figure size 432x288 with 1 Axes>"
      ]
     },
     "metadata": {
      "needs_background": "light"
     },
     "output_type": "display_data"
    },
    {
     "name": "stdout",
     "output_type": "stream",
     "text": [
      "===============================\n",
      "Value count \n",
      "\n",
      "West       3203\n",
      "East       2847\n",
      "Central    2323\n",
      "South      1620\n",
      "Name: Region, dtype: int64 \n",
      "\n",
      "===============================\n",
      "Missing values: 0\n"
     ]
    }
   ],
   "source": [
    "# Call the \"explore_categorical_var\" function\n",
    "\n",
    "explore_categorical_var(df, \"Region\")"
   ]
  },
  {
   "cell_type": "markdown",
   "metadata": {},
   "source": [
    "#### Explore the Product ID column of the data"
   ]
  },
  {
   "cell_type": "code",
   "execution_count": 41,
   "metadata": {},
   "outputs": [
    {
     "data": {
      "text/plain": [
       "0    FUR-BO-10001798\n",
       "1    FUR-CH-10000454\n",
       "2    OFF-LA-10000240\n",
       "3    FUR-TA-10000577\n",
       "4    OFF-ST-10000760\n",
       "Name: Product ID, dtype: object"
      ]
     },
     "execution_count": 41,
     "metadata": {},
     "output_type": "execute_result"
    }
   ],
   "source": [
    "# Output the head\n",
    "\n",
    "df[\"Product ID\"].head()"
   ]
  },
  {
   "cell_type": "code",
   "execution_count": 42,
   "metadata": {},
   "outputs": [
    {
     "name": "stdout",
     "output_type": "stream",
     "text": [
      "Summary\n",
      "===============================\n",
      "count                9993\n",
      "unique               1862\n",
      "top       OFF-PA-10001970\n",
      "freq                   19\n",
      "Name: Product ID, dtype: object \n",
      "\n",
      "===============================\n",
      "Value count \n",
      "\n",
      "OFF-PA-10001970    19\n",
      "TEC-AC-10003832    18\n",
      "FUR-FU-10004270    16\n",
      "TEC-AC-10002049    15\n",
      "FUR-CH-10001146    15\n",
      "                   ..\n",
      "TEC-PH-10003535     1\n",
      "TEC-MA-10002937     1\n",
      "OFF-AR-10004974     1\n",
      "TEC-AC-10004814     1\n",
      "OFF-ST-10001627     1\n",
      "Name: Product ID, Length: 1862, dtype: int64 \n",
      "\n",
      "===============================\n",
      "Missing values: 0\n"
     ]
    }
   ],
   "source": [
    "# Call the \"explore_categorical_var\" function\n",
    "\n",
    "explore_categorical_var(df, \"Product ID\")"
   ]
  },
  {
   "cell_type": "markdown",
   "metadata": {},
   "source": [
    "#### Explore the Category column of the data"
   ]
  },
  {
   "cell_type": "code",
   "execution_count": 43,
   "metadata": {},
   "outputs": [
    {
     "data": {
      "text/plain": [
       "0          Furniture\n",
       "1          Furniture\n",
       "2    Office Supplies\n",
       "3          Furniture\n",
       "4    Office Supplies\n",
       "Name: Category, dtype: object"
      ]
     },
     "execution_count": 43,
     "metadata": {},
     "output_type": "execute_result"
    }
   ],
   "source": [
    "# Output the head\n",
    "\n",
    "df[\"Category\"].head()"
   ]
  },
  {
   "cell_type": "code",
   "execution_count": 44,
   "metadata": {},
   "outputs": [
    {
     "name": "stdout",
     "output_type": "stream",
     "text": [
      "Summary\n",
      "===============================\n",
      "count                9993\n",
      "unique                  3\n",
      "top       Office Supplies\n",
      "freq                 6026\n",
      "Name: Category, dtype: object \n",
      "\n"
     ]
    },
    {
     "data": {
      "image/png": "[encoded data removed]",
      "text/plain": [
       "<Figure size 432x288 with 1 Axes>"
      ]
     },
     "metadata": {
      "needs_background": "light"
     },
     "output_type": "display_data"
    },
    {
     "name": "stdout",
     "output_type": "stream",
     "text": [
      "===============================\n",
      "Value count \n",
      "\n",
      "Office Supplies    6026\n",
      "Furniture          2120\n",
      "Technology         1847\n",
      "Name: Category, dtype: int64 \n",
      "\n",
      "===============================\n",
      "Missing values: 0\n"
     ]
    }
   ],
   "source": [
    "# Call the \"explore_categorical_var\" function\n",
    "\n",
    "explore_categorical_var(df, \"Category\")"
   ]
  },
  {
   "cell_type": "markdown",
   "metadata": {},
   "source": [
    "#### Explore the Sub-Category column of the data"
   ]
  },
  {
   "cell_type": "code",
   "execution_count": 45,
   "metadata": {},
   "outputs": [
    {
     "data": {
      "text/plain": [
       "0    Bookcases\n",
       "1       Chairs\n",
       "2       Labels\n",
       "3       Tables\n",
       "4      Storage\n",
       "Name: Sub-Category, dtype: object"
      ]
     },
     "execution_count": 45,
     "metadata": {},
     "output_type": "execute_result"
    }
   ],
   "source": [
    "# Output the head\n",
    "\n",
    "df[\"Sub-Category\"].head()"
   ]
  },
  {
   "cell_type": "code",
   "execution_count": 46,
   "metadata": {},
   "outputs": [
    {
     "name": "stdout",
     "output_type": "stream",
     "text": [
      "Summary\n",
      "===============================\n",
      "count        9993\n",
      "unique         17\n",
      "top       Binders\n",
      "freq         1523\n",
      "Name: Sub-Category, dtype: object \n",
      "\n"
     ]
    },
    {
     "data": {
      "image/png": "[encoded data removed]",
      "text/plain": [
       "<Figure size 432x288 with 1 Axes>"
      ]
     },
     "metadata": {
      "needs_background": "light"
     },
     "output_type": "display_data"
    },
    {
     "name": "stdout",
     "output_type": "stream",
     "text": [
      "===============================\n",
      "Value count \n",
      "\n",
      "Binders        1523\n",
      "Paper          1370\n",
      "Furnishings     957\n",
      "Phones          889\n",
      "Storage         846\n",
      "Art             796\n",
      "Accessories     775\n",
      "Chairs          616\n",
      "Appliances      466\n",
      "Labels          364\n",
      "Tables          319\n",
      "Envelopes       254\n",
      "Bookcases       228\n",
      "Fasteners       217\n",
      "Supplies        190\n",
      "Machines        115\n",
      "Copiers          68\n",
      "Name: Sub-Category, dtype: int64 \n",
      "\n",
      "===============================\n",
      "Missing values: 0\n"
     ]
    }
   ],
   "source": [
    "# Call the \"explore_categorical_var\" function\n",
    "\n",
    "explore_categorical_var(df, \"Sub-Category\" )"
   ]
  },
  {
   "cell_type": "markdown",
   "metadata": {},
   "source": [
    "#### Explore the Product Name column of the data"
   ]
  },
  {
   "cell_type": "code",
   "execution_count": 47,
   "metadata": {},
   "outputs": [
    {
     "data": {
      "text/plain": [
       "0                    Bush Somerset Collection Bookcase\n",
       "1    Hon Deluxe Fabric Upholstered Stacking Chairs,...\n",
       "2    Self-Adhesive Address Labels for Typewriters b...\n",
       "3        Bretford CR4500 Series Slim Rectangular Table\n",
       "4                       Eldon Fold 'N Roll Cart System\n",
       "Name: Product Name, dtype: object"
      ]
     },
     "execution_count": 47,
     "metadata": {},
     "output_type": "execute_result"
    }
   ],
   "source": [
    "# Output head\n",
    "\n",
    "df[\"Product Name\"].head()"
   ]
  },
  {
   "cell_type": "code",
   "execution_count": 48,
   "metadata": {},
   "outputs": [
    {
     "name": "stdout",
     "output_type": "stream",
     "text": [
      "Summary\n",
      "===============================\n",
      "count                9993\n",
      "unique               1850\n",
      "top       Staple envelope\n",
      "freq                   48\n",
      "Name: Product Name, dtype: object \n",
      "\n",
      "===============================\n",
      "Value count \n",
      "\n",
      "Staple envelope                                                                        48\n",
      "Staples                                                                                46\n",
      "Easy-staple paper                                                                      46\n",
      "Avery Non-Stick Binders                                                                20\n",
      "Staples in misc. colors                                                                19\n",
      "                                                                                       ..\n",
      "Boston 1900 Electric Pencil Sharpener                                                   1\n",
      "RCA ViSYS 25423RE1 Corded phone                                                         1\n",
      "Canon Color ImageCLASS MF8580Cdw Wireless Laser All-In-One Printer, Copier, Scanner     1\n",
      "Newell 342                                                                              1\n",
      "Eldon Jumbo ProFile Portable File Boxes Graphite/Black                                  1\n",
      "Name: Product Name, Length: 1850, dtype: int64 \n",
      "\n",
      "===============================\n",
      "Missing values: 0\n"
     ]
    }
   ],
   "source": [
    "# Call the \"explore_categorical_var\" function\n",
    "\n",
    "explore_categorical_var(df, \"Product Name\")"
   ]
  },
  {
   "cell_type": "markdown",
   "metadata": {},
   "source": [
    "### Exploring the Numerical Variables"
   ]
  },
  {
   "cell_type": "code",
   "execution_count": 49,
   "metadata": {},
   "outputs": [
    {
     "name": "stdout",
     "output_type": "stream",
     "text": [
      "Sales\n",
      "Quantity\n",
      "Discount\n",
      "Profit\n"
     ]
    }
   ],
   "source": [
    "# Output the columns of the numerical variables\n",
    "\n",
    "for col in numerical_var :\n",
    "    print(col)"
   ]
  },
  {
   "cell_type": "markdown",
   "metadata": {},
   "source": [
    "### Create a function to explore the numerical variables"
   ]
  },
  {
   "cell_type": "code",
   "execution_count": 50,
   "metadata": {},
   "outputs": [],
   "source": [
    "def explor_numerical_var(df, x) :\n",
    "    \n",
    "    \"\"\" To return the numerical and graphical summary of \n",
    "    numerical variables by taking df and x as argument \"\"\"\n",
    "        \n",
    "    print(\"Summary statistics \\n\")\n",
    "    print(df[x].apply([len, min, max, np.mean, np.median, np.std]))\n",
    "    print(\"=================================================\")\n",
    "    print(f\"Missing values: {df[x].isnull().sum()}\")\n",
    "    print(\"==================================================\")\n",
    "    plt.figure(figsize = (8, 4))\n",
    "    #Plot a box plot\n",
    "    meanpointdrop = dict(marker = \"D\", markeredgecolor =\"black\", markerfacecolor =\"firebrick\")\n",
    "    medianprops = dict(linestyle =\"-.\", linewidth = 3, color=\"gold\")\n",
    "    plt.subplot(1,2,1)\n",
    "    plt.boxplot(df[x], vert = True, patch_artist = True, notch = True,\n",
    "            showmeans = True, medianprops = medianprops, meanprops = meanpointdrop)\n",
    "    plt.xlabel(df[x].name)\n",
    "    plt.title(\"Boxplot\")\n",
    "\n",
    "    # plotting a histogram\n",
    "    plt.subplot(1,2,2)\n",
    "    plt.hist(df[x], bins = 10)\n",
    "    plt.title(\"Histogram\")\n",
    "    plt.tight_layout()\n",
    "    plt.show()"
   ]
  },
  {
   "cell_type": "markdown",
   "metadata": {},
   "source": [
    "#### Explore Sales column of the date"
   ]
  },
  {
   "cell_type": "code",
   "execution_count": 51,
   "metadata": {},
   "outputs": [
    {
     "data": {
      "text/plain": [
       "0    261.9600\n",
       "1    731.9400\n",
       "2     14.6200\n",
       "3    957.5775\n",
       "4     22.3680\n",
       "Name: Sales, dtype: float64"
      ]
     },
     "execution_count": 51,
     "metadata": {},
     "output_type": "execute_result"
    }
   ],
   "source": [
    "# Output the head of Sales\n",
    "\n",
    "df[\"Sales\"].head()"
   ]
  },
  {
   "cell_type": "code",
   "execution_count": 52,
   "metadata": {},
   "outputs": [
    {
     "name": "stdout",
     "output_type": "stream",
     "text": [
      "Summary statistics \n",
      "\n",
      "len        9993.000000\n",
      "min           0.444000\n",
      "max       22638.480000\n",
      "mean        229.852846\n",
      "median       54.480000\n",
      "std         623.276074\n",
      "Name: Sales, dtype: float64\n",
      "=================================================\n",
      "Missing values: 0\n",
      "==================================================\n"
     ]
    },
    {
     "data": {
      "image/png": "[encoded data removed]",
      "text/plain": [
       "<Figure size 576x288 with 2 Axes>"
      ]
     },
     "metadata": {
      "needs_background": "light"
     },
     "output_type": "display_data"
    }
   ],
   "source": [
    "# Call explor_numerical_var function\n",
    "\n",
    "explor_numerical_var(df, \"Sales\")"
   ]
  },
  {
   "cell_type": "code",
   "execution_count": null,
   "metadata": {},
   "outputs": [],
   "source": []
  },
  {
   "cell_type": "markdown",
   "metadata": {},
   "source": [
    "##### Further insight of the Sales column"
   ]
  },
  {
   "cell_type": "code",
   "execution_count": 53,
   "metadata": {},
   "outputs": [
    {
     "data": {
      "text/html": [
       "<div>\n",
       "<style scoped>\n",
       "    .dataframe tbody tr th:only-of-type {\n",
       "        vertical-align: middle;\n",
       "    }\n",
       "\n",
       "    .dataframe tbody tr th {\n",
       "        vertical-align: top;\n",
       "    }\n",
       "\n",
       "    .dataframe thead th {\n",
       "        text-align: right;\n",
       "    }\n",
       "</style>\n",
       "<table border=\"1\" class=\"dataframe\">\n",
       "  <thead>\n",
       "    <tr style=\"text-align: right;\">\n",
       "      <th></th>\n",
       "      <th>Order ID</th>\n",
       "      <th>Order Date</th>\n",
       "      <th>Ship Date</th>\n",
       "      <th>Ship Mode</th>\n",
       "      <th>Customer ID</th>\n",
       "      <th>Customer Name</th>\n",
       "      <th>Segment</th>\n",
       "      <th>Country</th>\n",
       "      <th>City</th>\n",
       "      <th>State</th>\n",
       "      <th>Postal Code</th>\n",
       "      <th>Region</th>\n",
       "      <th>Product ID</th>\n",
       "      <th>Category</th>\n",
       "      <th>Sub-Category</th>\n",
       "      <th>Product Name</th>\n",
       "      <th>Sales</th>\n",
       "      <th>Quantity</th>\n",
       "      <th>Discount</th>\n",
       "      <th>Profit</th>\n",
       "    </tr>\n",
       "  </thead>\n",
       "  <tbody>\n",
       "    <tr>\n",
       "      <th>2697</th>\n",
       "      <td>CA-2014-145317</td>\n",
       "      <td>2014-03-18</td>\n",
       "      <td>2014-03-23</td>\n",
       "      <td>Standard Class</td>\n",
       "      <td>SM-20320</td>\n",
       "      <td>Sean Miller</td>\n",
       "      <td>Home Office</td>\n",
       "      <td>United States</td>\n",
       "      <td>Jacksonville</td>\n",
       "      <td>Florida</td>\n",
       "      <td>32216</td>\n",
       "      <td>South</td>\n",
       "      <td>TEC-MA-10002412</td>\n",
       "      <td>Technology</td>\n",
       "      <td>Machines</td>\n",
       "      <td>Cisco TelePresence System EX90 Videoconferenci...</td>\n",
       "      <td>22638.48</td>\n",
       "      <td>6</td>\n",
       "      <td>0.5</td>\n",
       "      <td>-1811.0784</td>\n",
       "    </tr>\n",
       "  </tbody>\n",
       "</table>\n",
       "</div>"
      ],
      "text/plain": [
       "            Order ID Order Date  Ship Date       Ship Mode Customer ID  \\\n",
       "2697  CA-2014-145317 2014-03-18 2014-03-23  Standard Class    SM-20320   \n",
       "\n",
       "     Customer Name      Segment        Country          City    State  \\\n",
       "2697   Sean Miller  Home Office  United States  Jacksonville  Florida   \n",
       "\n",
       "     Postal Code Region       Product ID    Category Sub-Category  \\\n",
       "2697       32216  South  TEC-MA-10002412  Technology     Machines   \n",
       "\n",
       "                                           Product Name     Sales  Quantity  \\\n",
       "2697  Cisco TelePresence System EX90 Videoconferenci...  22638.48         6   \n",
       "\n",
       "      Discount     Profit  \n",
       "2697       0.5 -1811.0784  "
      ]
     },
     "execution_count": 53,
     "metadata": {},
     "output_type": "execute_result"
    }
   ],
   "source": [
    "# Output the maximum sales row\n",
    "\n",
    "max_sale =np.where(df[\"Sales\"]== df[\"Sales\"].max())\n",
    "df.iloc[max_sale]"
   ]
  },
  {
   "cell_type": "code",
   "execution_count": 54,
   "metadata": {},
   "outputs": [
    {
     "data": {
      "text/html": [
       "<div>\n",
       "<style scoped>\n",
       "    .dataframe tbody tr th:only-of-type {\n",
       "        vertical-align: middle;\n",
       "    }\n",
       "\n",
       "    .dataframe tbody tr th {\n",
       "        vertical-align: top;\n",
       "    }\n",
       "\n",
       "    .dataframe thead th {\n",
       "        text-align: right;\n",
       "    }\n",
       "</style>\n",
       "<table border=\"1\" class=\"dataframe\">\n",
       "  <thead>\n",
       "    <tr style=\"text-align: right;\">\n",
       "      <th></th>\n",
       "      <th>Order ID</th>\n",
       "      <th>Order Date</th>\n",
       "      <th>Ship Date</th>\n",
       "      <th>Ship Mode</th>\n",
       "      <th>Customer ID</th>\n",
       "      <th>Customer Name</th>\n",
       "      <th>Segment</th>\n",
       "      <th>Country</th>\n",
       "      <th>City</th>\n",
       "      <th>State</th>\n",
       "      <th>Postal Code</th>\n",
       "      <th>Region</th>\n",
       "      <th>Product ID</th>\n",
       "      <th>Category</th>\n",
       "      <th>Sub-Category</th>\n",
       "      <th>Product Name</th>\n",
       "      <th>Sales</th>\n",
       "      <th>Quantity</th>\n",
       "      <th>Discount</th>\n",
       "      <th>Profit</th>\n",
       "    </tr>\n",
       "  </thead>\n",
       "  <tbody>\n",
       "    <tr>\n",
       "      <th>4101</th>\n",
       "      <td>US-2017-102288</td>\n",
       "      <td>2017-06-19</td>\n",
       "      <td>2017-06-23</td>\n",
       "      <td>Standard Class</td>\n",
       "      <td>ZC-21910</td>\n",
       "      <td>Zuschuss Carroll</td>\n",
       "      <td>Consumer</td>\n",
       "      <td>United States</td>\n",
       "      <td>Houston</td>\n",
       "      <td>Texas</td>\n",
       "      <td>77095</td>\n",
       "      <td>Central</td>\n",
       "      <td>OFF-AP-10002906</td>\n",
       "      <td>Office Supplies</td>\n",
       "      <td>Appliances</td>\n",
       "      <td>Hoover Replacement Belt for Commercial Guardsm...</td>\n",
       "      <td>0.444</td>\n",
       "      <td>1</td>\n",
       "      <td>0.8</td>\n",
       "      <td>-1.11</td>\n",
       "    </tr>\n",
       "  </tbody>\n",
       "</table>\n",
       "</div>"
      ],
      "text/plain": [
       "            Order ID Order Date  Ship Date       Ship Mode Customer ID  \\\n",
       "4101  US-2017-102288 2017-06-19 2017-06-23  Standard Class    ZC-21910   \n",
       "\n",
       "         Customer Name   Segment        Country     City  State Postal Code  \\\n",
       "4101  Zuschuss Carroll  Consumer  United States  Houston  Texas       77095   \n",
       "\n",
       "       Region       Product ID         Category Sub-Category  \\\n",
       "4101  Central  OFF-AP-10002906  Office Supplies   Appliances   \n",
       "\n",
       "                                           Product Name  Sales  Quantity  \\\n",
       "4101  Hoover Replacement Belt for Commercial Guardsm...  0.444         1   \n",
       "\n",
       "      Discount  Profit  \n",
       "4101       0.8   -1.11  "
      ]
     },
     "execution_count": 54,
     "metadata": {},
     "output_type": "execute_result"
    }
   ],
   "source": [
    "# Output the minimum sales row\n",
    "\n",
    "min_sale =np.where(df['Sales']== df['Sales'].min())\n",
    "df.iloc[min_sale]"
   ]
  },
  {
   "cell_type": "markdown",
   "metadata": {},
   "source": [
    "The maximum sales is justified by the product(Cisco TelePresence System EX90 Videoconferenci) that was bought. A discount of 50% was given.\n",
    "The minimum sales is also justified. A high discount of 80% was given but only one item was bought."
   ]
  },
  {
   "cell_type": "markdown",
   "metadata": {},
   "source": [
    "#### Explore Quantity column of the date"
   ]
  },
  {
   "cell_type": "code",
   "execution_count": 55,
   "metadata": {},
   "outputs": [
    {
     "data": {
      "text/plain": [
       "0    2\n",
       "1    3\n",
       "2    2\n",
       "3    5\n",
       "4    2\n",
       "Name: Quantity, dtype: int64"
      ]
     },
     "execution_count": 55,
     "metadata": {},
     "output_type": "execute_result"
    }
   ],
   "source": [
    "# Output head\n",
    "\n",
    "df[\"Quantity\"].head()"
   ]
  },
  {
   "cell_type": "code",
   "execution_count": 56,
   "metadata": {
    "scrolled": false
   },
   "outputs": [
    {
     "name": "stdout",
     "output_type": "stream",
     "text": [
      "Summary statistics \n",
      "\n",
      "len       9993.000000\n",
      "min          1.000000\n",
      "max         14.000000\n",
      "mean         3.789753\n",
      "median       3.000000\n",
      "std          2.225149\n",
      "Name: Quantity, dtype: float64\n",
      "=================================================\n",
      "Missing values: 0\n",
      "==================================================\n"
     ]
    },
    {
     "data": {
      "image/png": "[encoded data removed]",
      "text/plain": [
       "<Figure size 576x288 with 2 Axes>"
      ]
     },
     "metadata": {
      "needs_background": "light"
     },
     "output_type": "display_data"
    }
   ],
   "source": [
    "# Call explor_numerical_var function\n",
    "\n",
    "explor_numerical_var(df, \"Quantity\")"
   ]
  },
  {
   "cell_type": "markdown",
   "metadata": {},
   "source": [
    "#### Explore Profit column of the date"
   ]
  },
  {
   "cell_type": "code",
   "execution_count": 57,
   "metadata": {},
   "outputs": [
    {
     "data": {
      "text/plain": [
       "0     41.9136\n",
       "1    219.5820\n",
       "2      6.8714\n",
       "3   -383.0310\n",
       "4      2.5164\n",
       "Name: Profit, dtype: float64"
      ]
     },
     "execution_count": 57,
     "metadata": {},
     "output_type": "execute_result"
    }
   ],
   "source": [
    "# Output the head\n",
    "\n",
    "df[\"Profit\"].head()"
   ]
  },
  {
   "cell_type": "code",
   "execution_count": 58,
   "metadata": {},
   "outputs": [
    {
     "name": "stdout",
     "output_type": "stream",
     "text": [
      "Summary statistics \n",
      "\n",
      "len       9993.000000\n",
      "min      -6599.978000\n",
      "max       8399.976000\n",
      "mean        28.660971\n",
      "median       8.671000\n",
      "std        234.271476\n",
      "Name: Profit, dtype: float64\n",
      "=================================================\n",
      "Missing values: 0\n",
      "==================================================\n"
     ]
    },
    {
     "data": {
      "image/png": "[encoded data removed]",
      "text/plain": [
       "<Figure size 576x288 with 2 Axes>"
      ]
     },
     "metadata": {
      "needs_background": "light"
     },
     "output_type": "display_data"
    }
   ],
   "source": [
    "# Call explor_numerical_var function\n",
    "\n",
    "explor_numerical_var(df, \"Profit\")"
   ]
  },
  {
   "cell_type": "markdown",
   "metadata": {},
   "source": [
    "##### Further insight of the Profit column"
   ]
  },
  {
   "cell_type": "code",
   "execution_count": 59,
   "metadata": {},
   "outputs": [
    {
     "data": {
      "text/html": [
       "<div>\n",
       "<style scoped>\n",
       "    .dataframe tbody tr th:only-of-type {\n",
       "        vertical-align: middle;\n",
       "    }\n",
       "\n",
       "    .dataframe tbody tr th {\n",
       "        vertical-align: top;\n",
       "    }\n",
       "\n",
       "    .dataframe thead th {\n",
       "        text-align: right;\n",
       "    }\n",
       "</style>\n",
       "<table border=\"1\" class=\"dataframe\">\n",
       "  <thead>\n",
       "    <tr style=\"text-align: right;\">\n",
       "      <th></th>\n",
       "      <th>Order ID</th>\n",
       "      <th>Order Date</th>\n",
       "      <th>Ship Date</th>\n",
       "      <th>Ship Mode</th>\n",
       "      <th>Customer ID</th>\n",
       "      <th>Customer Name</th>\n",
       "      <th>Segment</th>\n",
       "      <th>Country</th>\n",
       "      <th>City</th>\n",
       "      <th>State</th>\n",
       "      <th>Postal Code</th>\n",
       "      <th>Region</th>\n",
       "      <th>Product ID</th>\n",
       "      <th>Category</th>\n",
       "      <th>Sub-Category</th>\n",
       "      <th>Product Name</th>\n",
       "      <th>Sales</th>\n",
       "      <th>Quantity</th>\n",
       "      <th>Discount</th>\n",
       "      <th>Profit</th>\n",
       "    </tr>\n",
       "  </thead>\n",
       "  <tbody>\n",
       "    <tr>\n",
       "      <th>6826</th>\n",
       "      <td>CA-2016-118689</td>\n",
       "      <td>2016-10-02</td>\n",
       "      <td>2016-10-09</td>\n",
       "      <td>Standard Class</td>\n",
       "      <td>TC-20980</td>\n",
       "      <td>Tamara Chand</td>\n",
       "      <td>Corporate</td>\n",
       "      <td>United States</td>\n",
       "      <td>Lafayette</td>\n",
       "      <td>Indiana</td>\n",
       "      <td>47905</td>\n",
       "      <td>Central</td>\n",
       "      <td>TEC-CO-10004722</td>\n",
       "      <td>Technology</td>\n",
       "      <td>Copiers</td>\n",
       "      <td>Canon imageCLASS 2200 Advanced Copier</td>\n",
       "      <td>17499.95</td>\n",
       "      <td>5</td>\n",
       "      <td>0.0</td>\n",
       "      <td>8399.976</td>\n",
       "    </tr>\n",
       "  </tbody>\n",
       "</table>\n",
       "</div>"
      ],
      "text/plain": [
       "            Order ID Order Date  Ship Date       Ship Mode Customer ID  \\\n",
       "6826  CA-2016-118689 2016-10-02 2016-10-09  Standard Class    TC-20980   \n",
       "\n",
       "     Customer Name    Segment        Country       City    State Postal Code  \\\n",
       "6826  Tamara Chand  Corporate  United States  Lafayette  Indiana       47905   \n",
       "\n",
       "       Region       Product ID    Category Sub-Category  \\\n",
       "6826  Central  TEC-CO-10004722  Technology      Copiers   \n",
       "\n",
       "                               Product Name     Sales  Quantity  Discount  \\\n",
       "6826  Canon imageCLASS 2200 Advanced Copier  17499.95         5       0.0   \n",
       "\n",
       "        Profit  \n",
       "6826  8399.976  "
      ]
     },
     "execution_count": 59,
     "metadata": {},
     "output_type": "execute_result"
    }
   ],
   "source": [
    "# Output the maximum profit row\n",
    "\n",
    "max_profit = np.where(df['Profit'] == df['Profit'].max())\n",
    "df.iloc[max_profit]"
   ]
  },
  {
   "cell_type": "code",
   "execution_count": 60,
   "metadata": {},
   "outputs": [
    {
     "data": {
      "text/html": [
       "<div>\n",
       "<style scoped>\n",
       "    .dataframe tbody tr th:only-of-type {\n",
       "        vertical-align: middle;\n",
       "    }\n",
       "\n",
       "    .dataframe tbody tr th {\n",
       "        vertical-align: top;\n",
       "    }\n",
       "\n",
       "    .dataframe thead th {\n",
       "        text-align: right;\n",
       "    }\n",
       "</style>\n",
       "<table border=\"1\" class=\"dataframe\">\n",
       "  <thead>\n",
       "    <tr style=\"text-align: right;\">\n",
       "      <th></th>\n",
       "      <th>Order ID</th>\n",
       "      <th>Order Date</th>\n",
       "      <th>Ship Date</th>\n",
       "      <th>Ship Mode</th>\n",
       "      <th>Customer ID</th>\n",
       "      <th>Customer Name</th>\n",
       "      <th>Segment</th>\n",
       "      <th>Country</th>\n",
       "      <th>City</th>\n",
       "      <th>State</th>\n",
       "      <th>Postal Code</th>\n",
       "      <th>Region</th>\n",
       "      <th>Product ID</th>\n",
       "      <th>Category</th>\n",
       "      <th>Sub-Category</th>\n",
       "      <th>Product Name</th>\n",
       "      <th>Sales</th>\n",
       "      <th>Quantity</th>\n",
       "      <th>Discount</th>\n",
       "      <th>Profit</th>\n",
       "    </tr>\n",
       "  </thead>\n",
       "  <tbody>\n",
       "    <tr>\n",
       "      <th>7772</th>\n",
       "      <td>CA-2016-108196</td>\n",
       "      <td>2016-11-25</td>\n",
       "      <td>2016-12-02</td>\n",
       "      <td>Standard Class</td>\n",
       "      <td>CS-12505</td>\n",
       "      <td>Cindy Stewart</td>\n",
       "      <td>Consumer</td>\n",
       "      <td>United States</td>\n",
       "      <td>Lancaster</td>\n",
       "      <td>Ohio</td>\n",
       "      <td>43130</td>\n",
       "      <td>East</td>\n",
       "      <td>TEC-MA-10000418</td>\n",
       "      <td>Technology</td>\n",
       "      <td>Machines</td>\n",
       "      <td>Cubify CubeX 3D Printer Double Head Print</td>\n",
       "      <td>4499.985</td>\n",
       "      <td>5</td>\n",
       "      <td>0.7</td>\n",
       "      <td>-6599.978</td>\n",
       "    </tr>\n",
       "  </tbody>\n",
       "</table>\n",
       "</div>"
      ],
      "text/plain": [
       "            Order ID Order Date  Ship Date       Ship Mode Customer ID  \\\n",
       "7772  CA-2016-108196 2016-11-25 2016-12-02  Standard Class    CS-12505   \n",
       "\n",
       "      Customer Name   Segment        Country       City State Postal Code  \\\n",
       "7772  Cindy Stewart  Consumer  United States  Lancaster  Ohio       43130   \n",
       "\n",
       "     Region       Product ID    Category Sub-Category  \\\n",
       "7772   East  TEC-MA-10000418  Technology     Machines   \n",
       "\n",
       "                                   Product Name     Sales  Quantity  Discount  \\\n",
       "7772  Cubify CubeX 3D Printer Double Head Print  4499.985         5       0.7   \n",
       "\n",
       "        Profit  \n",
       "7772 -6599.978  "
      ]
     },
     "execution_count": 60,
     "metadata": {},
     "output_type": "execute_result"
    }
   ],
   "source": [
    "# Output the minimum profit row\n",
    "\n",
    "min_profit =np.where(df['Profit']== df['Profit'].min())\n",
    "df.iloc[min_profit]"
   ]
  },
  {
   "cell_type": "markdown",
   "metadata": {},
   "source": [
    "#### Explore Discount column of the data"
   ]
  },
  {
   "cell_type": "code",
   "execution_count": 61,
   "metadata": {},
   "outputs": [
    {
     "data": {
      "text/plain": [
       "0    0.00\n",
       "1    0.00\n",
       "2    0.00\n",
       "3    0.45\n",
       "4    0.20\n",
       "Name: Discount, dtype: float64"
      ]
     },
     "execution_count": 61,
     "metadata": {},
     "output_type": "execute_result"
    }
   ],
   "source": [
    "# Output the head\n",
    "\n",
    "df[\"Discount\"].head()"
   ]
  },
  {
   "cell_type": "code",
   "execution_count": 62,
   "metadata": {},
   "outputs": [
    {
     "name": "stdout",
     "output_type": "stream",
     "text": [
      "Summary statistics \n",
      "\n",
      "len       9993.000000\n",
      "min          0.000000\n",
      "max          0.800000\n",
      "mean         0.156188\n",
      "median       0.200000\n",
      "std          0.206457\n",
      "Name: Discount, dtype: float64\n",
      "=================================================\n",
      "Missing values: 0\n",
      "==================================================\n"
     ]
    },
    {
     "data": {
      "image/png": "[encoded data removed]",
      "text/plain": [
       "<Figure size 576x288 with 2 Axes>"
      ]
     },
     "metadata": {
      "needs_background": "light"
     },
     "output_type": "display_data"
    }
   ],
   "source": [
    "# Call explore_numerical_var function\n",
    "\n",
    "explor_numerical_var(df, \"Discount\")"
   ]
  },
  {
   "cell_type": "markdown",
   "metadata": {},
   "source": [
    "#### Feature Engineering (Adding additional columns to the dataset)"
   ]
  },
  {
   "cell_type": "code",
   "execution_count": 63,
   "metadata": {},
   "outputs": [],
   "source": [
    "# Computing Original sales prices for each column and storing it as a column\n",
    "\n",
    "df[\"Original Sales\"] = round(df[\"Sales\"]/(1 - df[\"Discount\"]), 2)"
   ]
  },
  {
   "cell_type": "code",
   "execution_count": 64,
   "metadata": {},
   "outputs": [],
   "source": [
    "# Compute the Unit Price as a column\n",
    "\n",
    "df[\"Unit Price\"]= round(df[\"Original Sales\"]/df[\"Quantity\"], 2)"
   ]
  },
  {
   "cell_type": "markdown",
   "metadata": {},
   "source": [
    "### Time-based cohort analysis "
   ]
  },
  {
   "cell_type": "markdown",
   "metadata": {},
   "source": [
    "This phase involves calculating and visualizing the retention rate for each cohort."
   ]
  },
  {
   "cell_type": "markdown",
   "metadata": {},
   "source": [
    "#### Analysis of Cohort for the year 2017"
   ]
  },
  {
   "cell_type": "code",
   "execution_count": 65,
   "metadata": {},
   "outputs": [],
   "source": [
    "# Extract 2017 from the Sales Dataset\n",
    "\n",
    "df[\"Year\"] = pd.DatetimeIndex(df[\"Order Date\"]).year\n",
    "\n",
    "data_2017 = np.where(df[\"Year\"] == 2017)\n",
    "\n",
    "data = df.iloc[data_2017]"
   ]
  },
  {
   "cell_type": "markdown",
   "metadata": {},
   "source": [
    "#### Create InvoiceDay and CohortDay columns"
   ]
  },
  {
   "cell_type": "code",
   "execution_count": 66,
   "metadata": {},
   "outputs": [
    {
     "name": "stdout",
     "output_type": "stream",
     "text": [
      "The year 2017 has 3312 rows of data.\n"
     ]
    }
   ],
   "source": [
    "print(f\"The year 2017 has {data.shape[0]} rows of data.\")"
   ]
  },
  {
   "cell_type": "code",
   "execution_count": 67,
   "metadata": {},
   "outputs": [],
   "source": [
    "# Create a function name get_day to trancate the day\n",
    "\n",
    "def get_day(x):\n",
    "    \"\"\"To convert a datetype column into day\"\"\"\n",
    "    \n",
    "    return dt.datetime(x.year, x.month, x.day)"
   ]
  },
  {
   "cell_type": "code",
   "execution_count": 68,
   "metadata": {},
   "outputs": [
    {
     "data": {
      "text/html": [
       "<div>\n",
       "<style scoped>\n",
       "    .dataframe tbody tr th:only-of-type {\n",
       "        vertical-align: middle;\n",
       "    }\n",
       "\n",
       "    .dataframe tbody tr th {\n",
       "        vertical-align: top;\n",
       "    }\n",
       "\n",
       "    .dataframe thead th {\n",
       "        text-align: right;\n",
       "    }\n",
       "</style>\n",
       "<table border=\"1\" class=\"dataframe\">\n",
       "  <thead>\n",
       "    <tr style=\"text-align: right;\">\n",
       "      <th></th>\n",
       "      <th>Order ID</th>\n",
       "      <th>Order Date</th>\n",
       "      <th>Ship Date</th>\n",
       "      <th>Ship Mode</th>\n",
       "      <th>Customer ID</th>\n",
       "      <th>Customer Name</th>\n",
       "      <th>Segment</th>\n",
       "      <th>Country</th>\n",
       "      <th>City</th>\n",
       "      <th>State</th>\n",
       "      <th>...</th>\n",
       "      <th>Sub-Category</th>\n",
       "      <th>Product Name</th>\n",
       "      <th>Sales</th>\n",
       "      <th>Quantity</th>\n",
       "      <th>Discount</th>\n",
       "      <th>Profit</th>\n",
       "      <th>Original Sales</th>\n",
       "      <th>Unit Price</th>\n",
       "      <th>Year</th>\n",
       "      <th>InvoiceDay</th>\n",
       "    </tr>\n",
       "  </thead>\n",
       "  <tbody>\n",
       "    <tr>\n",
       "      <th>12</th>\n",
       "      <td>CA-2017-114412</td>\n",
       "      <td>2017-04-15</td>\n",
       "      <td>2017-04-20</td>\n",
       "      <td>Standard Class</td>\n",
       "      <td>AA-10480</td>\n",
       "      <td>Andrew Allen</td>\n",
       "      <td>Consumer</td>\n",
       "      <td>United States</td>\n",
       "      <td>Concord</td>\n",
       "      <td>North Carolina</td>\n",
       "      <td>...</td>\n",
       "      <td>Paper</td>\n",
       "      <td>Xerox 1967</td>\n",
       "      <td>15.552</td>\n",
       "      <td>3</td>\n",
       "      <td>0.2</td>\n",
       "      <td>5.4432</td>\n",
       "      <td>19.44</td>\n",
       "      <td>6.48</td>\n",
       "      <td>2017</td>\n",
       "      <td>2017-04-15</td>\n",
       "    </tr>\n",
       "    <tr>\n",
       "      <th>23</th>\n",
       "      <td>US-2017-156909</td>\n",
       "      <td>2017-07-16</td>\n",
       "      <td>2017-07-18</td>\n",
       "      <td>Second Class</td>\n",
       "      <td>SF-20065</td>\n",
       "      <td>Sandra Flanagan</td>\n",
       "      <td>Consumer</td>\n",
       "      <td>United States</td>\n",
       "      <td>Philadelphia</td>\n",
       "      <td>Pennsylvania</td>\n",
       "      <td>...</td>\n",
       "      <td>Chairs</td>\n",
       "      <td>Global Deluxe Stacking Chair, Gray</td>\n",
       "      <td>71.372</td>\n",
       "      <td>2</td>\n",
       "      <td>0.3</td>\n",
       "      <td>-1.0196</td>\n",
       "      <td>101.96</td>\n",
       "      <td>50.98</td>\n",
       "      <td>2017</td>\n",
       "      <td>2017-07-16</td>\n",
       "    </tr>\n",
       "    <tr>\n",
       "      <th>34</th>\n",
       "      <td>CA-2017-107727</td>\n",
       "      <td>2017-10-19</td>\n",
       "      <td>2017-10-23</td>\n",
       "      <td>Second Class</td>\n",
       "      <td>MA-17560</td>\n",
       "      <td>Matt Abelman</td>\n",
       "      <td>Home Office</td>\n",
       "      <td>United States</td>\n",
       "      <td>Houston</td>\n",
       "      <td>Texas</td>\n",
       "      <td>...</td>\n",
       "      <td>Paper</td>\n",
       "      <td>Easy-staple paper</td>\n",
       "      <td>29.472</td>\n",
       "      <td>3</td>\n",
       "      <td>0.2</td>\n",
       "      <td>9.9468</td>\n",
       "      <td>36.84</td>\n",
       "      <td>12.28</td>\n",
       "      <td>2017</td>\n",
       "      <td>2017-10-19</td>\n",
       "    </tr>\n",
       "    <tr>\n",
       "      <th>41</th>\n",
       "      <td>CA-2017-120999</td>\n",
       "      <td>2017-09-10</td>\n",
       "      <td>2017-09-15</td>\n",
       "      <td>Standard Class</td>\n",
       "      <td>LC-16930</td>\n",
       "      <td>Linda Cazamias</td>\n",
       "      <td>Corporate</td>\n",
       "      <td>United States</td>\n",
       "      <td>Naperville</td>\n",
       "      <td>Illinois</td>\n",
       "      <td>...</td>\n",
       "      <td>Phones</td>\n",
       "      <td>Panasonic Kx-TS550</td>\n",
       "      <td>147.168</td>\n",
       "      <td>4</td>\n",
       "      <td>0.2</td>\n",
       "      <td>16.5564</td>\n",
       "      <td>183.96</td>\n",
       "      <td>45.99</td>\n",
       "      <td>2017</td>\n",
       "      <td>2017-09-10</td>\n",
       "    </tr>\n",
       "    <tr>\n",
       "      <th>43</th>\n",
       "      <td>CA-2017-139619</td>\n",
       "      <td>2017-09-19</td>\n",
       "      <td>2017-09-23</td>\n",
       "      <td>Standard Class</td>\n",
       "      <td>ES-14080</td>\n",
       "      <td>Erin Smith</td>\n",
       "      <td>Corporate</td>\n",
       "      <td>United States</td>\n",
       "      <td>Melbourne</td>\n",
       "      <td>Florida</td>\n",
       "      <td>...</td>\n",
       "      <td>Storage</td>\n",
       "      <td>Advantus 10-Drawer Portable Organizer, Chrome ...</td>\n",
       "      <td>95.616</td>\n",
       "      <td>2</td>\n",
       "      <td>0.2</td>\n",
       "      <td>9.5616</td>\n",
       "      <td>119.52</td>\n",
       "      <td>59.76</td>\n",
       "      <td>2017</td>\n",
       "      <td>2017-09-19</td>\n",
       "    </tr>\n",
       "  </tbody>\n",
       "</table>\n",
       "<p>5 rows × 24 columns</p>\n",
       "</div>"
      ],
      "text/plain": [
       "          Order ID Order Date  Ship Date       Ship Mode Customer ID  \\\n",
       "12  CA-2017-114412 2017-04-15 2017-04-20  Standard Class    AA-10480   \n",
       "23  US-2017-156909 2017-07-16 2017-07-18    Second Class    SF-20065   \n",
       "34  CA-2017-107727 2017-10-19 2017-10-23    Second Class    MA-17560   \n",
       "41  CA-2017-120999 2017-09-10 2017-09-15  Standard Class    LC-16930   \n",
       "43  CA-2017-139619 2017-09-19 2017-09-23  Standard Class    ES-14080   \n",
       "\n",
       "      Customer Name      Segment        Country          City           State  \\\n",
       "12     Andrew Allen     Consumer  United States       Concord  North Carolina   \n",
       "23  Sandra Flanagan     Consumer  United States  Philadelphia    Pennsylvania   \n",
       "34     Matt Abelman  Home Office  United States       Houston           Texas   \n",
       "41   Linda Cazamias    Corporate  United States    Naperville        Illinois   \n",
       "43       Erin Smith    Corporate  United States     Melbourne         Florida   \n",
       "\n",
       "    ... Sub-Category                                       Product Name  \\\n",
       "12  ...        Paper                                         Xerox 1967   \n",
       "23  ...       Chairs                 Global Deluxe Stacking Chair, Gray   \n",
       "34  ...        Paper                                  Easy-staple paper   \n",
       "41  ...       Phones                                 Panasonic Kx-TS550   \n",
       "43  ...      Storage  Advantus 10-Drawer Portable Organizer, Chrome ...   \n",
       "\n",
       "      Sales Quantity Discount   Profit  Original Sales  Unit Price  Year  \\\n",
       "12   15.552        3      0.2   5.4432           19.44        6.48  2017   \n",
       "23   71.372        2      0.3  -1.0196          101.96       50.98  2017   \n",
       "34   29.472        3      0.2   9.9468           36.84       12.28  2017   \n",
       "41  147.168        4      0.2  16.5564          183.96       45.99  2017   \n",
       "43   95.616        2      0.2   9.5616          119.52       59.76  2017   \n",
       "\n",
       "    InvoiceDay  \n",
       "12  2017-04-15  \n",
       "23  2017-07-16  \n",
       "34  2017-10-19  \n",
       "41  2017-09-10  \n",
       "43  2017-09-19  \n",
       "\n",
       "[5 rows x 24 columns]"
      ]
     },
     "execution_count": 68,
     "metadata": {},
     "output_type": "execute_result"
    }
   ],
   "source": [
    "# Create InvoiceDay column\n",
    "\n",
    "data[\"InvoiceDay\"] = data[\"Order Date\"].apply(get_day) \n",
    "data.head()"
   ]
  },
  {
   "cell_type": "code",
   "execution_count": 69,
   "metadata": {},
   "outputs": [],
   "source": [
    "# Group by CustomerID and select the InvoiceDay value\n",
    "\n",
    "grouping = data.groupby(\"Customer ID\")[\"InvoiceDay\"] "
   ]
  },
  {
   "cell_type": "code",
   "execution_count": 70,
   "metadata": {},
   "outputs": [
    {
     "data": {
      "text/html": [
       "<div>\n",
       "<style scoped>\n",
       "    .dataframe tbody tr th:only-of-type {\n",
       "        vertical-align: middle;\n",
       "    }\n",
       "\n",
       "    .dataframe tbody tr th {\n",
       "        vertical-align: top;\n",
       "    }\n",
       "\n",
       "    .dataframe thead th {\n",
       "        text-align: right;\n",
       "    }\n",
       "</style>\n",
       "<table border=\"1\" class=\"dataframe\">\n",
       "  <thead>\n",
       "    <tr style=\"text-align: right;\">\n",
       "      <th></th>\n",
       "      <th>Order ID</th>\n",
       "      <th>Order Date</th>\n",
       "      <th>Ship Date</th>\n",
       "      <th>Ship Mode</th>\n",
       "      <th>Customer ID</th>\n",
       "      <th>Customer Name</th>\n",
       "      <th>Segment</th>\n",
       "      <th>Country</th>\n",
       "      <th>City</th>\n",
       "      <th>State</th>\n",
       "      <th>...</th>\n",
       "      <th>Product Name</th>\n",
       "      <th>Sales</th>\n",
       "      <th>Quantity</th>\n",
       "      <th>Discount</th>\n",
       "      <th>Profit</th>\n",
       "      <th>Original Sales</th>\n",
       "      <th>Unit Price</th>\n",
       "      <th>Year</th>\n",
       "      <th>InvoiceDay</th>\n",
       "      <th>CohortDay</th>\n",
       "    </tr>\n",
       "  </thead>\n",
       "  <tbody>\n",
       "    <tr>\n",
       "      <th>12</th>\n",
       "      <td>CA-2017-114412</td>\n",
       "      <td>2017-04-15</td>\n",
       "      <td>2017-04-20</td>\n",
       "      <td>Standard Class</td>\n",
       "      <td>AA-10480</td>\n",
       "      <td>Andrew Allen</td>\n",
       "      <td>Consumer</td>\n",
       "      <td>United States</td>\n",
       "      <td>Concord</td>\n",
       "      <td>North Carolina</td>\n",
       "      <td>...</td>\n",
       "      <td>Xerox 1967</td>\n",
       "      <td>15.552</td>\n",
       "      <td>3</td>\n",
       "      <td>0.2</td>\n",
       "      <td>5.4432</td>\n",
       "      <td>19.44</td>\n",
       "      <td>6.48</td>\n",
       "      <td>2017</td>\n",
       "      <td>2017-04-15</td>\n",
       "      <td>2017-04-15</td>\n",
       "    </tr>\n",
       "    <tr>\n",
       "      <th>23</th>\n",
       "      <td>US-2017-156909</td>\n",
       "      <td>2017-07-16</td>\n",
       "      <td>2017-07-18</td>\n",
       "      <td>Second Class</td>\n",
       "      <td>SF-20065</td>\n",
       "      <td>Sandra Flanagan</td>\n",
       "      <td>Consumer</td>\n",
       "      <td>United States</td>\n",
       "      <td>Philadelphia</td>\n",
       "      <td>Pennsylvania</td>\n",
       "      <td>...</td>\n",
       "      <td>Global Deluxe Stacking Chair, Gray</td>\n",
       "      <td>71.372</td>\n",
       "      <td>2</td>\n",
       "      <td>0.3</td>\n",
       "      <td>-1.0196</td>\n",
       "      <td>101.96</td>\n",
       "      <td>50.98</td>\n",
       "      <td>2017</td>\n",
       "      <td>2017-07-16</td>\n",
       "      <td>2017-07-16</td>\n",
       "    </tr>\n",
       "    <tr>\n",
       "      <th>34</th>\n",
       "      <td>CA-2017-107727</td>\n",
       "      <td>2017-10-19</td>\n",
       "      <td>2017-10-23</td>\n",
       "      <td>Second Class</td>\n",
       "      <td>MA-17560</td>\n",
       "      <td>Matt Abelman</td>\n",
       "      <td>Home Office</td>\n",
       "      <td>United States</td>\n",
       "      <td>Houston</td>\n",
       "      <td>Texas</td>\n",
       "      <td>...</td>\n",
       "      <td>Easy-staple paper</td>\n",
       "      <td>29.472</td>\n",
       "      <td>3</td>\n",
       "      <td>0.2</td>\n",
       "      <td>9.9468</td>\n",
       "      <td>36.84</td>\n",
       "      <td>12.28</td>\n",
       "      <td>2017</td>\n",
       "      <td>2017-10-19</td>\n",
       "      <td>2017-10-19</td>\n",
       "    </tr>\n",
       "    <tr>\n",
       "      <th>41</th>\n",
       "      <td>CA-2017-120999</td>\n",
       "      <td>2017-09-10</td>\n",
       "      <td>2017-09-15</td>\n",
       "      <td>Standard Class</td>\n",
       "      <td>LC-16930</td>\n",
       "      <td>Linda Cazamias</td>\n",
       "      <td>Corporate</td>\n",
       "      <td>United States</td>\n",
       "      <td>Naperville</td>\n",
       "      <td>Illinois</td>\n",
       "      <td>...</td>\n",
       "      <td>Panasonic Kx-TS550</td>\n",
       "      <td>147.168</td>\n",
       "      <td>4</td>\n",
       "      <td>0.2</td>\n",
       "      <td>16.5564</td>\n",
       "      <td>183.96</td>\n",
       "      <td>45.99</td>\n",
       "      <td>2017</td>\n",
       "      <td>2017-09-10</td>\n",
       "      <td>2017-06-10</td>\n",
       "    </tr>\n",
       "    <tr>\n",
       "      <th>43</th>\n",
       "      <td>CA-2017-139619</td>\n",
       "      <td>2017-09-19</td>\n",
       "      <td>2017-09-23</td>\n",
       "      <td>Standard Class</td>\n",
       "      <td>ES-14080</td>\n",
       "      <td>Erin Smith</td>\n",
       "      <td>Corporate</td>\n",
       "      <td>United States</td>\n",
       "      <td>Melbourne</td>\n",
       "      <td>Florida</td>\n",
       "      <td>...</td>\n",
       "      <td>Advantus 10-Drawer Portable Organizer, Chrome ...</td>\n",
       "      <td>95.616</td>\n",
       "      <td>2</td>\n",
       "      <td>0.2</td>\n",
       "      <td>9.5616</td>\n",
       "      <td>119.52</td>\n",
       "      <td>59.76</td>\n",
       "      <td>2017</td>\n",
       "      <td>2017-09-19</td>\n",
       "      <td>2017-02-24</td>\n",
       "    </tr>\n",
       "  </tbody>\n",
       "</table>\n",
       "<p>5 rows × 25 columns</p>\n",
       "</div>"
      ],
      "text/plain": [
       "          Order ID Order Date  Ship Date       Ship Mode Customer ID  \\\n",
       "12  CA-2017-114412 2017-04-15 2017-04-20  Standard Class    AA-10480   \n",
       "23  US-2017-156909 2017-07-16 2017-07-18    Second Class    SF-20065   \n",
       "34  CA-2017-107727 2017-10-19 2017-10-23    Second Class    MA-17560   \n",
       "41  CA-2017-120999 2017-09-10 2017-09-15  Standard Class    LC-16930   \n",
       "43  CA-2017-139619 2017-09-19 2017-09-23  Standard Class    ES-14080   \n",
       "\n",
       "      Customer Name      Segment        Country          City           State  \\\n",
       "12     Andrew Allen     Consumer  United States       Concord  North Carolina   \n",
       "23  Sandra Flanagan     Consumer  United States  Philadelphia    Pennsylvania   \n",
       "34     Matt Abelman  Home Office  United States       Houston           Texas   \n",
       "41   Linda Cazamias    Corporate  United States    Naperville        Illinois   \n",
       "43       Erin Smith    Corporate  United States     Melbourne         Florida   \n",
       "\n",
       "    ...                                       Product Name    Sales Quantity  \\\n",
       "12  ...                                         Xerox 1967   15.552        3   \n",
       "23  ...                 Global Deluxe Stacking Chair, Gray   71.372        2   \n",
       "34  ...                                  Easy-staple paper   29.472        3   \n",
       "41  ...                                 Panasonic Kx-TS550  147.168        4   \n",
       "43  ...  Advantus 10-Drawer Portable Organizer, Chrome ...   95.616        2   \n",
       "\n",
       "   Discount   Profit Original Sales  Unit Price  Year  InvoiceDay  CohortDay  \n",
       "12      0.2   5.4432          19.44        6.48  2017  2017-04-15 2017-04-15  \n",
       "23      0.3  -1.0196         101.96       50.98  2017  2017-07-16 2017-07-16  \n",
       "34      0.2   9.9468          36.84       12.28  2017  2017-10-19 2017-10-19  \n",
       "41      0.2  16.5564         183.96       45.99  2017  2017-09-10 2017-06-10  \n",
       "43      0.2   9.5616         119.52       59.76  2017  2017-09-19 2017-02-24  \n",
       "\n",
       "[5 rows x 25 columns]"
      ]
     },
     "execution_count": 70,
     "metadata": {},
     "output_type": "execute_result"
    }
   ],
   "source": [
    "# Assign a minimum InvoiceDay value to the dataset\n",
    "\n",
    "data[\"CohortDay\"] = grouping.transform(\"min\")\n",
    "data.head()"
   ]
  },
  {
   "cell_type": "markdown",
   "metadata": {},
   "source": [
    "#### Create InvoiceMonth and CohortMonth columns"
   ]
  },
  {
   "cell_type": "code",
   "execution_count": 71,
   "metadata": {},
   "outputs": [],
   "source": [
    "# Create a function name get_month to trancate the month\n",
    "\n",
    "def get_month(x):\n",
    "    \"\"\"To convert a datetype column into month\"\"\"\n",
    "    return dt.datetime(x.year, x.month, 1)"
   ]
  },
  {
   "cell_type": "code",
   "execution_count": 72,
   "metadata": {},
   "outputs": [],
   "source": [
    "# Create InvoiceMonth column\n",
    "data[\"InvoiceMonth\"] = data[\"Order Date\"].apply(get_month) "
   ]
  },
  {
   "cell_type": "code",
   "execution_count": 73,
   "metadata": {},
   "outputs": [],
   "source": [
    "# Group by CustomerID and select the InvoiceMonth value\n",
    "\n",
    "grouping = data.groupby(\"Customer ID\")[\"InvoiceMonth\"] "
   ]
  },
  {
   "cell_type": "code",
   "execution_count": 74,
   "metadata": {},
   "outputs": [],
   "source": [
    "# Assign a minimum InvoiceMonth value to the dataset\n",
    "\n",
    "data[\"CohortMonth\"] = grouping.transform(\"min\")"
   ]
  },
  {
   "cell_type": "code",
   "execution_count": 75,
   "metadata": {},
   "outputs": [
    {
     "data": {
      "text/html": [
       "<div>\n",
       "<style scoped>\n",
       "    .dataframe tbody tr th:only-of-type {\n",
       "        vertical-align: middle;\n",
       "    }\n",
       "\n",
       "    .dataframe tbody tr th {\n",
       "        vertical-align: top;\n",
       "    }\n",
       "\n",
       "    .dataframe thead th {\n",
       "        text-align: right;\n",
       "    }\n",
       "</style>\n",
       "<table border=\"1\" class=\"dataframe\">\n",
       "  <thead>\n",
       "    <tr style=\"text-align: right;\">\n",
       "      <th></th>\n",
       "      <th>Order ID</th>\n",
       "      <th>Order Date</th>\n",
       "      <th>Ship Date</th>\n",
       "      <th>Ship Mode</th>\n",
       "      <th>Customer ID</th>\n",
       "      <th>Customer Name</th>\n",
       "      <th>Segment</th>\n",
       "      <th>Country</th>\n",
       "      <th>City</th>\n",
       "      <th>State</th>\n",
       "      <th>...</th>\n",
       "      <th>Quantity</th>\n",
       "      <th>Discount</th>\n",
       "      <th>Profit</th>\n",
       "      <th>Original Sales</th>\n",
       "      <th>Unit Price</th>\n",
       "      <th>Year</th>\n",
       "      <th>InvoiceDay</th>\n",
       "      <th>CohortDay</th>\n",
       "      <th>InvoiceMonth</th>\n",
       "      <th>CohortMonth</th>\n",
       "    </tr>\n",
       "  </thead>\n",
       "  <tbody>\n",
       "    <tr>\n",
       "      <th>12</th>\n",
       "      <td>CA-2017-114412</td>\n",
       "      <td>2017-04-15</td>\n",
       "      <td>2017-04-20</td>\n",
       "      <td>Standard Class</td>\n",
       "      <td>AA-10480</td>\n",
       "      <td>Andrew Allen</td>\n",
       "      <td>Consumer</td>\n",
       "      <td>United States</td>\n",
       "      <td>Concord</td>\n",
       "      <td>North Carolina</td>\n",
       "      <td>...</td>\n",
       "      <td>3</td>\n",
       "      <td>0.2</td>\n",
       "      <td>5.4432</td>\n",
       "      <td>19.44</td>\n",
       "      <td>6.48</td>\n",
       "      <td>2017</td>\n",
       "      <td>2017-04-15</td>\n",
       "      <td>2017-04-15</td>\n",
       "      <td>2017-04-01</td>\n",
       "      <td>2017-04-01</td>\n",
       "    </tr>\n",
       "    <tr>\n",
       "      <th>23</th>\n",
       "      <td>US-2017-156909</td>\n",
       "      <td>2017-07-16</td>\n",
       "      <td>2017-07-18</td>\n",
       "      <td>Second Class</td>\n",
       "      <td>SF-20065</td>\n",
       "      <td>Sandra Flanagan</td>\n",
       "      <td>Consumer</td>\n",
       "      <td>United States</td>\n",
       "      <td>Philadelphia</td>\n",
       "      <td>Pennsylvania</td>\n",
       "      <td>...</td>\n",
       "      <td>2</td>\n",
       "      <td>0.3</td>\n",
       "      <td>-1.0196</td>\n",
       "      <td>101.96</td>\n",
       "      <td>50.98</td>\n",
       "      <td>2017</td>\n",
       "      <td>2017-07-16</td>\n",
       "      <td>2017-07-16</td>\n",
       "      <td>2017-07-01</td>\n",
       "      <td>2017-07-01</td>\n",
       "    </tr>\n",
       "    <tr>\n",
       "      <th>34</th>\n",
       "      <td>CA-2017-107727</td>\n",
       "      <td>2017-10-19</td>\n",
       "      <td>2017-10-23</td>\n",
       "      <td>Second Class</td>\n",
       "      <td>MA-17560</td>\n",
       "      <td>Matt Abelman</td>\n",
       "      <td>Home Office</td>\n",
       "      <td>United States</td>\n",
       "      <td>Houston</td>\n",
       "      <td>Texas</td>\n",
       "      <td>...</td>\n",
       "      <td>3</td>\n",
       "      <td>0.2</td>\n",
       "      <td>9.9468</td>\n",
       "      <td>36.84</td>\n",
       "      <td>12.28</td>\n",
       "      <td>2017</td>\n",
       "      <td>2017-10-19</td>\n",
       "      <td>2017-10-19</td>\n",
       "      <td>2017-10-01</td>\n",
       "      <td>2017-10-01</td>\n",
       "    </tr>\n",
       "    <tr>\n",
       "      <th>41</th>\n",
       "      <td>CA-2017-120999</td>\n",
       "      <td>2017-09-10</td>\n",
       "      <td>2017-09-15</td>\n",
       "      <td>Standard Class</td>\n",
       "      <td>LC-16930</td>\n",
       "      <td>Linda Cazamias</td>\n",
       "      <td>Corporate</td>\n",
       "      <td>United States</td>\n",
       "      <td>Naperville</td>\n",
       "      <td>Illinois</td>\n",
       "      <td>...</td>\n",
       "      <td>4</td>\n",
       "      <td>0.2</td>\n",
       "      <td>16.5564</td>\n",
       "      <td>183.96</td>\n",
       "      <td>45.99</td>\n",
       "      <td>2017</td>\n",
       "      <td>2017-09-10</td>\n",
       "      <td>2017-06-10</td>\n",
       "      <td>2017-09-01</td>\n",
       "      <td>2017-06-01</td>\n",
       "    </tr>\n",
       "    <tr>\n",
       "      <th>43</th>\n",
       "      <td>CA-2017-139619</td>\n",
       "      <td>2017-09-19</td>\n",
       "      <td>2017-09-23</td>\n",
       "      <td>Standard Class</td>\n",
       "      <td>ES-14080</td>\n",
       "      <td>Erin Smith</td>\n",
       "      <td>Corporate</td>\n",
       "      <td>United States</td>\n",
       "      <td>Melbourne</td>\n",
       "      <td>Florida</td>\n",
       "      <td>...</td>\n",
       "      <td>2</td>\n",
       "      <td>0.2</td>\n",
       "      <td>9.5616</td>\n",
       "      <td>119.52</td>\n",
       "      <td>59.76</td>\n",
       "      <td>2017</td>\n",
       "      <td>2017-09-19</td>\n",
       "      <td>2017-02-24</td>\n",
       "      <td>2017-09-01</td>\n",
       "      <td>2017-02-01</td>\n",
       "    </tr>\n",
       "  </tbody>\n",
       "</table>\n",
       "<p>5 rows × 27 columns</p>\n",
       "</div>"
      ],
      "text/plain": [
       "          Order ID Order Date  Ship Date       Ship Mode Customer ID  \\\n",
       "12  CA-2017-114412 2017-04-15 2017-04-20  Standard Class    AA-10480   \n",
       "23  US-2017-156909 2017-07-16 2017-07-18    Second Class    SF-20065   \n",
       "34  CA-2017-107727 2017-10-19 2017-10-23    Second Class    MA-17560   \n",
       "41  CA-2017-120999 2017-09-10 2017-09-15  Standard Class    LC-16930   \n",
       "43  CA-2017-139619 2017-09-19 2017-09-23  Standard Class    ES-14080   \n",
       "\n",
       "      Customer Name      Segment        Country          City           State  \\\n",
       "12     Andrew Allen     Consumer  United States       Concord  North Carolina   \n",
       "23  Sandra Flanagan     Consumer  United States  Philadelphia    Pennsylvania   \n",
       "34     Matt Abelman  Home Office  United States       Houston           Texas   \n",
       "41   Linda Cazamias    Corporate  United States    Naperville        Illinois   \n",
       "43       Erin Smith    Corporate  United States     Melbourne         Florida   \n",
       "\n",
       "    ... Quantity Discount   Profit Original Sales Unit Price  Year  \\\n",
       "12  ...        3      0.2   5.4432          19.44       6.48  2017   \n",
       "23  ...        2      0.3  -1.0196         101.96      50.98  2017   \n",
       "34  ...        3      0.2   9.9468          36.84      12.28  2017   \n",
       "41  ...        4      0.2  16.5564         183.96      45.99  2017   \n",
       "43  ...        2      0.2   9.5616         119.52      59.76  2017   \n",
       "\n",
       "    InvoiceDay  CohortDay  InvoiceMonth  CohortMonth  \n",
       "12  2017-04-15 2017-04-15    2017-04-01   2017-04-01  \n",
       "23  2017-07-16 2017-07-16    2017-07-01   2017-07-01  \n",
       "34  2017-10-19 2017-10-19    2017-10-01   2017-10-01  \n",
       "41  2017-09-10 2017-06-10    2017-09-01   2017-06-01  \n",
       "43  2017-09-19 2017-02-24    2017-09-01   2017-02-01  \n",
       "\n",
       "[5 rows x 27 columns]"
      ]
     },
     "execution_count": 75,
     "metadata": {},
     "output_type": "execute_result"
    }
   ],
   "source": [
    "# View the top 5 rows\n",
    "\n",
    "data.head()"
   ]
  },
  {
   "cell_type": "markdown",
   "metadata": {},
   "source": [
    "#### Calculating time offset in days \n",
    "\n",
    "Calculating time offset for each transaction allows you to report the metrics for each cohort in a comparable fashion."
   ]
  },
  {
   "cell_type": "code",
   "execution_count": 76,
   "metadata": {},
   "outputs": [],
   "source": [
    "# Create a function name get_date_int get extract the date into integer\n",
    "\n",
    "def get_date_int(data, column):\n",
    "    \"\"\"To take a dataframe and column name of datetype\n",
    "    and return the integer value of the column\"\"\"\n",
    "    \n",
    "    year = data[column].dt.year\n",
    "    month = data[column].dt.month\n",
    "    day = data[column].dt.day\n",
    "    return year, month, day"
   ]
  },
  {
   "cell_type": "markdown",
   "metadata": {},
   "source": [
    "First, we will create 6 variables that capture the integer value of years, months and days for Invoice and Cohort Date using the get_date_int() function above"
   ]
  },
  {
   "cell_type": "code",
   "execution_count": 77,
   "metadata": {},
   "outputs": [],
   "source": [
    "# Assign integer values to invoice year, month and day using the \"InvoiceDay\" column\n",
    "\n",
    "invoice_year, invoice_month, invoice_day = get_date_int(data, \"InvoiceDay\")\n",
    "\n",
    "\n",
    "# Assign integer values to invoice year, month and day using the \"CohortDay\" column\n",
    "\n",
    "cohort_year, cohort_month, cohort_day = get_date_int(data,\"CohortDay\")"
   ]
  },
  {
   "cell_type": "markdown",
   "metadata": {},
   "source": [
    "Calculate time offset in days\n",
    "calculate the difference between the Invoice and Cohort dates in years, months and days separately and then calculate the total days difference between the two.\n",
    "\n",
    "    Find the difference in years between the moment of the invoice and the moment the cohort was created.\n",
    "    Find the difference in months between the moment of the invoice and the moment the cohort was created.\n",
    "    Find the difference in days between the moment of the invoice and the moment the cohort was created.\n",
    "    Calculate the number of days for the CohortIndex (assume 365 days in a year, and 30 days in a month)."
   ]
  },
  {
   "cell_type": "code",
   "execution_count": 78,
   "metadata": {},
   "outputs": [],
   "source": [
    "# Calculate difference in years\n",
    "\n",
    "years_diff = invoice_year - cohort_year\n",
    "\n",
    "\n",
    "# Calculate difference in months\n",
    "\n",
    "months_diff = invoice_month - cohort_month\n",
    "\n",
    "\n",
    "# Calculate difference in days\n",
    "\n",
    "days_diff = invoice_day - cohort_day"
   ]
  },
  {
   "cell_type": "code",
   "execution_count": 79,
   "metadata": {},
   "outputs": [],
   "source": [
    "# Extract the difference in months from all previous values\n",
    "\n",
    "data[\"CohortIndex\"] = years_diff * 12 + months_diff + 1"
   ]
  },
  {
   "cell_type": "code",
   "execution_count": 80,
   "metadata": {},
   "outputs": [
    {
     "data": {
      "text/html": [
       "<div>\n",
       "<style scoped>\n",
       "    .dataframe tbody tr th:only-of-type {\n",
       "        vertical-align: middle;\n",
       "    }\n",
       "\n",
       "    .dataframe tbody tr th {\n",
       "        vertical-align: top;\n",
       "    }\n",
       "\n",
       "    .dataframe thead th {\n",
       "        text-align: right;\n",
       "    }\n",
       "</style>\n",
       "<table border=\"1\" class=\"dataframe\">\n",
       "  <thead>\n",
       "    <tr style=\"text-align: right;\">\n",
       "      <th></th>\n",
       "      <th>Order ID</th>\n",
       "      <th>Order Date</th>\n",
       "      <th>Ship Date</th>\n",
       "      <th>Ship Mode</th>\n",
       "      <th>Customer ID</th>\n",
       "      <th>Customer Name</th>\n",
       "      <th>Segment</th>\n",
       "      <th>Country</th>\n",
       "      <th>City</th>\n",
       "      <th>State</th>\n",
       "      <th>...</th>\n",
       "      <th>Discount</th>\n",
       "      <th>Profit</th>\n",
       "      <th>Original Sales</th>\n",
       "      <th>Unit Price</th>\n",
       "      <th>Year</th>\n",
       "      <th>InvoiceDay</th>\n",
       "      <th>CohortDay</th>\n",
       "      <th>InvoiceMonth</th>\n",
       "      <th>CohortMonth</th>\n",
       "      <th>CohortIndex</th>\n",
       "    </tr>\n",
       "  </thead>\n",
       "  <tbody>\n",
       "    <tr>\n",
       "      <th>12</th>\n",
       "      <td>CA-2017-114412</td>\n",
       "      <td>2017-04-15</td>\n",
       "      <td>2017-04-20</td>\n",
       "      <td>Standard Class</td>\n",
       "      <td>AA-10480</td>\n",
       "      <td>Andrew Allen</td>\n",
       "      <td>Consumer</td>\n",
       "      <td>United States</td>\n",
       "      <td>Concord</td>\n",
       "      <td>North Carolina</td>\n",
       "      <td>...</td>\n",
       "      <td>0.2</td>\n",
       "      <td>5.4432</td>\n",
       "      <td>19.44</td>\n",
       "      <td>6.48</td>\n",
       "      <td>2017</td>\n",
       "      <td>2017-04-15</td>\n",
       "      <td>2017-04-15</td>\n",
       "      <td>2017-04-01</td>\n",
       "      <td>2017-04-01</td>\n",
       "      <td>1</td>\n",
       "    </tr>\n",
       "    <tr>\n",
       "      <th>23</th>\n",
       "      <td>US-2017-156909</td>\n",
       "      <td>2017-07-16</td>\n",
       "      <td>2017-07-18</td>\n",
       "      <td>Second Class</td>\n",
       "      <td>SF-20065</td>\n",
       "      <td>Sandra Flanagan</td>\n",
       "      <td>Consumer</td>\n",
       "      <td>United States</td>\n",
       "      <td>Philadelphia</td>\n",
       "      <td>Pennsylvania</td>\n",
       "      <td>...</td>\n",
       "      <td>0.3</td>\n",
       "      <td>-1.0196</td>\n",
       "      <td>101.96</td>\n",
       "      <td>50.98</td>\n",
       "      <td>2017</td>\n",
       "      <td>2017-07-16</td>\n",
       "      <td>2017-07-16</td>\n",
       "      <td>2017-07-01</td>\n",
       "      <td>2017-07-01</td>\n",
       "      <td>1</td>\n",
       "    </tr>\n",
       "    <tr>\n",
       "      <th>34</th>\n",
       "      <td>CA-2017-107727</td>\n",
       "      <td>2017-10-19</td>\n",
       "      <td>2017-10-23</td>\n",
       "      <td>Second Class</td>\n",
       "      <td>MA-17560</td>\n",
       "      <td>Matt Abelman</td>\n",
       "      <td>Home Office</td>\n",
       "      <td>United States</td>\n",
       "      <td>Houston</td>\n",
       "      <td>Texas</td>\n",
       "      <td>...</td>\n",
       "      <td>0.2</td>\n",
       "      <td>9.9468</td>\n",
       "      <td>36.84</td>\n",
       "      <td>12.28</td>\n",
       "      <td>2017</td>\n",
       "      <td>2017-10-19</td>\n",
       "      <td>2017-10-19</td>\n",
       "      <td>2017-10-01</td>\n",
       "      <td>2017-10-01</td>\n",
       "      <td>1</td>\n",
       "    </tr>\n",
       "    <tr>\n",
       "      <th>41</th>\n",
       "      <td>CA-2017-120999</td>\n",
       "      <td>2017-09-10</td>\n",
       "      <td>2017-09-15</td>\n",
       "      <td>Standard Class</td>\n",
       "      <td>LC-16930</td>\n",
       "      <td>Linda Cazamias</td>\n",
       "      <td>Corporate</td>\n",
       "      <td>United States</td>\n",
       "      <td>Naperville</td>\n",
       "      <td>Illinois</td>\n",
       "      <td>...</td>\n",
       "      <td>0.2</td>\n",
       "      <td>16.5564</td>\n",
       "      <td>183.96</td>\n",
       "      <td>45.99</td>\n",
       "      <td>2017</td>\n",
       "      <td>2017-09-10</td>\n",
       "      <td>2017-06-10</td>\n",
       "      <td>2017-09-01</td>\n",
       "      <td>2017-06-01</td>\n",
       "      <td>4</td>\n",
       "    </tr>\n",
       "    <tr>\n",
       "      <th>43</th>\n",
       "      <td>CA-2017-139619</td>\n",
       "      <td>2017-09-19</td>\n",
       "      <td>2017-09-23</td>\n",
       "      <td>Standard Class</td>\n",
       "      <td>ES-14080</td>\n",
       "      <td>Erin Smith</td>\n",
       "      <td>Corporate</td>\n",
       "      <td>United States</td>\n",
       "      <td>Melbourne</td>\n",
       "      <td>Florida</td>\n",
       "      <td>...</td>\n",
       "      <td>0.2</td>\n",
       "      <td>9.5616</td>\n",
       "      <td>119.52</td>\n",
       "      <td>59.76</td>\n",
       "      <td>2017</td>\n",
       "      <td>2017-09-19</td>\n",
       "      <td>2017-02-24</td>\n",
       "      <td>2017-09-01</td>\n",
       "      <td>2017-02-01</td>\n",
       "      <td>8</td>\n",
       "    </tr>\n",
       "  </tbody>\n",
       "</table>\n",
       "<p>5 rows × 28 columns</p>\n",
       "</div>"
      ],
      "text/plain": [
       "          Order ID Order Date  Ship Date       Ship Mode Customer ID  \\\n",
       "12  CA-2017-114412 2017-04-15 2017-04-20  Standard Class    AA-10480   \n",
       "23  US-2017-156909 2017-07-16 2017-07-18    Second Class    SF-20065   \n",
       "34  CA-2017-107727 2017-10-19 2017-10-23    Second Class    MA-17560   \n",
       "41  CA-2017-120999 2017-09-10 2017-09-15  Standard Class    LC-16930   \n",
       "43  CA-2017-139619 2017-09-19 2017-09-23  Standard Class    ES-14080   \n",
       "\n",
       "      Customer Name      Segment        Country          City           State  \\\n",
       "12     Andrew Allen     Consumer  United States       Concord  North Carolina   \n",
       "23  Sandra Flanagan     Consumer  United States  Philadelphia    Pennsylvania   \n",
       "34     Matt Abelman  Home Office  United States       Houston           Texas   \n",
       "41   Linda Cazamias    Corporate  United States    Naperville        Illinois   \n",
       "43       Erin Smith    Corporate  United States     Melbourne         Florida   \n",
       "\n",
       "    ... Discount   Profit Original Sales Unit Price  Year InvoiceDay  \\\n",
       "12  ...      0.2   5.4432          19.44       6.48  2017 2017-04-15   \n",
       "23  ...      0.3  -1.0196         101.96      50.98  2017 2017-07-16   \n",
       "34  ...      0.2   9.9468          36.84      12.28  2017 2017-10-19   \n",
       "41  ...      0.2  16.5564         183.96      45.99  2017 2017-09-10   \n",
       "43  ...      0.2   9.5616         119.52      59.76  2017 2017-09-19   \n",
       "\n",
       "    CohortDay  InvoiceMonth  CohortMonth  CohortIndex  \n",
       "12 2017-04-15    2017-04-01   2017-04-01            1  \n",
       "23 2017-07-16    2017-07-01   2017-07-01            1  \n",
       "34 2017-10-19    2017-10-01   2017-10-01            1  \n",
       "41 2017-06-10    2017-09-01   2017-06-01            4  \n",
       "43 2017-02-24    2017-09-01   2017-02-01            8  \n",
       "\n",
       "[5 rows x 28 columns]"
      ]
     },
     "execution_count": 80,
     "metadata": {},
     "output_type": "execute_result"
    }
   ],
   "source": [
    "# Output of the dataset\n",
    "\n",
    "data.head()"
   ]
  },
  {
   "cell_type": "markdown",
   "metadata": {},
   "source": [
    "Monthly active customers from each cohort\n"
   ]
  },
  {
   "cell_type": "code",
   "execution_count": 81,
   "metadata": {},
   "outputs": [],
   "source": [
    "# Groupby \"CohortMonth\" and \"CohortIndex\" columns\n",
    "\n",
    "grouping = data.groupby([\"CohortMonth\", \"CohortIndex\"])"
   ]
  },
  {
   "cell_type": "code",
   "execution_count": 82,
   "metadata": {},
   "outputs": [],
   "source": [
    "# Count number of each group using the \"CustomerID\" column\n",
    "\n",
    "cohort_data = grouping[\"Customer ID\"].apply(pd.Series.nunique)"
   ]
  },
  {
   "cell_type": "code",
   "execution_count": 83,
   "metadata": {},
   "outputs": [],
   "source": [
    "# Reset the column index\n",
    "\n",
    "cohort_data = cohort_data.reset_index()"
   ]
  },
  {
   "cell_type": "code",
   "execution_count": 84,
   "metadata": {},
   "outputs": [],
   "source": [
    "# Create a pivot table and assign to a variable called cohort_count\n",
    "\n",
    "cohort_counts = cohort_data.pivot(index=\"CohortMonth\",\n",
    "                                  columns=\"CohortIndex\",\n",
    "                                  values=\"Customer ID\")"
   ]
  },
  {
   "cell_type": "code",
   "execution_count": 85,
   "metadata": {},
   "outputs": [
    {
     "data": {
      "text/html": [
       "<div>\n",
       "<style scoped>\n",
       "    .dataframe tbody tr th:only-of-type {\n",
       "        vertical-align: middle;\n",
       "    }\n",
       "\n",
       "    .dataframe tbody tr th {\n",
       "        vertical-align: top;\n",
       "    }\n",
       "\n",
       "    .dataframe thead th {\n",
       "        text-align: right;\n",
       "    }\n",
       "</style>\n",
       "<table border=\"1\" class=\"dataframe\">\n",
       "  <thead>\n",
       "    <tr style=\"text-align: right;\">\n",
       "      <th>CohortIndex</th>\n",
       "      <th>1</th>\n",
       "      <th>2</th>\n",
       "      <th>3</th>\n",
       "      <th>4</th>\n",
       "      <th>5</th>\n",
       "      <th>6</th>\n",
       "      <th>7</th>\n",
       "      <th>8</th>\n",
       "      <th>9</th>\n",
       "      <th>10</th>\n",
       "      <th>11</th>\n",
       "      <th>12</th>\n",
       "    </tr>\n",
       "    <tr>\n",
       "      <th>CohortMonth</th>\n",
       "      <th></th>\n",
       "      <th></th>\n",
       "      <th></th>\n",
       "      <th></th>\n",
       "      <th></th>\n",
       "      <th></th>\n",
       "      <th></th>\n",
       "      <th></th>\n",
       "      <th></th>\n",
       "      <th></th>\n",
       "      <th></th>\n",
       "      <th></th>\n",
       "    </tr>\n",
       "  </thead>\n",
       "  <tbody>\n",
       "    <tr>\n",
       "      <th>2017-01-01</th>\n",
       "      <td>67.0</td>\n",
       "      <td>3.0</td>\n",
       "      <td>8.0</td>\n",
       "      <td>13.0</td>\n",
       "      <td>9.0</td>\n",
       "      <td>4.0</td>\n",
       "      <td>9.0</td>\n",
       "      <td>9.0</td>\n",
       "      <td>16.0</td>\n",
       "      <td>9.0</td>\n",
       "      <td>16.0</td>\n",
       "      <td>18.0</td>\n",
       "    </tr>\n",
       "    <tr>\n",
       "      <th>2017-02-01</th>\n",
       "      <td>50.0</td>\n",
       "      <td>6.0</td>\n",
       "      <td>6.0</td>\n",
       "      <td>6.0</td>\n",
       "      <td>7.0</td>\n",
       "      <td>4.0</td>\n",
       "      <td>6.0</td>\n",
       "      <td>17.0</td>\n",
       "      <td>10.0</td>\n",
       "      <td>15.0</td>\n",
       "      <td>15.0</td>\n",
       "      <td>NaN</td>\n",
       "    </tr>\n",
       "    <tr>\n",
       "      <th>2017-03-01</th>\n",
       "      <td>101.0</td>\n",
       "      <td>13.0</td>\n",
       "      <td>15.0</td>\n",
       "      <td>13.0</td>\n",
       "      <td>15.0</td>\n",
       "      <td>14.0</td>\n",
       "      <td>27.0</td>\n",
       "      <td>20.0</td>\n",
       "      <td>27.0</td>\n",
       "      <td>23.0</td>\n",
       "      <td>NaN</td>\n",
       "      <td>NaN</td>\n",
       "    </tr>\n",
       "    <tr>\n",
       "      <th>2017-04-01</th>\n",
       "      <td>77.0</td>\n",
       "      <td>12.0</td>\n",
       "      <td>15.0</td>\n",
       "      <td>13.0</td>\n",
       "      <td>12.0</td>\n",
       "      <td>20.0</td>\n",
       "      <td>13.0</td>\n",
       "      <td>22.0</td>\n",
       "      <td>26.0</td>\n",
       "      <td>NaN</td>\n",
       "      <td>NaN</td>\n",
       "      <td>NaN</td>\n",
       "    </tr>\n",
       "    <tr>\n",
       "      <th>2017-05-01</th>\n",
       "      <td>71.0</td>\n",
       "      <td>9.0</td>\n",
       "      <td>10.0</td>\n",
       "      <td>12.0</td>\n",
       "      <td>17.0</td>\n",
       "      <td>11.0</td>\n",
       "      <td>26.0</td>\n",
       "      <td>17.0</td>\n",
       "      <td>NaN</td>\n",
       "      <td>NaN</td>\n",
       "      <td>NaN</td>\n",
       "      <td>NaN</td>\n",
       "    </tr>\n",
       "    <tr>\n",
       "      <th>2017-06-01</th>\n",
       "      <td>70.0</td>\n",
       "      <td>6.0</td>\n",
       "      <td>12.0</td>\n",
       "      <td>18.0</td>\n",
       "      <td>12.0</td>\n",
       "      <td>17.0</td>\n",
       "      <td>15.0</td>\n",
       "      <td>NaN</td>\n",
       "      <td>NaN</td>\n",
       "      <td>NaN</td>\n",
       "      <td>NaN</td>\n",
       "      <td>NaN</td>\n",
       "    </tr>\n",
       "    <tr>\n",
       "      <th>2017-07-01</th>\n",
       "      <td>45.0</td>\n",
       "      <td>7.0</td>\n",
       "      <td>9.0</td>\n",
       "      <td>9.0</td>\n",
       "      <td>10.0</td>\n",
       "      <td>11.0</td>\n",
       "      <td>NaN</td>\n",
       "      <td>NaN</td>\n",
       "      <td>NaN</td>\n",
       "      <td>NaN</td>\n",
       "      <td>NaN</td>\n",
       "      <td>NaN</td>\n",
       "    </tr>\n",
       "    <tr>\n",
       "      <th>2017-08-01</th>\n",
       "      <td>32.0</td>\n",
       "      <td>9.0</td>\n",
       "      <td>5.0</td>\n",
       "      <td>17.0</td>\n",
       "      <td>9.0</td>\n",
       "      <td>NaN</td>\n",
       "      <td>NaN</td>\n",
       "      <td>NaN</td>\n",
       "      <td>NaN</td>\n",
       "      <td>NaN</td>\n",
       "      <td>NaN</td>\n",
       "      <td>NaN</td>\n",
       "    </tr>\n",
       "    <tr>\n",
       "      <th>2017-09-01</th>\n",
       "      <td>63.0</td>\n",
       "      <td>8.0</td>\n",
       "      <td>15.0</td>\n",
       "      <td>8.0</td>\n",
       "      <td>NaN</td>\n",
       "      <td>NaN</td>\n",
       "      <td>NaN</td>\n",
       "      <td>NaN</td>\n",
       "      <td>NaN</td>\n",
       "      <td>NaN</td>\n",
       "      <td>NaN</td>\n",
       "      <td>NaN</td>\n",
       "    </tr>\n",
       "    <tr>\n",
       "      <th>2017-10-01</th>\n",
       "      <td>39.0</td>\n",
       "      <td>6.0</td>\n",
       "      <td>9.0</td>\n",
       "      <td>NaN</td>\n",
       "      <td>NaN</td>\n",
       "      <td>NaN</td>\n",
       "      <td>NaN</td>\n",
       "      <td>NaN</td>\n",
       "      <td>NaN</td>\n",
       "      <td>NaN</td>\n",
       "      <td>NaN</td>\n",
       "      <td>NaN</td>\n",
       "    </tr>\n",
       "    <tr>\n",
       "      <th>2017-11-01</th>\n",
       "      <td>45.0</td>\n",
       "      <td>11.0</td>\n",
       "      <td>NaN</td>\n",
       "      <td>NaN</td>\n",
       "      <td>NaN</td>\n",
       "      <td>NaN</td>\n",
       "      <td>NaN</td>\n",
       "      <td>NaN</td>\n",
       "      <td>NaN</td>\n",
       "      <td>NaN</td>\n",
       "      <td>NaN</td>\n",
       "      <td>NaN</td>\n",
       "    </tr>\n",
       "    <tr>\n",
       "      <th>2017-12-01</th>\n",
       "      <td>33.0</td>\n",
       "      <td>NaN</td>\n",
       "      <td>NaN</td>\n",
       "      <td>NaN</td>\n",
       "      <td>NaN</td>\n",
       "      <td>NaN</td>\n",
       "      <td>NaN</td>\n",
       "      <td>NaN</td>\n",
       "      <td>NaN</td>\n",
       "      <td>NaN</td>\n",
       "      <td>NaN</td>\n",
       "      <td>NaN</td>\n",
       "    </tr>\n",
       "  </tbody>\n",
       "</table>\n",
       "</div>"
      ],
      "text/plain": [
       "CohortIndex     1     2     3     4     5     6     7     8     9     10  \\\n",
       "CohortMonth                                                                \n",
       "2017-01-01    67.0   3.0   8.0  13.0   9.0   4.0   9.0   9.0  16.0   9.0   \n",
       "2017-02-01    50.0   6.0   6.0   6.0   7.0   4.0   6.0  17.0  10.0  15.0   \n",
       "2017-03-01   101.0  13.0  15.0  13.0  15.0  14.0  27.0  20.0  27.0  23.0   \n",
       "2017-04-01    77.0  12.0  15.0  13.0  12.0  20.0  13.0  22.0  26.0   NaN   \n",
       "2017-05-01    71.0   9.0  10.0  12.0  17.0  11.0  26.0  17.0   NaN   NaN   \n",
       "2017-06-01    70.0   6.0  12.0  18.0  12.0  17.0  15.0   NaN   NaN   NaN   \n",
       "2017-07-01    45.0   7.0   9.0   9.0  10.0  11.0   NaN   NaN   NaN   NaN   \n",
       "2017-08-01    32.0   9.0   5.0  17.0   9.0   NaN   NaN   NaN   NaN   NaN   \n",
       "2017-09-01    63.0   8.0  15.0   8.0   NaN   NaN   NaN   NaN   NaN   NaN   \n",
       "2017-10-01    39.0   6.0   9.0   NaN   NaN   NaN   NaN   NaN   NaN   NaN   \n",
       "2017-11-01    45.0  11.0   NaN   NaN   NaN   NaN   NaN   NaN   NaN   NaN   \n",
       "2017-12-01    33.0   NaN   NaN   NaN   NaN   NaN   NaN   NaN   NaN   NaN   \n",
       "\n",
       "CohortIndex    11    12  \n",
       "CohortMonth              \n",
       "2017-01-01   16.0  18.0  \n",
       "2017-02-01   15.0   NaN  \n",
       "2017-03-01    NaN   NaN  \n",
       "2017-04-01    NaN   NaN  \n",
       "2017-05-01    NaN   NaN  \n",
       "2017-06-01    NaN   NaN  \n",
       "2017-07-01    NaN   NaN  \n",
       "2017-08-01    NaN   NaN  \n",
       "2017-09-01    NaN   NaN  \n",
       "2017-10-01    NaN   NaN  \n",
       "2017-11-01    NaN   NaN  \n",
       "2017-12-01    NaN   NaN  "
      ]
     },
     "execution_count": 85,
     "metadata": {},
     "output_type": "execute_result"
    }
   ],
   "source": [
    "# Output of the cohort_counts\n",
    "\n",
    "cohort_counts"
   ]
  },
  {
   "cell_type": "markdown",
   "metadata": {},
   "source": [
    "#### Calculating Retention Rate"
   ]
  },
  {
   "cell_type": "code",
   "execution_count": 86,
   "metadata": {},
   "outputs": [],
   "source": [
    "# Group the dataframe by \"CohortMonth\" and \"CohortIndex\" columns\n",
    "\n",
    "grouping = data.groupby([\"CohortMonth\", \"CohortIndex\"])"
   ]
  },
  {
   "cell_type": "code",
   "execution_count": 87,
   "metadata": {},
   "outputs": [],
   "source": [
    "# Select the first column and store it to cohort_sizes\n",
    "\n",
    "cohort_sizes = cohort_counts.iloc[:,0]"
   ]
  },
  {
   "cell_type": "code",
   "execution_count": 88,
   "metadata": {},
   "outputs": [],
   "source": [
    "# Divide the cohort count by cohort sizes along the rows\n",
    "\n",
    "retention = cohort_counts.divide(cohort_sizes, axis=0)\n",
    "\n",
    "# Convert retention rate to percentages\n",
    "\n",
    "retention = (retention*100).round(1)"
   ]
  },
  {
   "cell_type": "code",
   "execution_count": 89,
   "metadata": {
    "scrolled": false
   },
   "outputs": [
    {
     "data": {
      "text/html": [
       "<div>\n",
       "<style scoped>\n",
       "    .dataframe tbody tr th:only-of-type {\n",
       "        vertical-align: middle;\n",
       "    }\n",
       "\n",
       "    .dataframe tbody tr th {\n",
       "        vertical-align: top;\n",
       "    }\n",
       "\n",
       "    .dataframe thead th {\n",
       "        text-align: right;\n",
       "    }\n",
       "</style>\n",
       "<table border=\"1\" class=\"dataframe\">\n",
       "  <thead>\n",
       "    <tr style=\"text-align: right;\">\n",
       "      <th>CohortIndex</th>\n",
       "      <th>1</th>\n",
       "      <th>2</th>\n",
       "      <th>3</th>\n",
       "      <th>4</th>\n",
       "      <th>5</th>\n",
       "      <th>6</th>\n",
       "      <th>7</th>\n",
       "      <th>8</th>\n",
       "      <th>9</th>\n",
       "      <th>10</th>\n",
       "      <th>11</th>\n",
       "      <th>12</th>\n",
       "    </tr>\n",
       "    <tr>\n",
       "      <th>CohortMonth</th>\n",
       "      <th></th>\n",
       "      <th></th>\n",
       "      <th></th>\n",
       "      <th></th>\n",
       "      <th></th>\n",
       "      <th></th>\n",
       "      <th></th>\n",
       "      <th></th>\n",
       "      <th></th>\n",
       "      <th></th>\n",
       "      <th></th>\n",
       "      <th></th>\n",
       "    </tr>\n",
       "  </thead>\n",
       "  <tbody>\n",
       "    <tr>\n",
       "      <th>2017-01-01</th>\n",
       "      <td>100.0</td>\n",
       "      <td>4.5</td>\n",
       "      <td>11.9</td>\n",
       "      <td>19.4</td>\n",
       "      <td>13.4</td>\n",
       "      <td>6.0</td>\n",
       "      <td>13.4</td>\n",
       "      <td>13.4</td>\n",
       "      <td>23.9</td>\n",
       "      <td>13.4</td>\n",
       "      <td>23.9</td>\n",
       "      <td>26.9</td>\n",
       "    </tr>\n",
       "    <tr>\n",
       "      <th>2017-02-01</th>\n",
       "      <td>100.0</td>\n",
       "      <td>12.0</td>\n",
       "      <td>12.0</td>\n",
       "      <td>12.0</td>\n",
       "      <td>14.0</td>\n",
       "      <td>8.0</td>\n",
       "      <td>12.0</td>\n",
       "      <td>34.0</td>\n",
       "      <td>20.0</td>\n",
       "      <td>30.0</td>\n",
       "      <td>30.0</td>\n",
       "      <td>NaN</td>\n",
       "    </tr>\n",
       "    <tr>\n",
       "      <th>2017-03-01</th>\n",
       "      <td>100.0</td>\n",
       "      <td>12.9</td>\n",
       "      <td>14.9</td>\n",
       "      <td>12.9</td>\n",
       "      <td>14.9</td>\n",
       "      <td>13.9</td>\n",
       "      <td>26.7</td>\n",
       "      <td>19.8</td>\n",
       "      <td>26.7</td>\n",
       "      <td>22.8</td>\n",
       "      <td>NaN</td>\n",
       "      <td>NaN</td>\n",
       "    </tr>\n",
       "    <tr>\n",
       "      <th>2017-04-01</th>\n",
       "      <td>100.0</td>\n",
       "      <td>15.6</td>\n",
       "      <td>19.5</td>\n",
       "      <td>16.9</td>\n",
       "      <td>15.6</td>\n",
       "      <td>26.0</td>\n",
       "      <td>16.9</td>\n",
       "      <td>28.6</td>\n",
       "      <td>33.8</td>\n",
       "      <td>NaN</td>\n",
       "      <td>NaN</td>\n",
       "      <td>NaN</td>\n",
       "    </tr>\n",
       "    <tr>\n",
       "      <th>2017-05-01</th>\n",
       "      <td>100.0</td>\n",
       "      <td>12.7</td>\n",
       "      <td>14.1</td>\n",
       "      <td>16.9</td>\n",
       "      <td>23.9</td>\n",
       "      <td>15.5</td>\n",
       "      <td>36.6</td>\n",
       "      <td>23.9</td>\n",
       "      <td>NaN</td>\n",
       "      <td>NaN</td>\n",
       "      <td>NaN</td>\n",
       "      <td>NaN</td>\n",
       "    </tr>\n",
       "    <tr>\n",
       "      <th>2017-06-01</th>\n",
       "      <td>100.0</td>\n",
       "      <td>8.6</td>\n",
       "      <td>17.1</td>\n",
       "      <td>25.7</td>\n",
       "      <td>17.1</td>\n",
       "      <td>24.3</td>\n",
       "      <td>21.4</td>\n",
       "      <td>NaN</td>\n",
       "      <td>NaN</td>\n",
       "      <td>NaN</td>\n",
       "      <td>NaN</td>\n",
       "      <td>NaN</td>\n",
       "    </tr>\n",
       "    <tr>\n",
       "      <th>2017-07-01</th>\n",
       "      <td>100.0</td>\n",
       "      <td>15.6</td>\n",
       "      <td>20.0</td>\n",
       "      <td>20.0</td>\n",
       "      <td>22.2</td>\n",
       "      <td>24.4</td>\n",
       "      <td>NaN</td>\n",
       "      <td>NaN</td>\n",
       "      <td>NaN</td>\n",
       "      <td>NaN</td>\n",
       "      <td>NaN</td>\n",
       "      <td>NaN</td>\n",
       "    </tr>\n",
       "    <tr>\n",
       "      <th>2017-08-01</th>\n",
       "      <td>100.0</td>\n",
       "      <td>28.1</td>\n",
       "      <td>15.6</td>\n",
       "      <td>53.1</td>\n",
       "      <td>28.1</td>\n",
       "      <td>NaN</td>\n",
       "      <td>NaN</td>\n",
       "      <td>NaN</td>\n",
       "      <td>NaN</td>\n",
       "      <td>NaN</td>\n",
       "      <td>NaN</td>\n",
       "      <td>NaN</td>\n",
       "    </tr>\n",
       "    <tr>\n",
       "      <th>2017-09-01</th>\n",
       "      <td>100.0</td>\n",
       "      <td>12.7</td>\n",
       "      <td>23.8</td>\n",
       "      <td>12.7</td>\n",
       "      <td>NaN</td>\n",
       "      <td>NaN</td>\n",
       "      <td>NaN</td>\n",
       "      <td>NaN</td>\n",
       "      <td>NaN</td>\n",
       "      <td>NaN</td>\n",
       "      <td>NaN</td>\n",
       "      <td>NaN</td>\n",
       "    </tr>\n",
       "    <tr>\n",
       "      <th>2017-10-01</th>\n",
       "      <td>100.0</td>\n",
       "      <td>15.4</td>\n",
       "      <td>23.1</td>\n",
       "      <td>NaN</td>\n",
       "      <td>NaN</td>\n",
       "      <td>NaN</td>\n",
       "      <td>NaN</td>\n",
       "      <td>NaN</td>\n",
       "      <td>NaN</td>\n",
       "      <td>NaN</td>\n",
       "      <td>NaN</td>\n",
       "      <td>NaN</td>\n",
       "    </tr>\n",
       "    <tr>\n",
       "      <th>2017-11-01</th>\n",
       "      <td>100.0</td>\n",
       "      <td>24.4</td>\n",
       "      <td>NaN</td>\n",
       "      <td>NaN</td>\n",
       "      <td>NaN</td>\n",
       "      <td>NaN</td>\n",
       "      <td>NaN</td>\n",
       "      <td>NaN</td>\n",
       "      <td>NaN</td>\n",
       "      <td>NaN</td>\n",
       "      <td>NaN</td>\n",
       "      <td>NaN</td>\n",
       "    </tr>\n",
       "    <tr>\n",
       "      <th>2017-12-01</th>\n",
       "      <td>100.0</td>\n",
       "      <td>NaN</td>\n",
       "      <td>NaN</td>\n",
       "      <td>NaN</td>\n",
       "      <td>NaN</td>\n",
       "      <td>NaN</td>\n",
       "      <td>NaN</td>\n",
       "      <td>NaN</td>\n",
       "      <td>NaN</td>\n",
       "      <td>NaN</td>\n",
       "      <td>NaN</td>\n",
       "      <td>NaN</td>\n",
       "    </tr>\n",
       "  </tbody>\n",
       "</table>\n",
       "</div>"
      ],
      "text/plain": [
       "CohortIndex     1     2     3     4     5     6     7     8     9     10  \\\n",
       "CohortMonth                                                                \n",
       "2017-01-01   100.0   4.5  11.9  19.4  13.4   6.0  13.4  13.4  23.9  13.4   \n",
       "2017-02-01   100.0  12.0  12.0  12.0  14.0   8.0  12.0  34.0  20.0  30.0   \n",
       "2017-03-01   100.0  12.9  14.9  12.9  14.9  13.9  26.7  19.8  26.7  22.8   \n",
       "2017-04-01   100.0  15.6  19.5  16.9  15.6  26.0  16.9  28.6  33.8   NaN   \n",
       "2017-05-01   100.0  12.7  14.1  16.9  23.9  15.5  36.6  23.9   NaN   NaN   \n",
       "2017-06-01   100.0   8.6  17.1  25.7  17.1  24.3  21.4   NaN   NaN   NaN   \n",
       "2017-07-01   100.0  15.6  20.0  20.0  22.2  24.4   NaN   NaN   NaN   NaN   \n",
       "2017-08-01   100.0  28.1  15.6  53.1  28.1   NaN   NaN   NaN   NaN   NaN   \n",
       "2017-09-01   100.0  12.7  23.8  12.7   NaN   NaN   NaN   NaN   NaN   NaN   \n",
       "2017-10-01   100.0  15.4  23.1   NaN   NaN   NaN   NaN   NaN   NaN   NaN   \n",
       "2017-11-01   100.0  24.4   NaN   NaN   NaN   NaN   NaN   NaN   NaN   NaN   \n",
       "2017-12-01   100.0   NaN   NaN   NaN   NaN   NaN   NaN   NaN   NaN   NaN   \n",
       "\n",
       "CohortIndex    11    12  \n",
       "CohortMonth              \n",
       "2017-01-01   23.9  26.9  \n",
       "2017-02-01   30.0   NaN  \n",
       "2017-03-01    NaN   NaN  \n",
       "2017-04-01    NaN   NaN  \n",
       "2017-05-01    NaN   NaN  \n",
       "2017-06-01    NaN   NaN  \n",
       "2017-07-01    NaN   NaN  \n",
       "2017-08-01    NaN   NaN  \n",
       "2017-09-01    NaN   NaN  \n",
       "2017-10-01    NaN   NaN  \n",
       "2017-11-01    NaN   NaN  \n",
       "2017-12-01    NaN   NaN  "
      ]
     },
     "execution_count": 89,
     "metadata": {},
     "output_type": "execute_result"
    }
   ],
   "source": [
    "retention"
   ]
  },
  {
   "cell_type": "markdown",
   "metadata": {},
   "source": [
    "#### Generate a heatmap with the retention rate"
   ]
  },
  {
   "cell_type": "code",
   "execution_count": 90,
   "metadata": {},
   "outputs": [
    {
     "data": {
      "image/png": "[encoded data removed]",
      "text/plain": [
       "<Figure size 720x576 with 2 Axes>"
      ]
     },
     "metadata": {
      "needs_background": "light"
     },
     "output_type": "display_data"
    }
   ],
   "source": [
    "# Plot a haetmap using seaborn\n",
    "\n",
    "year = ['2017-01-01', '2017-02-01', '2017-03-01', '2017-04-01', \n",
    "        '2017-05-01', '2017-06-01', '2017-07-01', '2017-08-01', \n",
    "        '2017-09-01', '2017-10-01','2017-11-01', '2017-12-01']\n",
    "\n",
    "#Initialize your figure size\n",
    "plt.figure(figsize=(10,8))\n",
    "\n",
    "# Add a title\n",
    "plt.title(\"Customer Retention\")\n",
    "\n",
    "# Create the heatmap\n",
    "sns.heatmap(\n",
    "            data=retention, \n",
    "            annot=True, \n",
    "            fmt = 'g',\n",
    "            cmap=\"BuGn\",\n",
    "            yticklabels = year)\n",
    "plt.show()"
   ]
  },
  {
   "cell_type": "markdown",
   "metadata": {},
   "source": [
    "## Customer Segmentation Using K-means Clustering"
   ]
  },
  {
   "cell_type": "markdown",
   "metadata": {},
   "source": [
    "### Feature Engineering"
   ]
  },
  {
   "cell_type": "markdown",
   "metadata": {},
   "source": [
    "Already existing variables are transformed to build/extract metrics that reflect client behavior. These metrics include monetary value, frequency, and recency. These metrics will be used for segmentation."
   ]
  },
  {
   "cell_type": "markdown",
   "metadata": {},
   "source": [
    "#### Recency, Frequency and Monetary(RFM) Values"
   ]
  },
  {
   "cell_type": "markdown",
   "metadata": {},
   "source": [
    "1. Recency: days since last customer transaction.\n",
    "\n",
    "2. Frequency: number of transactions in the last 12 months.\n",
    "\n",
    "3. Monetary value: total money spend in the last 12 months."
   ]
  },
  {
   "cell_type": "code",
   "execution_count": 91,
   "metadata": {},
   "outputs": [
    {
     "name": "stdout",
     "output_type": "stream",
     "text": [
      "Min:2017-01-01 00:00:00; Max:2017-12-30 00:00:00\n"
     ]
    }
   ],
   "source": [
    "# Proint the minimum and the maximum \"Order Date\" from the dataframe\n",
    "\n",
    "print(\"Min:{}; Max:{}\".format(min(data[\"Order Date\"]),max(data[\"Order Date\"])))"
   ]
  },
  {
   "cell_type": "markdown",
   "metadata": {},
   "source": [
    "The analysis is being made on 2017-12-31 as this is the last day of the year. "
   ]
  },
  {
   "cell_type": "code",
   "execution_count": 92,
   "metadata": {},
   "outputs": [
    {
     "data": {
      "text/plain": [
       "datetime.date(2017, 12, 31)"
      ]
     },
     "execution_count": 92,
     "metadata": {},
     "output_type": "execute_result"
    }
   ],
   "source": [
    "#create a snapshot_day data as if we're doing analysis recently.\n",
    "\n",
    "snapshot_date = max(data['Order Date']) + dt.timedelta(days=1)\n",
    "\n",
    "snapshot_date.date()"
   ]
  },
  {
   "cell_type": "code",
   "execution_count": 93,
   "metadata": {},
   "outputs": [],
   "source": [
    "# Calculate Recency, Frequency, and Monetary values for each customer \n",
    "\n",
    "datamart = data.groupby([\"Customer ID\"]).agg(\n",
    "            {\n",
    "            \"Order Date\": lambda x: (snapshot_date - x.max()).days,\n",
    "            \"Order ID\": \"count\",\n",
    "            \"Sales\": \"sum\"})"
   ]
  },
  {
   "cell_type": "code",
   "execution_count": 94,
   "metadata": {
    "scrolled": true
   },
   "outputs": [],
   "source": [
    "# Rename the columns\n",
    "\n",
    "datamart.rename(columns={\n",
    "                         \"Order Date\": \"Recency\",\n",
    "                         \"Order ID\": \"Frequency\",\n",
    "                         \"Sales\": \"Monetary\"}, \n",
    "                        inplace=True)\n"
   ]
  },
  {
   "cell_type": "code",
   "execution_count": 95,
   "metadata": {},
   "outputs": [
    {
     "data": {
      "text/html": [
       "<div>\n",
       "<style scoped>\n",
       "    .dataframe tbody tr th:only-of-type {\n",
       "        vertical-align: middle;\n",
       "    }\n",
       "\n",
       "    .dataframe tbody tr th {\n",
       "        vertical-align: top;\n",
       "    }\n",
       "\n",
       "    .dataframe thead th {\n",
       "        text-align: right;\n",
       "    }\n",
       "</style>\n",
       "<table border=\"1\" class=\"dataframe\">\n",
       "  <thead>\n",
       "    <tr style=\"text-align: right;\">\n",
       "      <th></th>\n",
       "      <th>Recency</th>\n",
       "      <th>Frequency</th>\n",
       "      <th>Monetary</th>\n",
       "    </tr>\n",
       "    <tr>\n",
       "      <th>Customer ID</th>\n",
       "      <th></th>\n",
       "      <th></th>\n",
       "      <th></th>\n",
       "    </tr>\n",
       "  </thead>\n",
       "  <tbody>\n",
       "    <tr>\n",
       "      <th>AA-10315</th>\n",
       "      <td>185</td>\n",
       "      <td>2</td>\n",
       "      <td>374.480</td>\n",
       "    </tr>\n",
       "    <tr>\n",
       "      <th>AA-10375</th>\n",
       "      <td>20</td>\n",
       "      <td>5</td>\n",
       "      <td>206.732</td>\n",
       "    </tr>\n",
       "    <tr>\n",
       "      <th>AA-10480</th>\n",
       "      <td>260</td>\n",
       "      <td>1</td>\n",
       "      <td>15.552</td>\n",
       "    </tr>\n",
       "    <tr>\n",
       "      <th>AA-10645</th>\n",
       "      <td>56</td>\n",
       "      <td>1</td>\n",
       "      <td>12.960</td>\n",
       "    </tr>\n",
       "    <tr>\n",
       "      <th>AB-10060</th>\n",
       "      <td>55</td>\n",
       "      <td>8</td>\n",
       "      <td>2936.264</td>\n",
       "    </tr>\n",
       "  </tbody>\n",
       "</table>\n",
       "</div>"
      ],
      "text/plain": [
       "             Recency  Frequency  Monetary\n",
       "Customer ID                              \n",
       "AA-10315         185          2   374.480\n",
       "AA-10375          20          5   206.732\n",
       "AA-10480         260          1    15.552\n",
       "AA-10645          56          1    12.960\n",
       "AB-10060          55          8  2936.264"
      ]
     },
     "execution_count": 95,
     "metadata": {},
     "output_type": "execute_result"
    }
   ],
   "source": [
    "datamart.head()"
   ]
  },
  {
   "cell_type": "markdown",
   "metadata": {},
   "source": [
    "### Data Preprocessing for k-means"
   ]
  },
  {
   "cell_type": "markdown",
   "metadata": {},
   "source": [
    "At this point, the metrics are scaled, fitted, and transformed for KMeans clustering."
   ]
  },
  {
   "cell_type": "markdown",
   "metadata": {},
   "source": [
    "Key k-means assumptions\n",
    "\n",
    "1. Symmetric distribution of variables(not skewed).\n",
    "\n",
    "2. Variables with same average values.\n",
    "\n",
    "3. Variables with same variance."
   ]
  },
  {
   "cell_type": "markdown",
   "metadata": {},
   "source": [
    "#### Exploring distribution of RFM"
   ]
  },
  {
   "cell_type": "code",
   "execution_count": 96,
   "metadata": {},
   "outputs": [
    {
     "data": {
      "text/html": [
       "<div>\n",
       "<style scoped>\n",
       "    .dataframe tbody tr th:only-of-type {\n",
       "        vertical-align: middle;\n",
       "    }\n",
       "\n",
       "    .dataframe tbody tr th {\n",
       "        vertical-align: top;\n",
       "    }\n",
       "\n",
       "    .dataframe thead th {\n",
       "        text-align: right;\n",
       "    }\n",
       "</style>\n",
       "<table border=\"1\" class=\"dataframe\">\n",
       "  <thead>\n",
       "    <tr style=\"text-align: right;\">\n",
       "      <th></th>\n",
       "      <th>Recency</th>\n",
       "      <th>Frequency</th>\n",
       "      <th>Monetary</th>\n",
       "    </tr>\n",
       "  </thead>\n",
       "  <tbody>\n",
       "    <tr>\n",
       "      <th>count</th>\n",
       "      <td>693.00</td>\n",
       "      <td>693.00</td>\n",
       "      <td>693.00</td>\n",
       "    </tr>\n",
       "    <tr>\n",
       "      <th>mean</th>\n",
       "      <td>88.34</td>\n",
       "      <td>4.78</td>\n",
       "      <td>1058.03</td>\n",
       "    </tr>\n",
       "    <tr>\n",
       "      <th>std</th>\n",
       "      <td>81.51</td>\n",
       "      <td>3.25</td>\n",
       "      <td>1463.91</td>\n",
       "    </tr>\n",
       "    <tr>\n",
       "      <th>min</th>\n",
       "      <td>1.00</td>\n",
       "      <td>1.00</td>\n",
       "      <td>1.19</td>\n",
       "    </tr>\n",
       "    <tr>\n",
       "      <th>25%</th>\n",
       "      <td>29.00</td>\n",
       "      <td>2.00</td>\n",
       "      <td>204.40</td>\n",
       "    </tr>\n",
       "    <tr>\n",
       "      <th>50%</th>\n",
       "      <td>58.00</td>\n",
       "      <td>4.00</td>\n",
       "      <td>604.91</td>\n",
       "    </tr>\n",
       "    <tr>\n",
       "      <th>75%</th>\n",
       "      <td>119.00</td>\n",
       "      <td>6.00</td>\n",
       "      <td>1334.64</td>\n",
       "    </tr>\n",
       "    <tr>\n",
       "      <th>max</th>\n",
       "      <td>363.00</td>\n",
       "      <td>20.00</td>\n",
       "      <td>14203.28</td>\n",
       "    </tr>\n",
       "  </tbody>\n",
       "</table>\n",
       "</div>"
      ],
      "text/plain": [
       "       Recency  Frequency  Monetary\n",
       "count   693.00     693.00    693.00\n",
       "mean     88.34       4.78   1058.03\n",
       "std      81.51       3.25   1463.91\n",
       "min       1.00       1.00      1.19\n",
       "25%      29.00       2.00    204.40\n",
       "50%      58.00       4.00    604.91\n",
       "75%     119.00       6.00   1334.64\n",
       "max     363.00      20.00  14203.28"
      ]
     },
     "execution_count": 96,
     "metadata": {},
     "output_type": "execute_result"
    }
   ],
   "source": [
    "# Explore the summary statistics of datamart\n",
    "\n",
    "datamart.describe().round(2)"
   ]
  },
  {
   "cell_type": "code",
   "execution_count": 97,
   "metadata": {},
   "outputs": [
    {
     "data": {
      "image/png": "[encoded data removed]",
      "text/plain": [
       "<Figure size 1080x288 with 3 Axes>"
      ]
     },
     "metadata": {
      "needs_background": "light"
     },
     "output_type": "display_data"
    }
   ],
   "source": [
    "# Use a distplot to visualize the distribution of the data\n",
    "\n",
    "plt.figure(figsize=(15,4))\n",
    "\n",
    "# Plot distribution of Recency\n",
    "plt.subplot(1, 4, 1) \n",
    "sns.distplot(datamart[\"Recency\"], color = \"g\")\n",
    "\n",
    "\n",
    "# Plot distribution of Frequency\n",
    "plt.subplot(1, 4, 2) \n",
    "sns.distplot(datamart[\"Frequency\"], color = \"g\")\n",
    "\n",
    "\n",
    "# Plot distribution of Monetary\n",
    "plt.subplot(1, 4, 3) \n",
    "sns.distplot(datamart[\"Monetary\"], color = \"g\")\n",
    "\n",
    "# Show the plot\n",
    "plt.show()"
   ]
  },
  {
   "cell_type": "markdown",
   "metadata": {},
   "source": [
    "The distribution of Recency, Frequency and Monetary values are right skewed. "
   ]
  },
  {
   "cell_type": "code",
   "execution_count": 98,
   "metadata": {},
   "outputs": [
    {
     "data": {
      "text/html": [
       "<div>\n",
       "<style scoped>\n",
       "    .dataframe tbody tr th:only-of-type {\n",
       "        vertical-align: middle;\n",
       "    }\n",
       "\n",
       "    .dataframe tbody tr th {\n",
       "        vertical-align: top;\n",
       "    }\n",
       "\n",
       "    .dataframe thead th {\n",
       "        text-align: right;\n",
       "    }\n",
       "</style>\n",
       "<table border=\"1\" class=\"dataframe\">\n",
       "  <thead>\n",
       "    <tr style=\"text-align: right;\">\n",
       "      <th></th>\n",
       "      <th>Recency</th>\n",
       "      <th>Frequency</th>\n",
       "      <th>Monetary</th>\n",
       "    </tr>\n",
       "  </thead>\n",
       "  <tbody>\n",
       "    <tr>\n",
       "      <th>count</th>\n",
       "      <td>693.00</td>\n",
       "      <td>693.00</td>\n",
       "      <td>693.00</td>\n",
       "    </tr>\n",
       "    <tr>\n",
       "      <th>mean</th>\n",
       "      <td>3.98</td>\n",
       "      <td>1.32</td>\n",
       "      <td>6.12</td>\n",
       "    </tr>\n",
       "    <tr>\n",
       "      <th>std</th>\n",
       "      <td>1.13</td>\n",
       "      <td>0.74</td>\n",
       "      <td>1.54</td>\n",
       "    </tr>\n",
       "    <tr>\n",
       "      <th>min</th>\n",
       "      <td>0.00</td>\n",
       "      <td>0.00</td>\n",
       "      <td>0.17</td>\n",
       "    </tr>\n",
       "    <tr>\n",
       "      <th>25%</th>\n",
       "      <td>3.37</td>\n",
       "      <td>0.69</td>\n",
       "      <td>5.32</td>\n",
       "    </tr>\n",
       "    <tr>\n",
       "      <th>50%</th>\n",
       "      <td>4.06</td>\n",
       "      <td>1.39</td>\n",
       "      <td>6.41</td>\n",
       "    </tr>\n",
       "    <tr>\n",
       "      <th>75%</th>\n",
       "      <td>4.78</td>\n",
       "      <td>1.79</td>\n",
       "      <td>7.20</td>\n",
       "    </tr>\n",
       "    <tr>\n",
       "      <th>max</th>\n",
       "      <td>5.89</td>\n",
       "      <td>3.00</td>\n",
       "      <td>9.56</td>\n",
       "    </tr>\n",
       "  </tbody>\n",
       "</table>\n",
       "</div>"
      ],
      "text/plain": [
       "       Recency  Frequency  Monetary\n",
       "count   693.00     693.00    693.00\n",
       "mean      3.98       1.32      6.12\n",
       "std       1.13       0.74      1.54\n",
       "min       0.00       0.00      0.17\n",
       "25%       3.37       0.69      5.32\n",
       "50%       4.06       1.39      6.41\n",
       "75%       4.78       1.79      7.20\n",
       "max       5.89       3.00      9.56"
      ]
     },
     "execution_count": 98,
     "metadata": {},
     "output_type": "execute_result"
    }
   ],
   "source": [
    "# Applying log to unskew the data\n",
    "\n",
    "# Apply log transformation to to RFM\n",
    "\n",
    "datamart_log = np.log(datamart)\n",
    "\n",
    "datamart_log.describe().round(2)"
   ]
  },
  {
   "cell_type": "code",
   "execution_count": 99,
   "metadata": {
    "scrolled": true
   },
   "outputs": [
    {
     "data": {
      "image/png": "[encoded data removed]",
      "text/plain": [
       "<Figure size 1080x288 with 3 Axes>"
      ]
     },
     "metadata": {
      "needs_background": "light"
     },
     "output_type": "display_data"
    }
   ],
   "source": [
    "# Use a distplot to visualize the distribution of the data\n",
    "\n",
    "plt.figure(figsize=(15,4))\n",
    "\n",
    "# Plot distribution of Recency\n",
    "plt.subplot(1, 4, 1) \n",
    "sns.distplot(datamart_log[\"Recency\"], color = \"g\")\n",
    "\n",
    "\n",
    "# Plot distribution of Frequency\n",
    "plt.subplot(1, 4, 2) \n",
    "sns.distplot(datamart_log[\"Frequency\"], color = \"g\")\n",
    "\n",
    "\n",
    "# Plot distribution of Monetary\n",
    "plt.subplot(1, 4, 3) \n",
    "sns.distplot(datamart_log[\"Monetary\"], color = \"g\")\n",
    "\n",
    "\n",
    "# Show the plot\n",
    "plt.show()"
   ]
  },
  {
   "cell_type": "markdown",
   "metadata": {},
   "source": [
    "The distribution of Recency, Frequency and Monetary values after taking log are assuming normality."
   ]
  },
  {
   "cell_type": "markdown",
   "metadata": {},
   "source": [
    "#### Scaling and Centering the data using StandardScaler "
   ]
  },
  {
   "cell_type": "code",
   "execution_count": 100,
   "metadata": {},
   "outputs": [
    {
     "name": "stdout",
     "output_type": "stream",
     "text": [
      "mean:  [-0.  0. -0.]\n",
      "std:  [1. 1. 1.]\n"
     ]
    }
   ],
   "source": [
    "# Normalize the variables\n",
    "\n",
    "from sklearn.preprocessing import StandardScaler\n",
    "\n",
    "# Instantiate scaler object\n",
    "scaler = StandardScaler()\n",
    "scaler.fit(datamart_log)\n",
    "\n",
    "# Store for clustering\n",
    "datamart_normalized = scaler.transform(datamart_log)\n",
    "\n",
    "print(\"mean: \", datamart_normalized.mean(axis=0).round(2))\n",
    "print(\"std: \", datamart_normalized.std(axis=0).round(2))"
   ]
  },
  {
   "cell_type": "code",
   "execution_count": 101,
   "metadata": {},
   "outputs": [],
   "source": [
    "# Convert into a dataframe\n",
    "\n",
    "datamart_normalized = pd.DataFrame(data=datamart_normalized,\n",
    "                                   index=datamart_log.index, \n",
    "                                   columns=datamart_log.columns)"
   ]
  },
  {
   "cell_type": "code",
   "execution_count": 102,
   "metadata": {},
   "outputs": [
    {
     "data": {
      "text/html": [
       "<div>\n",
       "<style scoped>\n",
       "    .dataframe tbody tr th:only-of-type {\n",
       "        vertical-align: middle;\n",
       "    }\n",
       "\n",
       "    .dataframe tbody tr th {\n",
       "        vertical-align: top;\n",
       "    }\n",
       "\n",
       "    .dataframe thead th {\n",
       "        text-align: right;\n",
       "    }\n",
       "</style>\n",
       "<table border=\"1\" class=\"dataframe\">\n",
       "  <thead>\n",
       "    <tr style=\"text-align: right;\">\n",
       "      <th></th>\n",
       "      <th>Recency</th>\n",
       "      <th>Frequency</th>\n",
       "      <th>Monetary</th>\n",
       "    </tr>\n",
       "  </thead>\n",
       "  <tbody>\n",
       "    <tr>\n",
       "      <th>count</th>\n",
       "      <td>6.930000e+02</td>\n",
       "      <td>6.930000e+02</td>\n",
       "      <td>6.930000e+02</td>\n",
       "    </tr>\n",
       "    <tr>\n",
       "      <th>mean</th>\n",
       "      <td>-3.748805e-17</td>\n",
       "      <td>1.438644e-16</td>\n",
       "      <td>-4.677996e-17</td>\n",
       "    </tr>\n",
       "    <tr>\n",
       "      <th>std</th>\n",
       "      <td>1.000722e+00</td>\n",
       "      <td>1.000722e+00</td>\n",
       "      <td>1.000722e+00</td>\n",
       "    </tr>\n",
       "    <tr>\n",
       "      <th>min</th>\n",
       "      <td>-3.517407e+00</td>\n",
       "      <td>-1.791354e+00</td>\n",
       "      <td>-3.862901e+00</td>\n",
       "    </tr>\n",
       "    <tr>\n",
       "      <th>25%</th>\n",
       "      <td>-5.449444e-01</td>\n",
       "      <td>-8.509592e-01</td>\n",
       "      <td>-5.193476e-01</td>\n",
       "    </tr>\n",
       "    <tr>\n",
       "      <th>50%</th>\n",
       "      <td>6.692751e-02</td>\n",
       "      <td>8.943583e-02</td>\n",
       "      <td>1.853523e-01</td>\n",
       "    </tr>\n",
       "    <tr>\n",
       "      <th>75%</th>\n",
       "      <td>7.013388e-01</td>\n",
       "      <td>6.395317e-01</td>\n",
       "      <td>6.993322e-01</td>\n",
       "    </tr>\n",
       "    <tr>\n",
       "      <th>max</th>\n",
       "      <td>1.685846e+00</td>\n",
       "      <td>2.272965e+00</td>\n",
       "      <td>2.235293e+00</td>\n",
       "    </tr>\n",
       "  </tbody>\n",
       "</table>\n",
       "</div>"
      ],
      "text/plain": [
       "            Recency     Frequency      Monetary\n",
       "count  6.930000e+02  6.930000e+02  6.930000e+02\n",
       "mean  -3.748805e-17  1.438644e-16 -4.677996e-17\n",
       "std    1.000722e+00  1.000722e+00  1.000722e+00\n",
       "min   -3.517407e+00 -1.791354e+00 -3.862901e+00\n",
       "25%   -5.449444e-01 -8.509592e-01 -5.193476e-01\n",
       "50%    6.692751e-02  8.943583e-02  1.853523e-01\n",
       "75%    7.013388e-01  6.395317e-01  6.993322e-01\n",
       "max    1.685846e+00  2.272965e+00  2.235293e+00"
      ]
     },
     "execution_count": 102,
     "metadata": {},
     "output_type": "execute_result"
    }
   ],
   "source": [
    "# Explore the summary statistics of datamart\n",
    "\n",
    "datamart_normalized.describe()"
   ]
  },
  {
   "cell_type": "markdown",
   "metadata": {},
   "source": [
    "### Visualize the normalized variables"
   ]
  },
  {
   "cell_type": "code",
   "execution_count": 103,
   "metadata": {},
   "outputs": [
    {
     "data": {
      "image/png": "[encoded data removed]",
      "text/plain": [
       "<Figure size 1080x288 with 3 Axes>"
      ]
     },
     "metadata": {
      "needs_background": "light"
     },
     "output_type": "display_data"
    }
   ],
   "source": [
    "# Use a distplot to visualize the distribution of the data\n",
    "\n",
    "plt.figure(figsize=(15,4))\n",
    "\n",
    "# Plot recency distribution\n",
    "plt.subplot(1, 4, 1)\n",
    "sns.distplot(datamart_normalized[\"Recency\"], color = \"g\")\n",
    "\n",
    "# Plot frequency distribution\n",
    "plt.subplot(1, 4, 2)\n",
    "sns.distplot(datamart_normalized[\"Frequency\"], color = \"g\")\n",
    "\n",
    "# Plot monetary value distribution\n",
    "plt.subplot(1, 4, 3)\n",
    "sns.distplot(datamart_normalized[\"Monetary\"], color = \"g\")\n",
    "\n",
    "\n",
    "# Show the plot\n",
    "plt.show()"
   ]
  },
  {
   "cell_type": "markdown",
   "metadata": {},
   "source": [
    "### K - Means Model"
   ]
  },
  {
   "cell_type": "markdown",
   "metadata": {},
   "source": [
    "#### Choosing the number of clusters"
   ]
  },
  {
   "cell_type": "code",
   "execution_count": 104,
   "metadata": {},
   "outputs": [],
   "source": [
    "# Fit KMeans and calculate SSE for each k\n",
    "\n",
    "sse = {}\n",
    "for k in range(1, 15):\n",
    "  \n",
    "    # Initialize KMeans with k clusters\n",
    "    kmeans = KMeans(n_clusters=k, random_state=42)\n",
    "    \n",
    "    # Fit KMeans on the normalized dataset\n",
    "    kmeans.fit(datamart_normalized)\n",
    "    \n",
    "    # Assign sum of squared distances to k element of dictionary\n",
    "    # sse is sum of squared distances to closest cluster center\n",
    "    sse[k] = kmeans.inertia_ "
   ]
  },
  {
   "cell_type": "markdown",
   "metadata": {},
   "source": [
    " ##### Creating clusters using KMeans Algorithm"
   ]
  },
  {
   "cell_type": "markdown",
   "metadata": {},
   "source": [
    "Clusters represent groups with similar behaviours.\n",
    "\n",
    "A graphical approach ('the elbow method') is employed in selecting the best number of clusters.\n",
    "\n",
    "The number of clusters at which the sum of square distances reduces insignificantly is chosen as the optimum number of clusters.\n",
    "\n",
    "At this point, the curve seizes to bend significantly.\n",
    "\n",
    "It is important to further investigate for clusters in the neighbourhood of the elbow coupled with their corresponding summary RFM values in order to select the approprate cluster number that best explains group behaviour.\n",
    "\n"
   ]
  },
  {
   "cell_type": "code",
   "execution_count": 105,
   "metadata": {},
   "outputs": [
    {
     "data": {
      "image/png": "[encoded data removed]",
      "text/plain": [
       "<Figure size 720x576 with 1 Axes>"
      ]
     },
     "metadata": {
      "needs_background": "light"
     },
     "output_type": "display_data"
    }
   ],
   "source": [
    "plt.figure(figsize = (10,8))\n",
    "\n",
    "# Plot SSE values for each key in the dictionary\n",
    "sns.pointplot(x=list(sse.keys()), \n",
    "              y=list(sse.values()),\n",
    "              color = \"g\")\n",
    "\n",
    "# Add the plot title \"The Elbow Method\"\n",
    "plt.title(\"The Elbow Method\")\n",
    "\n",
    "# Add X-axis label \"k\"\n",
    "plt.xlabel(\"Number of clusters(k)\")\n",
    "\n",
    "# Add Y-axis label \"SSE\"\n",
    "plt.ylabel(\"Sum of square distances(SSE)\")\n",
    "\n",
    "\n",
    "plt.show()"
   ]
  },
  {
   "cell_type": "markdown",
   "metadata": {},
   "source": [
    "From the elbow diagram, recommended number of cluster is 4. However there is a need to further investigate for clusters of 3,4,5 coupled with their corresponding RFM values in order to choose the approprate cluster number that best explain customer behavior."
   ]
  },
  {
   "cell_type": "markdown",
   "metadata": {},
   "source": [
    "#### Investigating a  Cluster of 3"
   ]
  },
  {
   "cell_type": "code",
   "execution_count": 106,
   "metadata": {},
   "outputs": [],
   "source": [
    "# Initialize KMeans\n",
    "kmeans = KMeans(n_clusters=3, random_state=1) \n",
    "\n",
    "# Fit k-means clustering on the normalized data set\n",
    "kmeans.fit(datamart_normalized)\n",
    "\n",
    "# Extract cluster labels\n",
    "cluster_labels = kmeans.labels_"
   ]
  },
  {
   "cell_type": "code",
   "execution_count": 107,
   "metadata": {},
   "outputs": [
    {
     "data": {
      "text/html": [
       "<div>\n",
       "<style scoped>\n",
       "    .dataframe tbody tr th:only-of-type {\n",
       "        vertical-align: middle;\n",
       "    }\n",
       "\n",
       "    .dataframe tbody tr th {\n",
       "        vertical-align: top;\n",
       "    }\n",
       "\n",
       "    .dataframe thead tr th {\n",
       "        text-align: left;\n",
       "    }\n",
       "\n",
       "    .dataframe thead tr:last-of-type th {\n",
       "        text-align: right;\n",
       "    }\n",
       "</style>\n",
       "<table border=\"1\" class=\"dataframe\">\n",
       "  <thead>\n",
       "    <tr>\n",
       "      <th></th>\n",
       "      <th>Recency</th>\n",
       "      <th>Frequency</th>\n",
       "      <th colspan=\"2\" halign=\"left\">Monetary</th>\n",
       "    </tr>\n",
       "    <tr>\n",
       "      <th></th>\n",
       "      <th>mean</th>\n",
       "      <th>mean</th>\n",
       "      <th>mean</th>\n",
       "      <th>count</th>\n",
       "    </tr>\n",
       "    <tr>\n",
       "      <th>Cluster</th>\n",
       "      <th></th>\n",
       "      <th></th>\n",
       "      <th></th>\n",
       "      <th></th>\n",
       "    </tr>\n",
       "  </thead>\n",
       "  <tbody>\n",
       "    <tr>\n",
       "      <th>0</th>\n",
       "      <td>100.8</td>\n",
       "      <td>5.9</td>\n",
       "      <td>1489.2</td>\n",
       "      <td>293</td>\n",
       "    </tr>\n",
       "    <tr>\n",
       "      <th>1</th>\n",
       "      <td>131.3</td>\n",
       "      <td>1.8</td>\n",
       "      <td>176.4</td>\n",
       "      <td>217</td>\n",
       "    </tr>\n",
       "    <tr>\n",
       "      <th>2</th>\n",
       "      <td>17.3</td>\n",
       "      <td>6.5</td>\n",
       "      <td>1413.1</td>\n",
       "      <td>183</td>\n",
       "    </tr>\n",
       "  </tbody>\n",
       "</table>\n",
       "</div>"
      ],
      "text/plain": [
       "        Recency Frequency Monetary      \n",
       "           mean      mean     mean count\n",
       "Cluster                                 \n",
       "0         100.8       5.9   1489.2   293\n",
       "1         131.3       1.8    176.4   217\n",
       "2          17.3       6.5   1413.1   183"
      ]
     },
     "execution_count": 107,
     "metadata": {},
     "output_type": "execute_result"
    }
   ],
   "source": [
    "# Create a Dataframe by adding a new cluster label column\n",
    "datamart_rfm_k3 = datamart.assign(Cluster = cluster_labels)\n",
    "\n",
    "# Gruop the data by cluster\n",
    "grouped = datamart_rfm_k3.groupby([\"Cluster\"])\n",
    "\n",
    "# Calculate average RFM values and segment sizes per cluster value\n",
    "grouped.agg({\n",
    "    \"Recency\" : \"mean\", \n",
    "    \"Frequency\": \"mean\", \"Monetary\":[\"mean\", \"count\"]\n",
    "    }).round(1)"
   ]
  },
  {
   "cell_type": "markdown",
   "metadata": {},
   "source": [
    "#### Investigating a  Cluster of 4"
   ]
  },
  {
   "cell_type": "code",
   "execution_count": 108,
   "metadata": {},
   "outputs": [],
   "source": [
    "# Initialize KMeans\n",
    "kmeans = KMeans(n_clusters=4, random_state=1) \n",
    "\n",
    "# Fit k-means clustering on the normalized data set\n",
    "kmeans.fit(datamart_normalized)\n",
    "\n",
    "# Extract cluster labels\n",
    "cluster_labels = kmeans.labels_"
   ]
  },
  {
   "cell_type": "code",
   "execution_count": 109,
   "metadata": {},
   "outputs": [
    {
     "data": {
      "text/html": [
       "<div>\n",
       "<style scoped>\n",
       "    .dataframe tbody tr th:only-of-type {\n",
       "        vertical-align: middle;\n",
       "    }\n",
       "\n",
       "    .dataframe tbody tr th {\n",
       "        vertical-align: top;\n",
       "    }\n",
       "\n",
       "    .dataframe thead tr th {\n",
       "        text-align: left;\n",
       "    }\n",
       "\n",
       "    .dataframe thead tr:last-of-type th {\n",
       "        text-align: right;\n",
       "    }\n",
       "</style>\n",
       "<table border=\"1\" class=\"dataframe\">\n",
       "  <thead>\n",
       "    <tr>\n",
       "      <th></th>\n",
       "      <th>Recency</th>\n",
       "      <th>Frequency</th>\n",
       "      <th colspan=\"2\" halign=\"left\">Monetary</th>\n",
       "    </tr>\n",
       "    <tr>\n",
       "      <th></th>\n",
       "      <th>mean</th>\n",
       "      <th>mean</th>\n",
       "      <th>mean</th>\n",
       "      <th>count</th>\n",
       "    </tr>\n",
       "    <tr>\n",
       "      <th>Cluster</th>\n",
       "      <th></th>\n",
       "      <th></th>\n",
       "      <th></th>\n",
       "      <th></th>\n",
       "    </tr>\n",
       "  </thead>\n",
       "  <tbody>\n",
       "    <tr>\n",
       "      <th>0</th>\n",
       "      <td>70.4</td>\n",
       "      <td>7.3</td>\n",
       "      <td>1940.0</td>\n",
       "      <td>235</td>\n",
       "    </tr>\n",
       "    <tr>\n",
       "      <th>1</th>\n",
       "      <td>135.5</td>\n",
       "      <td>1.4</td>\n",
       "      <td>65.0</td>\n",
       "      <td>122</td>\n",
       "    </tr>\n",
       "    <tr>\n",
       "      <th>2</th>\n",
       "      <td>124.3</td>\n",
       "      <td>3.2</td>\n",
       "      <td>537.2</td>\n",
       "      <td>215</td>\n",
       "    </tr>\n",
       "    <tr>\n",
       "      <th>3</th>\n",
       "      <td>11.6</td>\n",
       "      <td>6.1</td>\n",
       "      <td>1271.8</td>\n",
       "      <td>121</td>\n",
       "    </tr>\n",
       "  </tbody>\n",
       "</table>\n",
       "</div>"
      ],
      "text/plain": [
       "        Recency Frequency Monetary      \n",
       "           mean      mean     mean count\n",
       "Cluster                                 \n",
       "0          70.4       7.3   1940.0   235\n",
       "1         135.5       1.4     65.0   122\n",
       "2         124.3       3.2    537.2   215\n",
       "3          11.6       6.1   1271.8   121"
      ]
     },
     "execution_count": 109,
     "metadata": {},
     "output_type": "execute_result"
    }
   ],
   "source": [
    "# Create a Dataframe by adding a new cluster label column\n",
    "datamart_rfm_k4 = datamart.assign(Cluster = cluster_labels)\n",
    "\n",
    "# Gruop the data by cluster\n",
    "grouped = datamart_rfm_k4.groupby([\"Cluster\"])\n",
    "\n",
    "# Calculate average RFM values and segment sizes per cluster value\n",
    "datamart_rfm_k4_grouped=grouped.agg({\n",
    "    \"Recency\" : \"mean\", \n",
    "    \"Frequency\": \"mean\", \"Monetary\":[\"mean\", \"count\"]\n",
    "    }).round(1)\n",
    "datamart_rfm_k4_grouped"
   ]
  },
  {
   "cell_type": "markdown",
   "metadata": {},
   "source": [
    "#### Investigating a  Cluster of 5"
   ]
  },
  {
   "cell_type": "code",
   "execution_count": 110,
   "metadata": {},
   "outputs": [],
   "source": [
    "# Initialize KMeans\n",
    "kmeans = KMeans(n_clusters=5, random_state=1) \n",
    "\n",
    "# Fit k-means clustering on the normalized data set\n",
    "kmeans.fit(datamart_normalized)\n",
    "\n",
    "# Extract cluster labels\n",
    "cluster_labels = kmeans.labels_"
   ]
  },
  {
   "cell_type": "code",
   "execution_count": 111,
   "metadata": {},
   "outputs": [
    {
     "data": {
      "text/html": [
       "<div>\n",
       "<style scoped>\n",
       "    .dataframe tbody tr th:only-of-type {\n",
       "        vertical-align: middle;\n",
       "    }\n",
       "\n",
       "    .dataframe tbody tr th {\n",
       "        vertical-align: top;\n",
       "    }\n",
       "\n",
       "    .dataframe thead tr th {\n",
       "        text-align: left;\n",
       "    }\n",
       "\n",
       "    .dataframe thead tr:last-of-type th {\n",
       "        text-align: right;\n",
       "    }\n",
       "</style>\n",
       "<table border=\"1\" class=\"dataframe\">\n",
       "  <thead>\n",
       "    <tr>\n",
       "      <th></th>\n",
       "      <th>Recency</th>\n",
       "      <th>Frequency</th>\n",
       "      <th colspan=\"2\" halign=\"left\">Monetary</th>\n",
       "    </tr>\n",
       "    <tr>\n",
       "      <th></th>\n",
       "      <th>mean</th>\n",
       "      <th>mean</th>\n",
       "      <th>mean</th>\n",
       "      <th>count</th>\n",
       "    </tr>\n",
       "    <tr>\n",
       "      <th>Cluster</th>\n",
       "      <th></th>\n",
       "      <th></th>\n",
       "      <th></th>\n",
       "      <th></th>\n",
       "    </tr>\n",
       "  </thead>\n",
       "  <tbody>\n",
       "    <tr>\n",
       "      <th>0</th>\n",
       "      <td>56.6</td>\n",
       "      <td>7.4</td>\n",
       "      <td>1918.6</td>\n",
       "      <td>219</td>\n",
       "    </tr>\n",
       "    <tr>\n",
       "      <th>1</th>\n",
       "      <td>170.8</td>\n",
       "      <td>1.3</td>\n",
       "      <td>89.6</td>\n",
       "      <td>107</td>\n",
       "    </tr>\n",
       "    <tr>\n",
       "      <th>2</th>\n",
       "      <td>9.1</td>\n",
       "      <td>7.0</td>\n",
       "      <td>1570.7</td>\n",
       "      <td>87</td>\n",
       "    </tr>\n",
       "    <tr>\n",
       "      <th>3</th>\n",
       "      <td>32.6</td>\n",
       "      <td>2.6</td>\n",
       "      <td>205.2</td>\n",
       "      <td>93</td>\n",
       "    </tr>\n",
       "    <tr>\n",
       "      <th>4</th>\n",
       "      <td>142.9</td>\n",
       "      <td>3.7</td>\n",
       "      <td>790.0</td>\n",
       "      <td>187</td>\n",
       "    </tr>\n",
       "  </tbody>\n",
       "</table>\n",
       "</div>"
      ],
      "text/plain": [
       "        Recency Frequency Monetary      \n",
       "           mean      mean     mean count\n",
       "Cluster                                 \n",
       "0          56.6       7.4   1918.6   219\n",
       "1         170.8       1.3     89.6   107\n",
       "2           9.1       7.0   1570.7    87\n",
       "3          32.6       2.6    205.2    93\n",
       "4         142.9       3.7    790.0   187"
      ]
     },
     "execution_count": 111,
     "metadata": {},
     "output_type": "execute_result"
    }
   ],
   "source": [
    "# Create a Dataframe by adding a new cluster label column\n",
    "datamart_rfm_k5 = datamart.assign(Cluster = cluster_labels)\n",
    "\n",
    "# Gruop the data by cluster\n",
    "grouped = datamart_rfm_k5.groupby([\"Cluster\"])\n",
    "\n",
    "# Calculate average RFM values and segment sizes per cluster value\n",
    "grouped.agg({\n",
    "    \"Recency\" : \"mean\", \n",
    "    \"Frequency\": \"mean\", \"Monetary\":[\"mean\", \"count\"]\n",
    "    }).round(1)"
   ]
  },
  {
   "cell_type": "markdown",
   "metadata": {},
   "source": [
    "Based on the results above. A cluster of 4 present a more distinct grouping of customers. Hence the chosen Cluster is 4."
   ]
  },
  {
   "cell_type": "markdown",
   "metadata": {},
   "source": [
    "## Customer Persona"
   ]
  },
  {
   "cell_type": "code",
   "execution_count": 112,
   "metadata": {},
   "outputs": [
    {
     "data": {
      "text/html": [
       "<div>\n",
       "<style scoped>\n",
       "    .dataframe tbody tr th:only-of-type {\n",
       "        vertical-align: middle;\n",
       "    }\n",
       "\n",
       "    .dataframe tbody tr th {\n",
       "        vertical-align: top;\n",
       "    }\n",
       "\n",
       "    .dataframe thead th {\n",
       "        text-align: right;\n",
       "    }\n",
       "</style>\n",
       "<table border=\"1\" class=\"dataframe\">\n",
       "  <thead>\n",
       "    <tr style=\"text-align: right;\">\n",
       "      <th></th>\n",
       "      <th>Recency</th>\n",
       "      <th>Frequency</th>\n",
       "      <th>Monetary</th>\n",
       "      <th>Cluster</th>\n",
       "    </tr>\n",
       "    <tr>\n",
       "      <th>Customer ID</th>\n",
       "      <th></th>\n",
       "      <th></th>\n",
       "      <th></th>\n",
       "      <th></th>\n",
       "    </tr>\n",
       "  </thead>\n",
       "  <tbody>\n",
       "    <tr>\n",
       "      <th>AA-10315</th>\n",
       "      <td>185</td>\n",
       "      <td>2</td>\n",
       "      <td>374.480</td>\n",
       "      <td>Silver</td>\n",
       "    </tr>\n",
       "    <tr>\n",
       "      <th>AA-10375</th>\n",
       "      <td>20</td>\n",
       "      <td>5</td>\n",
       "      <td>206.732</td>\n",
       "      <td>Gold</td>\n",
       "    </tr>\n",
       "    <tr>\n",
       "      <th>AA-10480</th>\n",
       "      <td>260</td>\n",
       "      <td>1</td>\n",
       "      <td>15.552</td>\n",
       "      <td>Bronze</td>\n",
       "    </tr>\n",
       "    <tr>\n",
       "      <th>AA-10645</th>\n",
       "      <td>56</td>\n",
       "      <td>1</td>\n",
       "      <td>12.960</td>\n",
       "      <td>Bronze</td>\n",
       "    </tr>\n",
       "    <tr>\n",
       "      <th>AB-10060</th>\n",
       "      <td>55</td>\n",
       "      <td>8</td>\n",
       "      <td>2936.264</td>\n",
       "      <td>Platinum</td>\n",
       "    </tr>\n",
       "  </tbody>\n",
       "</table>\n",
       "</div>"
      ],
      "text/plain": [
       "             Recency  Frequency  Monetary   Cluster\n",
       "Customer ID                                        \n",
       "AA-10315         185          2   374.480    Silver\n",
       "AA-10375          20          5   206.732      Gold\n",
       "AA-10480         260          1    15.552    Bronze\n",
       "AA-10645          56          1    12.960    Bronze\n",
       "AB-10060          55          8  2936.264  Platinum"
      ]
     },
     "execution_count": 112,
     "metadata": {},
     "output_type": "execute_result"
    }
   ],
   "source": [
    "# Rename Clusters to Platinum, Gold,Silver and Bronze, \n",
    "datamart_rfm_k4['Cluster'] = datamart_rfm_k4[['Cluster']].replace(\n",
    "                    {0:'Platinum', 3:'Gold', 2:'Silver', 1: 'Bronze'})\n",
    "datamart_rfm_k4.head()"
   ]
  },
  {
   "cell_type": "code",
   "execution_count": 113,
   "metadata": {},
   "outputs": [
    {
     "data": {
      "text/html": [
       "<div>\n",
       "<style scoped>\n",
       "    .dataframe tbody tr th:only-of-type {\n",
       "        vertical-align: middle;\n",
       "    }\n",
       "\n",
       "    .dataframe tbody tr th {\n",
       "        vertical-align: top;\n",
       "    }\n",
       "\n",
       "    .dataframe thead tr th {\n",
       "        text-align: left;\n",
       "    }\n",
       "\n",
       "    .dataframe thead tr:last-of-type th {\n",
       "        text-align: right;\n",
       "    }\n",
       "</style>\n",
       "<table border=\"1\" class=\"dataframe\">\n",
       "  <thead>\n",
       "    <tr>\n",
       "      <th></th>\n",
       "      <th>Recency</th>\n",
       "      <th>Frequency</th>\n",
       "      <th colspan=\"2\" halign=\"left\">Monetary</th>\n",
       "    </tr>\n",
       "    <tr>\n",
       "      <th></th>\n",
       "      <th>mean</th>\n",
       "      <th>mean</th>\n",
       "      <th>mean</th>\n",
       "      <th>count</th>\n",
       "    </tr>\n",
       "    <tr>\n",
       "      <th>Cluster</th>\n",
       "      <th></th>\n",
       "      <th></th>\n",
       "      <th></th>\n",
       "      <th></th>\n",
       "    </tr>\n",
       "  </thead>\n",
       "  <tbody>\n",
       "    <tr>\n",
       "      <th>Platinum</th>\n",
       "      <td>70.4</td>\n",
       "      <td>7.3</td>\n",
       "      <td>1940.0</td>\n",
       "      <td>235</td>\n",
       "    </tr>\n",
       "    <tr>\n",
       "      <th>Gold</th>\n",
       "      <td>11.6</td>\n",
       "      <td>6.1</td>\n",
       "      <td>1271.8</td>\n",
       "      <td>121</td>\n",
       "    </tr>\n",
       "    <tr>\n",
       "      <th>Silver</th>\n",
       "      <td>124.3</td>\n",
       "      <td>3.2</td>\n",
       "      <td>537.2</td>\n",
       "      <td>215</td>\n",
       "    </tr>\n",
       "    <tr>\n",
       "      <th>Bronze</th>\n",
       "      <td>135.5</td>\n",
       "      <td>1.4</td>\n",
       "      <td>65.0</td>\n",
       "      <td>122</td>\n",
       "    </tr>\n",
       "  </tbody>\n",
       "</table>\n",
       "</div>"
      ],
      "text/plain": [
       "         Recency Frequency Monetary      \n",
       "            mean      mean     mean count\n",
       "Cluster                                  \n",
       "Platinum    70.4       7.3   1940.0   235\n",
       "Gold        11.6       6.1   1271.8   121\n",
       "Silver     124.3       3.2    537.2   215\n",
       "Bronze     135.5       1.4     65.0   122"
      ]
     },
     "execution_count": 113,
     "metadata": {},
     "output_type": "execute_result"
    }
   ],
   "source": [
    "# Gruop the data by cluster\n",
    "grouped = datamart_rfm_k4.groupby([\"Cluster\"])\n",
    "\n",
    "# Calculate average RFM values and segment sizes per cluster value\n",
    "datamart_rfm_k4_grouped=grouped.agg({\n",
    "    \"Recency\" : \"mean\", \n",
    "    \"Frequency\": \"mean\", \"Monetary\":[\"mean\", \"count\"]\n",
    "    }).round(1)\n",
    "datamart_rfm_k4_grouped.sort_values(by = ('Monetary', 'mean'), ascending = False)"
   ]
  },
  {
   "cell_type": "markdown",
   "metadata": {},
   "source": [
    "### Number customers per a cluster"
   ]
  },
  {
   "cell_type": "markdown",
   "metadata": {},
   "source": [
    "\n",
    "    Platinum contains 235 customers\n",
    "    Gold contains 121 customers\n",
    "    Silver  contains 215 customers\n",
    "    Bronze contains 122 customers\n"
   ]
  },
  {
   "cell_type": "markdown",
   "metadata": {},
   "source": [
    "Platinum Group"
   ]
  },
  {
   "cell_type": "markdown",
   "metadata": {},
   "source": [
    "\n",
    "1. Customers in Platinum are the most frequent buyers and purchase the company's products more than customers in the other groups.\n",
    "2. On the average, they have 7 transactions with the company within the year 2017.\n",
    "3. They give the highest monetary value of about 1940 on an average to the company.\n",
    "4.A larger portion of the company's customers(235) fall within this group.\n",
    "5. They are the second most recent buyers. On an average, the last time a customer in this group made a transaction with the company is about 2 months away from the snap-shot date.\n",
    "\n",
    "The company must make a conscious effort to maintain customers in this group.\n"
   ]
  },
  {
   "cell_type": "markdown",
   "metadata": {},
   "source": [
    "Gold Group"
   ]
  },
  {
   "cell_type": "markdown",
   "metadata": {},
   "source": [
    "They are the second important customer group to the company.\n",
    "1. They contributeed an average of 1272 towards revenue.\n",
    "2. They are great with recency and frequency\n",
    "3. Within a span of one year, a customer in this group makes 6 transactions on the average.\n",
    "4. On an average, the last time a customer in this group made a transaction with the company is about 10 days away from the snap-shot date.\n"
   ]
  },
  {
   "cell_type": "markdown",
   "metadata": {},
   "source": [
    "Silver Group"
   ]
  },
  {
   "cell_type": "markdown",
   "metadata": {},
   "source": [
    "This is the second largest group with 215 customers.\n",
    "1. They contributed an average of 537 towards revenue.\n",
    "2. They are not performing well in terms of frenquency and recency. An avaerage of 3 transactions the whole year and last transaction is 4 months away from the snapshot date.\n",
    "\n",
    "The company should research more about their preferences and devise more strategies to attract them."
   ]
  },
  {
   "cell_type": "markdown",
   "metadata": {},
   "source": [
    " Bronze Group"
   ]
  },
  {
   "cell_type": "markdown",
   "metadata": {},
   "source": [
    "The least active group in terms of all metrics.\n",
    "1. Within a span of one year, customers in this group made an avarage of a single transaction contributing an average monetary value of 65 to the company. \n",
    "2. They are the least frequent and recent buyers. On an average, the last time a customer in this group made a transaction with the company is a little over 4 months away from the snap-shot date.\n",
    "\n",
    "The company should research more about their preferences and devise more strategies to attract them."
   ]
  },
  {
   "cell_type": "markdown",
   "metadata": {},
   "source": [
    "## Visualizing clusters with regards to the metrics"
   ]
  },
  {
   "cell_type": "markdown",
   "metadata": {},
   "source": [
    "### Relative importance of the RFM values within each cluster"
   ]
  },
  {
   "cell_type": "code",
   "execution_count": 114,
   "metadata": {},
   "outputs": [
    {
     "data": {
      "text/html": [
       "<div>\n",
       "<style scoped>\n",
       "    .dataframe tbody tr th:only-of-type {\n",
       "        vertical-align: middle;\n",
       "    }\n",
       "\n",
       "    .dataframe tbody tr th {\n",
       "        vertical-align: top;\n",
       "    }\n",
       "\n",
       "    .dataframe thead th {\n",
       "        text-align: right;\n",
       "    }\n",
       "</style>\n",
       "<table border=\"1\" class=\"dataframe\">\n",
       "  <thead>\n",
       "    <tr style=\"text-align: right;\">\n",
       "      <th></th>\n",
       "      <th>Recency</th>\n",
       "      <th>Frequency</th>\n",
       "      <th>Monetary</th>\n",
       "    </tr>\n",
       "    <tr>\n",
       "      <th>Cluster</th>\n",
       "      <th></th>\n",
       "      <th></th>\n",
       "      <th></th>\n",
       "    </tr>\n",
       "  </thead>\n",
       "  <tbody>\n",
       "    <tr>\n",
       "      <th>Bronze</th>\n",
       "      <td>0.53</td>\n",
       "      <td>-0.71</td>\n",
       "      <td>-0.94</td>\n",
       "    </tr>\n",
       "    <tr>\n",
       "      <th>Gold</th>\n",
       "      <td>-0.87</td>\n",
       "      <td>0.28</td>\n",
       "      <td>0.20</td>\n",
       "    </tr>\n",
       "    <tr>\n",
       "      <th>Platinum</th>\n",
       "      <td>-0.20</td>\n",
       "      <td>0.53</td>\n",
       "      <td>0.83</td>\n",
       "    </tr>\n",
       "    <tr>\n",
       "      <th>Silver</th>\n",
       "      <td>0.41</td>\n",
       "      <td>-0.33</td>\n",
       "      <td>-0.49</td>\n",
       "    </tr>\n",
       "  </tbody>\n",
       "</table>\n",
       "</div>"
      ],
      "text/plain": [
       "          Recency  Frequency  Monetary\n",
       "Cluster                               \n",
       "Bronze       0.53      -0.71     -0.94\n",
       "Gold        -0.87       0.28      0.20\n",
       "Platinum    -0.20       0.53      0.83\n",
       "Silver       0.41      -0.33     -0.49"
      ]
     },
     "execution_count": 114,
     "metadata": {},
     "output_type": "execute_result"
    }
   ],
   "source": [
    "# Calculate average RFM values for each cluster\n",
    "cluster_avg = datamart_rfm_k4.groupby([\"Cluster\"]).mean() \n",
    "\n",
    "# Calculate average RFM values for the total customer population\n",
    "population_avg = datamart.mean()\n",
    "\n",
    "# Calculate relative importance of cluster's attribute value compared to population\n",
    "relative_imp =  cluster_avg/ population_avg - 1\n",
    "\n",
    "# Print relative importance scores rounded to 2 decimals\n",
    "relative_imp.round(2)"
   ]
  },
  {
   "cell_type": "code",
   "execution_count": 115,
   "metadata": {},
   "outputs": [
    {
     "data": {
      "image/png": "[encoded data removed]",
      "text/plain": [
       "<Figure size 576x144 with 2 Axes>"
      ]
     },
     "metadata": {
      "needs_background": "light"
     },
     "output_type": "display_data"
    }
   ],
   "source": [
    "# Initialize a plot with a figure size of 8 by 2 inches \n",
    "plt.figure(figsize=(8,2))\n",
    "\n",
    "# Add the plot title\n",
    "plt.title(\"Relative importance of attributes\")\n",
    "\n",
    "# Plot the heatmap\n",
    "sns.heatmap(data=relative_imp, \n",
    "            annot=True,\n",
    "            fmt=\".2f\", \n",
    "            cmap=\"BuGn\")\n",
    "plt.show()"
   ]
  },
  {
   "cell_type": "markdown",
   "metadata": {},
   "source": [
    "\n",
    "\n",
    "The heatmap of the relative importance with regards to the metrics buttresses the findings from the snake plot below.\n"
   ]
  },
  {
   "cell_type": "markdown",
   "metadata": {},
   "source": [
    "### Prepare data for the snake plot"
   ]
  },
  {
   "cell_type": "code",
   "execution_count": 116,
   "metadata": {},
   "outputs": [
    {
     "data": {
      "text/html": [
       "<div>\n",
       "<style scoped>\n",
       "    .dataframe tbody tr th:only-of-type {\n",
       "        vertical-align: middle;\n",
       "    }\n",
       "\n",
       "    .dataframe tbody tr th {\n",
       "        vertical-align: top;\n",
       "    }\n",
       "\n",
       "    .dataframe thead th {\n",
       "        text-align: right;\n",
       "    }\n",
       "</style>\n",
       "<table border=\"1\" class=\"dataframe\">\n",
       "  <thead>\n",
       "    <tr style=\"text-align: right;\">\n",
       "      <th></th>\n",
       "      <th>Recency</th>\n",
       "      <th>Frequency</th>\n",
       "      <th>Monetary</th>\n",
       "      <th>Cluster</th>\n",
       "    </tr>\n",
       "    <tr>\n",
       "      <th>Customer ID</th>\n",
       "      <th></th>\n",
       "      <th></th>\n",
       "      <th></th>\n",
       "      <th></th>\n",
       "    </tr>\n",
       "  </thead>\n",
       "  <tbody>\n",
       "    <tr>\n",
       "      <th>AA-10315</th>\n",
       "      <td>1.090834</td>\n",
       "      <td>-0.850959</td>\n",
       "      <td>-0.126113</td>\n",
       "      <td>Silver</td>\n",
       "    </tr>\n",
       "    <tr>\n",
       "      <th>AA-10375</th>\n",
       "      <td>-0.872940</td>\n",
       "      <td>0.392175</td>\n",
       "      <td>-0.511995</td>\n",
       "      <td>Gold</td>\n",
       "    </tr>\n",
       "    <tr>\n",
       "      <th>AA-10480</th>\n",
       "      <td>1.391255</td>\n",
       "      <td>-1.791354</td>\n",
       "      <td>-2.192422</td>\n",
       "      <td>Bronze</td>\n",
       "    </tr>\n",
       "    <tr>\n",
       "      <th>AA-10645</th>\n",
       "      <td>0.035951</td>\n",
       "      <td>-1.791354</td>\n",
       "      <td>-2.310841</td>\n",
       "      <td>Bronze</td>\n",
       "    </tr>\n",
       "    <tr>\n",
       "      <th>AB-10060</th>\n",
       "      <td>0.020045</td>\n",
       "      <td>1.029831</td>\n",
       "      <td>1.211453</td>\n",
       "      <td>Platinum</td>\n",
       "    </tr>\n",
       "  </tbody>\n",
       "</table>\n",
       "</div>"
      ],
      "text/plain": [
       "              Recency  Frequency  Monetary   Cluster\n",
       "Customer ID                                         \n",
       "AA-10315     1.090834  -0.850959 -0.126113    Silver\n",
       "AA-10375    -0.872940   0.392175 -0.511995      Gold\n",
       "AA-10480     1.391255  -1.791354 -2.192422    Bronze\n",
       "AA-10645     0.035951  -1.791354 -2.310841    Bronze\n",
       "AB-10060     0.020045   1.029831  1.211453  Platinum"
      ]
     },
     "execution_count": 116,
     "metadata": {},
     "output_type": "execute_result"
    }
   ],
   "source": [
    "datamart_normalized = pd.DataFrame(datamart_normalized,\n",
    "                                   index=datamart_rfm_k4.index,\n",
    "                                   columns=datamart_rfm_k4.columns)\n",
    "datamart_normalized['Cluster'] = datamart_rfm_k4['Cluster']\n",
    "datamart_normalized.head()"
   ]
  },
  {
   "cell_type": "code",
   "execution_count": 117,
   "metadata": {},
   "outputs": [],
   "source": [
    "datamart_normalized['Cluster'] = datamart_normalized[['Cluster']].replace({0:'Platinum', 3:'Gold', 2:'Silver', 1: 'Bronze'})"
   ]
  },
  {
   "cell_type": "code",
   "execution_count": 118,
   "metadata": {},
   "outputs": [],
   "source": [
    "# Melt the normalized dataset and reset the index\n",
    "datamart_melt = pd.melt(datamart_normalized.reset_index(),\n",
    "                        \n",
    "                        \n",
    "# Assign Customer ID and Cluster as ID variables\n",
    "                    id_vars=['Customer ID', 'Cluster'],\n",
    "\n",
    "# Assign RFM values as value variables\n",
    "                    value_vars=['Recency', 'Frequency', 'Monetary'], \n",
    "                        \n",
    "# Name the variable and value\n",
    "                    var_name='Metric', value_name='Value')"
   ]
  },
  {
   "cell_type": "code",
   "execution_count": 119,
   "metadata": {
    "scrolled": true
   },
   "outputs": [
    {
     "data": {
      "text/html": [
       "<div>\n",
       "<style scoped>\n",
       "    .dataframe tbody tr th:only-of-type {\n",
       "        vertical-align: middle;\n",
       "    }\n",
       "\n",
       "    .dataframe tbody tr th {\n",
       "        vertical-align: top;\n",
       "    }\n",
       "\n",
       "    .dataframe thead th {\n",
       "        text-align: right;\n",
       "    }\n",
       "</style>\n",
       "<table border=\"1\" class=\"dataframe\">\n",
       "  <thead>\n",
       "    <tr style=\"text-align: right;\">\n",
       "      <th></th>\n",
       "      <th>Customer ID</th>\n",
       "      <th>Cluster</th>\n",
       "      <th>Metric</th>\n",
       "      <th>Value</th>\n",
       "    </tr>\n",
       "  </thead>\n",
       "  <tbody>\n",
       "    <tr>\n",
       "      <th>0</th>\n",
       "      <td>AA-10315</td>\n",
       "      <td>Silver</td>\n",
       "      <td>Recency</td>\n",
       "      <td>1.090834</td>\n",
       "    </tr>\n",
       "    <tr>\n",
       "      <th>1</th>\n",
       "      <td>AA-10375</td>\n",
       "      <td>Gold</td>\n",
       "      <td>Recency</td>\n",
       "      <td>-0.872940</td>\n",
       "    </tr>\n",
       "    <tr>\n",
       "      <th>2</th>\n",
       "      <td>AA-10480</td>\n",
       "      <td>Bronze</td>\n",
       "      <td>Recency</td>\n",
       "      <td>1.391255</td>\n",
       "    </tr>\n",
       "    <tr>\n",
       "      <th>3</th>\n",
       "      <td>AA-10645</td>\n",
       "      <td>Bronze</td>\n",
       "      <td>Recency</td>\n",
       "      <td>0.035951</td>\n",
       "    </tr>\n",
       "    <tr>\n",
       "      <th>4</th>\n",
       "      <td>AB-10060</td>\n",
       "      <td>Platinum</td>\n",
       "      <td>Recency</td>\n",
       "      <td>0.020045</td>\n",
       "    </tr>\n",
       "  </tbody>\n",
       "</table>\n",
       "</div>"
      ],
      "text/plain": [
       "  Customer ID   Cluster   Metric     Value\n",
       "0    AA-10315    Silver  Recency  1.090834\n",
       "1    AA-10375      Gold  Recency -0.872940\n",
       "2    AA-10480    Bronze  Recency  1.391255\n",
       "3    AA-10645    Bronze  Recency  0.035951\n",
       "4    AB-10060  Platinum  Recency  0.020045"
      ]
     },
     "execution_count": 119,
     "metadata": {},
     "output_type": "execute_result"
    }
   ],
   "source": [
    "datamart_melt.head()"
   ]
  },
  {
   "cell_type": "code",
   "execution_count": 120,
   "metadata": {},
   "outputs": [
    {
     "data": {
      "image/png": "[encoded data removed]",
      "text/plain": [
       "<Figure size 720x432 with 1 Axes>"
      ]
     },
     "metadata": {
      "needs_background": "light"
     },
     "output_type": "display_data"
    }
   ],
   "source": [
    "plt.figure(figsize = (10,6))\n",
    "\n",
    "# Add the plot title\n",
    "plt.title('Snake plot of normalized variables')\n",
    "\n",
    "# Add the x axis label\n",
    "plt.xlabel('Metric')\n",
    "\n",
    "# Add the y axis label\n",
    "plt.ylabel('Value')\n",
    "\n",
    "# Plot a line for each value of the cluster variable\n",
    "sns.lineplot(x='Metric', y='Value', hue='Cluster', data=datamart_melt, \n",
    "             palette = ['dimgrey','yellow','darkorange','blue'], ci = None)\n",
    "plt.show()"
   ]
  },
  {
   "cell_type": "markdown",
   "metadata": {},
   "source": [
    "## Conclusion and recommendation"
   ]
  },
  {
   "cell_type": "markdown",
   "metadata": {},
   "source": [
    "On a general note, the company has a low retention rate. This implies that customers easily churn from the company.\n",
    "\n",
    "I therefore recommend that research should be conducted to find out why customers easily turn away from the company.\n",
    "\n",
    "Kmeans clustering was used in grouping customers into four clusters (Groups).\n",
    "\n",
    "Based on the results, I advise the business to conduct additional study on the Silver and Bronze Groups, which is made up of inactive customers.An in-depth investigation of their preferred products should be conducted. \n",
    "\n",
    "Also, for the Platinum and Gold customer groups, discount packages, loyalty packages and other customer incencentives should be made available for them to retain them.  \n",
    "\n",
    "In order to improve target marketing, I also advise conducting further research into the products that the various clusters are associated with.\n"
   ]
  },
  {
   "cell_type": "code",
   "execution_count": 121,
   "metadata": {},
   "outputs": [
    {
     "data": {
      "text/plain": [
       "1160    AA-10315\n",
       "1159    AA-10315\n",
       "9538    AA-10375\n",
       "9539    AA-10375\n",
       "6749    AA-10375\n",
       "Name: Customer ID, dtype: object"
      ]
     },
     "execution_count": 121,
     "metadata": {},
     "output_type": "execute_result"
    }
   ],
   "source": [
    "data['Customer ID'].sort_values().head()"
   ]
  },
  {
   "cell_type": "code",
   "execution_count": 122,
   "metadata": {},
   "outputs": [],
   "source": [
    "new_data = datamart_melt.merge(data, on = 'Customer ID' )"
   ]
  },
  {
   "cell_type": "code",
   "execution_count": 123,
   "metadata": {},
   "outputs": [
    {
     "data": {
      "text/html": [
       "<div>\n",
       "<style scoped>\n",
       "    .dataframe tbody tr th:only-of-type {\n",
       "        vertical-align: middle;\n",
       "    }\n",
       "\n",
       "    .dataframe tbody tr th {\n",
       "        vertical-align: top;\n",
       "    }\n",
       "\n",
       "    .dataframe thead th {\n",
       "        text-align: right;\n",
       "    }\n",
       "</style>\n",
       "<table border=\"1\" class=\"dataframe\">\n",
       "  <thead>\n",
       "    <tr style=\"text-align: right;\">\n",
       "      <th></th>\n",
       "      <th>Customer ID</th>\n",
       "      <th>Cluster</th>\n",
       "      <th>Metric</th>\n",
       "      <th>Value</th>\n",
       "      <th>Order ID</th>\n",
       "      <th>Order Date</th>\n",
       "      <th>Ship Date</th>\n",
       "      <th>Ship Mode</th>\n",
       "      <th>Customer Name</th>\n",
       "      <th>Segment</th>\n",
       "      <th>...</th>\n",
       "      <th>Discount</th>\n",
       "      <th>Profit</th>\n",
       "      <th>Original Sales</th>\n",
       "      <th>Unit Price</th>\n",
       "      <th>Year</th>\n",
       "      <th>InvoiceDay</th>\n",
       "      <th>CohortDay</th>\n",
       "      <th>InvoiceMonth</th>\n",
       "      <th>CohortMonth</th>\n",
       "      <th>CohortIndex</th>\n",
       "    </tr>\n",
       "  </thead>\n",
       "  <tbody>\n",
       "    <tr>\n",
       "      <th>0</th>\n",
       "      <td>AA-10315</td>\n",
       "      <td>Silver</td>\n",
       "      <td>Recency</td>\n",
       "      <td>1.090834</td>\n",
       "      <td>CA-2017-147039</td>\n",
       "      <td>2017-06-29</td>\n",
       "      <td>2017-07-04</td>\n",
       "      <td>Standard Class</td>\n",
       "      <td>Alex Avila</td>\n",
       "      <td>Consumer</td>\n",
       "      <td>...</td>\n",
       "      <td>0.0</td>\n",
       "      <td>90.7350</td>\n",
       "      <td>362.94</td>\n",
       "      <td>120.98</td>\n",
       "      <td>2017</td>\n",
       "      <td>2017-06-29</td>\n",
       "      <td>2017-06-29</td>\n",
       "      <td>2017-06-01</td>\n",
       "      <td>2017-06-01</td>\n",
       "      <td>1</td>\n",
       "    </tr>\n",
       "    <tr>\n",
       "      <th>1</th>\n",
       "      <td>AA-10315</td>\n",
       "      <td>Silver</td>\n",
       "      <td>Recency</td>\n",
       "      <td>1.090834</td>\n",
       "      <td>CA-2017-147039</td>\n",
       "      <td>2017-06-29</td>\n",
       "      <td>2017-07-04</td>\n",
       "      <td>Standard Class</td>\n",
       "      <td>Alex Avila</td>\n",
       "      <td>Consumer</td>\n",
       "      <td>...</td>\n",
       "      <td>0.0</td>\n",
       "      <td>5.7700</td>\n",
       "      <td>11.54</td>\n",
       "      <td>5.77</td>\n",
       "      <td>2017</td>\n",
       "      <td>2017-06-29</td>\n",
       "      <td>2017-06-29</td>\n",
       "      <td>2017-06-01</td>\n",
       "      <td>2017-06-01</td>\n",
       "      <td>1</td>\n",
       "    </tr>\n",
       "    <tr>\n",
       "      <th>2</th>\n",
       "      <td>AA-10315</td>\n",
       "      <td>Silver</td>\n",
       "      <td>Frequency</td>\n",
       "      <td>-0.850959</td>\n",
       "      <td>CA-2017-147039</td>\n",
       "      <td>2017-06-29</td>\n",
       "      <td>2017-07-04</td>\n",
       "      <td>Standard Class</td>\n",
       "      <td>Alex Avila</td>\n",
       "      <td>Consumer</td>\n",
       "      <td>...</td>\n",
       "      <td>0.0</td>\n",
       "      <td>90.7350</td>\n",
       "      <td>362.94</td>\n",
       "      <td>120.98</td>\n",
       "      <td>2017</td>\n",
       "      <td>2017-06-29</td>\n",
       "      <td>2017-06-29</td>\n",
       "      <td>2017-06-01</td>\n",
       "      <td>2017-06-01</td>\n",
       "      <td>1</td>\n",
       "    </tr>\n",
       "    <tr>\n",
       "      <th>3</th>\n",
       "      <td>AA-10315</td>\n",
       "      <td>Silver</td>\n",
       "      <td>Frequency</td>\n",
       "      <td>-0.850959</td>\n",
       "      <td>CA-2017-147039</td>\n",
       "      <td>2017-06-29</td>\n",
       "      <td>2017-07-04</td>\n",
       "      <td>Standard Class</td>\n",
       "      <td>Alex Avila</td>\n",
       "      <td>Consumer</td>\n",
       "      <td>...</td>\n",
       "      <td>0.0</td>\n",
       "      <td>5.7700</td>\n",
       "      <td>11.54</td>\n",
       "      <td>5.77</td>\n",
       "      <td>2017</td>\n",
       "      <td>2017-06-29</td>\n",
       "      <td>2017-06-29</td>\n",
       "      <td>2017-06-01</td>\n",
       "      <td>2017-06-01</td>\n",
       "      <td>1</td>\n",
       "    </tr>\n",
       "    <tr>\n",
       "      <th>4</th>\n",
       "      <td>AA-10315</td>\n",
       "      <td>Silver</td>\n",
       "      <td>Monetary</td>\n",
       "      <td>-0.126113</td>\n",
       "      <td>CA-2017-147039</td>\n",
       "      <td>2017-06-29</td>\n",
       "      <td>2017-07-04</td>\n",
       "      <td>Standard Class</td>\n",
       "      <td>Alex Avila</td>\n",
       "      <td>Consumer</td>\n",
       "      <td>...</td>\n",
       "      <td>0.0</td>\n",
       "      <td>90.7350</td>\n",
       "      <td>362.94</td>\n",
       "      <td>120.98</td>\n",
       "      <td>2017</td>\n",
       "      <td>2017-06-29</td>\n",
       "      <td>2017-06-29</td>\n",
       "      <td>2017-06-01</td>\n",
       "      <td>2017-06-01</td>\n",
       "      <td>1</td>\n",
       "    </tr>\n",
       "    <tr>\n",
       "      <th>5</th>\n",
       "      <td>AA-10315</td>\n",
       "      <td>Silver</td>\n",
       "      <td>Monetary</td>\n",
       "      <td>-0.126113</td>\n",
       "      <td>CA-2017-147039</td>\n",
       "      <td>2017-06-29</td>\n",
       "      <td>2017-07-04</td>\n",
       "      <td>Standard Class</td>\n",
       "      <td>Alex Avila</td>\n",
       "      <td>Consumer</td>\n",
       "      <td>...</td>\n",
       "      <td>0.0</td>\n",
       "      <td>5.7700</td>\n",
       "      <td>11.54</td>\n",
       "      <td>5.77</td>\n",
       "      <td>2017</td>\n",
       "      <td>2017-06-29</td>\n",
       "      <td>2017-06-29</td>\n",
       "      <td>2017-06-01</td>\n",
       "      <td>2017-06-01</td>\n",
       "      <td>1</td>\n",
       "    </tr>\n",
       "    <tr>\n",
       "      <th>6</th>\n",
       "      <td>AA-10375</td>\n",
       "      <td>Gold</td>\n",
       "      <td>Recency</td>\n",
       "      <td>-0.872940</td>\n",
       "      <td>CA-2017-100230</td>\n",
       "      <td>2017-12-11</td>\n",
       "      <td>2017-12-15</td>\n",
       "      <td>Standard Class</td>\n",
       "      <td>Allen Armold</td>\n",
       "      <td>Consumer</td>\n",
       "      <td>...</td>\n",
       "      <td>0.2</td>\n",
       "      <td>5.0463</td>\n",
       "      <td>18.69</td>\n",
       "      <td>18.69</td>\n",
       "      <td>2017</td>\n",
       "      <td>2017-12-11</td>\n",
       "      <td>2017-09-07</td>\n",
       "      <td>2017-12-01</td>\n",
       "      <td>2017-09-01</td>\n",
       "      <td>4</td>\n",
       "    </tr>\n",
       "    <tr>\n",
       "      <th>7</th>\n",
       "      <td>AA-10375</td>\n",
       "      <td>Gold</td>\n",
       "      <td>Recency</td>\n",
       "      <td>-0.872940</td>\n",
       "      <td>CA-2017-100230</td>\n",
       "      <td>2017-12-11</td>\n",
       "      <td>2017-12-15</td>\n",
       "      <td>Standard Class</td>\n",
       "      <td>Allen Armold</td>\n",
       "      <td>Consumer</td>\n",
       "      <td>...</td>\n",
       "      <td>0.0</td>\n",
       "      <td>8.0730</td>\n",
       "      <td>17.94</td>\n",
       "      <td>5.98</td>\n",
       "      <td>2017</td>\n",
       "      <td>2017-12-11</td>\n",
       "      <td>2017-09-07</td>\n",
       "      <td>2017-12-01</td>\n",
       "      <td>2017-09-01</td>\n",
       "      <td>4</td>\n",
       "    </tr>\n",
       "    <tr>\n",
       "      <th>8</th>\n",
       "      <td>AA-10375</td>\n",
       "      <td>Gold</td>\n",
       "      <td>Recency</td>\n",
       "      <td>-0.872940</td>\n",
       "      <td>CA-2017-100230</td>\n",
       "      <td>2017-12-11</td>\n",
       "      <td>2017-12-15</td>\n",
       "      <td>Standard Class</td>\n",
       "      <td>Allen Armold</td>\n",
       "      <td>Consumer</td>\n",
       "      <td>...</td>\n",
       "      <td>0.0</td>\n",
       "      <td>29.2450</td>\n",
       "      <td>116.98</td>\n",
       "      <td>58.49</td>\n",
       "      <td>2017</td>\n",
       "      <td>2017-12-11</td>\n",
       "      <td>2017-09-07</td>\n",
       "      <td>2017-12-01</td>\n",
       "      <td>2017-09-01</td>\n",
       "      <td>4</td>\n",
       "    </tr>\n",
       "    <tr>\n",
       "      <th>9</th>\n",
       "      <td>AA-10375</td>\n",
       "      <td>Gold</td>\n",
       "      <td>Recency</td>\n",
       "      <td>-0.872940</td>\n",
       "      <td>US-2017-169488</td>\n",
       "      <td>2017-09-07</td>\n",
       "      <td>2017-09-09</td>\n",
       "      <td>First Class</td>\n",
       "      <td>Allen Armold</td>\n",
       "      <td>Consumer</td>\n",
       "      <td>...</td>\n",
       "      <td>0.0</td>\n",
       "      <td>7.7740</td>\n",
       "      <td>16.90</td>\n",
       "      <td>3.38</td>\n",
       "      <td>2017</td>\n",
       "      <td>2017-09-07</td>\n",
       "      <td>2017-09-07</td>\n",
       "      <td>2017-09-01</td>\n",
       "      <td>2017-09-01</td>\n",
       "      <td>1</td>\n",
       "    </tr>\n",
       "  </tbody>\n",
       "</table>\n",
       "<p>10 rows × 31 columns</p>\n",
       "</div>"
      ],
      "text/plain": [
       "  Customer ID Cluster     Metric     Value        Order ID Order Date  \\\n",
       "0    AA-10315  Silver    Recency  1.090834  CA-2017-147039 2017-06-29   \n",
       "1    AA-10315  Silver    Recency  1.090834  CA-2017-147039 2017-06-29   \n",
       "2    AA-10315  Silver  Frequency -0.850959  CA-2017-147039 2017-06-29   \n",
       "3    AA-10315  Silver  Frequency -0.850959  CA-2017-147039 2017-06-29   \n",
       "4    AA-10315  Silver   Monetary -0.126113  CA-2017-147039 2017-06-29   \n",
       "5    AA-10315  Silver   Monetary -0.126113  CA-2017-147039 2017-06-29   \n",
       "6    AA-10375    Gold    Recency -0.872940  CA-2017-100230 2017-12-11   \n",
       "7    AA-10375    Gold    Recency -0.872940  CA-2017-100230 2017-12-11   \n",
       "8    AA-10375    Gold    Recency -0.872940  CA-2017-100230 2017-12-11   \n",
       "9    AA-10375    Gold    Recency -0.872940  US-2017-169488 2017-09-07   \n",
       "\n",
       "   Ship Date       Ship Mode Customer Name   Segment  ... Discount   Profit  \\\n",
       "0 2017-07-04  Standard Class    Alex Avila  Consumer  ...      0.0  90.7350   \n",
       "1 2017-07-04  Standard Class    Alex Avila  Consumer  ...      0.0   5.7700   \n",
       "2 2017-07-04  Standard Class    Alex Avila  Consumer  ...      0.0  90.7350   \n",
       "3 2017-07-04  Standard Class    Alex Avila  Consumer  ...      0.0   5.7700   \n",
       "4 2017-07-04  Standard Class    Alex Avila  Consumer  ...      0.0  90.7350   \n",
       "5 2017-07-04  Standard Class    Alex Avila  Consumer  ...      0.0   5.7700   \n",
       "6 2017-12-15  Standard Class  Allen Armold  Consumer  ...      0.2   5.0463   \n",
       "7 2017-12-15  Standard Class  Allen Armold  Consumer  ...      0.0   8.0730   \n",
       "8 2017-12-15  Standard Class  Allen Armold  Consumer  ...      0.0  29.2450   \n",
       "9 2017-09-09     First Class  Allen Armold  Consumer  ...      0.0   7.7740   \n",
       "\n",
       "  Original Sales Unit Price  Year InvoiceDay  CohortDay InvoiceMonth  \\\n",
       "0         362.94     120.98  2017 2017-06-29 2017-06-29   2017-06-01   \n",
       "1          11.54       5.77  2017 2017-06-29 2017-06-29   2017-06-01   \n",
       "2         362.94     120.98  2017 2017-06-29 2017-06-29   2017-06-01   \n",
       "3          11.54       5.77  2017 2017-06-29 2017-06-29   2017-06-01   \n",
       "4         362.94     120.98  2017 2017-06-29 2017-06-29   2017-06-01   \n",
       "5          11.54       5.77  2017 2017-06-29 2017-06-29   2017-06-01   \n",
       "6          18.69      18.69  2017 2017-12-11 2017-09-07   2017-12-01   \n",
       "7          17.94       5.98  2017 2017-12-11 2017-09-07   2017-12-01   \n",
       "8         116.98      58.49  2017 2017-12-11 2017-09-07   2017-12-01   \n",
       "9          16.90       3.38  2017 2017-09-07 2017-09-07   2017-09-01   \n",
       "\n",
       "  CohortMonth  CohortIndex  \n",
       "0  2017-06-01            1  \n",
       "1  2017-06-01            1  \n",
       "2  2017-06-01            1  \n",
       "3  2017-06-01            1  \n",
       "4  2017-06-01            1  \n",
       "5  2017-06-01            1  \n",
       "6  2017-09-01            4  \n",
       "7  2017-09-01            4  \n",
       "8  2017-09-01            4  \n",
       "9  2017-09-01            1  \n",
       "\n",
       "[10 rows x 31 columns]"
      ]
     },
     "execution_count": 123,
     "metadata": {},
     "output_type": "execute_result"
    }
   ],
   "source": [
    "new_data.head(10)"
   ]
  },
  {
   "cell_type": "code",
   "execution_count": 124,
   "metadata": {},
   "outputs": [],
   "source": [
    "new_data['Year'] = pd.to_datetime(new_data['Year'], format = '%Y')"
   ]
  },
  {
   "cell_type": "code",
   "execution_count": 125,
   "metadata": {
    "scrolled": true
   },
   "outputs": [
    {
     "data": {
      "text/plain": [
       "0   2017-01-01\n",
       "1   2017-01-01\n",
       "2   2017-01-01\n",
       "3   2017-01-01\n",
       "4   2017-01-01\n",
       "Name: Year, dtype: datetime64[ns]"
      ]
     },
     "execution_count": 125,
     "metadata": {},
     "output_type": "execute_result"
    }
   ],
   "source": [
    "new_data['Year'].head()"
   ]
  },
  {
   "cell_type": "code",
   "execution_count": 126,
   "metadata": {},
   "outputs": [],
   "source": [
    "new_data.to_csv('superstore.csv', index = False)"
   ]
  },
  {
   "cell_type": "code",
   "execution_count": null,
   "metadata": {},
   "outputs": [],
   "source": []
  }
 ],
 "metadata": {
  "kernelspec": {
   "display_name": "Python 3 (ipykernel)",
   "language": "python",
   "name": "python3"
  },
  "language_info": {
   "codemirror_mode": {
    "name": "ipython",
    "version": 3
   },
   "file_extension": ".py",
   "mimetype": "text/x-python",
   "name": "python",
   "nbconvert_exporter": "python",
   "pygments_lexer": "ipython3",
   "version": "3.9.12"
  }
 },
 "nbformat": 4,
 "nbformat_minor": 4
}
