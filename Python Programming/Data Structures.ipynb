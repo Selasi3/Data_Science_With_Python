{
 "cells": [
  {
   "cell_type": "markdown",
   "id": "7dd8d3f0",
   "metadata": {},
   "source": [
    "### Data Structures"
   ]
  },
  {
   "cell_type": "markdown",
   "id": "4e14e478",
   "metadata": {},
   "source": [
    "The basic data structure in Python are:\n",
    "\n",
    "- List\n",
    "- Tuple\n",
    "- Sets\n",
    "- Dictionary"
   ]
  },
  {
   "cell_type": "markdown",
   "id": "78ce5fdf",
   "metadata": {},
   "source": [
    "### List"
   ]
  },
  {
   "cell_type": "markdown",
   "id": "55aa9237",
   "metadata": {},
   "source": [
    "- List is an ordered and mutable data sturcture that can hold different data types or data sturcture.\n",
    "\n",
    "- Lists are defined by list() or [] and items within the list are separated by comma\n",
    "\n",
    "- Items in a list are accessed by its index.\n",
    "\n",
    "- The index of the first item in a list is 0 and the index of the last item in a list is -1.\n",
    "\n",
    "- List can be sliced to select a group of items from the list."
   ]
  },
  {
   "cell_type": "code",
   "execution_count": 1,
   "id": "c7e93fe9",
   "metadata": {},
   "outputs": [],
   "source": [
    "empty_list = list()"
   ]
  },
  {
   "cell_type": "code",
   "execution_count": 2,
   "id": "327340ab",
   "metadata": {},
   "outputs": [
    {
     "data": {
      "text/plain": [
       "[]"
      ]
     },
     "execution_count": 2,
     "metadata": {},
     "output_type": "execute_result"
    }
   ],
   "source": [
    "empty_list"
   ]
  },
  {
   "cell_type": "code",
   "execution_count": 3,
   "id": "33424978",
   "metadata": {},
   "outputs": [
    {
     "data": {
      "text/plain": [
       "list"
      ]
     },
     "execution_count": 3,
     "metadata": {},
     "output_type": "execute_result"
    }
   ],
   "source": [
    "type(empty_list)"
   ]
  },
  {
   "cell_type": "code",
   "execution_count": 4,
   "id": "8fe0009a",
   "metadata": {},
   "outputs": [],
   "source": [
    "numbers_list = [1,2,3,4,5]\n",
    "string_list = [\"W\",\"X\",\"Y\",\"Z\"]\n",
    "mixed_list = ['w', 2, True, \"Y\"]\n",
    "list_in_list = [1,3,[\"a\",\"b\",\"c\"], 5]"
   ]
  },
  {
   "cell_type": "code",
   "execution_count": 5,
   "id": "f61c6504",
   "metadata": {},
   "outputs": [
    {
     "data": {
      "text/plain": [
       "[1, 3, ['a', 'b', 'c'], 5]"
      ]
     },
     "execution_count": 5,
     "metadata": {},
     "output_type": "execute_result"
    }
   ],
   "source": [
    "list_in_list"
   ]
  },
  {
   "cell_type": "code",
   "execution_count": 6,
   "id": "baa80485",
   "metadata": {},
   "outputs": [
    {
     "data": {
      "text/plain": [
       "1"
      ]
     },
     "execution_count": 6,
     "metadata": {},
     "output_type": "execute_result"
    }
   ],
   "source": [
    "#Get the first item from list_in_list\n",
    "list_in_list[0]"
   ]
  },
  {
   "cell_type": "code",
   "execution_count": 7,
   "id": "aef0cea0",
   "metadata": {},
   "outputs": [
    {
     "data": {
      "text/plain": [
       "5"
      ]
     },
     "execution_count": 7,
     "metadata": {},
     "output_type": "execute_result"
    }
   ],
   "source": [
    "#Get the last item from list_in_list\n",
    "list_in_list[-1]"
   ]
  },
  {
   "cell_type": "code",
   "execution_count": 8,
   "id": "eee97a0f",
   "metadata": {},
   "outputs": [
    {
     "data": {
      "text/plain": [
       "['a', 'b', 'c']"
      ]
     },
     "execution_count": 8,
     "metadata": {},
     "output_type": "execute_result"
    }
   ],
   "source": [
    "#Get the third item from list_in_list\n",
    "list_in_list[2]"
   ]
  },
  {
   "cell_type": "code",
   "execution_count": 9,
   "id": "a3ae6c4a",
   "metadata": {},
   "outputs": [
    {
     "data": {
      "text/plain": [
       "'b'"
      ]
     },
     "execution_count": 9,
     "metadata": {},
     "output_type": "execute_result"
    }
   ],
   "source": [
    "#Get the second item from the third item in  list_in_list\n",
    "list_in_list[2][1]"
   ]
  },
  {
   "cell_type": "code",
   "execution_count": 10,
   "id": "be7c03c8",
   "metadata": {},
   "outputs": [
    {
     "data": {
      "text/plain": [
       "'b'"
      ]
     },
     "execution_count": 10,
     "metadata": {},
     "output_type": "execute_result"
    }
   ],
   "source": [
    "list_in_list[2][1]"
   ]
  },
  {
   "cell_type": "code",
   "execution_count": 11,
   "id": "ffb6db71",
   "metadata": {},
   "outputs": [
    {
     "data": {
      "text/plain": [
       "['w', 2, True, 'Y']"
      ]
     },
     "execution_count": 11,
     "metadata": {},
     "output_type": "execute_result"
    }
   ],
   "source": [
    "mixed_list"
   ]
  },
  {
   "cell_type": "code",
   "execution_count": 12,
   "id": "9d9e2c24",
   "metadata": {},
   "outputs": [
    {
     "data": {
      "text/plain": [
       "['w', 2, False, 'Y']"
      ]
     },
     "execution_count": 12,
     "metadata": {},
     "output_type": "execute_result"
    }
   ],
   "source": [
    "#Changing True to False in mixed_list\n",
    "mixed_list[2] = False\n",
    "mixed_list"
   ]
  },
  {
   "cell_type": "markdown",
   "id": "8021cb29",
   "metadata": {},
   "source": [
    "### Methods of List"
   ]
  },
  {
   "cell_type": "markdown",
   "id": "d6058d91",
   "metadata": {},
   "source": [
    "|Method||Meaning|\n",
    "|----||----|\n",
    "|append(x)||Add an item to the end of the list|\n",
    "|insert(a,b)||Add an item b to the position index a in the list|\n",
    "|pop()||Removes and print out the last element of a list|\n",
    "|pop(a)|| Remove and print out the item at index a of a list|\n",
    "|remove(a)||Remove the first item from the list whose value is equal to a|\n",
    "|extend(iterable)||Adds multiple elements to a list from an iterable|\n",
    "|reverse()|| Reverses the order of the items in the list|\n",
    "|clear()|| Removes all items from the list|"
   ]
  },
  {
   "cell_type": "code",
   "execution_count": 13,
   "id": "d326ccdc",
   "metadata": {},
   "outputs": [
    {
     "data": {
      "text/plain": [
       "[1, 2, 3, 4, 5]"
      ]
     },
     "execution_count": 13,
     "metadata": {},
     "output_type": "execute_result"
    }
   ],
   "source": [
    "numbers_list"
   ]
  },
  {
   "cell_type": "code",
   "execution_count": 14,
   "id": "77a9b1cc",
   "metadata": {},
   "outputs": [
    {
     "data": {
      "text/plain": [
       "[1, 2, 3, 4, 5, 6]"
      ]
     },
     "execution_count": 14,
     "metadata": {},
     "output_type": "execute_result"
    }
   ],
   "source": [
    "numbers_list.append(6)\n",
    "numbers_list"
   ]
  },
  {
   "cell_type": "code",
   "execution_count": 15,
   "id": "5f43ccf4",
   "metadata": {},
   "outputs": [],
   "source": [
    "numbers_list.insert(0,0)"
   ]
  },
  {
   "cell_type": "code",
   "execution_count": 16,
   "id": "57e745e1",
   "metadata": {},
   "outputs": [
    {
     "data": {
      "text/plain": [
       "[0, 1, 2, 3, 4, 5, 6]"
      ]
     },
     "execution_count": 16,
     "metadata": {},
     "output_type": "execute_result"
    }
   ],
   "source": [
    "numbers_list"
   ]
  },
  {
   "cell_type": "code",
   "execution_count": 17,
   "id": "58fdc1cd",
   "metadata": {},
   "outputs": [
    {
     "data": {
      "text/plain": [
       "6"
      ]
     },
     "execution_count": 17,
     "metadata": {},
     "output_type": "execute_result"
    }
   ],
   "source": [
    "numbers_list.pop()"
   ]
  },
  {
   "cell_type": "code",
   "execution_count": 18,
   "id": "e785e6d6",
   "metadata": {},
   "outputs": [
    {
     "data": {
      "text/plain": [
       "[0, 1, 2, 3, 4, 5]"
      ]
     },
     "execution_count": 18,
     "metadata": {},
     "output_type": "execute_result"
    }
   ],
   "source": [
    "numbers_list"
   ]
  },
  {
   "cell_type": "code",
   "execution_count": 19,
   "id": "199e8ea2",
   "metadata": {},
   "outputs": [
    {
     "data": {
      "text/plain": [
       "0"
      ]
     },
     "execution_count": 19,
     "metadata": {},
     "output_type": "execute_result"
    }
   ],
   "source": [
    "numbers_list.pop(0)"
   ]
  },
  {
   "cell_type": "code",
   "execution_count": 20,
   "id": "8f41dedc",
   "metadata": {},
   "outputs": [
    {
     "data": {
      "text/plain": [
       "[1, 2, 3, 4, 5]"
      ]
     },
     "execution_count": 20,
     "metadata": {},
     "output_type": "execute_result"
    }
   ],
   "source": [
    "numbers_list"
   ]
  },
  {
   "cell_type": "code",
   "execution_count": 21,
   "id": "ae031372",
   "metadata": {},
   "outputs": [],
   "source": [
    "numbers_list.remove(3)"
   ]
  },
  {
   "cell_type": "code",
   "execution_count": 22,
   "id": "5b5e5fe7",
   "metadata": {},
   "outputs": [
    {
     "data": {
      "text/plain": [
       "[1, 2, 4, 5]"
      ]
     },
     "execution_count": 22,
     "metadata": {},
     "output_type": "execute_result"
    }
   ],
   "source": [
    "numbers_list"
   ]
  },
  {
   "cell_type": "code",
   "execution_count": 23,
   "id": "f7f0ed13",
   "metadata": {},
   "outputs": [],
   "source": [
    "numbers_list.extend([6,7,8])"
   ]
  },
  {
   "cell_type": "code",
   "execution_count": 24,
   "id": "634f28be",
   "metadata": {},
   "outputs": [
    {
     "data": {
      "text/plain": [
       "[1, 2, 4, 5, 6, 7, 8]"
      ]
     },
     "execution_count": 24,
     "metadata": {},
     "output_type": "execute_result"
    }
   ],
   "source": [
    "numbers_list"
   ]
  },
  {
   "cell_type": "code",
   "execution_count": 25,
   "id": "f2eee435",
   "metadata": {},
   "outputs": [],
   "source": [
    "numbers_list.reverse()"
   ]
  },
  {
   "cell_type": "code",
   "execution_count": 26,
   "id": "d41d43f5",
   "metadata": {},
   "outputs": [
    {
     "data": {
      "text/plain": [
       "[8, 7, 6, 5, 4, 2, 1]"
      ]
     },
     "execution_count": 26,
     "metadata": {},
     "output_type": "execute_result"
    }
   ],
   "source": [
    "numbers_list"
   ]
  },
  {
   "cell_type": "code",
   "execution_count": 27,
   "id": "90d495e3",
   "metadata": {},
   "outputs": [],
   "source": [
    "numbers_list.clear()"
   ]
  },
  {
   "cell_type": "code",
   "execution_count": 28,
   "id": "3c691708",
   "metadata": {},
   "outputs": [
    {
     "data": {
      "text/plain": [
       "[]"
      ]
     },
     "execution_count": 28,
     "metadata": {},
     "output_type": "execute_result"
    }
   ],
   "source": [
    "numbers_list"
   ]
  },
  {
   "cell_type": "code",
   "execution_count": null,
   "id": "2103b9f7",
   "metadata": {},
   "outputs": [],
   "source": []
  },
  {
   "cell_type": "markdown",
   "id": "c2d42028",
   "metadata": {},
   "source": [
    "### Membership Operators\n",
    "\n",
    "- These operartors are used to check if an item is found in a data structure.\n",
    "\n",
    "- The return output is a boolean(True or False).\n",
    "\n",
    "They include:\n",
    " \n",
    "**in** - Used to check whether an element is in a data sturcture.\n",
    "\n",
    "**not in** - Used to check whether an element is in a data sturcture.\n"
   ]
  },
  {
   "cell_type": "code",
   "execution_count": 29,
   "id": "bd2c7050",
   "metadata": {},
   "outputs": [
    {
     "data": {
      "text/plain": [
       "['pencil', 'eraser', 'ruler']"
      ]
     },
     "execution_count": 29,
     "metadata": {},
     "output_type": "execute_result"
    }
   ],
   "source": [
    "stationery = [\"pencil\", \"eraser\", \"ruler\"]\n",
    "stationery"
   ]
  },
  {
   "cell_type": "code",
   "execution_count": 31,
   "id": "b793a067",
   "metadata": {},
   "outputs": [
    {
     "data": {
      "text/plain": [
       "True"
      ]
     },
     "execution_count": 31,
     "metadata": {},
     "output_type": "execute_result"
    }
   ],
   "source": [
    "#Check if pencil in stationery\n",
    "\"pencil\" in stationery"
   ]
  },
  {
   "cell_type": "code",
   "execution_count": 32,
   "id": "d927ff8b",
   "metadata": {},
   "outputs": [
    {
     "data": {
      "text/plain": [
       "True"
      ]
     },
     "execution_count": 32,
     "metadata": {},
     "output_type": "execute_result"
    }
   ],
   "source": [
    "#Check if pen not in stationery\n",
    "\"pen\" not in stationery"
   ]
  },
  {
   "cell_type": "code",
   "execution_count": null,
   "id": "a1773e27",
   "metadata": {},
   "outputs": [],
   "source": []
  }
 ],
 "metadata": {
  "kernelspec": {
   "display_name": "Python 3 (ipykernel)",
   "language": "python",
   "name": "python3"
  },
  "language_info": {
   "codemirror_mode": {
    "name": "ipython",
    "version": 3
   },
   "file_extension": ".py",
   "mimetype": "text/x-python",
   "name": "python",
   "nbconvert_exporter": "python",
   "pygments_lexer": "ipython3",
   "version": "3.9.12"
  }
 },
 "nbformat": 4,
 "nbformat_minor": 5
}
