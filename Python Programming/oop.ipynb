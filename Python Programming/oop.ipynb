{
 "cells": [
  {
   "cell_type": "markdown",
   "id": "b9d6b55c",
   "metadata": {},
   "source": [
    "# Object Oriented Programming(OOP)\n"
   ]
  },
  {
   "cell_type": "markdown",
   "id": "671f14d7",
   "metadata": {},
   "source": [
    "- Object-oriented programming is a computer programming model that relies on the concept of classes and objects rather than functions and logic."
   ]
  },
  {
   "cell_type": "markdown",
   "id": "6b926c40",
   "metadata": {},
   "source": [
    "### Advantages of OOP\n",
    "\n",
    "  * It reduces code repetition using the principle Don't Repeat Yourself(DRY) principle"
   ]
  },
  {
   "cell_type": "markdown",
   "id": "6dc183f0",
   "metadata": {},
   "source": [
    "**Object :**\n",
    "\n",
    "In Python everything is an object and every object has a class"
   ]
  },
  {
   "cell_type": "code",
   "execution_count": 1,
   "id": "473559f2",
   "metadata": {},
   "outputs": [],
   "source": [
    "num =5"
   ]
  },
  {
   "cell_type": "code",
   "execution_count": 2,
   "id": "f8d3a402",
   "metadata": {},
   "outputs": [
    {
     "name": "stdout",
     "output_type": "stream",
     "text": [
      "<class 'int'>\n"
     ]
    }
   ],
   "source": [
    "print(type(num))"
   ]
  },
  {
   "cell_type": "markdown",
   "id": "25b7e2ee",
   "metadata": {},
   "source": [
    "**Class:**\n",
    "\n",
    "A  class is a blueprint for an object which describe the state(attributes) and behaviour(methods) of an object"
   ]
  },
  {
   "cell_type": "markdown",
   "id": "6b47753c",
   "metadata": {},
   "source": [
    "**Instance:**\n",
    "\n",
    "An instance is an object that is built from a class and contains real data"
   ]
  },
  {
   "cell_type": "markdown",
   "id": "f35de8b7",
   "metadata": {},
   "source": [
    "**Attributes**\n",
    "\n",
    "Atrributes are variables that belongs to a class"
   ]
  },
  {
   "cell_type": "markdown",
   "id": "831dd6b9",
   "metadata": {},
   "source": [
    "**Methods**\n",
    "\n",
    "Methods are functions that belongs to a class"
   ]
  },
  {
   "cell_type": "markdown",
   "id": "4e9e2c6b",
   "metadata": {},
   "source": [
    "### Examples:\n",
    "\n",
    "Create a class Fruit\n",
    "\n",
    "Examples of fruits banana, apple, orange are instance of the class Fruits\n",
    "\n",
    "The size and color of the fruit are attributes of the fruits.\n",
    "\n",
    " The methods of the class fruit can be cut method, the eat"
   ]
  },
  {
   "cell_type": "markdown",
   "id": "940953b5",
   "metadata": {},
   "source": [
    "### Creating  a Class in Python"
   ]
  },
  {
   "cell_type": "markdown",
   "id": "43b9d718",
   "metadata": {},
   "source": [
    "To create a class in Python use the keyword **class** followed by the name of the class and a colon.\n",
    "\n",
    "The class name should be in CamelCase.\n",
    "\n",
    "The body of the class comprises of the attributes and methods of the class"
   ]
  },
  {
   "cell_type": "code",
   "execution_count": 3,
   "id": "cc49e1d6",
   "metadata": {},
   "outputs": [],
   "source": [
    "class MyClass:\n",
    "    pass"
   ]
  },
  {
   "cell_type": "code",
   "execution_count": 4,
   "id": "6094c67c",
   "metadata": {},
   "outputs": [],
   "source": [
    "# Create  an instance of Myclass\n",
    "myclass = MyClass()"
   ]
  },
  {
   "cell_type": "code",
   "execution_count": 5,
   "id": "c39c2fc8",
   "metadata": {},
   "outputs": [
    {
     "data": {
      "text/plain": [
       "<__main__.MyClass at 0x202c1aee1a0>"
      ]
     },
     "execution_count": 5,
     "metadata": {},
     "output_type": "execute_result"
    }
   ],
   "source": [
    "myclass"
   ]
  },
  {
   "cell_type": "code",
   "execution_count": 6,
   "id": "c18e3bb8",
   "metadata": {},
   "outputs": [
    {
     "data": {
      "text/plain": [
       "__main__.MyClass"
      ]
     },
     "execution_count": 6,
     "metadata": {},
     "output_type": "execute_result"
    }
   ],
   "source": [
    "type(myclass)"
   ]
  },
  {
   "cell_type": "code",
   "execution_count": 7,
   "id": "dccf7325",
   "metadata": {},
   "outputs": [],
   "source": [
    "class Dog:\n",
    "    pass"
   ]
  },
  {
   "cell_type": "markdown",
   "id": "fb8fa111",
   "metadata": {},
   "source": [
    "**.__init__ method**\n",
    "\n",
    "The init method of the class is called the constructor of the class.\n",
    "It is used to initialize the attribute of the class and can  take a number of argument."
   ]
  },
  {
   "cell_type": "markdown",
   "id": "71c93039",
   "metadata": {},
   "source": [
    "**Note: Python class names are written in CapitalizedWords notation by convention. For example, a class for a specific breed of dog like the Jack Russell Terrier would be written as JackRussellTerrier.**\n",
    "\n",
    "\n",
    "The properties that all Dog objects must have are defined in a method called **.__init__().** Every time a new Dog object is created,**.__init__()**sets the initial state of the object by assigning the values of the object’s properties. That is, **.__init__()** initializes each new instance of the class.\n",
    "\n",
    "You can give **.__init__()** any number of parameters, but the first parameter will always be a variable called self. When a new class instance is created, the instance is automatically passed to the self parameter in **.__init__()** so that new attributes can be defined on the object."
   ]
  },
  {
   "cell_type": "markdown",
   "id": "dc72cd39",
   "metadata": {},
   "source": [
    "**The self Parameter**  \n",
    "\n",
    "The first argument of the __init__ method is always the **self** argument, which refers to the instance of the class being created.  \n",
    "The self parameter is a reference to the current instance of the class, and is used to access variables that belongs to the class.  \n",
    "It does not have to be named self , you can call it whatever you like, but it has to be the first parameter of any function in the class:"
   ]
  },
  {
   "cell_type": "code",
   "execution_count": 8,
   "id": "b027aa23",
   "metadata": {},
   "outputs": [],
   "source": [
    "class Fruit:\n",
    "    def __init__(self,name, color,age):\n",
    "        self.name = name\n",
    "        self.color = color\n",
    "        self.age = age "
   ]
  },
  {
   "cell_type": "code",
   "execution_count": 9,
   "id": "e744d5aa",
   "metadata": {},
   "outputs": [],
   "source": [
    "orange = Fruit(\"orange\",\"yellow\",45)\n",
    "banana = Fruit(\"banana\",\"green\",65)"
   ]
  },
  {
   "cell_type": "code",
   "execution_count": 10,
   "id": "4a5289c8",
   "metadata": {},
   "outputs": [
    {
     "data": {
      "text/plain": [
       "'yellow'"
      ]
     },
     "execution_count": 10,
     "metadata": {},
     "output_type": "execute_result"
    }
   ],
   "source": [
    "#Accessing the color of the orange \n",
    "orange.color"
   ]
  },
  {
   "cell_type": "code",
   "execution_count": 11,
   "id": "e315d9a7",
   "metadata": {},
   "outputs": [
    {
     "data": {
      "text/plain": [
       "'orange'"
      ]
     },
     "execution_count": 11,
     "metadata": {},
     "output_type": "execute_result"
    }
   ],
   "source": [
    "#Accessing the name of the orange \n",
    "orange.name"
   ]
  },
  {
   "cell_type": "code",
   "execution_count": 12,
   "id": "939b5140",
   "metadata": {},
   "outputs": [
    {
     "data": {
      "text/plain": [
       "'banana'"
      ]
     },
     "execution_count": 12,
     "metadata": {},
     "output_type": "execute_result"
    }
   ],
   "source": [
    "banana.name"
   ]
  },
  {
   "cell_type": "code",
   "execution_count": 13,
   "id": "f7a7214f",
   "metadata": {},
   "outputs": [
    {
     "data": {
      "text/plain": [
       "'green'"
      ]
     },
     "execution_count": 13,
     "metadata": {},
     "output_type": "execute_result"
    }
   ],
   "source": [
    "banana.color"
   ]
  },
  {
   "cell_type": "code",
   "execution_count": null,
   "id": "e8317686",
   "metadata": {},
   "outputs": [],
   "source": []
  },
  {
   "cell_type": "markdown",
   "id": "f586d0cf",
   "metadata": {},
   "source": [
    "**__str__ method**\n",
    "\n",
    "This method returns a string representation of an object."
   ]
  },
  {
   "cell_type": "code",
   "execution_count": 14,
   "id": "74606234",
   "metadata": {},
   "outputs": [],
   "source": [
    "class Fruit:\n",
    "    def __init__(self, name, color):\n",
    "        self.name = name\n",
    "        self.color = color\n",
    "        \n",
    "    def __str__(self):\n",
    "        return f\"{self.name} is a fruit and it has a {self.color} color.\""
   ]
  },
  {
   "cell_type": "code",
   "execution_count": 15,
   "id": "6be0b3bb",
   "metadata": {},
   "outputs": [],
   "source": [
    "orange = Fruit(\"orange\",\"yellow\")"
   ]
  },
  {
   "cell_type": "code",
   "execution_count": 16,
   "id": "027c93aa",
   "metadata": {},
   "outputs": [
    {
     "name": "stdout",
     "output_type": "stream",
     "text": [
      "orange is a fruit and it has a yellow color.\n"
     ]
    }
   ],
   "source": [
    "print(orange)"
   ]
  },
  {
   "cell_type": "code",
   "execution_count": 17,
   "id": "139f3fcd",
   "metadata": {},
   "outputs": [],
   "source": [
    "pawpaw = Fruit(\"pawpaw\",\"yellow\")"
   ]
  },
  {
   "cell_type": "code",
   "execution_count": 18,
   "id": "a04b169b",
   "metadata": {},
   "outputs": [
    {
     "name": "stdout",
     "output_type": "stream",
     "text": [
      "pawpaw is a fruit and it has a yellow color.\n"
     ]
    }
   ],
   "source": [
    "print(pawpaw)"
   ]
  },
  {
   "cell_type": "code",
   "execution_count": 19,
   "id": "11dbfd76",
   "metadata": {},
   "outputs": [
    {
     "data": {
      "text/plain": [
       "'yellow'"
      ]
     },
     "execution_count": 19,
     "metadata": {},
     "output_type": "execute_result"
    }
   ],
   "source": [
    "pawpaw.color"
   ]
  },
  {
   "cell_type": "code",
   "execution_count": 20,
   "id": "e04a8abb",
   "metadata": {},
   "outputs": [
    {
     "data": {
      "text/plain": [
       "'pawpaw'"
      ]
     },
     "execution_count": 20,
     "metadata": {},
     "output_type": "execute_result"
    }
   ],
   "source": [
    "pawpaw.name"
   ]
  },
  {
   "cell_type": "code",
   "execution_count": 21,
   "id": "4f57daa3",
   "metadata": {},
   "outputs": [
    {
     "ename": "AttributeError",
     "evalue": "'Fruit' object has no attribute 'texture'",
     "output_type": "error",
     "traceback": [
      "\u001b[1;31m---------------------------------------------------------------------------\u001b[0m",
      "\u001b[1;31mAttributeError\u001b[0m                            Traceback (most recent call last)",
      "Cell \u001b[1;32mIn[21], line 2\u001b[0m\n\u001b[0;32m      1\u001b[0m \u001b[38;5;66;03m# This will throw an error\u001b[39;00m\n\u001b[1;32m----> 2\u001b[0m \u001b[43mpawpaw\u001b[49m\u001b[38;5;241;43m.\u001b[39;49m\u001b[43mtexture\u001b[49m\n",
      "\u001b[1;31mAttributeError\u001b[0m: 'Fruit' object has no attribute 'texture'"
     ]
    }
   ],
   "source": [
    "# This will throw an error\n",
    "pawpaw.texture"
   ]
  },
  {
   "cell_type": "code",
   "execution_count": 27,
   "id": "dacad1b9",
   "metadata": {},
   "outputs": [],
   "source": [
    "class Fruit:\n",
    "    def __init__(self, name, color):\n",
    "        self.name = name\n",
    "        self.color = color\n",
    "        \n",
    "    def set_texture(self,texture_type):\n",
    "        self.texture = texture_type\n",
    "        \n",
    "    def __str__(self):\n",
    "        return f\"{self.name} is a fruit and it has a {self.color} color.\""
   ]
  },
  {
   "cell_type": "code",
   "execution_count": 28,
   "id": "8dee523f",
   "metadata": {},
   "outputs": [],
   "source": [
    "apple = Fruit(\"apple\",\"green\")"
   ]
  },
  {
   "cell_type": "code",
   "execution_count": 29,
   "id": "382bda95",
   "metadata": {},
   "outputs": [
    {
     "name": "stdout",
     "output_type": "stream",
     "text": [
      "apple is a fruit and it has a green color.\n"
     ]
    }
   ],
   "source": [
    "print(apple)"
   ]
  },
  {
   "cell_type": "code",
   "execution_count": 30,
   "id": "0474d7d9",
   "metadata": {},
   "outputs": [],
   "source": [
    "apple.set_texture(\"smooth\")"
   ]
  },
  {
   "cell_type": "code",
   "execution_count": 31,
   "id": "84765981",
   "metadata": {},
   "outputs": [
    {
     "data": {
      "text/plain": [
       "'smooth'"
      ]
     },
     "execution_count": 31,
     "metadata": {},
     "output_type": "execute_result"
    }
   ],
   "source": [
    "apple.texture"
   ]
  },
  {
   "cell_type": "markdown",
   "id": "73470b27",
   "metadata": {},
   "source": [
    "### Class Attribute\n",
    "\n",
    "Attribute of a class that is shared among all instances of a class"
   ]
  },
  {
   "cell_type": "code",
   "execution_count": 35,
   "id": "719ae61e",
   "metadata": {},
   "outputs": [],
   "source": [
    "class Fruit:\n",
    "    category = \"Fruit Type\"\n",
    "    def __init__(self, name, color):\n",
    "        self.name = name\n",
    "        self.color = color\n",
    "        \n",
    "    def set_texture(self,texture_type):\n",
    "        self.texture = texture_type\n",
    "        \n",
    "    def __str__(self):\n",
    "        return f\"{self.name.title()} is a fruit and it has a {self.color} color.\""
   ]
  },
  {
   "cell_type": "code",
   "execution_count": 36,
   "id": "453d9483",
   "metadata": {},
   "outputs": [],
   "source": [
    "pawpaw = Fruit(\"pawpaw\",\"yellow\")\n",
    "apple =Fruit(\"apple\",\"green\")"
   ]
  },
  {
   "cell_type": "code",
   "execution_count": 37,
   "id": "d5f28528",
   "metadata": {},
   "outputs": [
    {
     "data": {
      "text/plain": [
       "'Fruit Type'"
      ]
     },
     "execution_count": 37,
     "metadata": {},
     "output_type": "execute_result"
    }
   ],
   "source": [
    "pawpaw.category"
   ]
  },
  {
   "cell_type": "code",
   "execution_count": 38,
   "id": "0d50d51c",
   "metadata": {},
   "outputs": [
    {
     "data": {
      "text/plain": [
       "'Fruit Type'"
      ]
     },
     "execution_count": 38,
     "metadata": {},
     "output_type": "execute_result"
    }
   ],
   "source": [
    "apple.category"
   ]
  },
  {
   "cell_type": "code",
   "execution_count": null,
   "id": "c5f4995a",
   "metadata": {},
   "outputs": [],
   "source": []
  },
  {
   "cell_type": "markdown",
   "id": "bbec7604",
   "metadata": {},
   "source": [
    "### Class Methods:\n",
    "\n",
    "Class method is a method bounded to the class and not the instance of the class."
   ]
  },
  {
   "cell_type": "code",
   "execution_count": 40,
   "id": "4133adc3",
   "metadata": {},
   "outputs": [],
   "source": [
    "\n",
    "class Fruit:\n",
    "    category = \"Fruit Type\"\n",
    "    #using class methods to create object\n",
    "    @classmethod\n",
    "    def create_fruit(cls, fruit_name, fruit_color):\n",
    "        return cls(fruit_name,fruit_color)\n",
    "    \n",
    "    @classmethod\n",
    "    def description(cls):\n",
    "        print(\"Modelling a Fruit\")\n",
    "        \n",
    "    def __init__(self, name, color):\n",
    "        self.name = name\n",
    "        self.color = color\n",
    "        \n",
    "    def set_texture(self,texture_type):\n",
    "        self.texture = texture_type\n",
    "\n",
    "    def __str__(self):\n",
    "        return f\"{self.name.title()} is a fruit and it has a {self.color} color.\""
   ]
  },
  {
   "cell_type": "code",
   "execution_count": 41,
   "id": "87569151",
   "metadata": {},
   "outputs": [],
   "source": [
    "watermelon =Fruit.create_fruit(\"watermelon\",\"green\")"
   ]
  },
  {
   "cell_type": "code",
   "execution_count": 42,
   "id": "5165e5d4",
   "metadata": {},
   "outputs": [
    {
     "name": "stdout",
     "output_type": "stream",
     "text": [
      "Watermelon is a fruit and it has a green color.\n"
     ]
    }
   ],
   "source": [
    "print(watermelon)"
   ]
  },
  {
   "cell_type": "code",
   "execution_count": 43,
   "id": "c6443a80",
   "metadata": {},
   "outputs": [
    {
     "data": {
      "text/plain": [
       "'watermelon'"
      ]
     },
     "execution_count": 43,
     "metadata": {},
     "output_type": "execute_result"
    }
   ],
   "source": [
    "watermelon.name"
   ]
  },
  {
   "cell_type": "code",
   "execution_count": 44,
   "id": "38d7023d",
   "metadata": {},
   "outputs": [
    {
     "data": {
      "text/plain": [
       "'green'"
      ]
     },
     "execution_count": 44,
     "metadata": {},
     "output_type": "execute_result"
    }
   ],
   "source": [
    "watermelon.color"
   ]
  },
  {
   "cell_type": "code",
   "execution_count": 45,
   "id": "5681bbbb",
   "metadata": {},
   "outputs": [
    {
     "name": "stdout",
     "output_type": "stream",
     "text": [
      "Modelling a Fruit\n"
     ]
    }
   ],
   "source": [
    "Fruit.description()"
   ]
  },
  {
   "cell_type": "code",
   "execution_count": 46,
   "id": "55e108ec",
   "metadata": {},
   "outputs": [
    {
     "name": "stdout",
     "output_type": "stream",
     "text": [
      "Modelling a Fruit\n"
     ]
    }
   ],
   "source": [
    "watermelon.description()"
   ]
  },
  {
   "cell_type": "code",
   "execution_count": null,
   "id": "3d503d6a",
   "metadata": {},
   "outputs": [],
   "source": []
  },
  {
   "cell_type": "markdown",
   "id": "11ed2983",
   "metadata": {},
   "source": [
    "### Encapsulation"
   ]
  },
  {
   "cell_type": "markdown",
   "id": "0d93c7dc",
   "metadata": {},
   "source": [
    "Encapsulation refers to the practice of hiding the implementation details of an object from the outside world, and instead providing a public interface for accessing and manipulating the object's data.\n",
    "\n",
    "Encapsulation uses access modifiers to specify the visibility and accessibility of the class attributes and methods.\n",
    "\n",
    "The two types of access modifiers are **public** and **private**\n",
    "\n",
    "Public attributes and methods can be accessed from anywhere in the program, while private attributes and methods can only be accessed from within the class itself. \n",
    "\n",
    "Private attributes and methods are indicated by using double underscore (__) before the attribute or method name."
   ]
  },
  {
   "cell_type": "code",
   "execution_count": null,
   "id": "66911103",
   "metadata": {},
   "outputs": [],
   "source": [
    "class Student:\n",
    "    def __init__(self, name, index_number):\n",
    "        self.name = name                 # Public attribute\n",
    "        self.__index_number = index_number # Private attribute\n",
    "        self.marks = {}                  # Public attribute\n",
    "\n",
    "    def get_index_number(self):\n",
    "        return self.__index_number\n",
    "\n",
    "    def add_marks(self, subject, marks):\n",
    "        self.marks[subject] = marks\n",
    "\n",
    "    def get_marks(self):\n",
    "        return self.marks\n",
    "\n"
   ]
  },
  {
   "cell_type": "code",
   "execution_count": null,
   "id": "622fc6bf",
   "metadata": {},
   "outputs": [],
   "source": [
    "student_1 = Student(\"Selasi\",\"PS001\")"
   ]
  },
  {
   "cell_type": "code",
   "execution_count": null,
   "id": "c69f6529",
   "metadata": {},
   "outputs": [],
   "source": [
    "student_1.name"
   ]
  },
  {
   "cell_type": "code",
   "execution_count": null,
   "id": "2391e039",
   "metadata": {},
   "outputs": [],
   "source": [
    "#This will throw an error\n",
    "student_1.index_number"
   ]
  },
  {
   "cell_type": "code",
   "execution_count": null,
   "id": "5198d8e2",
   "metadata": {},
   "outputs": [],
   "source": [
    "print(student_1.get_index_number())     "
   ]
  },
  {
   "cell_type": "code",
   "execution_count": null,
   "id": "6d7a7c7a",
   "metadata": {},
   "outputs": [],
   "source": [
    "student_1.add_marks(\"Maths\", 88)\n",
    "student_1.add_marks(\"Science\", 90)"
   ]
  },
  {
   "cell_type": "code",
   "execution_count": null,
   "id": "768b67f2",
   "metadata": {},
   "outputs": [],
   "source": [
    "student_1.get_marks()"
   ]
  },
  {
   "cell_type": "markdown",
   "id": "972e16a6",
   "metadata": {},
   "source": [
    " ### Python Inheritance  \n",
    " \n",
    "Inheritance allows us to define a class that inherits all the methods and properties from another class.  \n",
    "Parent class is the class being inherited from, also called base class.  \n",
    "Child class is the class that inherits from another class, also called derived class."
   ]
  },
  {
   "cell_type": "code",
   "execution_count": 1,
   "id": "25677fac",
   "metadata": {},
   "outputs": [],
   "source": [
    "class Person:\n",
    "    def __init__(self, fname, lname):\n",
    "        self.firstname = fname\n",
    "        self.lastname = lname\n",
    "\n",
    "    def printname(self):\n",
    "        print(self.firstname, self.lastname)\n",
    "\n"
   ]
  },
  {
   "cell_type": "code",
   "execution_count": 2,
   "id": "43d4cb85",
   "metadata": {},
   "outputs": [
    {
     "name": "stdout",
     "output_type": "stream",
     "text": [
      "John Doe\n"
     ]
    }
   ],
   "source": [
    "#Use the Person class to create an object, and then execute the printname method:\n",
    "x = Person(\"John\", \"Doe\")\n",
    "x.printname()"
   ]
  },
  {
   "cell_type": "markdown",
   "id": "73a9ba20",
   "metadata": {},
   "source": [
    "### Create a Child Class\n",
    "To create a class that inherits the functionality from another class, send the parent class as a parameter when creating the child class:"
   ]
  },
  {
   "cell_type": "code",
   "execution_count": 3,
   "id": "0b4ce5ac",
   "metadata": {},
   "outputs": [],
   "source": [
    "class Student(Person):\n",
    "    pass"
   ]
  },
  {
   "cell_type": "code",
   "execution_count": 4,
   "id": "b05c73dc",
   "metadata": {},
   "outputs": [
    {
     "name": "stdout",
     "output_type": "stream",
     "text": [
      "Mike Olsen\n"
     ]
    }
   ],
   "source": [
    "# Use the Student class to create an object, and then execute the printname method:\n",
    "x = Student(\"Mike\", \"Olsen\")\n",
    "x.printname()"
   ]
  },
  {
   "cell_type": "code",
   "execution_count": null,
   "id": "ffc0d2f3",
   "metadata": {},
   "outputs": [],
   "source": [
    "# When you add the __init__() function, the child class will no longer inherit the parent's __init__() function.\n",
    "\n",
    "class Student(Person):\n",
    "    def __init__(self, fname, lname):\n",
    "        self.fname = fname \n",
    "        self.lname = lname \n"
   ]
  },
  {
   "cell_type": "markdown",
   "id": "07c76a3f",
   "metadata": {},
   "source": [
    "Note: The child's __init__() function overrides the inheritance of the parent's __init__() function.\n",
    "\n",
    "To keep the inheritance of the parent's __init__() function, add a call to the parent's __init__() function:"
   ]
  },
  {
   "cell_type": "code",
   "execution_count": null,
   "id": "3a5ae565",
   "metadata": {},
   "outputs": [],
   "source": [
    "# Example\n",
    "class Student(Person):\n",
    "    def __init__(self, fname, lname):\n",
    "        Person.__init__(self, fname, lname)"
   ]
  },
  {
   "cell_type": "markdown",
   "id": "223d17cb",
   "metadata": {},
   "source": [
    "### Use the super() Function\n",
    "Python also has a super() function that will make the child class inherit all the methods and properties from its parent:"
   ]
  },
  {
   "cell_type": "code",
   "execution_count": 5,
   "id": "3eb56b22",
   "metadata": {},
   "outputs": [],
   "source": [
    "# Example\n",
    "\n",
    "class Student(Person):\n",
    "    def __init__(self, fname, lname):\n",
    "        super().__init__(fname, lname)"
   ]
  },
  {
   "cell_type": "markdown",
   "id": "118068a7",
   "metadata": {},
   "source": [
    "By using the **super()** function, you do not have to use the name of the parent element, it will automatically inherit the methods and properties from its parent."
   ]
  },
  {
   "cell_type": "code",
   "execution_count": 6,
   "id": "2214bab2",
   "metadata": {},
   "outputs": [],
   "source": [
    "class Student(Person):\n",
    "    def __init__(self, fname, lname, year):\n",
    "        super().__init__(fname, lname)\n",
    "        self.graduationyear = year"
   ]
  },
  {
   "cell_type": "code",
   "execution_count": 8,
   "id": "427e741f",
   "metadata": {},
   "outputs": [],
   "source": [
    "x = Student(\"Mike\", \"Olsen\", 2019)"
   ]
  },
  {
   "cell_type": "code",
   "execution_count": 9,
   "id": "b98fdba9",
   "metadata": {},
   "outputs": [
    {
     "data": {
      "text/plain": [
       "2019"
      ]
     },
     "execution_count": 9,
     "metadata": {},
     "output_type": "execute_result"
    }
   ],
   "source": [
    "x.graduationyear"
   ]
  },
  {
   "cell_type": "code",
   "execution_count": 11,
   "id": "02172a41",
   "metadata": {},
   "outputs": [],
   "source": [
    "class Student(Person):\n",
    "    def __init__(self, fname, lname, year):\n",
    "        super().__init__(fname, lname)\n",
    "        self.graduationyear = year\n",
    "\n",
    "    def welcome(self):\n",
    "        print(\"Welcome\", self.firstname, self.lastname, \"to the class of\", self.graduationyear)"
   ]
  },
  {
   "cell_type": "code",
   "execution_count": 12,
   "id": "f9772ad1",
   "metadata": {},
   "outputs": [
    {
     "name": "stdout",
     "output_type": "stream",
     "text": [
      "Welcome Joseph Opare to the class of 2020\n"
     ]
    }
   ],
   "source": [
    "x = Student(\"Joseph\", \"Opare\", 2020)\n",
    "x.welcome()"
   ]
  },
  {
   "cell_type": "markdown",
   "id": "65c55c0f",
   "metadata": {},
   "source": [
    "### Python Polymorphism  \n",
    "\n",
    "The word \"polymorphism\" means \"many forms\", and in programming it refers to methods/functions/operators with the same name that can be executed on many objects or classes.  \n",
    "\n",
    "**Function Polymorphism**\n",
    "\n",
    "An example of a Python function that can be used on different objects is the len() function.  \n",
    "\n",
    "**String**  \n",
    "For strings len() returns the number of characters:"
   ]
  },
  {
   "cell_type": "markdown",
   "id": "fd148213",
   "metadata": {},
   "source": [
    "**Tuple**  \n",
    "For tuples len() returns the number of items in the tuple:\n",
    "\n",
    "**Dictionary**  \n",
    "For dictionaries len() returns the number of key/value pairs in the dictionary:"
   ]
  },
  {
   "cell_type": "markdown",
   "id": "c6962b73",
   "metadata": {},
   "source": [
    "### Class Polymorphism  \n",
    "\n",
    "Polymorphism is often used in Class methods, where we can have multiple classes with the same method name.\n",
    "\n",
    "For example, say we have three classes: Car, Boat, and Plane, and they all have a method called move():"
   ]
  },
  {
   "cell_type": "code",
   "execution_count": 13,
   "id": "b3291654",
   "metadata": {},
   "outputs": [],
   "source": [
    "class Car:\n",
    "    def __init__(self, brand, model):\n",
    "        self.brand = brand\n",
    "        self.model = model\n",
    "\n",
    "    def move(self):\n",
    "        print(\"Drive!\")\n",
    "\n",
    "class Boat:\n",
    "    def __init__(self, brand, model):\n",
    "        self.brand = brand\n",
    "        self.model = model\n",
    "\n",
    "    def move(self):\n",
    "        print(\"Sail!\")\n",
    "\n",
    "class Plane:\n",
    "    def __init__(self, brand, model):\n",
    "        self.brand = brand\n",
    "        self.model = model\n",
    "\n",
    "    def move(self):\n",
    "        print(\"Fly!\")"
   ]
  },
  {
   "cell_type": "code",
   "execution_count": 14,
   "id": "111c8dfe",
   "metadata": {},
   "outputs": [],
   "source": [
    "car1 = Car(\"Ford\", \"Mustang\")       #Create a Car class\n",
    "boat1 = Boat(\"Ibiza\", \"Touring 20\") #Create a Boat class\n",
    "plane1 = Plane(\"Boeing\", \"747\")     #Create a Plane class"
   ]
  },
  {
   "cell_type": "code",
   "execution_count": 15,
   "id": "10633cad",
   "metadata": {},
   "outputs": [
    {
     "name": "stdout",
     "output_type": "stream",
     "text": [
      "Drive!\n",
      "Sail!\n",
      "Fly!\n"
     ]
    }
   ],
   "source": [
    "for x in (car1, boat1, plane1):\n",
    "      x.move()"
   ]
  },
  {
   "cell_type": "markdown",
   "id": "c4d7a4b1",
   "metadata": {},
   "source": [
    "### Inheritance Class Polymorphism  \n",
    "\n",
    "What about classes with child classes with the same name? Can we use polymorphism there?  \n",
    "\n",
    "Yes. If we use the example above and make a parent class called Vehicle, and make Car, Boat, Plane child classes of Vehicle, the child classes inherits the Vehicle methods, but can override them:"
   ]
  },
  {
   "cell_type": "code",
   "execution_count": 18,
   "id": "1fef1af0",
   "metadata": {},
   "outputs": [],
   "source": [
    "#Create a class called Vehicle and make Car, Boat, Plane child classes of Vehicle:\n",
    "\n",
    "class Vehicle:\n",
    "    def __init__(self, brand, model):\n",
    "        self.brand = brand\n",
    "        self.model = model\n",
    "\n",
    "    def move(self):\n",
    "        print(\"Move!\\n\")\n",
    "\n",
    "class Car(Vehicle):\n",
    "      pass\n",
    "\n",
    "class Boat(Vehicle):\n",
    "    def move(self):\n",
    "        print(\"Sail!\\n\")\n",
    "\n",
    "class Plane(Vehicle):\n",
    "      def move(self):\n",
    "        print(\"Fly!\\n\")\n"
   ]
  },
  {
   "cell_type": "code",
   "execution_count": 19,
   "id": "d8d6b988",
   "metadata": {},
   "outputs": [],
   "source": [
    "car1 = Car(\"Ford\", \"Mustang\") #Create a Car object\n",
    "boat1 = Boat(\"Ibiza\", \"Touring 20\") #Create a Boat object\n",
    "plane1 = Plane(\"Boeing\", \"747\") #Create a Plane object"
   ]
  },
  {
   "cell_type": "code",
   "execution_count": 20,
   "id": "a4c2bbe4",
   "metadata": {},
   "outputs": [
    {
     "name": "stdout",
     "output_type": "stream",
     "text": [
      "Ford\n",
      "Mustang\n",
      "Move!\n",
      "\n",
      "Ibiza\n",
      "Touring 20\n",
      "Sail!\n",
      "\n",
      "Boeing\n",
      "747\n",
      "Fly!\n",
      "\n"
     ]
    }
   ],
   "source": [
    "for x in (car1, boat1, plane1):\n",
    "    print(x.brand)\n",
    "    print(x.model)\n",
    "    x.move()"
   ]
  },
  {
   "cell_type": "markdown",
   "id": "7e8a12f1",
   "metadata": {},
   "source": [
    "### Python Modules  \n",
    "**Module**  \n",
    "Modules are Python code libraries you can include in your project.\n",
    "Consider a module to be the same as a code library.  \n",
    "\n",
    "\n",
    "A file containing a set of functions you want to include in your application.  \n",
    "\n",
    "**Create a Module**  \n",
    "To create a module just save the code you want in a file with the file extension .py:  "
   ]
  },
  {
   "cell_type": "code",
   "execution_count": null,
   "id": "9c2a6853",
   "metadata": {},
   "outputs": [],
   "source": [
    "#Save this code in a file named pdarkmodule1.py\n",
    "\n",
    "def greeting(name):\n",
    "    print(\"Hello, \" + name)"
   ]
  },
  {
   "cell_type": "markdown",
   "id": "32c0f1c5",
   "metadata": {},
   "source": [
    "**Use a Module**  \n",
    "Now we can use the module we just created, by using the **import** statement:"
   ]
  },
  {
   "cell_type": "code",
   "execution_count": 22,
   "id": "2397c576",
   "metadata": {},
   "outputs": [
    {
     "name": "stdout",
     "output_type": "stream",
     "text": [
      "Hello, Precious\n"
     ]
    }
   ],
   "source": [
    "import pdarkmodule1\n",
    "\n",
    "pdarkmodule1.greeting(\"Precious\")"
   ]
  },
  {
   "cell_type": "markdown",
   "id": "2b9e2992",
   "metadata": {},
   "source": [
    "**Variables in Module**  \n",
    "\n",
    "The module can contain functions, as already described, but also variables of all types (arrays, dictionaries, objects etc):"
   ]
  },
  {
   "cell_type": "code",
   "execution_count": 24,
   "id": "6f32667c",
   "metadata": {},
   "outputs": [
    {
     "name": "stdout",
     "output_type": "stream",
     "text": [
      "36\n",
      "Norway\n"
     ]
    }
   ],
   "source": [
    "#Save this code in the file mymodule.py\n",
    "\n",
    "person1 = {\n",
    "  \"name\": \"John\",\n",
    "  \"age\": 36,\n",
    "  \"country\": \"Norway\"\n",
    "}\n",
    "\n",
    "#Import the module named mymodule, and access the person1 dictionary:\n",
    "\n",
    "import mymodule\n",
    "\n",
    "a = mymodule.person1[\"age\"]\n",
    "c = mymodule.person1[\"country\"]\n",
    "print(a)\n",
    "print(c)"
   ]
  },
  {
   "cell_type": "markdown",
   "id": "4760fa6c",
   "metadata": {},
   "source": [
    "### Re-naming a Module (ALIASING)\n",
    "\n",
    "You can create an alias when you import a module, by using the **as** keyword:\n",
    "\n",
    "\n",
    "Create an alias for mymodule called mx:"
   ]
  },
  {
   "cell_type": "code",
   "execution_count": 25,
   "id": "7eba0cd7",
   "metadata": {},
   "outputs": [
    {
     "name": "stdout",
     "output_type": "stream",
     "text": [
      "36\n"
     ]
    }
   ],
   "source": [
    "import mymodule as mx\n",
    "\n",
    "a = mx.person1[\"age\"]\n",
    "print(a)"
   ]
  },
  {
   "cell_type": "markdown",
   "id": "af72818b",
   "metadata": {},
   "source": [
    "### PYTHON REGEX  \n",
    "\n",
    "A RegEx, or Regular Expression, is a sequence of characters that forms a search pattern.  \n",
    "\n",
    "RegEx can be used to check if a string contains the specified search pattern.  \n",
    "\n",
    "**RegEx Module** \n",
    "\n",
    "Python has a built-in package called re, which can be used to work with Regular Expressions.\n",
    "\n"
   ]
  },
  {
   "cell_type": "code",
   "execution_count": null,
   "id": "1df9f4d0",
   "metadata": {},
   "outputs": [],
   "source": [
    "#Import the re module:"
   ]
  },
  {
   "cell_type": "markdown",
   "id": "c7f5639a",
   "metadata": {},
   "source": [
    "### RegEx Functions  \n",
    "The re module offers a set of functions that allows us to search a string for a match:  \n",
    "\n",
    "\n",
    "**search**  \n",
    "Returns a Match object if there is a match anywhere in the string  \n",
    "\n",
    "**findall**  \n",
    "Returns a list containing all matches  \n",
    "\n",
    "**split**  \n",
    "Returns a list where the string has been split at each match  \n",
    "\n",
    "**sub**  \n",
    "Replaces one or many matches with a string"
   ]
  },
  {
   "cell_type": "code",
   "execution_count": 26,
   "id": "ab454788",
   "metadata": {},
   "outputs": [],
   "source": [
    "#Search the string to see if it starts with \"The\" and ends with \"Spain\":\n",
    "\n",
    "import re\n",
    "\n",
    "txt = \"The rain in Spain\"\n",
    "x = re.search(\"^The.*Spain\", txt)"
   ]
  },
  {
   "cell_type": "code",
   "execution_count": 27,
   "id": "ed7c90de",
   "metadata": {},
   "outputs": [
    {
     "name": "stdout",
     "output_type": "stream",
     "text": [
      "YES! We have a match!\n"
     ]
    }
   ],
   "source": [
    "if x:\n",
    "     print(\"YES! We have a match!\")\n",
    "else:\n",
    "    print(\"No match\")"
   ]
  },
  {
   "cell_type": "markdown",
   "id": "dabd7edf",
   "metadata": {},
   "source": [
    "The regular expression pattern used in this code is:\n",
    "\n",
    "^The.*Spain\n",
    "\n",
    "Let's break down the pattern:\n",
    "\n",
    "**^** asserts the start of the string.  \n",
    "**The** matches the literal string \"The\".  \n",
    "**.*** matches any character (except newline) zero or more times.  \n",
    "**Spain** matches the literal string \"Spain\"."
   ]
  },
  {
   "cell_type": "code",
   "execution_count": null,
   "id": "d9e4df01",
   "metadata": {},
   "outputs": [],
   "source": []
  }
 ],
 "metadata": {
  "kernelspec": {
   "display_name": "Python 3 (ipykernel)",
   "language": "python",
   "name": "python3"
  },
  "language_info": {
   "codemirror_mode": {
    "name": "ipython",
    "version": 3
   },
   "file_extension": ".py",
   "mimetype": "text/x-python",
   "name": "python",
   "nbconvert_exporter": "python",
   "pygments_lexer": "ipython3",
   "version": "3.10.9"
  }
 },
 "nbformat": 4,
 "nbformat_minor": 5
}
