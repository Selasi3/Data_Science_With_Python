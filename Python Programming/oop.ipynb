{
 "cells": [
  {
   "cell_type": "markdown",
   "id": "b9d6b55c",
   "metadata": {},
   "source": [
    "# Object Oriented Programming(OOP)\n"
   ]
  },
  {
   "cell_type": "markdown",
   "id": "671f14d7",
   "metadata": {},
   "source": [
    "- Object-oriented programming is a computer programming model that relies on the concept of classes and objects rather than fuctions and logic."
   ]
  },
  {
   "cell_type": "markdown",
   "id": "6b926c40",
   "metadata": {},
   "source": [
    "### Advantages of OOP\n",
    "\n",
    "  * It reduces code repetition using the principle Don't Repeat Yourself(DRY) principle"
   ]
  },
  {
   "cell_type": "markdown",
   "id": "6dc183f0",
   "metadata": {},
   "source": [
    "Object :\n",
    "\n",
    "In Python everything is an object and every object has a class"
   ]
  },
  {
   "cell_type": "code",
   "execution_count": 1,
   "id": "473559f2",
   "metadata": {},
   "outputs": [],
   "source": [
    "num =5"
   ]
  },
  {
   "cell_type": "code",
   "execution_count": 2,
   "id": "f8d3a402",
   "metadata": {},
   "outputs": [
    {
     "name": "stdout",
     "output_type": "stream",
     "text": [
      "<class 'int'>\n"
     ]
    }
   ],
   "source": [
    "print(type(num))"
   ]
  },
  {
   "cell_type": "markdown",
   "id": "25b7e2ee",
   "metadata": {},
   "source": [
    "**Class:**\n",
    "\n",
    "A  class is a blueprint for an object which describe the state(attributes) and behaviour(methods) of an object"
   ]
  },
  {
   "cell_type": "markdown",
   "id": "6b47753c",
   "metadata": {},
   "source": [
    "**Instance:**\n",
    "\n",
    "An instance is an object that is built from a class and contains real data"
   ]
  },
  {
   "cell_type": "markdown",
   "id": "f35de8b7",
   "metadata": {},
   "source": [
    "**Attributes**\n",
    "\n",
    "Atrributes are variables that belongs to a class"
   ]
  },
  {
   "cell_type": "markdown",
   "id": "831dd6b9",
   "metadata": {},
   "source": [
    "**Methods**\n",
    "\n",
    "Methods are functions that belongs to a class"
   ]
  },
  {
   "cell_type": "markdown",
   "id": "4e9e2c6b",
   "metadata": {},
   "source": [
    "### Examples:\n",
    "\n",
    "Create a class Fruit\n",
    "\n",
    "Examples of fruits banana, apple, orange are instance of the class Fruits\n",
    "\n",
    "The size and color of the fruit are attributes of the fruits.\n",
    "\n",
    " The methods of the class fruit can be cut method, the eat"
   ]
  },
  {
   "cell_type": "markdown",
   "id": "940953b5",
   "metadata": {},
   "source": [
    "### Creating  a Class in Python"
   ]
  },
  {
   "cell_type": "markdown",
   "id": "43b9d718",
   "metadata": {},
   "source": [
    "To create a class in Python use the keyword **class** followed by the name of the class and a colon.\n",
    "\n",
    "The class name should be in CamelCase.\n",
    "\n",
    "The body of the class comprises of the attributes and methods of the class"
   ]
  },
  {
   "cell_type": "code",
   "execution_count": 3,
   "id": "cc49e1d6",
   "metadata": {},
   "outputs": [],
   "source": [
    "class MyClass:\n",
    "    pass"
   ]
  },
  {
   "cell_type": "code",
   "execution_count": 4,
   "id": "6094c67c",
   "metadata": {},
   "outputs": [],
   "source": [
    "# Create  an instance of Myclass\n",
    "myclass = MyClass()"
   ]
  },
  {
   "cell_type": "code",
   "execution_count": 5,
   "id": "c39c2fc8",
   "metadata": {},
   "outputs": [
    {
     "data": {
      "text/plain": [
       "<__main__.MyClass at 0x1acfab7bc70>"
      ]
     },
     "execution_count": 5,
     "metadata": {},
     "output_type": "execute_result"
    }
   ],
   "source": [
    "myclass"
   ]
  },
  {
   "cell_type": "code",
   "execution_count": 6,
   "id": "c18e3bb8",
   "metadata": {},
   "outputs": [
    {
     "data": {
      "text/plain": [
       "__main__.MyClass"
      ]
     },
     "execution_count": 6,
     "metadata": {},
     "output_type": "execute_result"
    }
   ],
   "source": [
    "type(myclass)"
   ]
  },
  {
   "cell_type": "markdown",
   "id": "fb8fa111",
   "metadata": {},
   "source": [
    "**__init__ method**\n",
    "\n",
    "The init method of the class is called the constructor of the class.\n",
    "It is used to initialize the attribute of the class and can  take a number of argument.\n",
    "\n",
    "The first argument of the __init__ method is always the **self** argument, which refers to the instance of the class being created."
   ]
  },
  {
   "cell_type": "code",
   "execution_count": 7,
   "id": "b027aa23",
   "metadata": {},
   "outputs": [],
   "source": [
    "class Fruit:\n",
    "    def __init__(self, name, color):\n",
    "        self.name = name\n",
    "        self.color = color"
   ]
  },
  {
   "cell_type": "code",
   "execution_count": 8,
   "id": "e744d5aa",
   "metadata": {},
   "outputs": [],
   "source": [
    "orange = Fruit(\"Orange\",\"yellow\")"
   ]
  },
  {
   "cell_type": "code",
   "execution_count": 9,
   "id": "4a5289c8",
   "metadata": {},
   "outputs": [
    {
     "data": {
      "text/plain": [
       "'yellow'"
      ]
     },
     "execution_count": 9,
     "metadata": {},
     "output_type": "execute_result"
    }
   ],
   "source": [
    "#Accessing the color of the orange \n",
    "orange.color"
   ]
  },
  {
   "cell_type": "code",
   "execution_count": 10,
   "id": "e315d9a7",
   "metadata": {},
   "outputs": [
    {
     "data": {
      "text/plain": [
       "'Orange'"
      ]
     },
     "execution_count": 10,
     "metadata": {},
     "output_type": "execute_result"
    }
   ],
   "source": [
    "#Accessing the name of the orange \n",
    "orange.name"
   ]
  },
  {
   "cell_type": "markdown",
   "id": "f586d0cf",
   "metadata": {},
   "source": [
    "**__str__ method**\n",
    "\n",
    "This method returns a string representation of an object."
   ]
  },
  {
   "cell_type": "code",
   "execution_count": 11,
   "id": "74606234",
   "metadata": {},
   "outputs": [],
   "source": [
    "class Fruit:\n",
    "    def __init__(self, name, color):\n",
    "        self.name = name\n",
    "        self.color = color\n",
    "        \n",
    "    def __str__(self):\n",
    "        return f\"{self.name.title()} is a fruit and it has a {self.color} color.\""
   ]
  },
  {
   "cell_type": "code",
   "execution_count": 12,
   "id": "6be0b3bb",
   "metadata": {},
   "outputs": [],
   "source": [
    "orange = Fruit(\"orange\",\"yellow\")"
   ]
  },
  {
   "cell_type": "code",
   "execution_count": 13,
   "id": "027c93aa",
   "metadata": {},
   "outputs": [
    {
     "name": "stdout",
     "output_type": "stream",
     "text": [
      "Orange is a fruit and it has a yellow color.\n"
     ]
    }
   ],
   "source": [
    "print(orange)"
   ]
  },
  {
   "cell_type": "code",
   "execution_count": 14,
   "id": "139f3fcd",
   "metadata": {},
   "outputs": [],
   "source": [
    "pawpaw = Fruit(\"pawpaw\",\"yellow\")\n"
   ]
  },
  {
   "cell_type": "code",
   "execution_count": 15,
   "id": "a04b169b",
   "metadata": {},
   "outputs": [
    {
     "name": "stdout",
     "output_type": "stream",
     "text": [
      "Pawpaw is a fruit and it has a yellow color.\n"
     ]
    }
   ],
   "source": [
    "print(pawpaw)"
   ]
  },
  {
   "cell_type": "code",
   "execution_count": 16,
   "id": "11dbfd76",
   "metadata": {},
   "outputs": [
    {
     "data": {
      "text/plain": [
       "'yellow'"
      ]
     },
     "execution_count": 16,
     "metadata": {},
     "output_type": "execute_result"
    }
   ],
   "source": [
    "pawpaw.color"
   ]
  },
  {
   "cell_type": "code",
   "execution_count": 17,
   "id": "e04a8abb",
   "metadata": {},
   "outputs": [
    {
     "data": {
      "text/plain": [
       "'pawpaw'"
      ]
     },
     "execution_count": 17,
     "metadata": {},
     "output_type": "execute_result"
    }
   ],
   "source": [
    "pawpaw.name"
   ]
  },
  {
   "cell_type": "code",
   "execution_count": 18,
   "id": "4f57daa3",
   "metadata": {},
   "outputs": [
    {
     "ename": "AttributeError",
     "evalue": "'Fruit' object has no attribute 'texture'",
     "output_type": "error",
     "traceback": [
      "\u001b[1;31m---------------------------------------------------------------------------\u001b[0m",
      "\u001b[1;31mAttributeError\u001b[0m                            Traceback (most recent call last)",
      "Input \u001b[1;32mIn [18]\u001b[0m, in \u001b[0;36m<cell line: 2>\u001b[1;34m()\u001b[0m\n\u001b[0;32m      1\u001b[0m \u001b[38;5;66;03m# This will throw an error\u001b[39;00m\n\u001b[1;32m----> 2\u001b[0m \u001b[43mpawpaw\u001b[49m\u001b[38;5;241;43m.\u001b[39;49m\u001b[43mtexture\u001b[49m\n",
      "\u001b[1;31mAttributeError\u001b[0m: 'Fruit' object has no attribute 'texture'"
     ]
    }
   ],
   "source": [
    "# This will throw an error\n",
    "pawpaw.texture"
   ]
  },
  {
   "cell_type": "code",
   "execution_count": null,
   "id": "f9849644",
   "metadata": {},
   "outputs": [],
   "source": []
  },
  {
   "cell_type": "code",
   "execution_count": 19,
   "id": "dacad1b9",
   "metadata": {},
   "outputs": [],
   "source": [
    "class Fruit:\n",
    "    def __init__(self, name, color):\n",
    "        self.name = name\n",
    "        self.color = color\n",
    "        \n",
    "    def set_texture(self,texture_type):\n",
    "        self.texture = texture_type\n",
    "        \n",
    "    def __str__(self):\n",
    "        return f\"{self.name.title()} is a fruit and it has a {self.color} color.\""
   ]
  },
  {
   "cell_type": "code",
   "execution_count": 20,
   "id": "8dee523f",
   "metadata": {},
   "outputs": [],
   "source": [
    "apple =Fruit(\"apple\",\"green\")"
   ]
  },
  {
   "cell_type": "code",
   "execution_count": 21,
   "id": "382bda95",
   "metadata": {},
   "outputs": [
    {
     "name": "stdout",
     "output_type": "stream",
     "text": [
      "Apple is a fruit and it has a green color.\n"
     ]
    }
   ],
   "source": [
    "print(apple)"
   ]
  },
  {
   "cell_type": "code",
   "execution_count": 22,
   "id": "0474d7d9",
   "metadata": {},
   "outputs": [],
   "source": [
    "apple.set_texture(\"smooth\")"
   ]
  },
  {
   "cell_type": "code",
   "execution_count": 23,
   "id": "84765981",
   "metadata": {},
   "outputs": [
    {
     "data": {
      "text/plain": [
       "'smooth'"
      ]
     },
     "execution_count": 23,
     "metadata": {},
     "output_type": "execute_result"
    }
   ],
   "source": [
    "apple.texture"
   ]
  },
  {
   "cell_type": "markdown",
   "id": "73470b27",
   "metadata": {},
   "source": [
    "### Class Attribute\n",
    "\n",
    "Attribute of a class that is shared among all instances of a class"
   ]
  },
  {
   "cell_type": "code",
   "execution_count": 24,
   "id": "719ae61e",
   "metadata": {},
   "outputs": [],
   "source": [
    "class Fruit:\n",
    "    category = \"Fruit Type\"\n",
    "    def __init__(self, name, color):\n",
    "        self.name = name\n",
    "        self.color = color\n",
    "        \n",
    "    def set_texture(self,texture_type):\n",
    "        self.texture = texture_type\n",
    "        \n",
    "    def __str__(self):\n",
    "        return f\"{self.name.title()} is a fruit and it has a {self.color} color.\""
   ]
  },
  {
   "cell_type": "code",
   "execution_count": 25,
   "id": "453d9483",
   "metadata": {},
   "outputs": [],
   "source": [
    "pawpaw = Fruit(\"pawpaw\",\"yellow\")\n",
    "apple =Fruit(\"apple\",\"green\")"
   ]
  },
  {
   "cell_type": "code",
   "execution_count": 26,
   "id": "d5f28528",
   "metadata": {},
   "outputs": [
    {
     "data": {
      "text/plain": [
       "'Fruit Type'"
      ]
     },
     "execution_count": 26,
     "metadata": {},
     "output_type": "execute_result"
    }
   ],
   "source": [
    "\n",
    "pawpaw.category"
   ]
  },
  {
   "cell_type": "code",
   "execution_count": 27,
   "id": "0d50d51c",
   "metadata": {},
   "outputs": [
    {
     "data": {
      "text/plain": [
       "'Fruit Type'"
      ]
     },
     "execution_count": 27,
     "metadata": {},
     "output_type": "execute_result"
    }
   ],
   "source": [
    "apple.category"
   ]
  },
  {
   "cell_type": "code",
   "execution_count": null,
   "id": "c5f4995a",
   "metadata": {},
   "outputs": [],
   "source": []
  },
  {
   "cell_type": "markdown",
   "id": "bbec7604",
   "metadata": {},
   "source": [
    "### Class Methods:\n",
    "\n",
    "Class method is a method bounded to the class and not the instance of the class."
   ]
  },
  {
   "cell_type": "code",
   "execution_count": 36,
   "id": "4133adc3",
   "metadata": {},
   "outputs": [],
   "source": [
    "\n",
    "class Fruit:\n",
    "    category = \"Fruit Type\"\n",
    "    #using class methods to create object\n",
    "    @classmethod\n",
    "    def create_friut(cls, fruit_name, fruit_color):\n",
    "        return cls(fruit_name,fruit_color)\n",
    "    \n",
    "    @classmethod\n",
    "    def description(cls):\n",
    "        print(\"Modelling a Fruit\")\n",
    "        \n",
    "    def __init__(self, name, color):\n",
    "        self.name = name\n",
    "        self.color = color\n",
    "        \n",
    "    def set_texture(self,texture_type):\n",
    "        self.texture = texture_type\n",
    "        \n",
    "\n",
    "    def __str__(self):\n",
    "        return f\"{self.name.title()} is a fruit and it has a {self.color} color.\""
   ]
  },
  {
   "cell_type": "code",
   "execution_count": 29,
   "id": "87569151",
   "metadata": {},
   "outputs": [],
   "source": [
    "watermelon =Fruit.create_friut(\"watermelon\",\"green\")"
   ]
  },
  {
   "cell_type": "code",
   "execution_count": 30,
   "id": "5165e5d4",
   "metadata": {},
   "outputs": [
    {
     "name": "stdout",
     "output_type": "stream",
     "text": [
      "Watermelon is a fruit and it has a green color.\n"
     ]
    }
   ],
   "source": [
    "print(watermelon)"
   ]
  },
  {
   "cell_type": "code",
   "execution_count": 31,
   "id": "c6443a80",
   "metadata": {},
   "outputs": [
    {
     "data": {
      "text/plain": [
       "'watermelon'"
      ]
     },
     "execution_count": 31,
     "metadata": {},
     "output_type": "execute_result"
    }
   ],
   "source": [
    "watermelon.name"
   ]
  },
  {
   "cell_type": "code",
   "execution_count": 32,
   "id": "38d7023d",
   "metadata": {},
   "outputs": [
    {
     "data": {
      "text/plain": [
       "'green'"
      ]
     },
     "execution_count": 32,
     "metadata": {},
     "output_type": "execute_result"
    }
   ],
   "source": [
    "watermelon.color"
   ]
  },
  {
   "cell_type": "code",
   "execution_count": 40,
   "id": "5681bbbb",
   "metadata": {},
   "outputs": [
    {
     "name": "stdout",
     "output_type": "stream",
     "text": [
      "Modelling a Fruit\n"
     ]
    }
   ],
   "source": [
    "Fruit.description()"
   ]
  },
  {
   "cell_type": "code",
   "execution_count": 41,
   "id": "55e108ec",
   "metadata": {},
   "outputs": [
    {
     "data": {
      "text/plain": [
       "'Modelling a Fruit'"
      ]
     },
     "execution_count": 41,
     "metadata": {},
     "output_type": "execute_result"
    }
   ],
   "source": [
    "watermelon.description()"
   ]
  },
  {
   "cell_type": "code",
   "execution_count": null,
   "id": "3d503d6a",
   "metadata": {},
   "outputs": [],
   "source": []
  }
 ],
 "metadata": {
  "kernelspec": {
   "display_name": "Python 3 (ipykernel)",
   "language": "python",
   "name": "python3"
  },
  "language_info": {
   "codemirror_mode": {
    "name": "ipython",
    "version": 3
   },
   "file_extension": ".py",
   "mimetype": "text/x-python",
   "name": "python",
   "nbconvert_exporter": "python",
   "pygments_lexer": "ipython3",
   "version": "3.9.12"
  }
 },
 "nbformat": 4,
 "nbformat_minor": 5
}
