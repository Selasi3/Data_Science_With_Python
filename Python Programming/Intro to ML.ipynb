{
 "cells": [
  {
   "cell_type": "markdown",
   "id": "2184d5a0",
   "metadata": {},
   "source": [
    "Machine learning is a field of computer science that involves the development of algorithms and statistical models that enable computer systems to learn from and make predictions or decisions based on data, without being explicitly programmed to do so. Machine learning algorithms use statistical techniques to automatically recognize patterns in data and adjust their behavior accordingly.\n",
    "\n",
    "The main goal of machine learning is to develop algorithms that can learn from data and improve their performance on a specific task over time. \n",
    "\n",
    "Application of Machine learning includes:\n",
    "\n",
    "- Natural language processing\n",
    "- Recommendation systems\n",
    "- Predictive analytics\n",
    "- Image and speech recognition\n",
    "- Medical diagnosis and treatment\n",
    "\n",
    "Common libraires used in ML includes:\n",
    "- Scikit-learn\n",
    "- Tensorflow\n",
    "- keras\n",
    "- PyTorch"
   ]
  },
  {
   "cell_type": "markdown",
   "id": "90bf96ff",
   "metadata": {},
   "source": [
    "### Types of Machine Learning"
   ]
  },
  {
   "cell_type": "markdown",
   "id": "dc2cc265",
   "metadata": {},
   "source": [
    "There are primarily three types of Machine Learning namely:\n",
    "\n",
    "- Supervised Learning\n",
    "- Unsupervised Learning\n",
    "- Reinforcement Learning"
   ]
  },
  {
   "cell_type": "markdown",
   "id": "8d20137e",
   "metadata": {},
   "source": [
    "### Supervised Learning\n",
    "This is the type of ML where the algorithm is trained on a labeled dataset, where the correct output is provided for each input. The algorithm then learns to make predictions based on the input data by mapping input to output.\n",
    "\n",
    "The most common examples of supervised learning are the \n",
    "- Regression\n",
    "- Classification"
   ]
  },
  {
   "cell_type": "markdown",
   "id": "838e3662",
   "metadata": {},
   "source": [
    "### Regression\n",
    "Regression algorithms are used to predict a continuous numerical output based on input variables.\n",
    "Example include house price prediction, salary prediction."
   ]
  },
  {
   "cell_type": "markdown",
   "id": "f5f1bca7",
   "metadata": {},
   "source": [
    "### Classification"
   ]
  },
  {
   "cell_type": "markdown",
   "id": "53b34f9a",
   "metadata": {},
   "source": [
    "Classification algorithms are used to predict a categorical output based on input variables.\n",
    "Example include gender prediction,predict whether a person is likely to buy a product or not."
   ]
  },
  {
   "cell_type": "markdown",
   "id": "a899011f",
   "metadata": {},
   "source": [
    "### Unsupervised learning\n",
    "Unsupervised learning is a type of machine learning where the algorithm learns from an unlabeled dataset to identify patterns or structure in the data. \n",
    "\n",
    "Examples include\n",
    "Clustering EG hierarchical clustering"
   ]
  },
  {
   "cell_type": "markdown",
   "id": "af60afb1",
   "metadata": {},
   "source": [
    "### Reinforcement Learning\n",
    "\n",
    "Reinforcement learning is a subfield of machine learning that deals with how an agent can learn to make decisions in an environment in order to maximize a reward signal. \n",
    "\n",
    "The agent learns through trial and error, receiving feedback in the form of a reward signal from the environment for each action it takes"
   ]
  },
  {
   "cell_type": "code",
   "execution_count": null,
   "id": "f6964e0f",
   "metadata": {},
   "outputs": [],
   "source": []
  }
 ],
 "metadata": {
  "kernelspec": {
   "display_name": "Python 3 (ipykernel)",
   "language": "python",
   "name": "python3"
  },
  "language_info": {
   "codemirror_mode": {
    "name": "ipython",
    "version": 3
   },
   "file_extension": ".py",
   "mimetype": "text/x-python",
   "name": "python",
   "nbconvert_exporter": "python",
   "pygments_lexer": "ipython3",
   "version": "3.9.12"
  }
 },
 "nbformat": 4,
 "nbformat_minor": 5
}
