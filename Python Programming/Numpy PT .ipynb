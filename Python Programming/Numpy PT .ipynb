{
 "cells": [
  {
   "cell_type": "code",
   "execution_count": 1,
   "id": "3a21eb56",
   "metadata": {},
   "outputs": [],
   "source": [
    "#Numerical Python - Numpy"
   ]
  },
  {
   "cell_type": "code",
   "execution_count": 3,
   "id": "c4bd43c1",
   "metadata": {},
   "outputs": [],
   "source": [
    "import numpy as np"
   ]
  },
  {
   "cell_type": "code",
   "execution_count": 5,
   "id": "2da3ad98",
   "metadata": {},
   "outputs": [],
   "source": [
    "lst_1 = [1,2,3,4,5]"
   ]
  },
  {
   "cell_type": "code",
   "execution_count": 8,
   "id": "58c528d3",
   "metadata": {},
   "outputs": [
    {
     "data": {
      "text/plain": [
       "list"
      ]
     },
     "execution_count": 8,
     "metadata": {},
     "output_type": "execute_result"
    }
   ],
   "source": [
    "type(lst_1)"
   ]
  },
  {
   "cell_type": "markdown",
   "id": "de238a71",
   "metadata": {},
   "source": [
    "### Numpy Array"
   ]
  },
  {
   "cell_type": "code",
   "execution_count": 6,
   "id": "97a3371e",
   "metadata": {},
   "outputs": [],
   "source": [
    "arr_1 = np.array([1,2,3,4,5])"
   ]
  },
  {
   "cell_type": "code",
   "execution_count": 7,
   "id": "6b026814",
   "metadata": {},
   "outputs": [
    {
     "data": {
      "text/plain": [
       "array([1, 2, 3, 4, 5])"
      ]
     },
     "execution_count": 7,
     "metadata": {},
     "output_type": "execute_result"
    }
   ],
   "source": [
    "arr_1"
   ]
  },
  {
   "cell_type": "code",
   "execution_count": 9,
   "id": "7770faea",
   "metadata": {},
   "outputs": [
    {
     "data": {
      "text/plain": [
       "numpy.ndarray"
      ]
     },
     "execution_count": 9,
     "metadata": {},
     "output_type": "execute_result"
    }
   ],
   "source": [
    "type(arr_1)"
   ]
  },
  {
   "cell_type": "code",
   "execution_count": 10,
   "id": "b3232d02",
   "metadata": {},
   "outputs": [
    {
     "data": {
      "text/plain": [
       "1"
      ]
     },
     "execution_count": 10,
     "metadata": {},
     "output_type": "execute_result"
    }
   ],
   "source": [
    "#Number of dimension\n",
    "arr_1.ndim"
   ]
  },
  {
   "cell_type": "code",
   "execution_count": 11,
   "id": "27c8af20",
   "metadata": {},
   "outputs": [
    {
     "data": {
      "text/plain": [
       "(5,)"
      ]
     },
     "execution_count": 11,
     "metadata": {},
     "output_type": "execute_result"
    }
   ],
   "source": [
    "#Shape of the array\n",
    "arr_1.shape"
   ]
  },
  {
   "cell_type": "code",
   "execution_count": 15,
   "id": "a73d2824",
   "metadata": {},
   "outputs": [
    {
     "data": {
      "text/plain": [
       "dtype('int32')"
      ]
     },
     "execution_count": 15,
     "metadata": {},
     "output_type": "execute_result"
    }
   ],
   "source": [
    "#Data type\n",
    "arr_1.dtype"
   ]
  },
  {
   "cell_type": "code",
   "execution_count": 16,
   "id": "add7da24",
   "metadata": {},
   "outputs": [
    {
     "data": {
      "text/plain": [
       "[1, 2, 3, 4, 5]"
      ]
     },
     "execution_count": 16,
     "metadata": {},
     "output_type": "execute_result"
    }
   ],
   "source": [
    "lst_1"
   ]
  },
  {
   "cell_type": "code",
   "execution_count": 17,
   "id": "d5707a90",
   "metadata": {},
   "outputs": [
    {
     "data": {
      "text/plain": [
       "array([1, 2, 3, 4, 5])"
      ]
     },
     "execution_count": 17,
     "metadata": {},
     "output_type": "execute_result"
    }
   ],
   "source": [
    "np.array(lst_1)"
   ]
  },
  {
   "cell_type": "markdown",
   "id": "aac1c2b0",
   "metadata": {},
   "source": [
    "### Matrix"
   ]
  },
  {
   "cell_type": "code",
   "execution_count": 18,
   "id": "e2ee3c1c",
   "metadata": {},
   "outputs": [],
   "source": [
    "mat_1 = np.array([[1,2],[3,4]])"
   ]
  },
  {
   "cell_type": "code",
   "execution_count": 19,
   "id": "c7e29776",
   "metadata": {},
   "outputs": [
    {
     "data": {
      "text/plain": [
       "array([[1, 2],\n",
       "       [3, 4]])"
      ]
     },
     "execution_count": 19,
     "metadata": {},
     "output_type": "execute_result"
    }
   ],
   "source": [
    "mat_1"
   ]
  },
  {
   "cell_type": "code",
   "execution_count": 20,
   "id": "05aa8eec",
   "metadata": {},
   "outputs": [
    {
     "data": {
      "text/plain": [
       "(2, 2)"
      ]
     },
     "execution_count": 20,
     "metadata": {},
     "output_type": "execute_result"
    }
   ],
   "source": [
    "mat_1.shape"
   ]
  },
  {
   "cell_type": "code",
   "execution_count": 22,
   "id": "dca3b1d8",
   "metadata": {},
   "outputs": [
    {
     "data": {
      "text/plain": [
       "2"
      ]
     },
     "execution_count": 22,
     "metadata": {},
     "output_type": "execute_result"
    }
   ],
   "source": [
    "mat_1.ndim"
   ]
  },
  {
   "cell_type": "code",
   "execution_count": 23,
   "id": "9277b2eb",
   "metadata": {},
   "outputs": [],
   "source": [
    "lst_2 =[[1,2,3],[4,5,6]]"
   ]
  },
  {
   "cell_type": "code",
   "execution_count": 24,
   "id": "75c668a3",
   "metadata": {},
   "outputs": [
    {
     "data": {
      "text/plain": [
       "[[1, 2, 3], [4, 5, 6]]"
      ]
     },
     "execution_count": 24,
     "metadata": {},
     "output_type": "execute_result"
    }
   ],
   "source": [
    "lst_2"
   ]
  },
  {
   "cell_type": "code",
   "execution_count": 25,
   "id": "e4880a30",
   "metadata": {},
   "outputs": [],
   "source": [
    "mat_2 = np.array(lst_2)"
   ]
  },
  {
   "cell_type": "code",
   "execution_count": 26,
   "id": "910affe3",
   "metadata": {},
   "outputs": [
    {
     "data": {
      "text/plain": [
       "array([[1, 2, 3],\n",
       "       [4, 5, 6]])"
      ]
     },
     "execution_count": 26,
     "metadata": {},
     "output_type": "execute_result"
    }
   ],
   "source": [
    "mat_2"
   ]
  },
  {
   "cell_type": "code",
   "execution_count": 27,
   "id": "c4f2c51b",
   "metadata": {},
   "outputs": [
    {
     "data": {
      "text/plain": [
       "(2, 3)"
      ]
     },
     "execution_count": 27,
     "metadata": {},
     "output_type": "execute_result"
    }
   ],
   "source": [
    "mat_2.shape"
   ]
  },
  {
   "cell_type": "code",
   "execution_count": 29,
   "id": "db90fd11",
   "metadata": {},
   "outputs": [
    {
     "data": {
      "text/plain": [
       "2"
      ]
     },
     "execution_count": 29,
     "metadata": {},
     "output_type": "execute_result"
    }
   ],
   "source": [
    "mat_2.ndim"
   ]
  },
  {
   "cell_type": "code",
   "execution_count": 30,
   "id": "e6823011",
   "metadata": {},
   "outputs": [],
   "source": [
    "mat_3 = np.array([[1,2],[3,4],[5,6]])"
   ]
  },
  {
   "cell_type": "code",
   "execution_count": 31,
   "id": "01451196",
   "metadata": {},
   "outputs": [
    {
     "data": {
      "text/plain": [
       "array([[1, 2],\n",
       "       [3, 4],\n",
       "       [5, 6]])"
      ]
     },
     "execution_count": 31,
     "metadata": {},
     "output_type": "execute_result"
    }
   ],
   "source": [
    "mat_3"
   ]
  },
  {
   "cell_type": "code",
   "execution_count": 32,
   "id": "a7fe6584",
   "metadata": {},
   "outputs": [
    {
     "data": {
      "text/plain": [
       "2"
      ]
     },
     "execution_count": 32,
     "metadata": {},
     "output_type": "execute_result"
    }
   ],
   "source": [
    "mat_3.ndim"
   ]
  },
  {
   "cell_type": "code",
   "execution_count": 34,
   "id": "7b5560b8",
   "metadata": {},
   "outputs": [
    {
     "data": {
      "text/plain": [
       "(3, 2)"
      ]
     },
     "execution_count": 34,
     "metadata": {},
     "output_type": "execute_result"
    }
   ],
   "source": [
    "mat_3.shape"
   ]
  },
  {
   "cell_type": "markdown",
   "id": "2eb28fce",
   "metadata": {},
   "source": [
    "### Mathematical Operations"
   ]
  },
  {
   "cell_type": "code",
   "execution_count": 35,
   "id": "16a7f5de",
   "metadata": {},
   "outputs": [],
   "source": [
    "mat_a = np.array([[2,4],[6,8]])\n",
    "mat_b = np.array([[1,7],[2,4]])"
   ]
  },
  {
   "cell_type": "code",
   "execution_count": 36,
   "id": "4e104f48",
   "metadata": {},
   "outputs": [
    {
     "data": {
      "text/plain": [
       "array([[ 3, 11],\n",
       "       [ 8, 12]])"
      ]
     },
     "execution_count": 36,
     "metadata": {},
     "output_type": "execute_result"
    }
   ],
   "source": [
    "mat_a + mat_b"
   ]
  },
  {
   "cell_type": "code",
   "execution_count": 37,
   "id": "2168aff1",
   "metadata": {},
   "outputs": [
    {
     "data": {
      "text/plain": [
       "array([[ 1, -3],\n",
       "       [ 4,  4]])"
      ]
     },
     "execution_count": 37,
     "metadata": {},
     "output_type": "execute_result"
    }
   ],
   "source": [
    "mat_a - mat_b"
   ]
  },
  {
   "cell_type": "code",
   "execution_count": 38,
   "id": "3c637d04",
   "metadata": {},
   "outputs": [
    {
     "data": {
      "text/plain": [
       "array([[ 2, 28],\n",
       "       [12, 32]])"
      ]
     },
     "execution_count": 38,
     "metadata": {},
     "output_type": "execute_result"
    }
   ],
   "source": [
    "mat_a * mat_b"
   ]
  },
  {
   "cell_type": "code",
   "execution_count": 39,
   "id": "0a106ddb",
   "metadata": {},
   "outputs": [
    {
     "data": {
      "text/plain": [
       "array([[ 2, 28],\n",
       "       [12, 32]])"
      ]
     },
     "execution_count": 39,
     "metadata": {},
     "output_type": "execute_result"
    }
   ],
   "source": [
    "mat_b * mat_a"
   ]
  },
  {
   "cell_type": "code",
   "execution_count": 41,
   "id": "a0c1ea3d",
   "metadata": {},
   "outputs": [
    {
     "data": {
      "text/plain": [
       "array([[0.5       , 1.75      ],\n",
       "       [0.33333333, 0.5       ]])"
      ]
     },
     "execution_count": 41,
     "metadata": {},
     "output_type": "execute_result"
    }
   ],
   "source": [
    "mat_b / mat_a"
   ]
  },
  {
   "cell_type": "code",
   "execution_count": 42,
   "id": "22fb2177",
   "metadata": {},
   "outputs": [],
   "source": [
    "lst_1 = [1,2,3,4,5]"
   ]
  },
  {
   "cell_type": "code",
   "execution_count": 43,
   "id": "8fa8429f",
   "metadata": {},
   "outputs": [
    {
     "data": {
      "text/plain": [
       "[3, 4, 5, 6, 7]"
      ]
     },
     "execution_count": 43,
     "metadata": {},
     "output_type": "execute_result"
    }
   ],
   "source": [
    "[num+2 for num in lst_1]"
   ]
  },
  {
   "cell_type": "code",
   "execution_count": 44,
   "id": "719f0ab7",
   "metadata": {},
   "outputs": [],
   "source": [
    "arr_3 = np.array(lst_1)"
   ]
  },
  {
   "cell_type": "code",
   "execution_count": 45,
   "id": "eeb7104d",
   "metadata": {},
   "outputs": [
    {
     "data": {
      "text/plain": [
       "array([1, 2, 3, 4, 5])"
      ]
     },
     "execution_count": 45,
     "metadata": {},
     "output_type": "execute_result"
    }
   ],
   "source": [
    "arr_3"
   ]
  },
  {
   "cell_type": "code",
   "execution_count": 46,
   "id": "4d77f21c",
   "metadata": {},
   "outputs": [
    {
     "data": {
      "text/plain": [
       "array([3, 4, 5, 6, 7])"
      ]
     },
     "execution_count": 46,
     "metadata": {},
     "output_type": "execute_result"
    }
   ],
   "source": [
    "arr_3+2"
   ]
  },
  {
   "cell_type": "code",
   "execution_count": 47,
   "id": "62330d87",
   "metadata": {},
   "outputs": [
    {
     "data": {
      "text/plain": [
       "array([ 5, 10, 15, 20, 25])"
      ]
     },
     "execution_count": 47,
     "metadata": {},
     "output_type": "execute_result"
    }
   ],
   "source": [
    "arr_3*5"
   ]
  },
  {
   "cell_type": "code",
   "execution_count": 48,
   "id": "b7b123e6",
   "metadata": {},
   "outputs": [
    {
     "data": {
      "text/plain": [
       "[4, 5, 6, 7, 8, 9, 10, 11]"
      ]
     },
     "execution_count": 48,
     "metadata": {},
     "output_type": "execute_result"
    }
   ],
   "source": [
    "list(range(4,12,1))"
   ]
  },
  {
   "cell_type": "code",
   "execution_count": 49,
   "id": "858d0f9b",
   "metadata": {},
   "outputs": [
    {
     "data": {
      "text/plain": [
       "array([ 4,  5,  6,  7,  8,  9, 10, 11])"
      ]
     },
     "execution_count": 49,
     "metadata": {},
     "output_type": "execute_result"
    }
   ],
   "source": [
    "arr_6 =np.arange(4,12,1)\n",
    "arr_6"
   ]
  },
  {
   "cell_type": "code",
   "execution_count": 50,
   "id": "0c37b831",
   "metadata": {},
   "outputs": [
    {
     "data": {
      "text/plain": [
       "4"
      ]
     },
     "execution_count": 50,
     "metadata": {},
     "output_type": "execute_result"
    }
   ],
   "source": [
    "arr_6[0]"
   ]
  },
  {
   "cell_type": "code",
   "execution_count": 51,
   "id": "cae02c3c",
   "metadata": {},
   "outputs": [
    {
     "data": {
      "text/plain": [
       "6"
      ]
     },
     "execution_count": 51,
     "metadata": {},
     "output_type": "execute_result"
    }
   ],
   "source": [
    "arr_6[2]"
   ]
  },
  {
   "cell_type": "code",
   "execution_count": 52,
   "id": "6c324cb9",
   "metadata": {},
   "outputs": [
    {
     "data": {
      "text/plain": [
       "11"
      ]
     },
     "execution_count": 52,
     "metadata": {},
     "output_type": "execute_result"
    }
   ],
   "source": [
    "arr_6[-1]"
   ]
  },
  {
   "cell_type": "code",
   "execution_count": 53,
   "id": "9ad9a20a",
   "metadata": {},
   "outputs": [],
   "source": [
    "mat_4 = np.array([[2,5,6], [3,4,5]])"
   ]
  },
  {
   "cell_type": "code",
   "execution_count": 54,
   "id": "8bccffd4",
   "metadata": {},
   "outputs": [
    {
     "data": {
      "text/plain": [
       "array([[2, 5, 6],\n",
       "       [3, 4, 5]])"
      ]
     },
     "execution_count": 54,
     "metadata": {},
     "output_type": "execute_result"
    }
   ],
   "source": [
    "mat_4"
   ]
  },
  {
   "cell_type": "code",
   "execution_count": 56,
   "id": "005b5e4a",
   "metadata": {},
   "outputs": [
    {
     "data": {
      "text/plain": [
       "6"
      ]
     },
     "execution_count": 56,
     "metadata": {},
     "output_type": "execute_result"
    }
   ],
   "source": [
    "mat_4[0,2]"
   ]
  },
  {
   "cell_type": "code",
   "execution_count": 57,
   "id": "c8824977",
   "metadata": {},
   "outputs": [
    {
     "data": {
      "text/plain": [
       "4"
      ]
     },
     "execution_count": 57,
     "metadata": {},
     "output_type": "execute_result"
    }
   ],
   "source": [
    "mat_4[1,1]"
   ]
  },
  {
   "cell_type": "code",
   "execution_count": 61,
   "id": "2e8e06d9",
   "metadata": {},
   "outputs": [
    {
     "data": {
      "text/plain": [
       "4"
      ]
     },
     "execution_count": 61,
     "metadata": {},
     "output_type": "execute_result"
    }
   ],
   "source": [
    "mat_4[1,1]"
   ]
  },
  {
   "cell_type": "code",
   "execution_count": 62,
   "id": "f8f460e7",
   "metadata": {},
   "outputs": [
    {
     "data": {
      "text/plain": [
       "array([ 4,  5,  6,  7,  8,  9, 10, 11])"
      ]
     },
     "execution_count": 62,
     "metadata": {},
     "output_type": "execute_result"
    }
   ],
   "source": [
    "arr_6"
   ]
  },
  {
   "cell_type": "code",
   "execution_count": 64,
   "id": "a836e60b",
   "metadata": {},
   "outputs": [
    {
     "data": {
      "text/plain": [
       "array([4, 5, 6])"
      ]
     },
     "execution_count": 64,
     "metadata": {},
     "output_type": "execute_result"
    }
   ],
   "source": [
    "arr_6[:3]"
   ]
  },
  {
   "cell_type": "code",
   "execution_count": 65,
   "id": "1ccabda8",
   "metadata": {},
   "outputs": [
    {
     "data": {
      "text/plain": [
       "array([4, 5, 6])"
      ]
     },
     "execution_count": 65,
     "metadata": {},
     "output_type": "execute_result"
    }
   ],
   "source": [
    "arr_6[0:3]"
   ]
  },
  {
   "cell_type": "code",
   "execution_count": 66,
   "id": "4868d388",
   "metadata": {},
   "outputs": [
    {
     "data": {
      "text/plain": [
       "array([[2, 5, 6],\n",
       "       [3, 4, 5]])"
      ]
     },
     "execution_count": 66,
     "metadata": {},
     "output_type": "execute_result"
    }
   ],
   "source": [
    "mat_4"
   ]
  },
  {
   "cell_type": "code",
   "execution_count": 67,
   "id": "555c1ae3",
   "metadata": {},
   "outputs": [
    {
     "data": {
      "text/plain": [
       "array([[4, 5]])"
      ]
     },
     "execution_count": 67,
     "metadata": {},
     "output_type": "execute_result"
    }
   ],
   "source": [
    "mat_4[1:,1:]"
   ]
  },
  {
   "cell_type": "code",
   "execution_count": 71,
   "id": "f0cba1de",
   "metadata": {},
   "outputs": [
    {
     "data": {
      "text/plain": [
       "array([[5, 6],\n",
       "       [4, 5]])"
      ]
     },
     "execution_count": 71,
     "metadata": {},
     "output_type": "execute_result"
    }
   ],
   "source": [
    "mat_4[0:,1:]"
   ]
  },
  {
   "cell_type": "code",
   "execution_count": 72,
   "id": "c4fe6e26",
   "metadata": {},
   "outputs": [
    {
     "data": {
      "text/plain": [
       "array([[5, 6],\n",
       "       [4, 5]])"
      ]
     },
     "execution_count": 72,
     "metadata": {},
     "output_type": "execute_result"
    }
   ],
   "source": [
    "mat_4[:,1:]"
   ]
  },
  {
   "cell_type": "code",
   "execution_count": 73,
   "id": "17673903",
   "metadata": {},
   "outputs": [
    {
     "data": {
      "text/plain": [
       "array([[5, 6],\n",
       "       [4, 5]])"
      ]
     },
     "execution_count": 73,
     "metadata": {},
     "output_type": "execute_result"
    }
   ],
   "source": [
    "mat_4[0:2,1:]"
   ]
  },
  {
   "cell_type": "code",
   "execution_count": 74,
   "id": "77a1f760",
   "metadata": {},
   "outputs": [
    {
     "data": {
      "text/plain": [
       "array([[2, 5, 6],\n",
       "       [3, 4, 5]])"
      ]
     },
     "execution_count": 74,
     "metadata": {},
     "output_type": "execute_result"
    }
   ],
   "source": [
    "mat_4"
   ]
  },
  {
   "cell_type": "code",
   "execution_count": 75,
   "id": "ee0065cc",
   "metadata": {},
   "outputs": [],
   "source": [
    "mat_4[0,1] = 8"
   ]
  },
  {
   "cell_type": "code",
   "execution_count": 76,
   "id": "0087467c",
   "metadata": {},
   "outputs": [
    {
     "data": {
      "text/plain": [
       "array([[2, 8, 6],\n",
       "       [3, 4, 5]])"
      ]
     },
     "execution_count": 76,
     "metadata": {},
     "output_type": "execute_result"
    }
   ],
   "source": [
    "mat_4"
   ]
  },
  {
   "cell_type": "code",
   "execution_count": 77,
   "id": "75004a81",
   "metadata": {},
   "outputs": [
    {
     "data": {
      "text/plain": [
       "array([[8, 6],\n",
       "       [4, 5]])"
      ]
     },
     "execution_count": 77,
     "metadata": {},
     "output_type": "execute_result"
    }
   ],
   "source": [
    "#axis 1= column\n",
    "np.delete(mat_4,0, axis=1)"
   ]
  },
  {
   "cell_type": "code",
   "execution_count": 79,
   "id": "90113346",
   "metadata": {},
   "outputs": [
    {
     "data": {
      "text/plain": [
       "array([[2, 8, 6]])"
      ]
     },
     "execution_count": 79,
     "metadata": {},
     "output_type": "execute_result"
    }
   ],
   "source": [
    "#axis 0 = row\n",
    "\n",
    "np.delete(mat_4,1, axis=0)"
   ]
  },
  {
   "cell_type": "code",
   "execution_count": 80,
   "id": "6bb8b8a9",
   "metadata": {},
   "outputs": [],
   "source": [
    "arr_7 = np.array([3,4,5,6,2,7,8,9,5])"
   ]
  },
  {
   "cell_type": "code",
   "execution_count": 81,
   "id": "26cea759",
   "metadata": {},
   "outputs": [
    {
     "data": {
      "text/plain": [
       "array([3, 4, 5, 6, 2, 7, 8, 9, 5])"
      ]
     },
     "execution_count": 81,
     "metadata": {},
     "output_type": "execute_result"
    }
   ],
   "source": [
    "arr_7"
   ]
  },
  {
   "cell_type": "code",
   "execution_count": 82,
   "id": "df9313dd",
   "metadata": {},
   "outputs": [
    {
     "data": {
      "text/plain": [
       "array([8, 9])"
      ]
     },
     "execution_count": 82,
     "metadata": {},
     "output_type": "execute_result"
    }
   ],
   "source": [
    "#Greater than 7\n",
    "arr_7[arr_7 > 7]"
   ]
  },
  {
   "cell_type": "code",
   "execution_count": 83,
   "id": "77a0c9eb",
   "metadata": {},
   "outputs": [
    {
     "data": {
      "text/plain": [
       "array([3, 4, 5, 6, 2, 5])"
      ]
     },
     "execution_count": 83,
     "metadata": {},
     "output_type": "execute_result"
    }
   ],
   "source": [
    "#less than 7\n",
    "arr_7[arr_7 < 7]"
   ]
  },
  {
   "cell_type": "code",
   "execution_count": 84,
   "id": "8f20ac68",
   "metadata": {},
   "outputs": [
    {
     "data": {
      "text/plain": [
       "array([3, 4, 5, 6, 2, 7, 8, 9, 5])"
      ]
     },
     "execution_count": 84,
     "metadata": {},
     "output_type": "execute_result"
    }
   ],
   "source": [
    "arr_7"
   ]
  },
  {
   "cell_type": "code",
   "execution_count": 85,
   "id": "80fa6b7b",
   "metadata": {},
   "outputs": [
    {
     "data": {
      "text/plain": [
       "array([4, 6, 2, 8])"
      ]
     },
     "execution_count": 85,
     "metadata": {},
     "output_type": "execute_result"
    }
   ],
   "source": [
    "arr_7[arr_7%2==0]"
   ]
  },
  {
   "cell_type": "code",
   "execution_count": 86,
   "id": "ed9fcae6",
   "metadata": {},
   "outputs": [
    {
     "data": {
      "text/plain": [
       "array([2, 3, 4, 5, 5, 6, 7, 8, 9])"
      ]
     },
     "execution_count": 86,
     "metadata": {},
     "output_type": "execute_result"
    }
   ],
   "source": [
    "np.sort(arr_7)"
   ]
  },
  {
   "cell_type": "code",
   "execution_count": 87,
   "id": "88808f13",
   "metadata": {},
   "outputs": [
    {
     "data": {
      "text/plain": [
       "array([3, 4, 5, 6, 2, 7, 8, 9, 5])"
      ]
     },
     "execution_count": 87,
     "metadata": {},
     "output_type": "execute_result"
    }
   ],
   "source": [
    "arr_7"
   ]
  },
  {
   "cell_type": "code",
   "execution_count": 88,
   "id": "9f5f7881",
   "metadata": {},
   "outputs": [
    {
     "data": {
      "text/plain": [
       "9"
      ]
     },
     "execution_count": 88,
     "metadata": {},
     "output_type": "execute_result"
    }
   ],
   "source": [
    "np.size(arr_7)"
   ]
  },
  {
   "cell_type": "code",
   "execution_count": 89,
   "id": "08705b0b",
   "metadata": {},
   "outputs": [],
   "source": [
    "arr_8 =np.array([3,4,4,5,6,4])"
   ]
  },
  {
   "cell_type": "code",
   "execution_count": 90,
   "id": "40d3427f",
   "metadata": {},
   "outputs": [
    {
     "data": {
      "text/plain": [
       "array([3, 4, 4, 5, 6, 4])"
      ]
     },
     "execution_count": 90,
     "metadata": {},
     "output_type": "execute_result"
    }
   ],
   "source": [
    "arr_8"
   ]
  },
  {
   "cell_type": "code",
   "execution_count": 91,
   "id": "b6983b2b",
   "metadata": {},
   "outputs": [
    {
     "data": {
      "text/plain": [
       "array([[3, 4, 4],\n",
       "       [5, 6, 4]])"
      ]
     },
     "execution_count": 91,
     "metadata": {},
     "output_type": "execute_result"
    }
   ],
   "source": [
    "arr_8.reshape((2,3))"
   ]
  },
  {
   "cell_type": "code",
   "execution_count": 92,
   "id": "5867b251",
   "metadata": {},
   "outputs": [
    {
     "data": {
      "text/plain": [
       "array([[3, 4],\n",
       "       [4, 5],\n",
       "       [6, 4]])"
      ]
     },
     "execution_count": 92,
     "metadata": {},
     "output_type": "execute_result"
    }
   ],
   "source": [
    "arr_8.reshape((3,2))"
   ]
  },
  {
   "cell_type": "code",
   "execution_count": 94,
   "id": "9a320296",
   "metadata": {},
   "outputs": [],
   "source": [
    "# arr_8.reshape((3,3))"
   ]
  },
  {
   "cell_type": "code",
   "execution_count": 96,
   "id": "c58481c9",
   "metadata": {},
   "outputs": [
    {
     "data": {
      "text/plain": [
       "array([ 0. ,  2.5,  5. ,  7.5, 10. ])"
      ]
     },
     "execution_count": 96,
     "metadata": {},
     "output_type": "execute_result"
    }
   ],
   "source": [
    "np.linspace(0,10,5)"
   ]
  },
  {
   "cell_type": "code",
   "execution_count": 97,
   "id": "18c52971",
   "metadata": {},
   "outputs": [
    {
     "data": {
      "text/plain": [
       "array([0., 0., 0., 0.])"
      ]
     },
     "execution_count": 97,
     "metadata": {},
     "output_type": "execute_result"
    }
   ],
   "source": [
    "np.zeros(4)"
   ]
  },
  {
   "cell_type": "code",
   "execution_count": 98,
   "id": "dd10b1e5",
   "metadata": {},
   "outputs": [
    {
     "data": {
      "text/plain": [
       "array([[0., 0., 0., 0.],\n",
       "       [0., 0., 0., 0.],\n",
       "       [0., 0., 0., 0.],\n",
       "       [0., 0., 0., 0.]])"
      ]
     },
     "execution_count": 98,
     "metadata": {},
     "output_type": "execute_result"
    }
   ],
   "source": [
    "np.zeros((4,4))"
   ]
  },
  {
   "cell_type": "code",
   "execution_count": 99,
   "id": "99700d59",
   "metadata": {},
   "outputs": [
    {
     "data": {
      "text/plain": [
       "array([1., 1.])"
      ]
     },
     "execution_count": 99,
     "metadata": {},
     "output_type": "execute_result"
    }
   ],
   "source": [
    "np.ones(2)"
   ]
  },
  {
   "cell_type": "code",
   "execution_count": 101,
   "id": "aa00e824",
   "metadata": {},
   "outputs": [
    {
     "data": {
      "text/plain": [
       "array([[1., 1., 1., 1., 1.],\n",
       "       [1., 1., 1., 1., 1.],\n",
       "       [1., 1., 1., 1., 1.],\n",
       "       [1., 1., 1., 1., 1.],\n",
       "       [1., 1., 1., 1., 1.]])"
      ]
     },
     "execution_count": 101,
     "metadata": {},
     "output_type": "execute_result"
    }
   ],
   "source": [
    "np.ones((5,5))"
   ]
  },
  {
   "cell_type": "code",
   "execution_count": 103,
   "id": "44fae342",
   "metadata": {},
   "outputs": [
    {
     "data": {
      "text/plain": [
       "array([[1., 0., 0., 0., 0.],\n",
       "       [0., 1., 0., 0., 0.],\n",
       "       [0., 0., 1., 0., 0.],\n",
       "       [0., 0., 0., 1., 0.],\n",
       "       [0., 0., 0., 0., 1.]])"
      ]
     },
     "execution_count": 103,
     "metadata": {},
     "output_type": "execute_result"
    }
   ],
   "source": [
    "np.eye(5)"
   ]
  },
  {
   "cell_type": "code",
   "execution_count": 104,
   "id": "24e09c2b",
   "metadata": {},
   "outputs": [
    {
     "data": {
      "text/plain": [
       "array([[3, 0, 0],\n",
       "       [0, 6, 0],\n",
       "       [0, 0, 9]])"
      ]
     },
     "execution_count": 104,
     "metadata": {},
     "output_type": "execute_result"
    }
   ],
   "source": [
    "np.diag([3,6,9])"
   ]
  },
  {
   "cell_type": "code",
   "execution_count": 105,
   "id": "9a9d5792",
   "metadata": {},
   "outputs": [
    {
     "data": {
      "text/plain": [
       "array([3, 4, 5, 6, 2, 7, 8, 9, 5])"
      ]
     },
     "execution_count": 105,
     "metadata": {},
     "output_type": "execute_result"
    }
   ],
   "source": [
    "arr_7"
   ]
  },
  {
   "cell_type": "code",
   "execution_count": 106,
   "id": "202e6069",
   "metadata": {},
   "outputs": [
    {
     "data": {
      "text/plain": [
       "49"
      ]
     },
     "execution_count": 106,
     "metadata": {},
     "output_type": "execute_result"
    }
   ],
   "source": [
    "np.sum(arr_7)"
   ]
  },
  {
   "cell_type": "code",
   "execution_count": 107,
   "id": "c8595cd1",
   "metadata": {},
   "outputs": [
    {
     "data": {
      "text/plain": [
       "2"
      ]
     },
     "execution_count": 107,
     "metadata": {},
     "output_type": "execute_result"
    }
   ],
   "source": [
    "np.min(arr_7)"
   ]
  },
  {
   "cell_type": "code",
   "execution_count": 108,
   "id": "20e5a583",
   "metadata": {},
   "outputs": [
    {
     "data": {
      "text/plain": [
       "9"
      ]
     },
     "execution_count": 108,
     "metadata": {},
     "output_type": "execute_result"
    }
   ],
   "source": [
    "np.max(arr_7)"
   ]
  },
  {
   "cell_type": "code",
   "execution_count": 109,
   "id": "492e5e07",
   "metadata": {},
   "outputs": [
    {
     "data": {
      "text/plain": [
       "5.0"
      ]
     },
     "execution_count": 109,
     "metadata": {},
     "output_type": "execute_result"
    }
   ],
   "source": [
    "np.median(arr_7)"
   ]
  },
  {
   "cell_type": "code",
   "execution_count": 110,
   "id": "378f30b8",
   "metadata": {},
   "outputs": [
    {
     "data": {
      "text/plain": [
       "array([1.73205081, 2.        , 2.23606798, 2.44948974, 1.41421356,\n",
       "       2.64575131, 2.82842712, 3.        , 2.23606798])"
      ]
     },
     "execution_count": 110,
     "metadata": {},
     "output_type": "execute_result"
    }
   ],
   "source": [
    "np.sqrt(arr_7)"
   ]
  },
  {
   "cell_type": "code",
   "execution_count": null,
   "id": "d61ae367",
   "metadata": {},
   "outputs": [],
   "source": []
  }
 ],
 "metadata": {
  "kernelspec": {
   "display_name": "Python 3 (ipykernel)",
   "language": "python",
   "name": "python3"
  },
  "language_info": {
   "codemirror_mode": {
    "name": "ipython",
    "version": 3
   },
   "file_extension": ".py",
   "mimetype": "text/x-python",
   "name": "python",
   "nbconvert_exporter": "python",
   "pygments_lexer": "ipython3",
   "version": "3.9.12"
  }
 },
 "nbformat": 4,
 "nbformat_minor": 5
}
