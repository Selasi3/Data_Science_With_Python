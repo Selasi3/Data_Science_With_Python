{
 "cells": [
  {
   "cell_type": "markdown",
   "id": "19c3ee98",
   "metadata": {},
   "source": [
    "### Python String Operations and Manipulation"
   ]
  },
  {
   "cell_type": "code",
   "execution_count": 1,
   "id": "12d96cb5",
   "metadata": {},
   "outputs": [],
   "source": [
    "words = \"Welcome to Python Programming.\""
   ]
  },
  {
   "cell_type": "code",
   "execution_count": 2,
   "id": "b86d99ee",
   "metadata": {},
   "outputs": [
    {
     "data": {
      "text/plain": [
       "'Welcome to Python Programming.'"
      ]
     },
     "execution_count": 2,
     "metadata": {},
     "output_type": "execute_result"
    }
   ],
   "source": [
    "words"
   ]
  },
  {
   "cell_type": "code",
   "execution_count": 3,
   "id": "66511e63",
   "metadata": {},
   "outputs": [
    {
     "data": {
      "text/plain": [
       "str"
      ]
     },
     "execution_count": 3,
     "metadata": {},
     "output_type": "execute_result"
    }
   ],
   "source": [
    "type(words)"
   ]
  },
  {
   "cell_type": "markdown",
   "id": "86d84791",
   "metadata": {},
   "source": [
    "#### Length of a String\n",
    "\n",
    "The function **len()** return the number of characters in the string including spaces and punctuations"
   ]
  },
  {
   "cell_type": "code",
   "execution_count": 4,
   "id": "54601336",
   "metadata": {},
   "outputs": [
    {
     "data": {
      "text/plain": [
       "30"
      ]
     },
     "execution_count": 4,
     "metadata": {},
     "output_type": "execute_result"
    }
   ],
   "source": [
    "len(words)"
   ]
  },
  {
   "cell_type": "markdown",
   "id": "e52ede07",
   "metadata": {},
   "source": [
    "There are 30 characters in the variable words."
   ]
  },
  {
   "cell_type": "markdown",
   "id": "68f98aab",
   "metadata": {},
   "source": [
    "#### String Concatenation\n",
    "\n",
    "String Concatenation means joining two or more strings together using the **+** operator"
   ]
  },
  {
   "cell_type": "code",
   "execution_count": 5,
   "id": "2a58b0f1",
   "metadata": {},
   "outputs": [],
   "source": [
    "sentence1 = \"My name is Kofi.\"\n",
    "sentence2 = \"I am 5 years old.\""
   ]
  },
  {
   "cell_type": "code",
   "execution_count": 6,
   "id": "140f6b80",
   "metadata": {},
   "outputs": [
    {
     "data": {
      "text/plain": [
       "'My name is Kofi.'"
      ]
     },
     "execution_count": 6,
     "metadata": {},
     "output_type": "execute_result"
    }
   ],
   "source": [
    "sentence1"
   ]
  },
  {
   "cell_type": "code",
   "execution_count": 7,
   "id": "ab61b9db",
   "metadata": {},
   "outputs": [
    {
     "data": {
      "text/plain": [
       "'I am 5 years old.'"
      ]
     },
     "execution_count": 7,
     "metadata": {},
     "output_type": "execute_result"
    }
   ],
   "source": [
    "sentence2"
   ]
  },
  {
   "cell_type": "code",
   "execution_count": 8,
   "id": "cb325309",
   "metadata": {},
   "outputs": [],
   "source": [
    "full_sentence = sentence1 + sentence2"
   ]
  },
  {
   "cell_type": "code",
   "execution_count": 9,
   "id": "0e5303bd",
   "metadata": {},
   "outputs": [
    {
     "data": {
      "text/plain": [
       "'My name is Kofi.I am 5 years old.'"
      ]
     },
     "execution_count": 9,
     "metadata": {},
     "output_type": "execute_result"
    }
   ],
   "source": [
    "full_sentence"
   ]
  },
  {
   "cell_type": "code",
   "execution_count": 10,
   "id": "bad3ed48",
   "metadata": {},
   "outputs": [],
   "source": [
    "name1 = \"Kofi\"\n",
    "conj = \"and\"\n",
    "name2 =\"Ama\""
   ]
  },
  {
   "cell_type": "code",
   "execution_count": 11,
   "id": "2049678a",
   "metadata": {},
   "outputs": [
    {
     "data": {
      "text/plain": [
       "'KofiandAma'"
      ]
     },
     "execution_count": 11,
     "metadata": {},
     "output_type": "execute_result"
    }
   ],
   "source": [
    "name1+conj+name2"
   ]
  },
  {
   "cell_type": "code",
   "execution_count": 12,
   "id": "ad463b42",
   "metadata": {},
   "outputs": [
    {
     "data": {
      "text/plain": [
       "'Kofi and Ama'"
      ]
     },
     "execution_count": 12,
     "metadata": {},
     "output_type": "execute_result"
    }
   ],
   "source": [
    "name1+\" \"+conj+\" \"+name2"
   ]
  },
  {
   "cell_type": "markdown",
   "id": "eea4004a",
   "metadata": {},
   "source": [
    "#### String Multiplication"
   ]
  },
  {
   "cell_type": "markdown",
   "id": "819d9a3c",
   "metadata": {},
   "source": [
    "In Python, strings can be multiplied by an integer to produce multiple copies of the stings using the `*` operator."
   ]
  },
  {
   "cell_type": "code",
   "execution_count": 13,
   "id": "20d60f7b",
   "metadata": {},
   "outputs": [],
   "source": [
    "name = \"Kwame\""
   ]
  },
  {
   "cell_type": "code",
   "execution_count": 14,
   "id": "082969f6",
   "metadata": {},
   "outputs": [
    {
     "data": {
      "text/plain": [
       "'KwameKwameKwame'"
      ]
     },
     "execution_count": 14,
     "metadata": {},
     "output_type": "execute_result"
    }
   ],
   "source": [
    "name*3"
   ]
  },
  {
   "cell_type": "code",
   "execution_count": 15,
   "id": "da654e7c",
   "metadata": {},
   "outputs": [
    {
     "data": {
      "text/plain": [
       "'KwameKwameKwameKwameKwame'"
      ]
     },
     "execution_count": 15,
     "metadata": {},
     "output_type": "execute_result"
    }
   ],
   "source": [
    "name*5"
   ]
  },
  {
   "cell_type": "code",
   "execution_count": null,
   "id": "cfb16358",
   "metadata": {},
   "outputs": [],
   "source": []
  },
  {
   "cell_type": "markdown",
   "id": "8377df3a",
   "metadata": {},
   "source": [
    "#### String Indexing"
   ]
  },
  {
   "cell_type": "markdown",
   "id": "a5dc4df1",
   "metadata": {},
   "source": [
    "- String indexing in python means accessing a character from a string based on its position.\n",
    "\n",
    "- The index of the first character of a string is 0 and the index of the last character of a string is -1.\n",
    "\n",
    "- Use the square bracket [] with the index number to retrieve a character from a string"
   ]
  },
  {
   "cell_type": "code",
   "execution_count": 16,
   "id": "7f57088c",
   "metadata": {},
   "outputs": [],
   "source": [
    "name = \"Kwame\""
   ]
  },
  {
   "cell_type": "code",
   "execution_count": 17,
   "id": "0d7edaf4",
   "metadata": {},
   "outputs": [
    {
     "data": {
      "text/plain": [
       "5"
      ]
     },
     "execution_count": 17,
     "metadata": {},
     "output_type": "execute_result"
    }
   ],
   "source": [
    "name_length = len(name)\n",
    "name_length"
   ]
  },
  {
   "cell_type": "code",
   "execution_count": 18,
   "id": "66e99ed9",
   "metadata": {},
   "outputs": [
    {
     "data": {
      "text/plain": [
       "'K'"
      ]
     },
     "execution_count": 18,
     "metadata": {},
     "output_type": "execute_result"
    }
   ],
   "source": [
    "# The first character of name\n",
    "name[0]"
   ]
  },
  {
   "cell_type": "code",
   "execution_count": 19,
   "id": "a7125a0e",
   "metadata": {},
   "outputs": [
    {
     "data": {
      "text/plain": [
       "'a'"
      ]
     },
     "execution_count": 19,
     "metadata": {},
     "output_type": "execute_result"
    }
   ],
   "source": [
    "# The third character of name\n",
    "name[3-1]"
   ]
  },
  {
   "cell_type": "code",
   "execution_count": 20,
   "id": "3f7890c6",
   "metadata": {},
   "outputs": [
    {
     "data": {
      "text/plain": [
       "'a'"
      ]
     },
     "execution_count": 20,
     "metadata": {},
     "output_type": "execute_result"
    }
   ],
   "source": [
    "name[2]"
   ]
  },
  {
   "cell_type": "code",
   "execution_count": 21,
   "id": "953e34b1",
   "metadata": {},
   "outputs": [
    {
     "data": {
      "text/plain": [
       "'e'"
      ]
     },
     "execution_count": 21,
     "metadata": {},
     "output_type": "execute_result"
    }
   ],
   "source": [
    "# The last character of name\n",
    "name[name_length-1]"
   ]
  },
  {
   "cell_type": "code",
   "execution_count": 22,
   "id": "65a12c2c",
   "metadata": {},
   "outputs": [
    {
     "ename": "IndexError",
     "evalue": "string index out of range",
     "output_type": "error",
     "traceback": [
      "\u001b[1;31m---------------------------------------------------------------------------\u001b[0m",
      "\u001b[1;31mIndexError\u001b[0m                                Traceback (most recent call last)",
      "Input \u001b[1;32mIn [22]\u001b[0m, in \u001b[0;36m<cell line: 2>\u001b[1;34m()\u001b[0m\n\u001b[0;32m      1\u001b[0m \u001b[38;5;66;03m# This will throw an error because the index is out of range\u001b[39;00m\n\u001b[1;32m----> 2\u001b[0m \u001b[43mname\u001b[49m\u001b[43m[\u001b[49m\u001b[38;5;241;43m5\u001b[39;49m\u001b[43m]\u001b[49m\n",
      "\u001b[1;31mIndexError\u001b[0m: string index out of range"
     ]
    }
   ],
   "source": [
    "# This will throw an error because the index is out of range\n",
    "name[5]"
   ]
  },
  {
   "cell_type": "markdown",
   "id": "3a0ba35b",
   "metadata": {},
   "source": [
    "#### String Slicing\n",
    "\n",
    "String Slicing means extracting substring from a string.\n",
    "\n",
    "The syntax for slicing are [start:stop] or [start:stop:step]\n",
    "\n",
    "- start - the index of the first character to include\n",
    "- stop  -  the index of the first character not included in the sequence\n",
    "- step -  number of characters to skip between the start and stop indices. The default value is 1 or None."
   ]
  },
  {
   "cell_type": "code",
   "execution_count": 23,
   "id": "763b706a",
   "metadata": {},
   "outputs": [],
   "source": [
    "statement = \"Kofi is going to school.\""
   ]
  },
  {
   "cell_type": "code",
   "execution_count": 24,
   "id": "2b95170c",
   "metadata": {},
   "outputs": [
    {
     "data": {
      "text/plain": [
       "'Kofi is going to school.'"
      ]
     },
     "execution_count": 24,
     "metadata": {},
     "output_type": "execute_result"
    }
   ],
   "source": [
    "statement"
   ]
  },
  {
   "cell_type": "code",
   "execution_count": 25,
   "id": "9edc4a72",
   "metadata": {},
   "outputs": [
    {
     "data": {
      "text/plain": [
       "'Kofi'"
      ]
     },
     "execution_count": 25,
     "metadata": {},
     "output_type": "execute_result"
    }
   ],
   "source": [
    "statement[0:4]"
   ]
  },
  {
   "cell_type": "code",
   "execution_count": 26,
   "id": "cad2579c",
   "metadata": {},
   "outputs": [
    {
     "data": {
      "text/plain": [
       "'going to school.'"
      ]
     },
     "execution_count": 26,
     "metadata": {},
     "output_type": "execute_result"
    }
   ],
   "source": [
    "# Start at index 8 and goes to the end of the string\n",
    "statement[8:]"
   ]
  },
  {
   "cell_type": "code",
   "execution_count": 27,
   "id": "f8c4682a",
   "metadata": {},
   "outputs": [
    {
     "data": {
      "text/plain": [
       "'Kofi is '"
      ]
     },
     "execution_count": 27,
     "metadata": {},
     "output_type": "execute_result"
    }
   ],
   "source": [
    "#Start at the beginning of the string and ends at index 7 of the string\n",
    "statement[:8]"
   ]
  },
  {
   "cell_type": "code",
   "execution_count": 40,
   "id": "27013068",
   "metadata": {},
   "outputs": [
    {
     "data": {
      "text/plain": [
       "'f sg'"
      ]
     },
     "execution_count": 40,
     "metadata": {},
     "output_type": "execute_result"
    }
   ],
   "source": [
    "statement[2:9:2]"
   ]
  },
  {
   "cell_type": "code",
   "execution_count": 28,
   "id": "6e2af5a2",
   "metadata": {},
   "outputs": [
    {
     "data": {
      "text/plain": [
       "'.loohcs ot gniog si ifoK'"
      ]
     },
     "execution_count": 28,
     "metadata": {},
     "output_type": "execute_result"
    }
   ],
   "source": [
    "# Inverse of the string\n",
    "statement[::-1]"
   ]
  },
  {
   "cell_type": "code",
   "execution_count": 38,
   "id": "cd1c1334",
   "metadata": {},
   "outputs": [
    {
     "data": {
      "text/plain": [
       "'school'"
      ]
     },
     "execution_count": 38,
     "metadata": {},
     "output_type": "execute_result"
    }
   ],
   "source": [
    "#Negative indexing of slicing\n",
    "statement[-7:-1]"
   ]
  },
  {
   "cell_type": "code",
   "execution_count": 41,
   "id": "97e7c94a",
   "metadata": {},
   "outputs": [
    {
     "data": {
      "text/plain": [
       "'c'"
      ]
     },
     "execution_count": 41,
     "metadata": {},
     "output_type": "execute_result"
    }
   ],
   "source": [
    "statement[-6]"
   ]
  },
  {
   "cell_type": "code",
   "execution_count": null,
   "id": "b488420d",
   "metadata": {},
   "outputs": [],
   "source": []
  },
  {
   "cell_type": "markdown",
   "id": "304966ba",
   "metadata": {},
   "source": [
    "### String Method"
   ]
  },
  {
   "cell_type": "code",
   "execution_count": 42,
   "id": "370033f6",
   "metadata": {},
   "outputs": [],
   "source": [
    "question = \"How are you?\""
   ]
  },
  {
   "cell_type": "markdown",
   "id": "9a3abd37",
   "metadata": {},
   "source": [
    "#### Uppercase\n",
    "\n",
    "To convert a string to uppercase use the method **upper()**"
   ]
  },
  {
   "cell_type": "code",
   "execution_count": 43,
   "id": "917f6e0d",
   "metadata": {},
   "outputs": [
    {
     "data": {
      "text/plain": [
       "'HOW ARE YOU?'"
      ]
     },
     "execution_count": 43,
     "metadata": {},
     "output_type": "execute_result"
    }
   ],
   "source": [
    "question.upper()"
   ]
  },
  {
   "cell_type": "markdown",
   "id": "fb55bb8b",
   "metadata": {},
   "source": [
    "#### Lowercase\n",
    "\n",
    "To convert a string to case use the method **lower()**"
   ]
  },
  {
   "cell_type": "code",
   "execution_count": 44,
   "id": "17e95f13",
   "metadata": {},
   "outputs": [
    {
     "data": {
      "text/plain": [
       "'how are you?'"
      ]
     },
     "execution_count": 44,
     "metadata": {},
     "output_type": "execute_result"
    }
   ],
   "source": [
    "question.lower()"
   ]
  },
  {
   "cell_type": "markdown",
   "id": "6ce6c813",
   "metadata": {},
   "source": [
    "To capitalize the first character of a string use the method **capitalize()**"
   ]
  },
  {
   "cell_type": "code",
   "execution_count": 45,
   "id": "a157b122",
   "metadata": {},
   "outputs": [
    {
     "data": {
      "text/plain": [
       "'How are you?'"
      ]
     },
     "execution_count": 45,
     "metadata": {},
     "output_type": "execute_result"
    }
   ],
   "source": [
    "question.capitalize()"
   ]
  },
  {
   "cell_type": "markdown",
   "id": "74a3a5d3",
   "metadata": {},
   "source": [
    "To capitalize the first letter of each word in a string use the method **title()**"
   ]
  },
  {
   "cell_type": "code",
   "execution_count": 47,
   "id": "0d0e04da",
   "metadata": {},
   "outputs": [
    {
     "data": {
      "text/plain": [
       "'How Are You?'"
      ]
     },
     "execution_count": 47,
     "metadata": {},
     "output_type": "execute_result"
    }
   ],
   "source": [
    "question.title()"
   ]
  },
  {
   "cell_type": "markdown",
   "id": "d06d0cac",
   "metadata": {},
   "source": [
    "Use the method **count()** to count the number of a specific character(s) in a string.\n"
   ]
  },
  {
   "cell_type": "code",
   "execution_count": 52,
   "id": "8143415b",
   "metadata": {},
   "outputs": [
    {
     "data": {
      "text/plain": [
       "2"
      ]
     },
     "execution_count": 52,
     "metadata": {},
     "output_type": "execute_result"
    }
   ],
   "source": [
    "question.count(\"o\")"
   ]
  },
  {
   "cell_type": "markdown",
   "id": "924ab49b",
   "metadata": {},
   "source": [
    "**split()** method splits the string by a specific sperator and returns a list of strings."
   ]
  },
  {
   "cell_type": "code",
   "execution_count": 57,
   "id": "40f0c538",
   "metadata": {},
   "outputs": [
    {
     "data": {
      "text/plain": [
       "['How', 'are', 'you?']"
      ]
     },
     "execution_count": 57,
     "metadata": {},
     "output_type": "execute_result"
    }
   ],
   "source": [
    "splitted = question.split(\" \")\n",
    "splitted"
   ]
  },
  {
   "cell_type": "code",
   "execution_count": 54,
   "id": "2c270b98",
   "metadata": {},
   "outputs": [
    {
     "data": {
      "text/plain": [
       "['H', 'w are y', 'u?']"
      ]
     },
     "execution_count": 54,
     "metadata": {},
     "output_type": "execute_result"
    }
   ],
   "source": [
    "question.split(\"o\")"
   ]
  },
  {
   "cell_type": "markdown",
   "id": "1b35bc72",
   "metadata": {},
   "source": [
    "**join()** method is used to join a list of strings into a single string."
   ]
  },
  {
   "cell_type": "code",
   "execution_count": 59,
   "id": "c33f2388",
   "metadata": {},
   "outputs": [
    {
     "data": {
      "text/plain": [
       "'How are you?'"
      ]
     },
     "execution_count": 59,
     "metadata": {},
     "output_type": "execute_result"
    }
   ],
   "source": [
    "\" \".join(splitted)"
   ]
  },
  {
   "cell_type": "markdown",
   "id": "a76830a1",
   "metadata": {},
   "source": [
    "The **strip()** methods removes both the leading nad trailing white space from a string."
   ]
  },
  {
   "cell_type": "code",
   "execution_count": 55,
   "id": "bb0568fb",
   "metadata": {},
   "outputs": [],
   "source": [
    "sentence = \" I  am going to the market. \""
   ]
  },
  {
   "cell_type": "code",
   "execution_count": 56,
   "id": "50fb74f9",
   "metadata": {},
   "outputs": [
    {
     "data": {
      "text/plain": [
       "'I  am going to the market.'"
      ]
     },
     "execution_count": 56,
     "metadata": {},
     "output_type": "execute_result"
    }
   ],
   "source": [
    "sentence.strip()"
   ]
  },
  {
   "cell_type": "markdown",
   "id": "f6d1eaba",
   "metadata": {},
   "source": [
    "There are more methods on strings in the Python string [documentation](https://python-reference.readthedocs.io/en/latest/docs/str/)"
   ]
  },
  {
   "cell_type": "code",
   "execution_count": null,
   "id": "fdcf66d0",
   "metadata": {},
   "outputs": [],
   "source": []
  },
  {
   "cell_type": "markdown",
   "id": "86a3203c",
   "metadata": {},
   "source": [
    "### String Formatting"
   ]
  },
  {
   "cell_type": "markdown",
   "id": "07d89b6b",
   "metadata": {},
   "source": [
    "String formatting is the process of inserting a custom string or a variable "
   ]
  },
  {
   "cell_type": "markdown",
   "id": "41e78fbd",
   "metadata": {},
   "source": [
    "##### using the f-string"
   ]
  },
  {
   "cell_type": "code",
   "execution_count": 64,
   "id": "960c3b02",
   "metadata": {},
   "outputs": [
    {
     "name": "stdout",
     "output_type": "stream",
     "text": [
      "Selorm is my friend.\n"
     ]
    }
   ],
   "source": [
    "name = \"Selorm\"\n",
    "age = 22\n",
    "print(f\"{name} is my friend.\")"
   ]
  },
  {
   "cell_type": "markdown",
   "id": "4645b76f",
   "metadata": {},
   "source": [
    "#### using the str.format() method"
   ]
  },
  {
   "cell_type": "code",
   "execution_count": 67,
   "id": "95911939",
   "metadata": {},
   "outputs": [
    {
     "name": "stdout",
     "output_type": "stream",
     "text": [
      "Selorm is my friend. He is 22 years old.\n"
     ]
    }
   ],
   "source": [
    "print(\"{} is my friend. He is {} years old.\".format(name, age))"
   ]
  },
  {
   "cell_type": "markdown",
   "id": "288a5ae4",
   "metadata": {},
   "source": [
    "#### using the % formatting"
   ]
  },
  {
   "cell_type": "code",
   "execution_count": 72,
   "id": "27bc6331",
   "metadata": {},
   "outputs": [
    {
     "name": "stdout",
     "output_type": "stream",
     "text": [
      "Selorm is my friend. He is 22 years old.\n"
     ]
    }
   ],
   "source": [
    "print(\"%s is my friend. He is %d years old.\"%(name, age))"
   ]
  },
  {
   "cell_type": "code",
   "execution_count": null,
   "id": "041aa2e4",
   "metadata": {},
   "outputs": [],
   "source": []
  },
  {
   "cell_type": "markdown",
   "id": "8a51a481",
   "metadata": {},
   "source": [
    "### User Input"
   ]
  },
  {
   "cell_type": "markdown",
   "id": "e7fbae2a",
   "metadata": {},
   "source": [
    "The function **input()** is used to get an input from a user"
   ]
  },
  {
   "cell_type": "code",
   "execution_count": 74,
   "id": "11d7f4c6",
   "metadata": {},
   "outputs": [
    {
     "name": "stdout",
     "output_type": "stream",
     "text": [
      "What is your name?Selasi\n"
     ]
    },
    {
     "data": {
      "text/plain": [
       "'Selasi'"
      ]
     },
     "execution_count": 74,
     "metadata": {},
     "output_type": "execute_result"
    }
   ],
   "source": [
    "input(\"What is your name?\")"
   ]
  },
  {
   "cell_type": "code",
   "execution_count": 76,
   "id": "b709e11f",
   "metadata": {},
   "outputs": [
    {
     "name": "stdout",
     "output_type": "stream",
     "text": [
      "What is your name? Selasi\n",
      "Your name is Selasi\n"
     ]
    }
   ],
   "source": [
    "name = input(\"What is your name? \")\n",
    "print(f\"Your name is {name}\")"
   ]
  },
  {
   "cell_type": "markdown",
   "id": "45fcf1db",
   "metadata": {},
   "source": [
    "To ensurer the user input is an integer or float, place the input function within an **int()** or **float()** function"
   ]
  },
  {
   "cell_type": "code",
   "execution_count": 77,
   "id": "154b77c2",
   "metadata": {},
   "outputs": [
    {
     "name": "stdout",
     "output_type": "stream",
     "text": [
      "How old are you5\n",
      "Data type of age is <class 'int'>\n"
     ]
    }
   ],
   "source": [
    "age = int(input(\"How old are you\"))\n",
    "\n",
    "print(f\"Data type of age is {type(age)}\")"
   ]
  },
  {
   "cell_type": "code",
   "execution_count": null,
   "id": "c906201b",
   "metadata": {},
   "outputs": [],
   "source": []
  }
 ],
 "metadata": {
  "kernelspec": {
   "display_name": "Python 3 (ipykernel)",
   "language": "python",
   "name": "python3"
  },
  "language_info": {
   "codemirror_mode": {
    "name": "ipython",
    "version": 3
   },
   "file_extension": ".py",
   "mimetype": "text/x-python",
   "name": "python",
   "nbconvert_exporter": "python",
   "pygments_lexer": "ipython3",
   "version": "3.10.9"
  }
 },
 "nbformat": 4,
 "nbformat_minor": 5
}
