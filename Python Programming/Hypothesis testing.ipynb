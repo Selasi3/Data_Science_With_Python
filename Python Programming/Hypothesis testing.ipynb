{
 "cells": [
  {
   "cell_type": "markdown",
   "id": "912cf555",
   "metadata": {},
   "source": [
    "### Hypothesis\n",
    "Hypothesis is a proposed explanation or idea that can be tested through research or experimentation. \n",
    "\n",
    "It is  a specific statement of prediction that is to be accepted or rejected after an experiment. "
   ]
  },
  {
   "cell_type": "markdown",
   "id": "a2f6855b",
   "metadata": {},
   "source": [
    "### Types of Hypothesis\n",
    "\n",
    "- Null Hypothesis: \n",
    "The null hypothesis (H0) is a statement or assumption that there is no significant difference or relationship between two or more variables.\n",
    "\n",
    "\n",
    "- Alternative Hypothesis:\n",
    "The alternative hypothesis (H1) is a statement or assumption that there is a significant difference or relationship between two or more variables.\n",
    " "
   ]
  },
  {
   "cell_type": "code",
   "execution_count": null,
   "id": "936740f3",
   "metadata": {},
   "outputs": [],
   "source": []
  },
  {
   "cell_type": "code",
   "execution_count": null,
   "id": "137d3c42",
   "metadata": {},
   "outputs": [],
   "source": []
  },
  {
   "cell_type": "markdown",
   "id": "98c3d937",
   "metadata": {},
   "source": [
    "#### p-value\n",
    "A p-value is a probability value that measures the strength of evidence against the null hypothesis (H0) in a statistical test.\n",
    "\n",
    "if the p-value is less than or equal to alpha, reject the null hypothesis\n",
    "\n",
    "if the p-value is greater than alpha, reject the null hypothesis"
   ]
  },
  {
   "cell_type": "markdown",
   "id": "d8f17da5",
   "metadata": {},
   "source": [
    "### Steps Involved in Solving Hypothesis Testing Problem\n",
    "\n",
    "- State the null hypothesis (H0) and the alternative hypothesis (H1) \n",
    "\n",
    "- Choose the appropriate statistical test\n",
    "Eg of statistical test include t-tests, ANOVA, chi-square regression analysis.\n",
    "\n",
    "- Determine the p-value\n",
    "\n",
    "- Draw conclusions and make recommendations\n"
   ]
  },
  {
   "cell_type": "markdown",
   "id": "19c5cd73",
   "metadata": {},
   "source": [
    "### Type I Error\n",
    "\n",
    "This error occurs  if one reject the null hypothesis when it is true.\n",
    "\n",
    "### Type II Error\n",
    "\n",
    "This error occurs  if one does not reject the null hypothesis when it is false."
   ]
  },
  {
   "cell_type": "code",
   "execution_count": null,
   "id": "2aa1a649",
   "metadata": {},
   "outputs": [],
   "source": []
  }
 ],
 "metadata": {
  "kernelspec": {
   "display_name": "Python 3 (ipykernel)",
   "language": "python",
   "name": "python3"
  },
  "language_info": {
   "codemirror_mode": {
    "name": "ipython",
    "version": 3
   },
   "file_extension": ".py",
   "mimetype": "text/x-python",
   "name": "python",
   "nbconvert_exporter": "python",
   "pygments_lexer": "ipython3",
   "version": "3.9.12"
  }
 },
 "nbformat": 4,
 "nbformat_minor": 5
}
