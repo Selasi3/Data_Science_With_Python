{
 "cells": [
  {
   "cell_type": "markdown",
   "id": "efaec805",
   "metadata": {},
   "source": [
    "### Functions"
   ]
  },
  {
   "cell_type": "markdown",
   "id": "dd5146d2",
   "metadata": {},
   "source": [
    "Functions are block of codes tha performs a specific task.\n",
    "\n",
    " Functions allow you to break down complex problems into smaller, more manageable parts, making it easier to develop and maintain large programs.\n",
    "    "
   ]
  },
  {
   "cell_type": "markdown",
   "id": "ee788b3a",
   "metadata": {},
   "source": [
    "#### Part of a Python Function"
   ]
  },
  {
   "cell_type": "markdown",
   "id": "0b5108f6",
   "metadata": {},
   "source": [
    "The part of python function includes:\n",
    "\n",
    "- **Function Header** :The function header comprises of the **def** keyword followed by the name of  the function and a set  of parentheses that may contain arguments separated by commas. A function may or may not have any arguments. The function header always ends with a colon(:). \n",
    "\n",
    "\n",
    "- **Docstrings**: The documentation strings describe what the function does and how to use the function. The docstring are strings placed within triple quotes and can span across multiple  lines. To access the docstrings of a function use  the **__doc__** atribute of the function or the **help()** Python function.\n",
    "\n",
    "\n",
    "- **Function Body**: The function body is the code block inside the function which isindented from the header. It consist of the logic of the function.\n",
    "\n",
    "\n",
    "- **Return statement**: It consist of a **return** keyword followed by the value that the function should return. Afunction with no return statement simply returns None\n",
    "\n",
    "\n",
    "To call a function in python, write the name of the function follwed by the enclosed parentheses with or without arguments."
   ]
  },
  {
   "cell_type": "code",
   "execution_count": 1,
   "id": "fb1c8ca1",
   "metadata": {},
   "outputs": [],
   "source": [
    "#This is an empty function\n",
    "def empty():\n",
    "    pass"
   ]
  },
  {
   "cell_type": "code",
   "execution_count": 2,
   "id": "9337f618",
   "metadata": {},
   "outputs": [],
   "source": [
    "#Returns nothing\n",
    "empty()"
   ]
  },
  {
   "cell_type": "code",
   "execution_count": 3,
   "id": "19f93381",
   "metadata": {},
   "outputs": [],
   "source": [
    "def welcome():\n",
    "    \"\"\"\n",
    "    This function returns Welcome to Python\n",
    "    \"\"\"\n",
    "    return \"Welcome to Python\""
   ]
  },
  {
   "cell_type": "code",
   "execution_count": 4,
   "id": "f571e6be",
   "metadata": {},
   "outputs": [
    {
     "name": "stdout",
     "output_type": "stream",
     "text": [
      "Help on function welcome in module __main__:\n",
      "\n",
      "welcome()\n",
      "    This function returns Welcome to Python\n",
      "\n"
     ]
    }
   ],
   "source": [
    "#Acessing the docstrings of a function\n",
    "help(welcome)"
   ]
  },
  {
   "cell_type": "code",
   "execution_count": 5,
   "id": "bfa7aeb3",
   "metadata": {},
   "outputs": [
    {
     "data": {
      "text/plain": [
       "'\\n    This function returns Welcome to Python\\n    '"
      ]
     },
     "execution_count": 5,
     "metadata": {},
     "output_type": "execute_result"
    }
   ],
   "source": [
    "#Acessing the docstrings of a function\n",
    "welcome.__doc__"
   ]
  },
  {
   "cell_type": "code",
   "execution_count": 6,
   "id": "5e4b43b5",
   "metadata": {},
   "outputs": [
    {
     "data": {
      "text/plain": [
       "'Welcome to Python'"
      ]
     },
     "execution_count": 6,
     "metadata": {},
     "output_type": "execute_result"
    }
   ],
   "source": [
    "#Calling the function\n",
    "welcome()"
   ]
  },
  {
   "cell_type": "code",
   "execution_count": 7,
   "id": "a08bd3ac",
   "metadata": {},
   "outputs": [],
   "source": [
    "#Functions with arguments\n",
    "\n",
    "def addition(a,b):\n",
    "    \"\"\"\n",
    "    This function adds two nums together\n",
    "    \n",
    "    INPUT:\n",
    "    a: int, value one\n",
    "    b: int, value two\n",
    "    \n",
    "    OUTPUT:\n",
    "    return : The sum of a and b\n",
    "    \n",
    "    \"\"\"\n",
    "    return a+b"
   ]
  },
  {
   "cell_type": "code",
   "execution_count": 8,
   "id": "7fe387df",
   "metadata": {},
   "outputs": [
    {
     "data": {
      "text/plain": [
       "8"
      ]
     },
     "execution_count": 8,
     "metadata": {},
     "output_type": "execute_result"
    }
   ],
   "source": [
    "addition(3,5)"
   ]
  },
  {
   "cell_type": "code",
   "execution_count": null,
   "id": "e37e5116",
   "metadata": {},
   "outputs": [],
   "source": []
  },
  {
   "cell_type": "markdown",
   "id": "f49e7953",
   "metadata": {},
   "source": [
    "**Variable Scope**: It refers to the portion of a program that a variable can  be referenced.\n",
    "\n",
    "\n",
    "**Local variable** : A varible defined in a function and can be only accessed within the function.\n",
    "\n",
    "**Global variable**: A variable defined outside a function and can be access in any part of the program.\n",
    "\n",
    "Local variable precede global variable whrn they both have the same variable name."
   ]
  },
  {
   "cell_type": "code",
   "execution_count": 9,
   "id": "4030dcab",
   "metadata": {},
   "outputs": [],
   "source": [
    "num = 5 #Global variable\n",
    "\n",
    "def display():\n",
    "    print(f\"The number is {num}\")"
   ]
  },
  {
   "cell_type": "code",
   "execution_count": 10,
   "id": "608ada23",
   "metadata": {},
   "outputs": [
    {
     "name": "stdout",
     "output_type": "stream",
     "text": [
      "The number is 5\n"
     ]
    }
   ],
   "source": [
    "display()"
   ]
  },
  {
   "cell_type": "code",
   "execution_count": 11,
   "id": "f7632c00",
   "metadata": {},
   "outputs": [],
   "source": [
    "num = 5 #Global variable\n",
    "\n",
    "def display():\n",
    "    num = 10  #local variable\n",
    "    print(f\"The number is {num}\")"
   ]
  },
  {
   "cell_type": "code",
   "execution_count": 12,
   "id": "1a36440e",
   "metadata": {},
   "outputs": [
    {
     "name": "stdout",
     "output_type": "stream",
     "text": [
      "The number is 10\n"
     ]
    }
   ],
   "source": [
    "display()"
   ]
  },
  {
   "cell_type": "code",
   "execution_count": null,
   "id": "8bcd897f",
   "metadata": {},
   "outputs": [],
   "source": []
  },
  {
   "cell_type": "markdown",
   "id": "fb6f2ab4",
   "metadata": {},
   "source": [
    "**Positional arguments**: \n",
    "\n",
    "Arguments where values get assigned to the arguments by their position when the function is called\n",
    "It is an argument whose position matters in a function call."
   ]
  },
  {
   "cell_type": "code",
   "execution_count": 13,
   "id": "7500d584",
   "metadata": {},
   "outputs": [],
   "source": [
    "def bmi(height, weight):\n",
    "    return weight/height**2"
   ]
  },
  {
   "cell_type": "code",
   "execution_count": 14,
   "id": "2bbd3a04",
   "metadata": {},
   "outputs": [
    {
     "data": {
      "text/plain": [
       "17.75568181818182"
      ]
     },
     "execution_count": 14,
     "metadata": {},
     "output_type": "execute_result"
    }
   ],
   "source": [
    "bmi(1.76,55)"
   ]
  },
  {
   "cell_type": "markdown",
   "id": "fa1e0dae",
   "metadata": {},
   "source": [
    "**Default Arguments**:  Default values are assigned to argument of the function using the assignment operator.\n",
    "\n",
    "**Keyword Arguments**: These are arguments where values get assigned to the arguments by their keyword(name) when the fuction id called. It is preceded by the variable name and an assignment operator.\n",
    "\n",
    "Positional argument should follow keyword argument."
   ]
  },
  {
   "cell_type": "code",
   "execution_count": 15,
   "id": "0e09edd2",
   "metadata": {},
   "outputs": [],
   "source": [
    "def cedis_to_dollar(cedis, dollar_rate=15):\n",
    "    dollar = cedis * dollar_rate\n",
    "    print(f\"{cedis} cedis to dollar is {dollar}\")\n",
    "    "
   ]
  },
  {
   "cell_type": "code",
   "execution_count": 16,
   "id": "035f6e85",
   "metadata": {},
   "outputs": [
    {
     "name": "stdout",
     "output_type": "stream",
     "text": [
      "25 cedis to dollar is 375\n"
     ]
    }
   ],
   "source": [
    "cedis_to_dollar(25)"
   ]
  },
  {
   "cell_type": "code",
   "execution_count": 17,
   "id": "b5a535a7",
   "metadata": {},
   "outputs": [],
   "source": [
    "def cedis_to_dollar(cedis, dollar_rate):\n",
    "    dollar = cedis * dollar_rate\n",
    "    print(f\"{cedis} cedis to dollar is {dollar}\")"
   ]
  },
  {
   "cell_type": "code",
   "execution_count": 18,
   "id": "86c112c1",
   "metadata": {},
   "outputs": [
    {
     "name": "stdout",
     "output_type": "stream",
     "text": [
      "12 cedis to dollar is 192\n"
     ]
    }
   ],
   "source": [
    "cedis_to_dollar(cedis=12, dollar_rate=16)"
   ]
  },
  {
   "cell_type": "markdown",
   "id": "72a57e98",
   "metadata": {},
   "source": [
    "***args** is used to denote that the function can accept a variable number of arguments which are passed as a tuple to the function."
   ]
  },
  {
   "cell_type": "code",
   "execution_count": 19,
   "id": "9625a81b",
   "metadata": {},
   "outputs": [],
   "source": [
    "def summation(*args):\n",
    "    print(type(args))\n",
    "    total = 0\n",
    "    for i in args:\n",
    "        total+=i\n",
    "    print(total)\n",
    "        "
   ]
  },
  {
   "cell_type": "code",
   "execution_count": 20,
   "id": "b39662f8",
   "metadata": {},
   "outputs": [
    {
     "name": "stdout",
     "output_type": "stream",
     "text": [
      "<class 'tuple'>\n",
      "14\n"
     ]
    }
   ],
   "source": [
    "summation(2,3,4,5)"
   ]
  },
  {
   "cell_type": "markdown",
   "id": "a1139023",
   "metadata": {},
   "source": [
    "***kwargs** is used to passs a variable number of keyword arguments to a python fucntion. It is denoted by using double asterisk before the parameter name"
   ]
  },
  {
   "cell_type": "code",
   "execution_count": 21,
   "id": "211ef564",
   "metadata": {},
   "outputs": [],
   "source": [
    "def stock(**items):\n",
    "    print(items)"
   ]
  },
  {
   "cell_type": "code",
   "execution_count": 22,
   "id": "c2530851",
   "metadata": {},
   "outputs": [
    {
     "name": "stdout",
     "output_type": "stream",
     "text": [
      "{'pencil': 2, 'earser': 5, 'ruler': 2}\n"
     ]
    }
   ],
   "source": [
    "stock(pencil=2,earser=5,ruler=2)"
   ]
  },
  {
   "cell_type": "code",
   "execution_count": 23,
   "id": "746201a4",
   "metadata": {},
   "outputs": [],
   "source": [
    "def total_stocks(**items):\n",
    "    total = 0\n",
    "    for num in items.values():\n",
    "        total+=num\n",
    "    return total"
   ]
  },
  {
   "cell_type": "code",
   "execution_count": 24,
   "id": "1cb1872f",
   "metadata": {},
   "outputs": [
    {
     "data": {
      "text/plain": [
       "9"
      ]
     },
     "execution_count": 24,
     "metadata": {},
     "output_type": "execute_result"
    }
   ],
   "source": [
    "total_stocks(pencil=2,earser=5,ruler=2)"
   ]
  },
  {
   "cell_type": "code",
   "execution_count": null,
   "id": "2af3335f",
   "metadata": {},
   "outputs": [],
   "source": []
  },
  {
   "cell_type": "markdown",
   "id": "9c318372",
   "metadata": {},
   "source": [
    "**Lambda Expression**\n",
    "\n",
    "A lambda expression is an anonymous function that can take any number of arguments but can only have one expression.\n",
    "\n",
    "The **lambda** keyword is used to define a lambda expression."
   ]
  },
  {
   "cell_type": "markdown",
   "id": "d35ff0c3",
   "metadata": {},
   "source": [
    "Syntax for a lambda expression"
   ]
  },
  {
   "cell_type": "raw",
   "id": "70282b44",
   "metadata": {},
   "source": [
    "lambda arguments: expression"
   ]
  },
  {
   "cell_type": "code",
   "execution_count": 25,
   "id": "a436e9b9",
   "metadata": {},
   "outputs": [],
   "source": [
    "#Normal function definition:\n",
    "\n",
    "def add_two(x):\n",
    "    return x+2"
   ]
  },
  {
   "cell_type": "code",
   "execution_count": 26,
   "id": "884e329a",
   "metadata": {},
   "outputs": [
    {
     "data": {
      "text/plain": [
       "7"
      ]
     },
     "execution_count": 26,
     "metadata": {},
     "output_type": "execute_result"
    }
   ],
   "source": [
    "add_two(5)"
   ]
  },
  {
   "cell_type": "code",
   "execution_count": 27,
   "id": "ca0c5b36",
   "metadata": {},
   "outputs": [
    {
     "data": {
      "text/plain": [
       "<function __main__.<lambda>(x)>"
      ]
     },
     "execution_count": 27,
     "metadata": {},
     "output_type": "execute_result"
    }
   ],
   "source": [
    "# Lambda expression of add_two\n",
    "lambda x:x+2"
   ]
  },
  {
   "cell_type": "code",
   "execution_count": 28,
   "id": "a6e5248c",
   "metadata": {},
   "outputs": [],
   "source": [
    "add_2 = lambda x:x+2"
   ]
  },
  {
   "cell_type": "code",
   "execution_count": 29,
   "id": "2b4384c1",
   "metadata": {},
   "outputs": [
    {
     "data": {
      "text/plain": [
       "7"
      ]
     },
     "execution_count": 29,
     "metadata": {},
     "output_type": "execute_result"
    }
   ],
   "source": [
    "add_2(5)"
   ]
  },
  {
   "cell_type": "code",
   "execution_count": 30,
   "id": "a45e3aa6",
   "metadata": {},
   "outputs": [],
   "source": [
    "multiplication = lambda x,y : x*y"
   ]
  },
  {
   "cell_type": "code",
   "execution_count": 31,
   "id": "9c04763c",
   "metadata": {},
   "outputs": [
    {
     "data": {
      "text/plain": [
       "20"
      ]
     },
     "execution_count": 31,
     "metadata": {},
     "output_type": "execute_result"
    }
   ],
   "source": [
    "multiplication(4,5)"
   ]
  },
  {
   "cell_type": "code",
   "execution_count": 32,
   "id": "ac6f55bc",
   "metadata": {},
   "outputs": [],
   "source": [
    "whole_numbers = lambda x: x-x if x<0 else x"
   ]
  },
  {
   "cell_type": "code",
   "execution_count": 33,
   "id": "9f994d2a",
   "metadata": {},
   "outputs": [
    {
     "data": {
      "text/plain": [
       "5"
      ]
     },
     "execution_count": 33,
     "metadata": {},
     "output_type": "execute_result"
    }
   ],
   "source": [
    "whole_numbers(5)"
   ]
  },
  {
   "cell_type": "code",
   "execution_count": 34,
   "id": "a942a86a",
   "metadata": {},
   "outputs": [
    {
     "data": {
      "text/plain": [
       "0"
      ]
     },
     "execution_count": 34,
     "metadata": {},
     "output_type": "execute_result"
    }
   ],
   "source": [
    "whole_numbers(-5)"
   ]
  },
  {
   "cell_type": "code",
   "execution_count": null,
   "id": "d8b42636",
   "metadata": {},
   "outputs": [],
   "source": []
  },
  {
   "cell_type": "markdown",
   "id": "8aff4817",
   "metadata": {},
   "source": [
    "### Higher Order Built-In Functions"
   ]
  },
  {
   "cell_type": "markdown",
   "id": "19f8032e",
   "metadata": {},
   "source": [
    "**map**\n",
    "\n",
    "This function applies a given funnction to each element of an iterable(list,tuple) and returns an iterator with the results"
   ]
  },
  {
   "cell_type": "code",
   "execution_count": 35,
   "id": "bc0b6be5",
   "metadata": {},
   "outputs": [],
   "source": [
    "def square(x):\n",
    "    return x ** 2"
   ]
  },
  {
   "cell_type": "code",
   "execution_count": 36,
   "id": "fc8d51de",
   "metadata": {},
   "outputs": [
    {
     "data": {
      "text/plain": [
       "[1, 2, 3, 4, 5, 6, 7, 8, 9, 10]"
      ]
     },
     "execution_count": 36,
     "metadata": {},
     "output_type": "execute_result"
    }
   ],
   "source": [
    "numbers = list(range(1,11))\n",
    "numbers"
   ]
  },
  {
   "cell_type": "code",
   "execution_count": 37,
   "id": "9db9d40d",
   "metadata": {},
   "outputs": [
    {
     "data": {
      "text/plain": [
       "<map at 0x21765795f40>"
      ]
     },
     "execution_count": 37,
     "metadata": {},
     "output_type": "execute_result"
    }
   ],
   "source": [
    "map(square,numbers)"
   ]
  },
  {
   "cell_type": "code",
   "execution_count": 38,
   "id": "d5be1b6e",
   "metadata": {},
   "outputs": [
    {
     "name": "stdout",
     "output_type": "stream",
     "text": [
      "[1, 4, 9, 16, 25, 36, 49, 64, 81, 100]\n"
     ]
    }
   ],
   "source": [
    "print(list(map(square,numbers)))"
   ]
  },
  {
   "cell_type": "code",
   "execution_count": 39,
   "id": "bc8443a5",
   "metadata": {},
   "outputs": [
    {
     "data": {
      "text/plain": [
       "[1.0,\n",
       " 1.4142135623730951,\n",
       " 1.7320508075688772,\n",
       " 2.0,\n",
       " 2.23606797749979,\n",
       " 2.449489742783178,\n",
       " 2.6457513110645907,\n",
       " 2.8284271247461903,\n",
       " 3.0,\n",
       " 3.1622776601683795]"
      ]
     },
     "execution_count": 39,
     "metadata": {},
     "output_type": "execute_result"
    }
   ],
   "source": [
    "#map with lambda expression\n",
    "sqrt_numbers = list(map(lambda x:x**0.5, numbers))\n",
    "sqrt_numbers"
   ]
  },
  {
   "cell_type": "code",
   "execution_count": 40,
   "id": "da04d478",
   "metadata": {},
   "outputs": [],
   "source": [
    "list_numbers = [[5,2,4],[6,3,1],[4,6,10]]"
   ]
  },
  {
   "cell_type": "code",
   "execution_count": 41,
   "id": "b8eb1459",
   "metadata": {},
   "outputs": [],
   "source": [
    "max_numbers = list(map(max, list_numbers))"
   ]
  },
  {
   "cell_type": "code",
   "execution_count": 42,
   "id": "c3c97ddd",
   "metadata": {},
   "outputs": [
    {
     "data": {
      "text/plain": [
       "[5, 6, 10]"
      ]
     },
     "execution_count": 42,
     "metadata": {},
     "output_type": "execute_result"
    }
   ],
   "source": [
    "max_numbers"
   ]
  },
  {
   "cell_type": "code",
   "execution_count": null,
   "id": "01121ac0",
   "metadata": {},
   "outputs": [],
   "source": []
  },
  {
   "cell_type": "markdown",
   "id": "115b1174",
   "metadata": {},
   "source": [
    "**filter()**:\n",
    "\n",
    "It filters the given sequence with the help of a function that tests each element in the sequence to be true or not."
   ]
  },
  {
   "cell_type": "code",
   "execution_count": 43,
   "id": "48bfce09",
   "metadata": {},
   "outputs": [],
   "source": [
    "def is_negative(x):\n",
    "    return x<0\n",
    "\n",
    "nums = [-3,3,4,-5,2,-4,-9,5]\n",
    "\n",
    "negative_numbers = filter(is_negative, nums)"
   ]
  },
  {
   "cell_type": "code",
   "execution_count": 44,
   "id": "00aae6ee",
   "metadata": {},
   "outputs": [
    {
     "data": {
      "text/plain": [
       "<filter at 0x217657ab490>"
      ]
     },
     "execution_count": 44,
     "metadata": {},
     "output_type": "execute_result"
    }
   ],
   "source": [
    "negative_numbers"
   ]
  },
  {
   "cell_type": "code",
   "execution_count": 45,
   "id": "654a70c5",
   "metadata": {},
   "outputs": [
    {
     "data": {
      "text/plain": [
       "[-3, -5, -4, -9]"
      ]
     },
     "execution_count": 45,
     "metadata": {},
     "output_type": "execute_result"
    }
   ],
   "source": [
    "list(negative_numbers)"
   ]
  },
  {
   "cell_type": "code",
   "execution_count": 46,
   "id": "9326b276",
   "metadata": {},
   "outputs": [],
   "source": [
    "def upper(word):\n",
    "    return word.isupper()\n"
   ]
  },
  {
   "cell_type": "code",
   "execution_count": 47,
   "id": "9e220ca7",
   "metadata": {},
   "outputs": [],
   "source": [
    "names =[\"kofi\",\"PRECIOUS\",\"DANIEL\",'kwesi',\"SELASI\",'FRED','kwaku']"
   ]
  },
  {
   "cell_type": "code",
   "execution_count": 48,
   "id": "4e0aec01",
   "metadata": {},
   "outputs": [],
   "source": [
    "uppercase = list(filter(upper, names))"
   ]
  },
  {
   "cell_type": "code",
   "execution_count": 49,
   "id": "ce2e7ed7",
   "metadata": {},
   "outputs": [
    {
     "data": {
      "text/plain": [
       "['PRECIOUS', 'DANIEL', 'SELASI', 'FRED']"
      ]
     },
     "execution_count": 49,
     "metadata": {},
     "output_type": "execute_result"
    }
   ],
   "source": [
    "uppercase"
   ]
  },
  {
   "cell_type": "code",
   "execution_count": null,
   "id": "11a59c10",
   "metadata": {},
   "outputs": [],
   "source": []
  },
  {
   "cell_type": "markdown",
   "id": "ebb72954",
   "metadata": {},
   "source": [
    "**zip()**:\n",
    "\n",
    "This method takes iterables and returns a single iteraor object, having mapped values from all the containers."
   ]
  },
  {
   "cell_type": "code",
   "execution_count": 50,
   "id": "050678bb",
   "metadata": {},
   "outputs": [],
   "source": [
    "numbers = [1,2,3,4,5]\n",
    "words = [\"one\",\"two\", \"three\", \"four\", \"five\"]"
   ]
  },
  {
   "cell_type": "code",
   "execution_count": 51,
   "id": "f200b440",
   "metadata": {},
   "outputs": [
    {
     "data": {
      "text/plain": [
       "<zip at 0x217657a5880>"
      ]
     },
     "execution_count": 51,
     "metadata": {},
     "output_type": "execute_result"
    }
   ],
   "source": [
    "zip(numbers, words)"
   ]
  },
  {
   "cell_type": "code",
   "execution_count": 52,
   "id": "0a1d77f7",
   "metadata": {},
   "outputs": [
    {
     "data": {
      "text/plain": [
       "[(1, 'one'), (2, 'two'), (3, 'three'), (4, 'four'), (5, 'five')]"
      ]
     },
     "execution_count": 52,
     "metadata": {},
     "output_type": "execute_result"
    }
   ],
   "source": [
    "list(zip(numbers, words))"
   ]
  },
  {
   "cell_type": "code",
   "execution_count": 53,
   "id": "bd24275f",
   "metadata": {},
   "outputs": [
    {
     "data": {
      "text/plain": [
       "[(1, 'one'), (2, 'two'), (3, 'three'), (4, 'four'), (5, 'five')]"
      ]
     },
     "execution_count": 53,
     "metadata": {},
     "output_type": "execute_result"
    }
   ],
   "source": [
    "list(zip([1,2,3,4,5],[\"one\",\"two\", \"three\", \"four\", \"five\"]))"
   ]
  },
  {
   "cell_type": "code",
   "execution_count": 54,
   "id": "e78a4aa1",
   "metadata": {},
   "outputs": [
    {
     "name": "stdout",
     "output_type": "stream",
     "text": [
      "1:one\n",
      "2:two\n",
      "3:three\n",
      "4:four\n",
      "5:five\n"
     ]
    }
   ],
   "source": [
    "for num, word in zip(numbers, words):\n",
    "    print(f\"{num}:{word}\")"
   ]
  },
  {
   "cell_type": "markdown",
   "id": "a2c76150",
   "metadata": {},
   "source": [
    "**Unzipping**: It is the preocess of extracting individual elements of an iterable object and transforming them into separate lists.\n",
    "\n",
    "The operators used in unzipping are  the zip and the * operators."
   ]
  },
  {
   "cell_type": "code",
   "execution_count": 55,
   "id": "3fecab52",
   "metadata": {},
   "outputs": [],
   "source": [
    "zipped = list(zip(numbers, words))"
   ]
  },
  {
   "cell_type": "code",
   "execution_count": 56,
   "id": "923bda4e",
   "metadata": {},
   "outputs": [
    {
     "data": {
      "text/plain": [
       "[(1, 'one'), (2, 'two'), (3, 'three'), (4, 'four'), (5, 'five')]"
      ]
     },
     "execution_count": 56,
     "metadata": {},
     "output_type": "execute_result"
    }
   ],
   "source": [
    "zipped"
   ]
  },
  {
   "cell_type": "code",
   "execution_count": 57,
   "id": "ef7c5096",
   "metadata": {},
   "outputs": [],
   "source": [
    "unzipped = zip(*zipped)"
   ]
  },
  {
   "cell_type": "code",
   "execution_count": 58,
   "id": "3dc8146e",
   "metadata": {},
   "outputs": [
    {
     "data": {
      "text/plain": [
       "<zip at 0x217657b44c0>"
      ]
     },
     "execution_count": 58,
     "metadata": {},
     "output_type": "execute_result"
    }
   ],
   "source": [
    "unzipped"
   ]
  },
  {
   "cell_type": "code",
   "execution_count": 59,
   "id": "5118879b",
   "metadata": {},
   "outputs": [
    {
     "data": {
      "text/plain": [
       "[(1, 2, 3, 4, 5), ('one', 'two', 'three', 'four', 'five')]"
      ]
     },
     "execution_count": 59,
     "metadata": {},
     "output_type": "execute_result"
    }
   ],
   "source": [
    "list(unzipped)"
   ]
  },
  {
   "cell_type": "code",
   "execution_count": 60,
   "id": "3de1a7dd",
   "metadata": {},
   "outputs": [],
   "source": [
    "numbers, words = zip(*zipped)"
   ]
  },
  {
   "cell_type": "code",
   "execution_count": 61,
   "id": "a14d1d7e",
   "metadata": {},
   "outputs": [
    {
     "data": {
      "text/plain": [
       "(1, 2, 3, 4, 5)"
      ]
     },
     "execution_count": 61,
     "metadata": {},
     "output_type": "execute_result"
    }
   ],
   "source": [
    "numbers"
   ]
  },
  {
   "cell_type": "code",
   "execution_count": 62,
   "id": "eb924762",
   "metadata": {},
   "outputs": [
    {
     "data": {
      "text/plain": [
       "('one', 'two', 'three', 'four', 'five')"
      ]
     },
     "execution_count": 62,
     "metadata": {},
     "output_type": "execute_result"
    }
   ],
   "source": [
    "words"
   ]
  },
  {
   "cell_type": "code",
   "execution_count": null,
   "id": "1f38eade",
   "metadata": {},
   "outputs": [],
   "source": []
  },
  {
   "cell_type": "markdown",
   "id": "ead0ab5f",
   "metadata": {},
   "source": [
    "**enumerate()**:\n",
    "\n",
    "This method returns an iterator of tuples containing indicies and values of a list"
   ]
  },
  {
   "cell_type": "code",
   "execution_count": 63,
   "id": "bf711ae0",
   "metadata": {},
   "outputs": [],
   "source": [
    "words =['one', 'two', 'three', 'four', 'five']"
   ]
  },
  {
   "cell_type": "code",
   "execution_count": 64,
   "id": "f8710801",
   "metadata": {},
   "outputs": [
    {
     "data": {
      "text/plain": [
       "<enumerate at 0x21765b8ffc0>"
      ]
     },
     "execution_count": 64,
     "metadata": {},
     "output_type": "execute_result"
    }
   ],
   "source": [
    "enumerate(words)"
   ]
  },
  {
   "cell_type": "code",
   "execution_count": 65,
   "id": "8d2a12be",
   "metadata": {},
   "outputs": [
    {
     "data": {
      "text/plain": [
       "[(0, 'one'), (1, 'two'), (2, 'three'), (3, 'four'), (4, 'five')]"
      ]
     },
     "execution_count": 65,
     "metadata": {},
     "output_type": "execute_result"
    }
   ],
   "source": [
    "list(enumerate(words))"
   ]
  },
  {
   "cell_type": "code",
   "execution_count": 68,
   "id": "35f800eb",
   "metadata": {},
   "outputs": [
    {
     "name": "stdout",
     "output_type": "stream",
     "text": [
      "0 one\n",
      "1 two\n",
      "2 three\n",
      "3 four\n",
      "4 five\n"
     ]
    }
   ],
   "source": [
    "for i, word in enumerate(words):\n",
    "    print(f\"{i} {word}\")"
   ]
  },
  {
   "cell_type": "code",
   "execution_count": 69,
   "id": "0747b820",
   "metadata": {},
   "outputs": [
    {
     "name": "stdout",
     "output_type": "stream",
     "text": [
      "1 - > one\n",
      "2 - > two\n",
      "3 - > three\n",
      "4 - > four\n",
      "5 - > five\n"
     ]
    }
   ],
   "source": [
    "for i, word in enumerate(words):\n",
    "    print(f\"{i+1} - > {word}\")"
   ]
  },
  {
   "cell_type": "code",
   "execution_count": null,
   "id": "9a3b63d5",
   "metadata": {},
   "outputs": [],
   "source": []
  }
 ],
 "metadata": {
  "kernelspec": {
   "display_name": "Python 3 (ipykernel)",
   "language": "python",
   "name": "python3"
  },
  "language_info": {
   "codemirror_mode": {
    "name": "ipython",
    "version": 3
   },
   "file_extension": ".py",
   "mimetype": "text/x-python",
   "name": "python",
   "nbconvert_exporter": "python",
   "pygments_lexer": "ipython3",
   "version": "3.9.12"
  }
 },
 "nbformat": 4,
 "nbformat_minor": 5
}
