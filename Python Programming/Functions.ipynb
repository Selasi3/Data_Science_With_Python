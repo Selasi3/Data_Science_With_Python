{
 "cells": [
  {
   "cell_type": "markdown",
   "id": "efaec805",
   "metadata": {},
   "source": [
    "### Functions"
   ]
  },
  {
   "cell_type": "markdown",
   "id": "dd5146d2",
   "metadata": {},
   "source": [
    "Functions are block of codes tha performs a specific task.\n",
    "\n",
    " Functions allow you to break down complex problems into smaller, more manageable parts, making it easier to develop and maintain large programs.\n",
    "    "
   ]
  },
  {
   "cell_type": "markdown",
   "id": "ee788b3a",
   "metadata": {},
   "source": [
    "#### Part of a Python Function"
   ]
  },
  {
   "cell_type": "markdown",
   "id": "0b5108f6",
   "metadata": {},
   "source": [
    "The part of python function includes:\n",
    "\n",
    "- **Function Header** :The function header comprises of the **def** keyword followed by the name of  the function and a set  of parentheses that may contain arguments separated by commas. A function may or may not have any arguments. The function header always ends with a colon(:). \n",
    "\n",
    "\n",
    "- **Docstrings**: The documentation strings describe what the function does and how to use the function. The docstring are strings placed within triple quotes and can span across multiple  lines. To access the docstrings of a function use  the **__doc__** atribute of the function or the **help()** Python function.\n",
    "\n",
    "\n",
    "- **Function Body**: The function body is the code block inside the function which isindented from the header. It consist of the logic of the function.\n",
    "\n",
    "\n",
    "- **Return statement**: It consist of a **return** keyword followed by the value that the function should return. Afunction with no return statement simply returns None\n",
    "\n",
    "\n",
    "To call a function in python, write the name of the function follwed by the enclosed parentheses with or without arguments."
   ]
  },
  {
   "cell_type": "code",
   "execution_count": 14,
   "id": "fb1c8ca1",
   "metadata": {},
   "outputs": [],
   "source": [
    "#This is an empty function\n",
    "def empty():\n",
    "    pass"
   ]
  },
  {
   "cell_type": "code",
   "execution_count": 16,
   "id": "9337f618",
   "metadata": {},
   "outputs": [],
   "source": [
    "#Returns nothing\n",
    "empty()"
   ]
  },
  {
   "cell_type": "code",
   "execution_count": 1,
   "id": "19f93381",
   "metadata": {},
   "outputs": [],
   "source": [
    "def welcome():\n",
    "    \"\"\"\n",
    "    This function returns Welcome to Python\n",
    "    \"\"\"\n",
    "    return \"Welcome to Python\""
   ]
  },
  {
   "cell_type": "code",
   "execution_count": 3,
   "id": "f571e6be",
   "metadata": {},
   "outputs": [
    {
     "name": "stdout",
     "output_type": "stream",
     "text": [
      "Help on function welcome in module __main__:\n",
      "\n",
      "welcome()\n",
      "    This function returns Welcome to Python\n",
      "\n"
     ]
    }
   ],
   "source": [
    "#Acessing the docstrings of a function\n",
    "help(welcome)"
   ]
  },
  {
   "cell_type": "code",
   "execution_count": 11,
   "id": "bfa7aeb3",
   "metadata": {},
   "outputs": [
    {
     "data": {
      "text/plain": [
       "'\\n    This function returns Welcome to Python\\n    '"
      ]
     },
     "execution_count": 11,
     "metadata": {},
     "output_type": "execute_result"
    }
   ],
   "source": [
    "#Acessing the docstrings of a function\n",
    "welcome.__doc__"
   ]
  },
  {
   "cell_type": "code",
   "execution_count": 12,
   "id": "5e4b43b5",
   "metadata": {},
   "outputs": [
    {
     "data": {
      "text/plain": [
       "'Welcome to Python'"
      ]
     },
     "execution_count": 12,
     "metadata": {},
     "output_type": "execute_result"
    }
   ],
   "source": [
    "#Calling the function\n",
    "welcome()"
   ]
  },
  {
   "cell_type": "code",
   "execution_count": 19,
   "id": "a08bd3ac",
   "metadata": {},
   "outputs": [],
   "source": [
    "#Functions with arguments\n",
    "\n",
    "def addition(a,b):\n",
    "    \"\"\"\n",
    "    This function adds two nums together\n",
    "    \n",
    "    INPUT:\n",
    "    a: int, value one\n",
    "    b: int, value two\n",
    "    \n",
    "    OUTPUT:\n",
    "    return : The sum of a and b\n",
    "    \n",
    "    \"\"\"\n",
    "    return a+b"
   ]
  },
  {
   "cell_type": "code",
   "execution_count": 20,
   "id": "7fe387df",
   "metadata": {},
   "outputs": [
    {
     "data": {
      "text/plain": [
       "8"
      ]
     },
     "execution_count": 20,
     "metadata": {},
     "output_type": "execute_result"
    }
   ],
   "source": [
    "addition(3,5)"
   ]
  },
  {
   "cell_type": "markdown",
   "id": "fb6f2ab4",
   "metadata": {},
   "source": [
    "**Positional arguments**: \n",
    "\n",
    "Arguments where values get assigned to the arguments by their position when the function is called\n",
    "It is an argument whose position matters in a function call."
   ]
  },
  {
   "cell_type": "code",
   "execution_count": 23,
   "id": "7500d584",
   "metadata": {},
   "outputs": [],
   "source": [
    "def bmi(height, weight):\n",
    "    return weight/height**2"
   ]
  },
  {
   "cell_type": "code",
   "execution_count": 24,
   "id": "2bbd3a04",
   "metadata": {},
   "outputs": [
    {
     "data": {
      "text/plain": [
       "17.75568181818182"
      ]
     },
     "execution_count": 24,
     "metadata": {},
     "output_type": "execute_result"
    }
   ],
   "source": [
    "bmi(1.76,55)"
   ]
  },
  {
   "cell_type": "markdown",
   "id": "fa1e0dae",
   "metadata": {},
   "source": [
    "**Default Arguments**:  Default values are assigned to argument of the function using the assignment operator.\n",
    "\n",
    "**Keyword Arguments**: These are arguments where values get assigned to the arguments by their keyword(name) when the fuction id called. It is preceded by the variable name and an assignment operator.\n",
    "\n",
    "Positional argument should follow keyword argument."
   ]
  },
  {
   "cell_type": "code",
   "execution_count": 31,
   "id": "0e09edd2",
   "metadata": {},
   "outputs": [],
   "source": [
    "def cedis_to_dollar(cedis, dollar_rate=15):\n",
    "    dollar = cedis * dollar_rate\n",
    "    print(f\"{cedis} cedis to dollar is {dollar}\")\n",
    "    "
   ]
  },
  {
   "cell_type": "code",
   "execution_count": 32,
   "id": "035f6e85",
   "metadata": {},
   "outputs": [
    {
     "name": "stdout",
     "output_type": "stream",
     "text": [
      "25 cedis to dollar is 375\n"
     ]
    }
   ],
   "source": [
    "cedis_to_dollar(25)"
   ]
  },
  {
   "cell_type": "code",
   "execution_count": 34,
   "id": "b5a535a7",
   "metadata": {},
   "outputs": [],
   "source": [
    "def cedis_to_dollar(cedis, dollar_rate):\n",
    "    dollar = cedis * dollar_rate\n",
    "    print(f\"{cedis} cedis to dollar is {dollar}\")"
   ]
  },
  {
   "cell_type": "code",
   "execution_count": 35,
   "id": "86c112c1",
   "metadata": {},
   "outputs": [
    {
     "name": "stdout",
     "output_type": "stream",
     "text": [
      "12 cedis to dollar is 192\n"
     ]
    }
   ],
   "source": [
    "cedis_to_dollar(cedis=12, dollar_rate=16)"
   ]
  },
  {
   "cell_type": "markdown",
   "id": "72a57e98",
   "metadata": {},
   "source": [
    "***args** is used to denote that the function can accept a variable number of arguments which are passed as a tuple to the function."
   ]
  },
  {
   "cell_type": "code",
   "execution_count": 39,
   "id": "9625a81b",
   "metadata": {},
   "outputs": [],
   "source": [
    "def summation(*args):\n",
    "    print(type(args))\n",
    "    total = 0\n",
    "    for i in args:\n",
    "        total+=i\n",
    "    print(total)\n",
    "        "
   ]
  },
  {
   "cell_type": "code",
   "execution_count": 40,
   "id": "b39662f8",
   "metadata": {},
   "outputs": [
    {
     "name": "stdout",
     "output_type": "stream",
     "text": [
      "<class 'tuple'>\n",
      "14\n"
     ]
    }
   ],
   "source": [
    "summation(2,3,4,5)"
   ]
  },
  {
   "cell_type": "markdown",
   "id": "a1139023",
   "metadata": {},
   "source": [
    "***kwargs** is used to passs a variable number of keyword arguments to a python fucntion. It is denoted by using double asterisk before the parameter name"
   ]
  },
  {
   "cell_type": "code",
   "execution_count": 41,
   "id": "211ef564",
   "metadata": {},
   "outputs": [],
   "source": [
    "def stock(**items):\n",
    "    print(items)"
   ]
  },
  {
   "cell_type": "code",
   "execution_count": 42,
   "id": "c2530851",
   "metadata": {},
   "outputs": [
    {
     "name": "stdout",
     "output_type": "stream",
     "text": [
      "{'pencil': 2, 'earser': 5, 'ruler': 2}\n"
     ]
    }
   ],
   "source": [
    "stock(pencil=2,earser=5,ruler=2)"
   ]
  },
  {
   "cell_type": "code",
   "execution_count": 44,
   "id": "746201a4",
   "metadata": {},
   "outputs": [],
   "source": [
    "def total_stocks(**items):\n",
    "    total = 0\n",
    "    for num in items.values():\n",
    "        total+=num\n",
    "    return total"
   ]
  },
  {
   "cell_type": "code",
   "execution_count": 45,
   "id": "1cb1872f",
   "metadata": {},
   "outputs": [
    {
     "data": {
      "text/plain": [
       "9"
      ]
     },
     "execution_count": 45,
     "metadata": {},
     "output_type": "execute_result"
    }
   ],
   "source": [
    "total_stocks(pencil=2,earser=5,ruler=2)"
   ]
  },
  {
   "cell_type": "code",
   "execution_count": null,
   "id": "2af3335f",
   "metadata": {},
   "outputs": [],
   "source": []
  }
 ],
 "metadata": {
  "kernelspec": {
   "display_name": "Python 3 (ipykernel)",
   "language": "python",
   "name": "python3"
  },
  "language_info": {
   "codemirror_mode": {
    "name": "ipython",
    "version": 3
   },
   "file_extension": ".py",
   "mimetype": "text/x-python",
   "name": "python",
   "nbconvert_exporter": "python",
   "pygments_lexer": "ipython3",
   "version": "3.9.12"
  }
 },
 "nbformat": 4,
 "nbformat_minor": 5
}
