{
 "cells": [
  {
   "cell_type": "markdown",
   "id": "1781c090",
   "metadata": {},
   "source": [
    "### Statistics"
   ]
  },
  {
   "cell_type": "markdown",
   "id": "5649c211",
   "metadata": {},
   "source": [
    "Statistics is the science of collecting, organizing, summarizing, analyzing and making inferences from data."
   ]
  },
  {
   "cell_type": "markdown",
   "id": "ab35db74",
   "metadata": {},
   "source": [
    "### Descriptive Statistics\n",
    "\n",
    "Descriptive statistics is a branch of statistics that involves the collecting, organizing, summarizing, analysing, and presenting  data in a way that summarizes its main features.\n",
    "Describe and summarize data"
   ]
  },
  {
   "cell_type": "markdown",
   "id": "13349f30",
   "metadata": {},
   "source": [
    "### Inferential Statistics\n",
    "\n",
    "This branch of  statistics uses a sample of data to make inferences about a larger population"
   ]
  },
  {
   "cell_type": "markdown",
   "id": "3d62ef05",
   "metadata": {},
   "source": [
    "### Types of Data\n",
    "\n",
    "1. Numeric(Quantitative) Data\n",
    "Quantitative data is a type of data that can be measured or expressed numerically\n",
    "\n",
    "There are two groups of numeric data namely:\n",
    "<!-- \n",
    "+ Continuous Data\n",
    " These are quantities that can be measured. eg speed, time -->\n",
    " + Interval Data\n",
    "Interval data is a type of quantitative data where the measurement scale has equal intervals between the values, but there is no true zero point.\n",
    "eg speed, time, temperature etc\n",
    "\n",
    "+ Ratio Data\n",
    "Ratio data has equal intervals between values, and there is a true zero point, which represents the absence of the measured quantity. Examples include weight, height, or income. \n",
    "\n",
    "\n",
    "2. Categorical (Qualitative) Data\n",
    "\n",
    "+ Norminal (ordered) Data\n",
    "These are data with no inherent order eg marriage stats, gender, seasons.\n",
    "\n",
    "+ Ordinal(Ordered) Data\n",
    "These are data with an inherent ordereg rating, score, position"
   ]
  },
  {
   "cell_type": "markdown",
   "id": "5c61a371",
   "metadata": {},
   "source": [
    "**Population**:\n",
    "\n",
    "A population is the entire group that you want to draw conclusions about."
   ]
  },
  {
   "cell_type": "markdown",
   "id": "ca9d11b7",
   "metadata": {},
   "source": [
    "**Parameter**\n",
    "\n",
    " A parameter is a measure that describes a characteristic of a population which can be  used to summarize and describe various aspects of a population, such as its central tendency, variability, or distribution. "
   ]
  },
  {
   "cell_type": "markdown",
   "id": "c0993e66",
   "metadata": {},
   "source": [
    "**Sample**\n",
    "\n",
    "Sample is a subset of  observations that are selected from a larger population for the purpose of statistical analysis."
   ]
  },
  {
   "cell_type": "markdown",
   "id": "d66ace1f",
   "metadata": {},
   "source": [
    "**Statistic**\n",
    "\n",
    "Statistic is used to describe and summarize the characteristics of the sample, and to make inferences about the population from which the sample was drawn."
   ]
  },
  {
   "cell_type": "markdown",
   "id": "9fe9beb1",
   "metadata": {},
   "source": [
    "### Measure of Center\n",
    "\n",
    "A measure of center is a statistical concept that represents the typical or central value of a set of data.\n",
    "\n",
    "Indicators of measure of center include:\n",
    "\n",
    "- Mean\n",
    "- Median\n",
    "- Mode"
   ]
  },
  {
   "cell_type": "markdown",
   "id": "1824e359",
   "metadata": {},
   "source": [
    "### Mean\n",
    "The mean refers to the average value of a set of numerical data.\n",
    "\n",
    "The mean is calculated by adding all the values in the data set and dividing by the total number of values.\n",
    "\n",
    "Examples: 2,3,4,3,2\n",
    "\n",
    "mean = (2+3+4+3+2)/5\n",
    "\n",
    "mean= 3\n",
    "\n",
    "**The mean is much more sensitive to extreme values and thereby other measures of central tendency such as the median or mode should be used.**\n",
    "\n",
    "Examples: 2,3,4,3,10\n",
    "\n",
    "mean = (2+3+4+3+40)/5\n",
    "\n",
    "mean = 10.4"
   ]
  },
  {
   "cell_type": "markdown",
   "id": "a7410c67",
   "metadata": {},
   "source": [
    "### Median\n",
    "Median refers to the  middle value when data is arranged in a descending or an ascending order.\n",
    "\n",
    "It correspond to the 50th percentile. \n",
    "\n",
    "The median is the middle value if the data set has odd number of values.\n",
    "\n",
    "Example: 2,3,3,4,4\n",
    "\n",
    "median = 3\n",
    "\n",
    "The median is the average of two middle values if the data set has even number of values\n",
    "\n",
    "Example 2,3,3,4,4,4\n",
    "\n",
    "median = 3.5"
   ]
  },
  {
   "cell_type": "markdown",
   "id": "4c4f214a",
   "metadata": {},
   "source": [
    "### Mode\n",
    "Mode refers to the highest occurring value in a given data.\n",
    "\n",
    "It is the value that appears most often in the data set.\n",
    "\n",
    "To calculate the mode of a data, count the number of times each value appears in the data.\n",
    "\n",
    "Example: 2,3,3,4,3,4,3,4,3,3,4,5,3,1\n",
    "\n",
    "mode = 3\n",
    "\n",
    "If there are two values that occur with the same highest frequency, the data set is said to be bimodal, and both values are considered to be modes. If there are more than two values that occur with the same highest frequency, the data set is said to be multimodal.\n"
   ]
  },
  {
   "cell_type": "markdown",
   "id": "ababb37f",
   "metadata": {},
   "source": [
    "### Skewness\n",
    "Skewness refers to the extent to which a distribution is not symmetrical around its mean.\n",
    "\n",
    "- A distribution is symmetrical if its mean, median and mode are all equal and with a skewness of 0.\n",
    "\n",
    "- A distribution can be either positively skewed or negatively skewed.\n",
    "\n",
    "\n",
    "#### Positive skewness\n",
    "\n",
    "A distribution is positively skewed(right-skewed) if :\n",
    "- The mass of the distribution is concentrated on the left of the figure.(The right tail is longer)\n",
    "- The mean is greater than the median of the dataset\n",
    "\n",
    "#### Negative skewness\n",
    "\n",
    "A distribution is negative skewed(left-skewed) if :\n",
    "- The mass of the distribution is concentrated on the right of the figure.(The left tail is longer)\n",
    "- The mean is less than the median of the dataset\n"
   ]
  },
  {
   "cell_type": "markdown",
   "id": "f551393b",
   "metadata": {},
   "source": [
    "### Measures of Spread\n",
    "\n",
    "It describes how spread apart or close together the data points are.\n",
    "\n",
    "The Measures of Spread include:\n",
    "\n",
    "- Variance\n",
    "- Standard Deviation"
   ]
  },
  {
   "cell_type": "markdown",
   "id": "be845c2d",
   "metadata": {},
   "source": [
    "### Variance\n",
    "\n",
    "It refers to the average daistance from each data point to the data's mean.\n",
    "\n",
    "The higher the variance, the more spread out the data is.\n",
    "\n",
    "**How to Calculate Variance**\n",
    "\n",
    "- Subtract the mean from each data point\n",
    "- Square each distance\n",
    "- Sum squared distances\n",
    "- Divide the sum of squared distance by the number of data points - 1\n"
   ]
  },
  {
   "cell_type": "markdown",
   "id": "b4de133a",
   "metadata": {},
   "source": [
    "### Standard Deviation\n",
    "It is the measure of the dispersion of a set of data from its mean.\n",
    "\n",
    "A higher standard deviation indicates that the data points are more spread out from the mean, while a lower standard deviation indicates that the data points are more clustered around the mean.\n",
    "\n",
    "It is calculated by taking the square root of the variance"
   ]
  },
  {
   "cell_type": "markdown",
   "id": "4fd592cb",
   "metadata": {},
   "source": [
    "### Mean Abosolute Deviation"
   ]
  },
  {
   "cell_type": "markdown",
   "id": "a9b19b5d",
   "metadata": {},
   "source": [
    "It isthe sum of the absolute differences between each data point and the mean, divided by the number of data points."
   ]
  },
  {
   "cell_type": "markdown",
   "id": "2883a0cb",
   "metadata": {},
   "source": [
    "### Quantiles"
   ]
  },
  {
   "cell_type": "markdown",
   "id": "121e840f",
   "metadata": {},
   "source": [
    "Quantiles split up the data into some number of equal parts"
   ]
  },
  {
   "cell_type": "markdown",
   "id": "b5c3ff20",
   "metadata": {},
   "source": [
    "### Quartiles"
   ]
  },
  {
   "cell_type": "markdown",
   "id": "3efd1b20",
   "metadata": {},
   "source": [
    "Quartiles is a type of quantile that divide a dataset into 4 equal parts.\n",
    "\n",
    "\n",
    "- First quartile(Q1)  separates the lower 25% from the upper 75% of the data set.\n",
    "\n",
    "- Second quartile(Q2) known as the median, seprarates the lowest the 50% of values from the highest 50% of the data set.\n",
    "\n",
    "- Third quartile(Q3) known as the upper quartile, separates the lowest 75% of values from the highest 25% of data values"
   ]
  },
  {
   "cell_type": "markdown",
   "id": "732ee56c",
   "metadata": {},
   "source": [
    "### Interquartile Range"
   ]
  },
  {
   "cell_type": "markdown",
   "id": "a5164e60",
   "metadata": {},
   "source": [
    "It is the difference between the third quartile and the first quartile.\n",
    "\n",
    "`Interquartile range = Q3 - Q1`\n",
    "\n",
    "It is used to find outliers in a dataset,values that are more than 1.5 times the IQR below Q1 or above Q3 are considered outliers.\n",
    "\n",
    "`lower bound = Q1 - 1.5 X IQR`\n",
    "\n",
    "`upper bound = Q3 + 1.5 X IQR`\n",
    "\n",
    "Values that falls below the lower bound or above the upper bound is considered as an outlier"
   ]
  },
  {
   "cell_type": "code",
   "execution_count": null,
   "id": "f9e0d05f",
   "metadata": {},
   "outputs": [],
   "source": []
  },
  {
   "cell_type": "markdown",
   "id": "52e3d946",
   "metadata": {},
   "source": [
    "### Distributions"
   ]
  },
  {
   "cell_type": "markdown",
   "id": "76a1b50b",
   "metadata": {},
   "source": [
    "A distribution refers to the pattern of how a set of values are spread out or arranged.\n",
    "\n",
    "The common type of distributons in statistics includes\n",
    "- Normal Distribution\n",
    "- Uniform Distribution\n",
    "- Binomial Distribution\n",
    "- Exponential Distribution and many more\n",
    "\n"
   ]
  },
  {
   "cell_type": "markdown",
   "id": "3e135e52",
   "metadata": {},
   "source": [
    "### Normal Distribution\n",
    "\n",
    "It is a probability distribution that is centered around the mean.\n",
    "\n",
    "It has the following properties:\n",
    "- Symmetric bell shape\n",
    "- Mean and median are equal\n",
    "- Approximately 68% of the data falls within one standard deviation of the mean\n",
    "- 95% of the data falls within two standard deviations\n",
    "- 99.7% of the data falls within three standard deviations\n",
    "\n",
    "\n",
    "\n"
   ]
  },
  {
   "cell_type": "markdown",
   "id": "c1670a3d",
   "metadata": {},
   "source": [
    "### Standard Normal Distribution\n",
    "\n",
    "It is a normal distribution with a mean of 0 and a standard deviation of 1."
   ]
  },
  {
   "cell_type": "code",
   "execution_count": null,
   "id": "1b911de8",
   "metadata": {},
   "outputs": [],
   "source": []
  }
 ],
 "metadata": {
  "kernelspec": {
   "display_name": "Python 3 (ipykernel)",
   "language": "python",
   "name": "python3"
  },
  "language_info": {
   "codemirror_mode": {
    "name": "ipython",
    "version": 3
   },
   "file_extension": ".py",
   "mimetype": "text/x-python",
   "name": "python",
   "nbconvert_exporter": "python",
   "pygments_lexer": "ipython3",
   "version": "3.9.12"
  }
 },
 "nbformat": 4,
 "nbformat_minor": 5
}
