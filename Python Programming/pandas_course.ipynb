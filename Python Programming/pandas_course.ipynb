{
 "cells": [
  {
   "cell_type": "markdown",
   "id": "f4f118ba",
   "metadata": {},
   "source": [
    "### Pandas\n",
    "\n",
    "Pandas is a common Python library which provides a wide range of functionalities for data manipulation and data analysis.\n",
    "\n",
    "It is mostly used in data analytics, data science, machine learning and many more.\n",
    "\n",
    "Pandas has two primary data structures known as **series** and **DataFrame**."
   ]
  },
  {
   "cell_type": "markdown",
   "id": "ef41fe9e",
   "metadata": {},
   "source": [
    "### Installation of Pandas"
   ]
  },
  {
   "cell_type": "markdown",
   "id": "9be0c728",
   "metadata": {},
   "source": [
    "The numpy library can be installed using the following:"
   ]
  },
  {
   "cell_type": "markdown",
   "id": "35123f40",
   "metadata": {},
   "source": [
    "\n",
    "**1. Command Prompt**\n",
    "\n",
    "- Launch the command prompt\n",
    "- Type the code below to install the pandas library\n",
    "\n",
    "`pip install pandas`\n"
   ]
  },
  {
   "cell_type": "markdown",
   "id": "991dc0f8",
   "metadata": {},
   "source": [
    "\n",
    "**2. Anaconda Terminal**\n",
    "\n",
    "- Launch the anaconda terminal\n",
    "- Type the code below to install the pandas library\n",
    "\n",
    "`conda install pandas`\n"
   ]
  },
  {
   "cell_type": "markdown",
   "id": "7a39d3cd",
   "metadata": {},
   "source": [
    "### Using Numpy"
   ]
  },
  {
   "cell_type": "markdown",
   "id": "35472d3c",
   "metadata": {},
   "source": [
    "To use the pandas library import the pandas library using:\n",
    "\n",
    "`import pandas as pd`"
   ]
  },
  {
   "cell_type": "markdown",
   "id": "3cf13366",
   "metadata": {},
   "source": [
    "The **pd** is the popular alias for the pandas library."
   ]
  },
  {
   "cell_type": "code",
   "execution_count": 1,
   "id": "b255274d",
   "metadata": {},
   "outputs": [],
   "source": [
    "import pandas as pd"
   ]
  },
  {
   "cell_type": "markdown",
   "id": "2876842f",
   "metadata": {},
   "source": [
    "### Series\n",
    "\n",
    "A series is a 1D array that can hold data of any type such as integers, float etc\n",
    "\n",
    "A pandas Series can be created from a list, numpy array, dictionary, from a file or database and many more\n",
    "\n",
    "The structre for creating a Deries is :\n",
    "\n",
    "`pd.Series(data)`"
   ]
  },
  {
   "cell_type": "markdown",
   "id": "4ca6d7e4",
   "metadata": {},
   "source": [
    "#### A Series from a list"
   ]
  },
  {
   "cell_type": "code",
   "execution_count": 35,
   "id": "a928862b",
   "metadata": {},
   "outputs": [
    {
     "data": {
      "text/plain": [
       "0    1\n",
       "1    2\n",
       "2    3\n",
       "3    4\n",
       "4    5\n",
       "Name: numbers, dtype: int64"
      ]
     },
     "execution_count": 35,
     "metadata": {},
     "output_type": "execute_result"
    }
   ],
   "source": [
    "num_1 = [1,2,3,4,5]\n",
    "num_1_series =pd.Series(num_1, name=\"numbers\")\n",
    "num_1_series"
   ]
  },
  {
   "cell_type": "code",
   "execution_count": 36,
   "id": "d54c99ae",
   "metadata": {},
   "outputs": [
    {
     "data": {
      "text/plain": [
       "pandas.core.series.Series"
      ]
     },
     "execution_count": 36,
     "metadata": {},
     "output_type": "execute_result"
    }
   ],
   "source": [
    "type(num_1_series)"
   ]
  },
  {
   "cell_type": "code",
   "execution_count": 37,
   "id": "d106e8fc",
   "metadata": {},
   "outputs": [
    {
     "data": {
      "text/plain": [
       "(5,)"
      ]
     },
     "execution_count": 37,
     "metadata": {},
     "output_type": "execute_result"
    }
   ],
   "source": [
    "num_1_series.shape"
   ]
  },
  {
   "cell_type": "code",
   "execution_count": 38,
   "id": "819639d7",
   "metadata": {},
   "outputs": [
    {
     "data": {
      "text/plain": [
       "'numbers'"
      ]
     },
     "execution_count": 38,
     "metadata": {},
     "output_type": "execute_result"
    }
   ],
   "source": [
    "num_1_series.name"
   ]
  },
  {
   "cell_type": "code",
   "execution_count": 39,
   "id": "8ffaa363",
   "metadata": {},
   "outputs": [
    {
     "data": {
      "text/plain": [
       "RangeIndex(start=0, stop=5, step=1)"
      ]
     },
     "execution_count": 39,
     "metadata": {},
     "output_type": "execute_result"
    }
   ],
   "source": [
    "num_1_series.index"
   ]
  },
  {
   "cell_type": "code",
   "execution_count": 40,
   "id": "2dd24e2f",
   "metadata": {},
   "outputs": [
    {
     "data": {
      "text/plain": [
       "5"
      ]
     },
     "execution_count": 40,
     "metadata": {},
     "output_type": "execute_result"
    }
   ],
   "source": [
    "len(num_1_series)"
   ]
  },
  {
   "cell_type": "code",
   "execution_count": 41,
   "id": "d594dd5b",
   "metadata": {},
   "outputs": [],
   "source": [
    "#Renaming the index of num_1_series\n",
    "num_1_series.index = [\"a\",\"b\",\"c\",\"d\",\"e\"]"
   ]
  },
  {
   "cell_type": "code",
   "execution_count": 42,
   "id": "1f8ab314",
   "metadata": {},
   "outputs": [
    {
     "data": {
      "text/plain": [
       "a    1\n",
       "b    2\n",
       "c    3\n",
       "d    4\n",
       "e    5\n",
       "Name: numbers, dtype: int64"
      ]
     },
     "execution_count": 42,
     "metadata": {},
     "output_type": "execute_result"
    }
   ],
   "source": [
    "num_1_series"
   ]
  },
  {
   "cell_type": "code",
   "execution_count": 43,
   "id": "477328ab",
   "metadata": {},
   "outputs": [
    {
     "data": {
      "text/plain": [
       "Index(['a', 'b', 'c', 'd', 'e'], dtype='object')"
      ]
     },
     "execution_count": 43,
     "metadata": {},
     "output_type": "execute_result"
    }
   ],
   "source": [
    "num_1_series.index"
   ]
  },
  {
   "cell_type": "markdown",
   "id": "0b53bc6b",
   "metadata": {},
   "source": [
    "#### A Series from a dictionary"
   ]
  },
  {
   "cell_type": "code",
   "execution_count": 44,
   "id": "2d15bac5",
   "metadata": {},
   "outputs": [
    {
     "data": {
      "text/plain": [
       "Greater Accra         Accra\n",
       "Ashanti              Kumasi\n",
       "Central          Cape Coast\n",
       "Name: regions, dtype: object"
      ]
     },
     "execution_count": 44,
     "metadata": {},
     "output_type": "execute_result"
    }
   ],
   "source": [
    "# The keys of the dictionary serves as the index of the Series. \n",
    "# The values of the dictionary serves as the values of the Series. \n",
    "\n",
    "regions_capitals ={\"Greater Accra\":\"Accra\",\"Ashanti\":\"Kumasi\", \"Central\":\"Cape Coast\"}\n",
    "regions_capitals\n",
    "regions_capitals_series=pd.Series(regions_capitals, name=\"regions\")\n",
    "regions_capitals_series"
   ]
  },
  {
   "cell_type": "code",
   "execution_count": 45,
   "id": "49cd50ca",
   "metadata": {},
   "outputs": [
    {
     "data": {
      "text/plain": [
       "Index(['Greater Accra', 'Ashanti', 'Central'], dtype='object')"
      ]
     },
     "execution_count": 45,
     "metadata": {},
     "output_type": "execute_result"
    }
   ],
   "source": [
    "regions_capitals_series.index"
   ]
  },
  {
   "cell_type": "code",
   "execution_count": 46,
   "id": "467c7267",
   "metadata": {
    "scrolled": true
   },
   "outputs": [
    {
     "data": {
      "text/plain": [
       "array(['Accra', 'Kumasi', 'Cape Coast'], dtype=object)"
      ]
     },
     "execution_count": 46,
     "metadata": {},
     "output_type": "execute_result"
    }
   ],
   "source": [
    "regions_capitals_series.values"
   ]
  },
  {
   "cell_type": "code",
   "execution_count": 47,
   "id": "fc9129af",
   "metadata": {},
   "outputs": [
    {
     "data": {
      "text/plain": [
       "age       [12, 15, 22, 33, 55, 22]\n",
       "number          [1, 2, 3, 4, 5, 6]\n",
       "Name: ages, dtype: object"
      ]
     },
     "execution_count": 47,
     "metadata": {},
     "output_type": "execute_result"
    }
   ],
   "source": [
    "ages ={\"age\":[12,15,22,33,55,22], \"number\":[1,2,3,4,5,6]}\n",
    "ages_series = pd.Series(ages, name=\"ages\")\n",
    "ages_series"
   ]
  },
  {
   "cell_type": "markdown",
   "id": "6519c744",
   "metadata": {},
   "source": [
    "#### A Series from a numpy array"
   ]
  },
  {
   "cell_type": "code",
   "execution_count": 48,
   "id": "69f0a3d8",
   "metadata": {},
   "outputs": [],
   "source": [
    "import numpy as np"
   ]
  },
  {
   "cell_type": "code",
   "execution_count": 49,
   "id": "3f65d470",
   "metadata": {},
   "outputs": [],
   "source": [
    "years = np.array([2019,2020,2021,2022,2023])\n",
    "\n",
    "years_series = pd.Series(years, index=[1,2,3,4,5], name=\"years\" )"
   ]
  },
  {
   "cell_type": "code",
   "execution_count": 50,
   "id": "3c0d415a",
   "metadata": {},
   "outputs": [
    {
     "data": {
      "text/plain": [
       "'years'"
      ]
     },
     "execution_count": 50,
     "metadata": {},
     "output_type": "execute_result"
    }
   ],
   "source": [
    "years_series.name"
   ]
  },
  {
   "cell_type": "code",
   "execution_count": 51,
   "id": "b4f681d9",
   "metadata": {},
   "outputs": [
    {
     "data": {
      "text/plain": [
       "1    2019\n",
       "2    2020\n",
       "3    2021\n",
       "4    2022\n",
       "5    2023\n",
       "Name: years, dtype: int32"
      ]
     },
     "execution_count": 51,
     "metadata": {},
     "output_type": "execute_result"
    }
   ],
   "source": [
    "years_series"
   ]
  },
  {
   "cell_type": "markdown",
   "id": "d9eeea74",
   "metadata": {},
   "source": [
    "#### A series from a scalar"
   ]
  },
  {
   "cell_type": "code",
   "execution_count": 53,
   "id": "41e272a3",
   "metadata": {},
   "outputs": [
    {
     "data": {
      "text/plain": [
       "1    12\n",
       "2    12\n",
       "3    12\n",
       "4    12\n",
       "5    12\n",
       "dtype: int64"
      ]
     },
     "execution_count": 53,
     "metadata": {},
     "output_type": "execute_result"
    }
   ],
   "source": [
    "scalar_series =pd.Series(12, index=list(range(1,6)))\n",
    "scalar_series"
   ]
  },
  {
   "cell_type": "markdown",
   "id": "5a34321c",
   "metadata": {},
   "source": [
    "### Series Indexing and Slicing"
   ]
  },
  {
   "cell_type": "code",
   "execution_count": 69,
   "id": "6d465448",
   "metadata": {},
   "outputs": [],
   "source": [
    "countries = [\"Ghana\", \"Nigeria\", \"Togo\",\"Benin\", \"Niger\"]\n",
    "countries_series =pd.Series(countries, name= \"countries\", index= list(range(1,6)))"
   ]
  },
  {
   "cell_type": "code",
   "execution_count": 74,
   "id": "a7864ad8",
   "metadata": {},
   "outputs": [
    {
     "data": {
      "text/plain": [
       "1      Ghana\n",
       "2    Nigeria\n",
       "3       Togo\n",
       "4      Benin\n",
       "5      Niger\n",
       "Name: countries, dtype: object"
      ]
     },
     "execution_count": 74,
     "metadata": {},
     "output_type": "execute_result"
    }
   ],
   "source": [
    "countries_series"
   ]
  },
  {
   "cell_type": "code",
   "execution_count": 77,
   "id": "e4567a64",
   "metadata": {},
   "outputs": [
    {
     "data": {
      "text/plain": [
       "'Ghana'"
      ]
     },
     "execution_count": 77,
     "metadata": {},
     "output_type": "execute_result"
    }
   ],
   "source": [
    "countries_series[1]"
   ]
  },
  {
   "cell_type": "code",
   "execution_count": 78,
   "id": "19beb29a",
   "metadata": {},
   "outputs": [
    {
     "data": {
      "text/plain": [
       "'Niger'"
      ]
     },
     "execution_count": 78,
     "metadata": {},
     "output_type": "execute_result"
    }
   ],
   "source": [
    "countries_series[5]"
   ]
  },
  {
   "cell_type": "code",
   "execution_count": 83,
   "id": "0f506762",
   "metadata": {},
   "outputs": [
    {
     "data": {
      "text/plain": [
       "3     Togo\n",
       "4    Benin\n",
       "Name: countries, dtype: object"
      ]
     },
     "execution_count": 83,
     "metadata": {},
     "output_type": "execute_result"
    }
   ],
   "source": [
    "countries_series[2:4]"
   ]
  },
  {
   "cell_type": "code",
   "execution_count": 84,
   "id": "cf85a701",
   "metadata": {},
   "outputs": [
    {
     "data": {
      "text/plain": [
       "4    Benin\n",
       "5    Niger\n",
       "Name: countries, dtype: object"
      ]
     },
     "execution_count": 84,
     "metadata": {},
     "output_type": "execute_result"
    }
   ],
   "source": [
    "countries_series[3:5]"
   ]
  },
  {
   "cell_type": "code",
   "execution_count": 85,
   "id": "2c3da706",
   "metadata": {},
   "outputs": [
    {
     "data": {
      "text/plain": [
       "4    Benin\n",
       "5    Niger\n",
       "Name: countries, dtype: object"
      ]
     },
     "execution_count": 85,
     "metadata": {},
     "output_type": "execute_result"
    }
   ],
   "source": [
    "countries_series[3:]"
   ]
  },
  {
   "cell_type": "code",
   "execution_count": 87,
   "id": "1b493dfe",
   "metadata": {},
   "outputs": [
    {
     "data": {
      "text/plain": [
       "'Benin'"
      ]
     },
     "execution_count": 87,
     "metadata": {},
     "output_type": "execute_result"
    }
   ],
   "source": [
    "#Using the get method for indexing\n",
    "countries_series.get(4)"
   ]
  },
  {
   "cell_type": "code",
   "execution_count": 89,
   "id": "3a69d5cd",
   "metadata": {},
   "outputs": [
    {
     "data": {
      "text/plain": [
       "'Nigeria'"
      ]
     },
     "execution_count": 89,
     "metadata": {},
     "output_type": "execute_result"
    }
   ],
   "source": [
    "countries_series.get(2)"
   ]
  },
  {
   "cell_type": "code",
   "execution_count": 92,
   "id": "6ad46b24",
   "metadata": {},
   "outputs": [],
   "source": [
    "#returns none\n",
    "countries_series.get(6)"
   ]
  },
  {
   "cell_type": "code",
   "execution_count": null,
   "id": "9178ccf6",
   "metadata": {},
   "outputs": [],
   "source": []
  }
 ],
 "metadata": {
  "kernelspec": {
   "display_name": "Python 3 (ipykernel)",
   "language": "python",
   "name": "python3"
  },
  "language_info": {
   "codemirror_mode": {
    "name": "ipython",
    "version": 3
   },
   "file_extension": ".py",
   "mimetype": "text/x-python",
   "name": "python",
   "nbconvert_exporter": "python",
   "pygments_lexer": "ipython3",
   "version": "3.9.12"
  }
 },
 "nbformat": 4,
 "nbformat_minor": 5
}
