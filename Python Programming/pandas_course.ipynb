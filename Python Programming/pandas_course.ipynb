{
 "cells": [
  {
   "cell_type": "markdown",
   "id": "f4f118ba",
   "metadata": {},
   "source": [
    "### Pandas\n",
    "\n",
    "Pandas is a common Python library which provides a wide range of functionalities for data manipulation and data analysis.\n",
    "\n",
    "It is mostly used in data analytics, data science, machine learning and many more.\n",
    "\n",
    "Pandas has two primary data structures known as **series** and **DataFrame**."
   ]
  },
  {
   "cell_type": "markdown",
   "id": "ef41fe9e",
   "metadata": {},
   "source": [
    "### Installation of Pandas"
   ]
  },
  {
   "cell_type": "markdown",
   "id": "9be0c728",
   "metadata": {},
   "source": [
    "The numpy library can be installed using the following:"
   ]
  },
  {
   "cell_type": "markdown",
   "id": "35123f40",
   "metadata": {},
   "source": [
    "\n",
    "**1. Command Prompt**\n",
    "\n",
    "- Launch the command prompt\n",
    "- Type the code below to install the pandas library\n",
    "\n",
    "`pip install pandas`\n"
   ]
  },
  {
   "cell_type": "markdown",
   "id": "991dc0f8",
   "metadata": {},
   "source": [
    "\n",
    "**2. Anaconda Terminal**\n",
    "\n",
    "- Launch the anaconda terminal\n",
    "- Type the code below to install the pandas library\n",
    "\n",
    "`conda install pandas`\n"
   ]
  },
  {
   "cell_type": "markdown",
   "id": "7a39d3cd",
   "metadata": {},
   "source": [
    "### Using Numpy"
   ]
  },
  {
   "cell_type": "markdown",
   "id": "8494d34e",
   "metadata": {},
   "source": [
    "To use the pandas library import the pandas library using:\n",
    "\n",
    "`import pandas as pd`"
   ]
  },
  {
   "cell_type": "markdown",
   "id": "eb28feb3",
   "metadata": {},
   "source": [
    "The **pd** is the popular alias for the pandas library."
   ]
  },
  {
   "cell_type": "code",
   "execution_count": 1,
   "id": "173dcca9",
   "metadata": {},
   "outputs": [],
   "source": [
    "import pandas as pd"
   ]
  },
  {
   "cell_type": "markdown",
   "id": "e5deb0b6",
   "metadata": {},
   "source": [
    "### Series\n",
    "\n",
    "A series is a 1D array that can hold data of any type such as integers, float etc\n",
    "\n",
    "A pandas Series can be created from a list, numpy array, dictionary, from a file or database and many more\n",
    "\n",
    "The structre for creating a Deries is :\n",
    "\n",
    "`pd.Series(data)`"
   ]
  },
  {
   "cell_type": "markdown",
   "id": "1a21d78f",
   "metadata": {},
   "source": [
    "#### A Series from a list"
   ]
  },
  {
   "cell_type": "code",
   "execution_count": 2,
   "id": "e68f36e1",
   "metadata": {},
   "outputs": [
    {
     "data": {
      "text/plain": [
       "0    1\n",
       "1    2\n",
       "2    3\n",
       "3    4\n",
       "4    5\n",
       "Name: numbers, dtype: int64"
      ]
     },
     "execution_count": 2,
     "metadata": {},
     "output_type": "execute_result"
    }
   ],
   "source": [
    "num_1 = [1,2,3,4,5]\n",
    "num_1_series =pd.Series(num_1, name=\"numbers\")\n",
    "num_1_series"
   ]
  },
  {
   "cell_type": "code",
   "execution_count": 3,
   "id": "91e766f3",
   "metadata": {},
   "outputs": [
    {
     "data": {
      "text/plain": [
       "pandas.core.series.Series"
      ]
     },
     "execution_count": 3,
     "metadata": {},
     "output_type": "execute_result"
    }
   ],
   "source": [
    "type(num_1_series)"
   ]
  },
  {
   "cell_type": "code",
   "execution_count": 4,
   "id": "7cfb2ec1",
   "metadata": {},
   "outputs": [
    {
     "data": {
      "text/plain": [
       "(5,)"
      ]
     },
     "execution_count": 4,
     "metadata": {},
     "output_type": "execute_result"
    }
   ],
   "source": [
    "num_1_series.shape"
   ]
  },
  {
   "cell_type": "code",
   "execution_count": 5,
   "id": "9163ba0d",
   "metadata": {},
   "outputs": [
    {
     "data": {
      "text/plain": [
       "'numbers'"
      ]
     },
     "execution_count": 5,
     "metadata": {},
     "output_type": "execute_result"
    }
   ],
   "source": [
    "num_1_series.name"
   ]
  },
  {
   "cell_type": "code",
   "execution_count": 6,
   "id": "baa6b5de",
   "metadata": {},
   "outputs": [
    {
     "data": {
      "text/plain": [
       "RangeIndex(start=0, stop=5, step=1)"
      ]
     },
     "execution_count": 6,
     "metadata": {},
     "output_type": "execute_result"
    }
   ],
   "source": [
    "num_1_series.index"
   ]
  },
  {
   "cell_type": "code",
   "execution_count": 7,
   "id": "355b537e",
   "metadata": {},
   "outputs": [
    {
     "data": {
      "text/plain": [
       "5"
      ]
     },
     "execution_count": 7,
     "metadata": {},
     "output_type": "execute_result"
    }
   ],
   "source": [
    "len(num_1_series)"
   ]
  },
  {
   "cell_type": "code",
   "execution_count": 8,
   "id": "2771936c",
   "metadata": {},
   "outputs": [],
   "source": [
    "#Renaming the index of num_1_series\n",
    "num_1_series.index = [\"a\",\"b\",\"c\",\"d\",\"e\"]"
   ]
  },
  {
   "cell_type": "code",
   "execution_count": 9,
   "id": "2f744915",
   "metadata": {},
   "outputs": [
    {
     "data": {
      "text/plain": [
       "a    1\n",
       "b    2\n",
       "c    3\n",
       "d    4\n",
       "e    5\n",
       "Name: numbers, dtype: int64"
      ]
     },
     "execution_count": 9,
     "metadata": {},
     "output_type": "execute_result"
    }
   ],
   "source": [
    "num_1_series"
   ]
  },
  {
   "cell_type": "code",
   "execution_count": 10,
   "id": "945b3c4a",
   "metadata": {},
   "outputs": [
    {
     "data": {
      "text/plain": [
       "Index(['a', 'b', 'c', 'd', 'e'], dtype='object')"
      ]
     },
     "execution_count": 10,
     "metadata": {},
     "output_type": "execute_result"
    }
   ],
   "source": [
    "num_1_series.index"
   ]
  },
  {
   "cell_type": "markdown",
   "id": "59b783f0",
   "metadata": {},
   "source": [
    "#### A Series from a dictionary"
   ]
  },
  {
   "cell_type": "code",
   "execution_count": 11,
   "id": "962faf34",
   "metadata": {},
   "outputs": [
    {
     "data": {
      "text/plain": [
       "Greater Accra         Accra\n",
       "Ashanti              Kumasi\n",
       "Central          Cape Coast\n",
       "Name: regions, dtype: object"
      ]
     },
     "execution_count": 11,
     "metadata": {},
     "output_type": "execute_result"
    }
   ],
   "source": [
    "# The keys of the dictionary serves as the index of the Series. \n",
    "# The values of the dictionary serves as the values of the Series. \n",
    "\n",
    "regions_capitals ={\"Greater Accra\":\"Accra\",\"Ashanti\":\"Kumasi\", \"Central\":\"Cape Coast\"}\n",
    "regions_capitals\n",
    "regions_capitals_series=pd.Series(regions_capitals, name=\"regions\")\n",
    "regions_capitals_series"
   ]
  },
  {
   "cell_type": "code",
   "execution_count": 12,
   "id": "7fbf5480",
   "metadata": {},
   "outputs": [
    {
     "data": {
      "text/plain": [
       "Index(['Greater Accra', 'Ashanti', 'Central'], dtype='object')"
      ]
     },
     "execution_count": 12,
     "metadata": {},
     "output_type": "execute_result"
    }
   ],
   "source": [
    "regions_capitals_series.index"
   ]
  },
  {
   "cell_type": "code",
   "execution_count": 13,
   "id": "c9759034",
   "metadata": {
    "scrolled": true
   },
   "outputs": [
    {
     "data": {
      "text/plain": [
       "array(['Accra', 'Kumasi', 'Cape Coast'], dtype=object)"
      ]
     },
     "execution_count": 13,
     "metadata": {},
     "output_type": "execute_result"
    }
   ],
   "source": [
    "regions_capitals_series.values"
   ]
  },
  {
   "cell_type": "code",
   "execution_count": 14,
   "id": "e109a829",
   "metadata": {},
   "outputs": [
    {
     "data": {
      "text/plain": [
       "age       [12, 15, 22, 33, 55, 22]\n",
       "number          [1, 2, 3, 4, 5, 6]\n",
       "Name: ages, dtype: object"
      ]
     },
     "execution_count": 14,
     "metadata": {},
     "output_type": "execute_result"
    }
   ],
   "source": [
    "ages ={\"age\":[12,15,22,33,55,22], \"number\":[1,2,3,4,5,6]}\n",
    "ages_series = pd.Series(ages, name=\"ages\")\n",
    "ages_series"
   ]
  },
  {
   "cell_type": "markdown",
   "id": "947d8775",
   "metadata": {},
   "source": [
    "#### A Series from a numpy array"
   ]
  },
  {
   "cell_type": "code",
   "execution_count": 15,
   "id": "935d169d",
   "metadata": {},
   "outputs": [],
   "source": [
    "import numpy as np"
   ]
  },
  {
   "cell_type": "code",
   "execution_count": 16,
   "id": "03b1f28a",
   "metadata": {},
   "outputs": [],
   "source": [
    "years = np.array([2019,2020,2021,2022,2023])\n",
    "\n",
    "years_series = pd.Series(years, index=[1,2,3,4,5], name=\"years\" )"
   ]
  },
  {
   "cell_type": "code",
   "execution_count": 17,
   "id": "cbee2eb0",
   "metadata": {},
   "outputs": [
    {
     "data": {
      "text/plain": [
       "'years'"
      ]
     },
     "execution_count": 17,
     "metadata": {},
     "output_type": "execute_result"
    }
   ],
   "source": [
    "years_series.name"
   ]
  },
  {
   "cell_type": "code",
   "execution_count": 18,
   "id": "dcbebbc1",
   "metadata": {},
   "outputs": [
    {
     "data": {
      "text/plain": [
       "1    2019\n",
       "2    2020\n",
       "3    2021\n",
       "4    2022\n",
       "5    2023\n",
       "Name: years, dtype: int32"
      ]
     },
     "execution_count": 18,
     "metadata": {},
     "output_type": "execute_result"
    }
   ],
   "source": [
    "years_series"
   ]
  },
  {
   "cell_type": "markdown",
   "id": "8f7cd5d9",
   "metadata": {},
   "source": [
    "#### A series from a scalar"
   ]
  },
  {
   "cell_type": "code",
   "execution_count": 19,
   "id": "90154d33",
   "metadata": {},
   "outputs": [
    {
     "data": {
      "text/plain": [
       "1    12\n",
       "2    12\n",
       "3    12\n",
       "4    12\n",
       "5    12\n",
       "dtype: int64"
      ]
     },
     "execution_count": 19,
     "metadata": {},
     "output_type": "execute_result"
    }
   ],
   "source": [
    "scalar_series =pd.Series(12, index=list(range(1,6)))\n",
    "scalar_series"
   ]
  },
  {
   "cell_type": "markdown",
   "id": "7c2b0b5b",
   "metadata": {},
   "source": [
    "### Series Indexing and Slicing"
   ]
  },
  {
   "cell_type": "code",
   "execution_count": 20,
   "id": "9811021e",
   "metadata": {},
   "outputs": [],
   "source": [
    "countries = [\"Ghana\", \"Nigeria\", \"Togo\",\"Benin\", \"Niger\"]\n",
    "countries_series =pd.Series(countries, name= \"countries\", index= list(range(1,6)))"
   ]
  },
  {
   "cell_type": "code",
   "execution_count": 21,
   "id": "328a029d",
   "metadata": {},
   "outputs": [
    {
     "data": {
      "text/plain": [
       "1      Ghana\n",
       "2    Nigeria\n",
       "3       Togo\n",
       "4      Benin\n",
       "5      Niger\n",
       "Name: countries, dtype: object"
      ]
     },
     "execution_count": 21,
     "metadata": {},
     "output_type": "execute_result"
    }
   ],
   "source": [
    "countries_series"
   ]
  },
  {
   "cell_type": "code",
   "execution_count": 22,
   "id": "e6b29bd7",
   "metadata": {},
   "outputs": [
    {
     "data": {
      "text/plain": [
       "'Ghana'"
      ]
     },
     "execution_count": 22,
     "metadata": {},
     "output_type": "execute_result"
    }
   ],
   "source": [
    "countries_series[1]"
   ]
  },
  {
   "cell_type": "code",
   "execution_count": 23,
   "id": "13d2e174",
   "metadata": {},
   "outputs": [
    {
     "data": {
      "text/plain": [
       "'Niger'"
      ]
     },
     "execution_count": 23,
     "metadata": {},
     "output_type": "execute_result"
    }
   ],
   "source": [
    "countries_series[5]"
   ]
  },
  {
   "cell_type": "code",
   "execution_count": 24,
   "id": "0ecdaf84",
   "metadata": {},
   "outputs": [
    {
     "data": {
      "text/plain": [
       "3     Togo\n",
       "4    Benin\n",
       "Name: countries, dtype: object"
      ]
     },
     "execution_count": 24,
     "metadata": {},
     "output_type": "execute_result"
    }
   ],
   "source": [
    "countries_series[2:4]"
   ]
  },
  {
   "cell_type": "code",
   "execution_count": 25,
   "id": "4dd9f2d9",
   "metadata": {},
   "outputs": [
    {
     "data": {
      "text/plain": [
       "4    Benin\n",
       "5    Niger\n",
       "Name: countries, dtype: object"
      ]
     },
     "execution_count": 25,
     "metadata": {},
     "output_type": "execute_result"
    }
   ],
   "source": [
    "countries_series[3:5]"
   ]
  },
  {
   "cell_type": "code",
   "execution_count": 26,
   "id": "6c001571",
   "metadata": {},
   "outputs": [
    {
     "data": {
      "text/plain": [
       "4    Benin\n",
       "5    Niger\n",
       "Name: countries, dtype: object"
      ]
     },
     "execution_count": 26,
     "metadata": {},
     "output_type": "execute_result"
    }
   ],
   "source": [
    "countries_series[3:]"
   ]
  },
  {
   "cell_type": "markdown",
   "id": "bdc89c39",
   "metadata": {},
   "source": [
    "The `get` method is used to retrieve a value from a  series based on the specific index.\n",
    "\n",
    "The get method returns None uf the specified index is not found in the series."
   ]
  },
  {
   "cell_type": "code",
   "execution_count": 27,
   "id": "0cd9e28b",
   "metadata": {},
   "outputs": [
    {
     "data": {
      "text/plain": [
       "'Benin'"
      ]
     },
     "execution_count": 27,
     "metadata": {},
     "output_type": "execute_result"
    }
   ],
   "source": [
    "#Using the get method for indexing\n",
    "countries_series.get(4)"
   ]
  },
  {
   "cell_type": "code",
   "execution_count": 28,
   "id": "a6260bab",
   "metadata": {},
   "outputs": [
    {
     "data": {
      "text/plain": [
       "'Nigeria'"
      ]
     },
     "execution_count": 28,
     "metadata": {},
     "output_type": "execute_result"
    }
   ],
   "source": [
    "countries_series.get(2)"
   ]
  },
  {
   "cell_type": "code",
   "execution_count": 29,
   "id": "f70ca930",
   "metadata": {},
   "outputs": [],
   "source": [
    "#returns none\n",
    "countries_series.get(6)"
   ]
  },
  {
   "cell_type": "markdown",
   "id": "5884662c",
   "metadata": {},
   "source": [
    "#### iloc method\n",
    "\n",
    "The iloc method can be used to index a series.\n",
    "\n",
    "The iloc method takes an integer index as its argument, starting from 0 for the first element, and to access the element at that index.\n",
    "\n",
    "The iloc method can be used to index a range of elements in the series."
   ]
  },
  {
   "cell_type": "code",
   "execution_count": 30,
   "id": "74296a4c",
   "metadata": {},
   "outputs": [
    {
     "data": {
      "text/plain": [
       "1      Ghana\n",
       "2    Nigeria\n",
       "3       Togo\n",
       "4      Benin\n",
       "5      Niger\n",
       "Name: countries, dtype: object"
      ]
     },
     "execution_count": 30,
     "metadata": {},
     "output_type": "execute_result"
    }
   ],
   "source": [
    "countries_series"
   ]
  },
  {
   "cell_type": "code",
   "execution_count": 31,
   "id": "61e0b127",
   "metadata": {},
   "outputs": [
    {
     "data": {
      "text/plain": [
       "'Nigeria'"
      ]
     },
     "execution_count": 31,
     "metadata": {},
     "output_type": "execute_result"
    }
   ],
   "source": [
    "countries_series.iloc[1]"
   ]
  },
  {
   "cell_type": "code",
   "execution_count": 32,
   "id": "e68f9473",
   "metadata": {},
   "outputs": [],
   "source": [
    "# This error will throw an error\n",
    "# countries_series.iloc[5]"
   ]
  },
  {
   "cell_type": "code",
   "execution_count": 33,
   "id": "3c4c4884",
   "metadata": {},
   "outputs": [
    {
     "data": {
      "text/plain": [
       "'Ghana'"
      ]
     },
     "execution_count": 33,
     "metadata": {},
     "output_type": "execute_result"
    }
   ],
   "source": [
    "countries_series.loc[1]"
   ]
  },
  {
   "cell_type": "markdown",
   "id": "476081ca",
   "metadata": {},
   "source": [
    "**loc method**\n",
    "\n",
    "The loc  method id used to select data from a series based on label based indexing i.e data rows are selected based on the label of the index.\n"
   ]
  },
  {
   "cell_type": "code",
   "execution_count": 34,
   "id": "fe34a8e2",
   "metadata": {},
   "outputs": [
    {
     "data": {
      "text/plain": [
       "1      Ghana\n",
       "2    Nigeria\n",
       "3       Togo\n",
       "4      Benin\n",
       "5      Niger\n",
       "Name: countries, dtype: object"
      ]
     },
     "execution_count": 34,
     "metadata": {},
     "output_type": "execute_result"
    }
   ],
   "source": [
    "countries_series"
   ]
  },
  {
   "cell_type": "code",
   "execution_count": 35,
   "id": "2a3c3adb",
   "metadata": {},
   "outputs": [
    {
     "data": {
      "text/plain": [
       "'Ghana'"
      ]
     },
     "execution_count": 35,
     "metadata": {},
     "output_type": "execute_result"
    }
   ],
   "source": [
    "countries_series[1]"
   ]
  },
  {
   "cell_type": "code",
   "execution_count": 36,
   "id": "fb9dfd33",
   "metadata": {},
   "outputs": [
    {
     "data": {
      "text/plain": [
       "a      Ghana\n",
       "b    Nigeria\n",
       "c       Togo\n",
       "d      Benin\n",
       "e      Niger\n",
       "Name: countries, dtype: object"
      ]
     },
     "execution_count": 36,
     "metadata": {},
     "output_type": "execute_result"
    }
   ],
   "source": [
    "#Renaming the index of the series\n",
    "countries_series.index = [\"a\",\"b\",\"c\",\"d\",\"e\"]\n",
    "countries_series"
   ]
  },
  {
   "cell_type": "code",
   "execution_count": 37,
   "id": "f071ae55",
   "metadata": {},
   "outputs": [
    {
     "data": {
      "text/plain": [
       "'Ghana'"
      ]
     },
     "execution_count": 37,
     "metadata": {},
     "output_type": "execute_result"
    }
   ],
   "source": [
    "countries_series.loc[\"a\"]"
   ]
  },
  {
   "cell_type": "code",
   "execution_count": 38,
   "id": "a2729d74",
   "metadata": {},
   "outputs": [
    {
     "data": {
      "text/plain": [
       "'Benin'"
      ]
     },
     "execution_count": 38,
     "metadata": {},
     "output_type": "execute_result"
    }
   ],
   "source": [
    "countries_series.loc[\"d\"]"
   ]
  },
  {
   "cell_type": "code",
   "execution_count": 39,
   "id": "c9836a8e",
   "metadata": {},
   "outputs": [
    {
     "data": {
      "text/plain": [
       "a      Ghana\n",
       "b    Nigeria\n",
       "c       Togo\n",
       "d      Benin\n",
       "Name: countries, dtype: object"
      ]
     },
     "execution_count": 39,
     "metadata": {},
     "output_type": "execute_result"
    }
   ],
   "source": [
    "countries_series.loc[\"a\":\"d\"]"
   ]
  },
  {
   "cell_type": "code",
   "execution_count": 40,
   "id": "9ce332d4",
   "metadata": {},
   "outputs": [
    {
     "data": {
      "text/plain": [
       "c     Togo\n",
       "d    Benin\n",
       "e    Niger\n",
       "Name: countries, dtype: object"
      ]
     },
     "execution_count": 40,
     "metadata": {},
     "output_type": "execute_result"
    }
   ],
   "source": [
    "countries_series.loc[\"c\":\"e\"]"
   ]
  },
  {
   "cell_type": "code",
   "execution_count": 41,
   "id": "9f9642ea",
   "metadata": {},
   "outputs": [
    {
     "data": {
      "text/plain": [
       "a    Ghana\n",
       "c     Togo\n",
       "e    Niger\n",
       "Name: countries, dtype: object"
      ]
     },
     "execution_count": 41,
     "metadata": {},
     "output_type": "execute_result"
    }
   ],
   "source": [
    "# select multiple values using loc\n",
    "countries_series.loc[[\"a\",\"c\",\"e\"]]"
   ]
  },
  {
   "cell_type": "markdown",
   "id": "880447d0",
   "metadata": {},
   "source": [
    "### DataFrame"
   ]
  },
  {
   "cell_type": "markdown",
   "id": "d9b4482f",
   "metadata": {},
   "source": [
    "A DataFrame is a 2D table-like data structure used to store and manipulate tabular data.\n",
    "\n",
    "It consists of rows and columns where each column can be of different data type\n",
    "\n",
    "Dataframes can be created from Series, list, numpy arrays and dictionaries using the format below\n",
    "\n",
    "`pandas.DataFrame( data, index, columns, dtype, copy,...)`\n"
   ]
  },
  {
   "cell_type": "code",
   "execution_count": 42,
   "id": "ae09d94e",
   "metadata": {},
   "outputs": [
    {
     "data": {
      "text/html": [
       "<div>\n",
       "<style scoped>\n",
       "    .dataframe tbody tr th:only-of-type {\n",
       "        vertical-align: middle;\n",
       "    }\n",
       "\n",
       "    .dataframe tbody tr th {\n",
       "        vertical-align: top;\n",
       "    }\n",
       "\n",
       "    .dataframe thead th {\n",
       "        text-align: right;\n",
       "    }\n",
       "</style>\n",
       "<table border=\"1\" class=\"dataframe\">\n",
       "  <thead>\n",
       "    <tr style=\"text-align: right;\">\n",
       "      <th></th>\n",
       "      <th>Name</th>\n",
       "      <th>Rate</th>\n",
       "    </tr>\n",
       "  </thead>\n",
       "  <tbody>\n",
       "    <tr>\n",
       "      <th>1</th>\n",
       "      <td>Selasi</td>\n",
       "      <td>4</td>\n",
       "    </tr>\n",
       "    <tr>\n",
       "      <th>2</th>\n",
       "      <td>Frank</td>\n",
       "      <td>3</td>\n",
       "    </tr>\n",
       "    <tr>\n",
       "      <th>3</th>\n",
       "      <td>Precious</td>\n",
       "      <td>5</td>\n",
       "    </tr>\n",
       "    <tr>\n",
       "      <th>4</th>\n",
       "      <td>Richmond</td>\n",
       "      <td>2</td>\n",
       "    </tr>\n",
       "  </tbody>\n",
       "</table>\n",
       "</div>"
      ],
      "text/plain": [
       "       Name Rate\n",
       "1    Selasi    4\n",
       "2     Frank    3\n",
       "3  Precious    5\n",
       "4  Richmond    2"
      ]
     },
     "execution_count": 42,
     "metadata": {},
     "output_type": "execute_result"
    }
   ],
   "source": [
    "# DataFrame from Dictionary of Series\n",
    "data= {'Name' : pd.Series(['Selasi', 'Frank', 'Precious','Richmond'], index=[1,2,3,4]),\n",
    "       \n",
    "   'Rate' : pd.Series(['4', '3', '5', '2'], index=[1,2,3,4])}\n",
    "\n",
    "rating_df = pd.DataFrame(data)\n",
    "rating_df"
   ]
  },
  {
   "cell_type": "code",
   "execution_count": 43,
   "id": "2e61b502",
   "metadata": {},
   "outputs": [
    {
     "data": {
      "text/html": [
       "<div>\n",
       "<style scoped>\n",
       "    .dataframe tbody tr th:only-of-type {\n",
       "        vertical-align: middle;\n",
       "    }\n",
       "\n",
       "    .dataframe tbody tr th {\n",
       "        vertical-align: top;\n",
       "    }\n",
       "\n",
       "    .dataframe thead th {\n",
       "        text-align: right;\n",
       "    }\n",
       "</style>\n",
       "<table border=\"1\" class=\"dataframe\">\n",
       "  <thead>\n",
       "    <tr style=\"text-align: right;\">\n",
       "      <th></th>\n",
       "      <th>name</th>\n",
       "      <th>age</th>\n",
       "      <th>gender</th>\n",
       "    </tr>\n",
       "  </thead>\n",
       "  <tbody>\n",
       "    <tr>\n",
       "      <th>0</th>\n",
       "      <td>Jude</td>\n",
       "      <td>40</td>\n",
       "      <td>M</td>\n",
       "    </tr>\n",
       "    <tr>\n",
       "      <th>1</th>\n",
       "      <td>Bob</td>\n",
       "      <td>30</td>\n",
       "      <td>M</td>\n",
       "    </tr>\n",
       "    <tr>\n",
       "      <th>2</th>\n",
       "      <td>Jael</td>\n",
       "      <td>35</td>\n",
       "      <td>F</td>\n",
       "    </tr>\n",
       "  </tbody>\n",
       "</table>\n",
       "</div>"
      ],
      "text/plain": [
       "   name  age gender\n",
       "0  Jude   40      M\n",
       "1   Bob   30      M\n",
       "2  Jael   35      F"
      ]
     },
     "execution_count": 43,
     "metadata": {},
     "output_type": "execute_result"
    }
   ],
   "source": [
    "# DataFrame from Dictionary\n",
    "#The keys of the dictionary becomes the columns of the DataFrame\n",
    "students = {'name': ['Jude', 'Bob', 'Jael'], 'age': [40, 30, 35], 'gender': ['M', 'M', 'F']}\n",
    "students_df = pd.DataFrame(students)\n",
    "students_df"
   ]
  },
  {
   "cell_type": "code",
   "execution_count": 44,
   "id": "974b390d",
   "metadata": {},
   "outputs": [
    {
     "data": {
      "text/html": [
       "<div>\n",
       "<style scoped>\n",
       "    .dataframe tbody tr th:only-of-type {\n",
       "        vertical-align: middle;\n",
       "    }\n",
       "\n",
       "    .dataframe tbody tr th {\n",
       "        vertical-align: top;\n",
       "    }\n",
       "\n",
       "    .dataframe thead th {\n",
       "        text-align: right;\n",
       "    }\n",
       "</style>\n",
       "<table border=\"1\" class=\"dataframe\">\n",
       "  <thead>\n",
       "    <tr style=\"text-align: right;\">\n",
       "      <th></th>\n",
       "      <th>name</th>\n",
       "      <th>age</th>\n",
       "      <th>gender</th>\n",
       "    </tr>\n",
       "  </thead>\n",
       "  <tbody>\n",
       "    <tr>\n",
       "      <th>0</th>\n",
       "      <td>Alice</td>\n",
       "      <td>25</td>\n",
       "      <td>F</td>\n",
       "    </tr>\n",
       "    <tr>\n",
       "      <th>1</th>\n",
       "      <td>Mary</td>\n",
       "      <td>30</td>\n",
       "      <td>F</td>\n",
       "    </tr>\n",
       "    <tr>\n",
       "      <th>2</th>\n",
       "      <td>Sedem</td>\n",
       "      <td>35</td>\n",
       "      <td>M</td>\n",
       "    </tr>\n",
       "  </tbody>\n",
       "</table>\n",
       "</div>"
      ],
      "text/plain": [
       "    name  age gender\n",
       "0  Alice   25      F\n",
       "1   Mary   30      F\n",
       "2  Sedem   35      M"
      ]
     },
     "execution_count": 44,
     "metadata": {},
     "output_type": "execute_result"
    }
   ],
   "source": [
    "#DataFrame from list of Lists\n",
    "data = [['Alice', 25, 'F'], ['Mary', 30, 'F'], ['Sedem', 35, 'M']]\n",
    "data_df = pd.DataFrame(data,columns=['name', 'age', 'gender'])\n",
    "data_df"
   ]
  },
  {
   "cell_type": "markdown",
   "id": "ef0d33a3",
   "metadata": {},
   "source": [
    "#### Indexing and Slicing"
   ]
  },
  {
   "cell_type": "code",
   "execution_count": 45,
   "id": "f42bfb0e",
   "metadata": {},
   "outputs": [
    {
     "data": {
      "text/html": [
       "<div>\n",
       "<style scoped>\n",
       "    .dataframe tbody tr th:only-of-type {\n",
       "        vertical-align: middle;\n",
       "    }\n",
       "\n",
       "    .dataframe tbody tr th {\n",
       "        vertical-align: top;\n",
       "    }\n",
       "\n",
       "    .dataframe thead th {\n",
       "        text-align: right;\n",
       "    }\n",
       "</style>\n",
       "<table border=\"1\" class=\"dataframe\">\n",
       "  <thead>\n",
       "    <tr style=\"text-align: right;\">\n",
       "      <th></th>\n",
       "      <th>name</th>\n",
       "      <th>age</th>\n",
       "      <th>gender</th>\n",
       "    </tr>\n",
       "  </thead>\n",
       "  <tbody>\n",
       "    <tr>\n",
       "      <th>0</th>\n",
       "      <td>Alice</td>\n",
       "      <td>25</td>\n",
       "      <td>F</td>\n",
       "    </tr>\n",
       "    <tr>\n",
       "      <th>1</th>\n",
       "      <td>Mary</td>\n",
       "      <td>30</td>\n",
       "      <td>F</td>\n",
       "    </tr>\n",
       "    <tr>\n",
       "      <th>2</th>\n",
       "      <td>Sedem</td>\n",
       "      <td>35</td>\n",
       "      <td>M</td>\n",
       "    </tr>\n",
       "  </tbody>\n",
       "</table>\n",
       "</div>"
      ],
      "text/plain": [
       "    name  age gender\n",
       "0  Alice   25      F\n",
       "1   Mary   30      F\n",
       "2  Sedem   35      M"
      ]
     },
     "execution_count": 45,
     "metadata": {},
     "output_type": "execute_result"
    }
   ],
   "source": [
    "data_df"
   ]
  },
  {
   "cell_type": "code",
   "execution_count": 46,
   "id": "743f3733",
   "metadata": {},
   "outputs": [
    {
     "data": {
      "text/plain": [
       "0    25\n",
       "1    30\n",
       "2    35\n",
       "Name: age, dtype: int64"
      ]
     },
     "execution_count": 46,
     "metadata": {},
     "output_type": "execute_result"
    }
   ],
   "source": [
    "#Selecting a single column\n",
    "age_col = data_df[\"age\"]\n",
    "age_col"
   ]
  },
  {
   "cell_type": "code",
   "execution_count": 47,
   "id": "224fc62d",
   "metadata": {},
   "outputs": [
    {
     "data": {
      "text/plain": [
       "pandas.core.series.Series"
      ]
     },
     "execution_count": 47,
     "metadata": {},
     "output_type": "execute_result"
    }
   ],
   "source": [
    "# the type of age_col is a Series\n",
    "type(age_col)"
   ]
  },
  {
   "cell_type": "code",
   "execution_count": 48,
   "id": "1de17427",
   "metadata": {},
   "outputs": [
    {
     "data": {
      "text/html": [
       "<div>\n",
       "<style scoped>\n",
       "    .dataframe tbody tr th:only-of-type {\n",
       "        vertical-align: middle;\n",
       "    }\n",
       "\n",
       "    .dataframe tbody tr th {\n",
       "        vertical-align: top;\n",
       "    }\n",
       "\n",
       "    .dataframe thead th {\n",
       "        text-align: right;\n",
       "    }\n",
       "</style>\n",
       "<table border=\"1\" class=\"dataframe\">\n",
       "  <thead>\n",
       "    <tr style=\"text-align: right;\">\n",
       "      <th></th>\n",
       "      <th>age</th>\n",
       "    </tr>\n",
       "  </thead>\n",
       "  <tbody>\n",
       "    <tr>\n",
       "      <th>0</th>\n",
       "      <td>25</td>\n",
       "    </tr>\n",
       "    <tr>\n",
       "      <th>1</th>\n",
       "      <td>30</td>\n",
       "    </tr>\n",
       "    <tr>\n",
       "      <th>2</th>\n",
       "      <td>35</td>\n",
       "    </tr>\n",
       "  </tbody>\n",
       "</table>\n",
       "</div>"
      ],
      "text/plain": [
       "   age\n",
       "0   25\n",
       "1   30\n",
       "2   35"
      ]
     },
     "execution_count": 48,
     "metadata": {},
     "output_type": "execute_result"
    }
   ],
   "source": [
    "#Selecting a single column\n",
    "age_col2 = data_df[[\"age\"]]\n",
    "age_col2"
   ]
  },
  {
   "cell_type": "code",
   "execution_count": 49,
   "id": "ed5382eb",
   "metadata": {},
   "outputs": [
    {
     "data": {
      "text/plain": [
       "pandas.core.frame.DataFrame"
      ]
     },
     "execution_count": 49,
     "metadata": {},
     "output_type": "execute_result"
    }
   ],
   "source": [
    "# the type of age_col is a data Frame\n",
    "type(age_col2)"
   ]
  },
  {
   "cell_type": "code",
   "execution_count": 50,
   "id": "bcf3f410",
   "metadata": {},
   "outputs": [
    {
     "data": {
      "text/html": [
       "<div>\n",
       "<style scoped>\n",
       "    .dataframe tbody tr th:only-of-type {\n",
       "        vertical-align: middle;\n",
       "    }\n",
       "\n",
       "    .dataframe tbody tr th {\n",
       "        vertical-align: top;\n",
       "    }\n",
       "\n",
       "    .dataframe thead th {\n",
       "        text-align: right;\n",
       "    }\n",
       "</style>\n",
       "<table border=\"1\" class=\"dataframe\">\n",
       "  <thead>\n",
       "    <tr style=\"text-align: right;\">\n",
       "      <th></th>\n",
       "      <th>name</th>\n",
       "      <th>age</th>\n",
       "      <th>gender</th>\n",
       "    </tr>\n",
       "  </thead>\n",
       "  <tbody>\n",
       "    <tr>\n",
       "      <th>0</th>\n",
       "      <td>Alice</td>\n",
       "      <td>25</td>\n",
       "      <td>F</td>\n",
       "    </tr>\n",
       "    <tr>\n",
       "      <th>1</th>\n",
       "      <td>Mary</td>\n",
       "      <td>30</td>\n",
       "      <td>F</td>\n",
       "    </tr>\n",
       "    <tr>\n",
       "      <th>2</th>\n",
       "      <td>Sedem</td>\n",
       "      <td>35</td>\n",
       "      <td>M</td>\n",
       "    </tr>\n",
       "  </tbody>\n",
       "</table>\n",
       "</div>"
      ],
      "text/plain": [
       "    name  age gender\n",
       "0  Alice   25      F\n",
       "1   Mary   30      F\n",
       "2  Sedem   35      M"
      ]
     },
     "execution_count": 50,
     "metadata": {},
     "output_type": "execute_result"
    }
   ],
   "source": [
    "data_df"
   ]
  },
  {
   "cell_type": "code",
   "execution_count": 51,
   "id": "5a05555b",
   "metadata": {},
   "outputs": [
    {
     "data": {
      "text/html": [
       "<div>\n",
       "<style scoped>\n",
       "    .dataframe tbody tr th:only-of-type {\n",
       "        vertical-align: middle;\n",
       "    }\n",
       "\n",
       "    .dataframe tbody tr th {\n",
       "        vertical-align: top;\n",
       "    }\n",
       "\n",
       "    .dataframe thead th {\n",
       "        text-align: right;\n",
       "    }\n",
       "</style>\n",
       "<table border=\"1\" class=\"dataframe\">\n",
       "  <thead>\n",
       "    <tr style=\"text-align: right;\">\n",
       "      <th></th>\n",
       "      <th>name</th>\n",
       "      <th>age</th>\n",
       "    </tr>\n",
       "  </thead>\n",
       "  <tbody>\n",
       "    <tr>\n",
       "      <th>0</th>\n",
       "      <td>Alice</td>\n",
       "      <td>25</td>\n",
       "    </tr>\n",
       "    <tr>\n",
       "      <th>1</th>\n",
       "      <td>Mary</td>\n",
       "      <td>30</td>\n",
       "    </tr>\n",
       "    <tr>\n",
       "      <th>2</th>\n",
       "      <td>Sedem</td>\n",
       "      <td>35</td>\n",
       "    </tr>\n",
       "  </tbody>\n",
       "</table>\n",
       "</div>"
      ],
      "text/plain": [
       "    name  age\n",
       "0  Alice   25\n",
       "1   Mary   30\n",
       "2  Sedem   35"
      ]
     },
     "execution_count": 51,
     "metadata": {},
     "output_type": "execute_result"
    }
   ],
   "source": [
    "#Selecting multiple columns\n",
    "\n",
    "data_df[[\"name\", \"age\"]]"
   ]
  },
  {
   "cell_type": "markdown",
   "id": "2b0ac8a5",
   "metadata": {},
   "source": [
    "### loc method"
   ]
  },
  {
   "cell_type": "markdown",
   "id": "2f0a3f3d",
   "metadata": {},
   "source": [
    "The loc method is used to select rows and columns from a Dataframe based on the row index and the column names."
   ]
  },
  {
   "cell_type": "code",
   "execution_count": 52,
   "id": "48125fca",
   "metadata": {},
   "outputs": [
    {
     "data": {
      "text/plain": [
       "'Mary'"
      ]
     },
     "execution_count": 52,
     "metadata": {},
     "output_type": "execute_result"
    }
   ],
   "source": [
    "data_df.loc[1,\"name\"]"
   ]
  },
  {
   "cell_type": "code",
   "execution_count": 53,
   "id": "3a7d7645",
   "metadata": {},
   "outputs": [
    {
     "data": {
      "text/plain": [
       "0    Alice\n",
       "1     Mary\n",
       "2    Sedem\n",
       "Name: name, dtype: object"
      ]
     },
     "execution_count": 53,
     "metadata": {},
     "output_type": "execute_result"
    }
   ],
   "source": [
    "# Selecting all rows for a single column\n",
    "data_df.loc[:,\"name\"]"
   ]
  },
  {
   "cell_type": "code",
   "execution_count": 54,
   "id": "d6117db5",
   "metadata": {},
   "outputs": [
    {
     "data": {
      "text/plain": [
       "name      Mary\n",
       "age         30\n",
       "gender       F\n",
       "Name: 1, dtype: object"
      ]
     },
     "execution_count": 54,
     "metadata": {},
     "output_type": "execute_result"
    }
   ],
   "source": [
    "# Selecting all columns for a single row\n",
    "data_df.loc[1,:]"
   ]
  },
  {
   "cell_type": "code",
   "execution_count": 55,
   "id": "89d317f8",
   "metadata": {},
   "outputs": [
    {
     "data": {
      "text/html": [
       "<div>\n",
       "<style scoped>\n",
       "    .dataframe tbody tr th:only-of-type {\n",
       "        vertical-align: middle;\n",
       "    }\n",
       "\n",
       "    .dataframe tbody tr th {\n",
       "        vertical-align: top;\n",
       "    }\n",
       "\n",
       "    .dataframe thead th {\n",
       "        text-align: right;\n",
       "    }\n",
       "</style>\n",
       "<table border=\"1\" class=\"dataframe\">\n",
       "  <thead>\n",
       "    <tr style=\"text-align: right;\">\n",
       "      <th></th>\n",
       "      <th>name</th>\n",
       "      <th>age</th>\n",
       "    </tr>\n",
       "  </thead>\n",
       "  <tbody>\n",
       "    <tr>\n",
       "      <th>0</th>\n",
       "      <td>Alice</td>\n",
       "      <td>25</td>\n",
       "    </tr>\n",
       "    <tr>\n",
       "      <th>1</th>\n",
       "      <td>Mary</td>\n",
       "      <td>30</td>\n",
       "    </tr>\n",
       "    <tr>\n",
       "      <th>2</th>\n",
       "      <td>Sedem</td>\n",
       "      <td>35</td>\n",
       "    </tr>\n",
       "  </tbody>\n",
       "</table>\n",
       "</div>"
      ],
      "text/plain": [
       "    name  age\n",
       "0  Alice   25\n",
       "1   Mary   30\n",
       "2  Sedem   35"
      ]
     },
     "execution_count": 55,
     "metadata": {},
     "output_type": "execute_result"
    }
   ],
   "source": [
    "# Select multiple rows\n",
    "data_df.loc[:,[\"name\",\"age\"]]"
   ]
  },
  {
   "cell_type": "code",
   "execution_count": 56,
   "id": "1c331584",
   "metadata": {},
   "outputs": [
    {
     "data": {
      "text/html": [
       "<div>\n",
       "<style scoped>\n",
       "    .dataframe tbody tr th:only-of-type {\n",
       "        vertical-align: middle;\n",
       "    }\n",
       "\n",
       "    .dataframe tbody tr th {\n",
       "        vertical-align: top;\n",
       "    }\n",
       "\n",
       "    .dataframe thead th {\n",
       "        text-align: right;\n",
       "    }\n",
       "</style>\n",
       "<table border=\"1\" class=\"dataframe\">\n",
       "  <thead>\n",
       "    <tr style=\"text-align: right;\">\n",
       "      <th></th>\n",
       "      <th>name</th>\n",
       "      <th>age</th>\n",
       "    </tr>\n",
       "  </thead>\n",
       "  <tbody>\n",
       "    <tr>\n",
       "      <th>1</th>\n",
       "      <td>Mary</td>\n",
       "      <td>30</td>\n",
       "    </tr>\n",
       "    <tr>\n",
       "      <th>2</th>\n",
       "      <td>Sedem</td>\n",
       "      <td>35</td>\n",
       "    </tr>\n",
       "  </tbody>\n",
       "</table>\n",
       "</div>"
      ],
      "text/plain": [
       "    name  age\n",
       "1   Mary   30\n",
       "2  Sedem   35"
      ]
     },
     "execution_count": 56,
     "metadata": {},
     "output_type": "execute_result"
    }
   ],
   "source": [
    "# Select a subset of rows and columns\n",
    "data_df.loc[1:3,[\"name\",\"age\"]]"
   ]
  },
  {
   "cell_type": "markdown",
   "id": "7cab838e",
   "metadata": {},
   "source": [
    "### iloc"
   ]
  },
  {
   "cell_type": "markdown",
   "id": "33624b7c",
   "metadata": {},
   "source": [
    "It is used to select data by integer position from a DataFrame."
   ]
  },
  {
   "cell_type": "code",
   "execution_count": 57,
   "id": "a546b26c",
   "metadata": {},
   "outputs": [
    {
     "data": {
      "text/html": [
       "<div>\n",
       "<style scoped>\n",
       "    .dataframe tbody tr th:only-of-type {\n",
       "        vertical-align: middle;\n",
       "    }\n",
       "\n",
       "    .dataframe tbody tr th {\n",
       "        vertical-align: top;\n",
       "    }\n",
       "\n",
       "    .dataframe thead th {\n",
       "        text-align: right;\n",
       "    }\n",
       "</style>\n",
       "<table border=\"1\" class=\"dataframe\">\n",
       "  <thead>\n",
       "    <tr style=\"text-align: right;\">\n",
       "      <th></th>\n",
       "      <th>name</th>\n",
       "      <th>age</th>\n",
       "      <th>gender</th>\n",
       "    </tr>\n",
       "  </thead>\n",
       "  <tbody>\n",
       "    <tr>\n",
       "      <th>0</th>\n",
       "      <td>Alice</td>\n",
       "      <td>25</td>\n",
       "      <td>F</td>\n",
       "    </tr>\n",
       "    <tr>\n",
       "      <th>1</th>\n",
       "      <td>Mary</td>\n",
       "      <td>30</td>\n",
       "      <td>F</td>\n",
       "    </tr>\n",
       "    <tr>\n",
       "      <th>2</th>\n",
       "      <td>Sedem</td>\n",
       "      <td>35</td>\n",
       "      <td>M</td>\n",
       "    </tr>\n",
       "  </tbody>\n",
       "</table>\n",
       "</div>"
      ],
      "text/plain": [
       "    name  age gender\n",
       "0  Alice   25      F\n",
       "1   Mary   30      F\n",
       "2  Sedem   35      M"
      ]
     },
     "execution_count": 57,
     "metadata": {},
     "output_type": "execute_result"
    }
   ],
   "source": [
    "data_df"
   ]
  },
  {
   "cell_type": "code",
   "execution_count": 58,
   "id": "b4ffbcc3",
   "metadata": {},
   "outputs": [
    {
     "data": {
      "text/plain": [
       "name      Alice\n",
       "age          25\n",
       "gender        F\n",
       "Name: 0, dtype: object"
      ]
     },
     "execution_count": 58,
     "metadata": {},
     "output_type": "execute_result"
    }
   ],
   "source": [
    "#Accessing a single row\n",
    "data_df.iloc[0]"
   ]
  },
  {
   "cell_type": "code",
   "execution_count": 59,
   "id": "7039e365",
   "metadata": {},
   "outputs": [
    {
     "data": {
      "text/plain": [
       "25"
      ]
     },
     "execution_count": 59,
     "metadata": {},
     "output_type": "execute_result"
    }
   ],
   "source": [
    "data_df.iloc[0,1]"
   ]
  },
  {
   "cell_type": "code",
   "execution_count": 60,
   "id": "579ae514",
   "metadata": {},
   "outputs": [
    {
     "data": {
      "text/plain": [
       "0    25\n",
       "1    30\n",
       "2    35\n",
       "Name: age, dtype: int64"
      ]
     },
     "execution_count": 60,
     "metadata": {},
     "output_type": "execute_result"
    }
   ],
   "source": [
    "data_df.iloc[:,1]"
   ]
  },
  {
   "cell_type": "code",
   "execution_count": 64,
   "id": "6f819fdd",
   "metadata": {},
   "outputs": [
    {
     "data": {
      "text/html": [
       "<div>\n",
       "<style scoped>\n",
       "    .dataframe tbody tr th:only-of-type {\n",
       "        vertical-align: middle;\n",
       "    }\n",
       "\n",
       "    .dataframe tbody tr th {\n",
       "        vertical-align: top;\n",
       "    }\n",
       "\n",
       "    .dataframe thead th {\n",
       "        text-align: right;\n",
       "    }\n",
       "</style>\n",
       "<table border=\"1\" class=\"dataframe\">\n",
       "  <thead>\n",
       "    <tr style=\"text-align: right;\">\n",
       "      <th></th>\n",
       "      <th>name</th>\n",
       "    </tr>\n",
       "  </thead>\n",
       "  <tbody>\n",
       "    <tr>\n",
       "      <th>0</th>\n",
       "      <td>Alice</td>\n",
       "    </tr>\n",
       "    <tr>\n",
       "      <th>1</th>\n",
       "      <td>Mary</td>\n",
       "    </tr>\n",
       "  </tbody>\n",
       "</table>\n",
       "</div>"
      ],
      "text/plain": [
       "    name\n",
       "0  Alice\n",
       "1   Mary"
      ]
     },
     "execution_count": 64,
     "metadata": {},
     "output_type": "execute_result"
    }
   ],
   "source": [
    "data_df.iloc[0:2,0:1]"
   ]
  },
  {
   "cell_type": "markdown",
   "id": "77c22338",
   "metadata": {},
   "source": [
    "### Basic Statistics Using Pandas"
   ]
  },
  {
   "cell_type": "code",
   "execution_count": 65,
   "id": "54684d4c",
   "metadata": {},
   "outputs": [
    {
     "data": {
      "text/html": [
       "<div>\n",
       "<style scoped>\n",
       "    .dataframe tbody tr th:only-of-type {\n",
       "        vertical-align: middle;\n",
       "    }\n",
       "\n",
       "    .dataframe tbody tr th {\n",
       "        vertical-align: top;\n",
       "    }\n",
       "\n",
       "    .dataframe thead th {\n",
       "        text-align: right;\n",
       "    }\n",
       "</style>\n",
       "<table border=\"1\" class=\"dataframe\">\n",
       "  <thead>\n",
       "    <tr style=\"text-align: right;\">\n",
       "      <th></th>\n",
       "      <th>price</th>\n",
       "      <th>profit</th>\n",
       "      <th>City</th>\n",
       "    </tr>\n",
       "  </thead>\n",
       "  <tbody>\n",
       "    <tr>\n",
       "      <th>0</th>\n",
       "      <td>200</td>\n",
       "      <td>20</td>\n",
       "      <td>Accra</td>\n",
       "    </tr>\n",
       "    <tr>\n",
       "      <th>1</th>\n",
       "      <td>100</td>\n",
       "      <td>60</td>\n",
       "      <td>Tema</td>\n",
       "    </tr>\n",
       "    <tr>\n",
       "      <th>2</th>\n",
       "      <td>50</td>\n",
       "      <td>75</td>\n",
       "      <td>Kumasi</td>\n",
       "    </tr>\n",
       "    <tr>\n",
       "      <th>3</th>\n",
       "      <td>300</td>\n",
       "      <td>32</td>\n",
       "      <td>Suyani</td>\n",
       "    </tr>\n",
       "    <tr>\n",
       "      <th>4</th>\n",
       "      <td>600</td>\n",
       "      <td>20</td>\n",
       "      <td>Koforidua</td>\n",
       "    </tr>\n",
       "  </tbody>\n",
       "</table>\n",
       "</div>"
      ],
      "text/plain": [
       "   price  profit       City\n",
       "0    200      20      Accra\n",
       "1    100      60       Tema\n",
       "2     50      75     Kumasi\n",
       "3    300      32     Suyani\n",
       "4    600      20  Koforidua"
      ]
     },
     "execution_count": 65,
     "metadata": {},
     "output_type": "execute_result"
    }
   ],
   "source": [
    "my_data = pd.DataFrame({'price': [200, 100, 50, 300, 600], 'profit': [20, 60, 75, 32, 20],'City':['Accra','Tema','Kumasi','Suyani','Koforidua']})\n",
    "my_data"
   ]
  },
  {
   "cell_type": "code",
   "execution_count": 66,
   "id": "672b71fe",
   "metadata": {},
   "outputs": [
    {
     "data": {
      "text/plain": [
       "207"
      ]
     },
     "execution_count": 66,
     "metadata": {},
     "output_type": "execute_result"
    }
   ],
   "source": [
    "#Sum of profit\n",
    "my_data[\"profit\"].sum()"
   ]
  },
  {
   "cell_type": "code",
   "execution_count": 67,
   "id": "bf87e1bb",
   "metadata": {},
   "outputs": [
    {
     "data": {
      "text/plain": [
       "20"
      ]
     },
     "execution_count": 67,
     "metadata": {},
     "output_type": "execute_result"
    }
   ],
   "source": [
    "#Minimum of Profit\n",
    "my_data[\"profit\"].min()"
   ]
  },
  {
   "cell_type": "code",
   "execution_count": 68,
   "id": "07a20f84",
   "metadata": {},
   "outputs": [
    {
     "data": {
      "text/plain": [
       "75"
      ]
     },
     "execution_count": 68,
     "metadata": {},
     "output_type": "execute_result"
    }
   ],
   "source": [
    "#Mmximum of Profit\n",
    "my_data[\"profit\"].max()"
   ]
  },
  {
   "cell_type": "code",
   "execution_count": 70,
   "id": "47769e84",
   "metadata": {},
   "outputs": [
    {
     "data": {
      "text/plain": [
       "profit     207\n",
       "price     1250\n",
       "dtype: int64"
      ]
     },
     "execution_count": 70,
     "metadata": {},
     "output_type": "execute_result"
    }
   ],
   "source": [
    "#Sum of profit and sum of price\n",
    "my_data[[\"profit\",\"price\"]].sum()"
   ]
  },
  {
   "cell_type": "code",
   "execution_count": 71,
   "id": "8eb1b8bb",
   "metadata": {},
   "outputs": [
    {
     "data": {
      "text/plain": [
       "profit     41.4\n",
       "price     250.0\n",
       "dtype: float64"
      ]
     },
     "execution_count": 71,
     "metadata": {},
     "output_type": "execute_result"
    }
   ],
   "source": [
    "#Mean of profit and sum of price\n",
    "my_data[[\"profit\",\"price\"]].mean()"
   ]
  },
  {
   "cell_type": "code",
   "execution_count": 72,
   "id": "80b61424",
   "metadata": {},
   "outputs": [
    {
     "data": {
      "text/plain": [
       "profit     24.895783\n",
       "price     217.944947\n",
       "dtype: float64"
      ]
     },
     "execution_count": 72,
     "metadata": {},
     "output_type": "execute_result"
    }
   ],
   "source": [
    "#Standard Deviation of profit and sum of price\n",
    "my_data[[\"profit\",\"price\"]].std()"
   ]
  },
  {
   "cell_type": "code",
   "execution_count": 73,
   "id": "fdc372f9",
   "metadata": {},
   "outputs": [
    {
     "data": {
      "text/html": [
       "<div>\n",
       "<style scoped>\n",
       "    .dataframe tbody tr th:only-of-type {\n",
       "        vertical-align: middle;\n",
       "    }\n",
       "\n",
       "    .dataframe tbody tr th {\n",
       "        vertical-align: top;\n",
       "    }\n",
       "\n",
       "    .dataframe thead th {\n",
       "        text-align: right;\n",
       "    }\n",
       "</style>\n",
       "<table border=\"1\" class=\"dataframe\">\n",
       "  <thead>\n",
       "    <tr style=\"text-align: right;\">\n",
       "      <th></th>\n",
       "      <th>price</th>\n",
       "      <th>profit</th>\n",
       "    </tr>\n",
       "  </thead>\n",
       "  <tbody>\n",
       "    <tr>\n",
       "      <th>count</th>\n",
       "      <td>5.000000</td>\n",
       "      <td>5.000000</td>\n",
       "    </tr>\n",
       "    <tr>\n",
       "      <th>mean</th>\n",
       "      <td>250.000000</td>\n",
       "      <td>41.400000</td>\n",
       "    </tr>\n",
       "    <tr>\n",
       "      <th>std</th>\n",
       "      <td>217.944947</td>\n",
       "      <td>24.895783</td>\n",
       "    </tr>\n",
       "    <tr>\n",
       "      <th>min</th>\n",
       "      <td>50.000000</td>\n",
       "      <td>20.000000</td>\n",
       "    </tr>\n",
       "    <tr>\n",
       "      <th>25%</th>\n",
       "      <td>100.000000</td>\n",
       "      <td>20.000000</td>\n",
       "    </tr>\n",
       "    <tr>\n",
       "      <th>50%</th>\n",
       "      <td>200.000000</td>\n",
       "      <td>32.000000</td>\n",
       "    </tr>\n",
       "    <tr>\n",
       "      <th>75%</th>\n",
       "      <td>300.000000</td>\n",
       "      <td>60.000000</td>\n",
       "    </tr>\n",
       "    <tr>\n",
       "      <th>max</th>\n",
       "      <td>600.000000</td>\n",
       "      <td>75.000000</td>\n",
       "    </tr>\n",
       "  </tbody>\n",
       "</table>\n",
       "</div>"
      ],
      "text/plain": [
       "            price     profit\n",
       "count    5.000000   5.000000\n",
       "mean   250.000000  41.400000\n",
       "std    217.944947  24.895783\n",
       "min     50.000000  20.000000\n",
       "25%    100.000000  20.000000\n",
       "50%    200.000000  32.000000\n",
       "75%    300.000000  60.000000\n",
       "max    600.000000  75.000000"
      ]
     },
     "execution_count": 73,
     "metadata": {},
     "output_type": "execute_result"
    }
   ],
   "source": [
    "#Brief statistics of the dataframe\n",
    "my_data.describe()"
   ]
  },
  {
   "cell_type": "code",
   "execution_count": 74,
   "id": "76ab2e3c",
   "metadata": {},
   "outputs": [
    {
     "name": "stdout",
     "output_type": "stream",
     "text": [
      "<class 'pandas.core.frame.DataFrame'>\n",
      "RangeIndex: 5 entries, 0 to 4\n",
      "Data columns (total 3 columns):\n",
      " #   Column  Non-Null Count  Dtype \n",
      "---  ------  --------------  ----- \n",
      " 0   price   5 non-null      int64 \n",
      " 1   profit  5 non-null      int64 \n",
      " 2   City    5 non-null      object\n",
      "dtypes: int64(2), object(1)\n",
      "memory usage: 248.0+ bytes\n"
     ]
    }
   ],
   "source": [
    "#Brief info of the dataframe\n",
    "my_data.info()"
   ]
  },
  {
   "cell_type": "code",
   "execution_count": 76,
   "id": "86c244cb",
   "metadata": {},
   "outputs": [
    {
     "data": {
      "text/plain": [
       "price     5\n",
       "profit    5\n",
       "City      5\n",
       "dtype: int64"
      ]
     },
     "execution_count": 76,
     "metadata": {},
     "output_type": "execute_result"
    }
   ],
   "source": [
    "#the number of non null-values\n",
    "my_data.count()"
   ]
  },
  {
   "cell_type": "code",
   "execution_count": null,
   "id": "52cf8eb7",
   "metadata": {},
   "outputs": [],
   "source": []
  }
 ],
 "metadata": {
  "kernelspec": {
   "display_name": "Python 3 (ipykernel)",
   "language": "python",
   "name": "python3"
  },
  "language_info": {
   "codemirror_mode": {
    "name": "ipython",
    "version": 3
   },
   "file_extension": ".py",
   "mimetype": "text/x-python",
   "name": "python",
   "nbconvert_exporter": "python",
   "pygments_lexer": "ipython3",
   "version": "3.9.12"
  }
 },
 "nbformat": 4,
 "nbformat_minor": 5
}
