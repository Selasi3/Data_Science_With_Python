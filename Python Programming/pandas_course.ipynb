{
 "cells": [
  {
   "cell_type": "markdown",
   "id": "f4f118ba",
   "metadata": {},
   "source": [
    "### Pandas\n",
    "\n",
    "Pandas is a common Python library which provides a wide range of functionalities for data manipulation and data analysis.\n",
    "\n",
    "It is mostly used in data analytics, data science, machine learning and many more.\n",
    "\n",
    "Pandas has two primary data structures known as **series** and **DataFrame**."
   ]
  },
  {
   "cell_type": "markdown",
   "id": "ef41fe9e",
   "metadata": {},
   "source": [
    "### Installation of Pandas"
   ]
  },
  {
   "cell_type": "markdown",
   "id": "9be0c728",
   "metadata": {},
   "source": [
    "The numpy library can be installed using the following:"
   ]
  },
  {
   "cell_type": "markdown",
   "id": "35123f40",
   "metadata": {},
   "source": [
    "\n",
    "**1. Command Prompt**\n",
    "\n",
    "- Launch the command prompt\n",
    "- Type the code below to install the pandas library\n",
    "\n",
    "`pip install pandas`\n"
   ]
  },
  {
   "cell_type": "markdown",
   "id": "991dc0f8",
   "metadata": {},
   "source": [
    "\n",
    "**2. Anaconda Terminal**\n",
    "\n",
    "- Launch the anaconda terminal\n",
    "- Type the code below to install the pandas library\n",
    "\n",
    "`conda install pandas`\n"
   ]
  },
  {
   "cell_type": "markdown",
   "id": "7a39d3cd",
   "metadata": {},
   "source": [
    "### Using Pandas"
   ]
  },
  {
   "cell_type": "markdown",
   "id": "8494d34e",
   "metadata": {},
   "source": [
    "To use the pandas library import the pandas library using:\n",
    "\n",
    "`import pandas as pd`"
   ]
  },
  {
   "cell_type": "markdown",
   "id": "eb28feb3",
   "metadata": {},
   "source": [
    "The **pd** is the popular alias for the pandas library."
   ]
  },
  {
   "cell_type": "code",
   "execution_count": null,
   "id": "173dcca9",
   "metadata": {},
   "outputs": [],
   "source": [
    "import pandas as pd"
   ]
  },
  {
   "cell_type": "markdown",
   "id": "e5deb0b6",
   "metadata": {},
   "source": [
    "### Series\n",
    "\n",
    "A series is a 1D array that can hold data of any type such as integers, float etc\n",
    "\n",
    "A pandas Series can be created from a list, numpy array, dictionary, from a file or database and many more\n",
    "\n",
    "The structure for creating a Series is :\n",
    "\n",
    "`pd.Series(data)`"
   ]
  },
  {
   "cell_type": "markdown",
   "id": "1a21d78f",
   "metadata": {},
   "source": [
    "#### A Series from a list"
   ]
  },
  {
   "cell_type": "code",
   "execution_count": null,
   "id": "e68f36e1",
   "metadata": {},
   "outputs": [],
   "source": [
    "num_1 = [1,2,3,4,5]\n",
    "num_1_series = pd.Series(num_1,name=\"numero\")\n"
   ]
  },
  {
   "cell_type": "code",
   "execution_count": null,
   "id": "a939ee68",
   "metadata": {},
   "outputs": [],
   "source": [
    "num_1_series"
   ]
  },
  {
   "cell_type": "code",
   "execution_count": null,
   "id": "91e766f3",
   "metadata": {},
   "outputs": [],
   "source": [
    "type(num_1_series)"
   ]
  },
  {
   "cell_type": "code",
   "execution_count": null,
   "id": "7cfb2ec1",
   "metadata": {},
   "outputs": [],
   "source": [
    "num_1_series.shape"
   ]
  },
  {
   "cell_type": "code",
   "execution_count": null,
   "id": "9163ba0d",
   "metadata": {},
   "outputs": [],
   "source": [
    "num_1_series.name"
   ]
  },
  {
   "cell_type": "code",
   "execution_count": null,
   "id": "baa6b5de",
   "metadata": {},
   "outputs": [],
   "source": [
    "num_1_series.index"
   ]
  },
  {
   "cell_type": "code",
   "execution_count": null,
   "id": "355b537e",
   "metadata": {},
   "outputs": [],
   "source": [
    "len(num_1_series)"
   ]
  },
  {
   "cell_type": "code",
   "execution_count": null,
   "id": "2771936c",
   "metadata": {},
   "outputs": [],
   "source": [
    "#Renaming the index of num_1_series\n",
    "num_1_series.index = [\"a\",\"b\",\"c\",\"d\",\"e\"]\n"
   ]
  },
  {
   "cell_type": "code",
   "execution_count": null,
   "id": "2f744915",
   "metadata": {},
   "outputs": [],
   "source": [
    "num_1_series"
   ]
  },
  {
   "cell_type": "code",
   "execution_count": null,
   "id": "945b3c4a",
   "metadata": {},
   "outputs": [],
   "source": [
    "num_1_series.index"
   ]
  },
  {
   "cell_type": "markdown",
   "id": "59b783f0",
   "metadata": {},
   "source": [
    "#### A Series from a dictionary"
   ]
  },
  {
   "cell_type": "code",
   "execution_count": null,
   "id": "962faf34",
   "metadata": {
    "scrolled": true
   },
   "outputs": [],
   "source": [
    "# The keys of the dictionary serves as the index of the Series. \n",
    "# The values of the dictionary serves as the values of the Series. \n",
    "\n",
    "regions_capitals ={\"Greater Accra\":\"Accra\",\"Ashanti\":\"Kumasi\", \"Central\":\"Cape Coast\"}\n",
    "\n",
    "regions_capitals"
   ]
  },
  {
   "cell_type": "code",
   "execution_count": null,
   "id": "9d6a389c",
   "metadata": {},
   "outputs": [],
   "source": [
    "regions_capitals_series=pd.Series(regions_capitals, name=\"regions\")\n",
    "regions_capitals_series"
   ]
  },
  {
   "cell_type": "code",
   "execution_count": null,
   "id": "7fbf5480",
   "metadata": {
    "scrolled": true
   },
   "outputs": [],
   "source": [
    "regions_capitals_series.index"
   ]
  },
  {
   "cell_type": "code",
   "execution_count": null,
   "id": "c9759034",
   "metadata": {
    "scrolled": true
   },
   "outputs": [],
   "source": [
    "regions_capitals_series.values"
   ]
  },
  {
   "cell_type": "code",
   "execution_count": null,
   "id": "e109a829",
   "metadata": {},
   "outputs": [],
   "source": [
    "ages ={\"age\":[12,15,22,33,55,22], \"number\":[1,2,3,4,5,6]}\n",
    "ages_series = pd.Series(ages, name=\"ages\")\n",
    "ages_series"
   ]
  },
  {
   "cell_type": "code",
   "execution_count": null,
   "id": "7d52bba3",
   "metadata": {},
   "outputs": [],
   "source": [
    "ages_series.index"
   ]
  },
  {
   "cell_type": "code",
   "execution_count": null,
   "id": "0a2999cf",
   "metadata": {},
   "outputs": [],
   "source": [
    "ages_series.values"
   ]
  },
  {
   "cell_type": "code",
   "execution_count": null,
   "id": "b4fbe69e",
   "metadata": {},
   "outputs": [],
   "source": []
  },
  {
   "cell_type": "markdown",
   "id": "947d8775",
   "metadata": {},
   "source": [
    "#### A Series from a numpy array"
   ]
  },
  {
   "cell_type": "code",
   "execution_count": null,
   "id": "935d169d",
   "metadata": {},
   "outputs": [],
   "source": [
    "import numpy as np\n",
    "import pandas as pd"
   ]
  },
  {
   "cell_type": "code",
   "execution_count": null,
   "id": "03b1f28a",
   "metadata": {},
   "outputs": [],
   "source": [
    "years = np.array([2019,2020,2021,2022,2023])"
   ]
  },
  {
   "cell_type": "code",
   "execution_count": null,
   "id": "695e3034",
   "metadata": {},
   "outputs": [],
   "source": [
    "years_series = pd.Series(years, index=[1,2,3,4,5], name=\"years\" )"
   ]
  },
  {
   "cell_type": "code",
   "execution_count": null,
   "id": "cbee2eb0",
   "metadata": {},
   "outputs": [],
   "source": [
    "years_series.name"
   ]
  },
  {
   "cell_type": "code",
   "execution_count": null,
   "id": "dcbebbc1",
   "metadata": {},
   "outputs": [],
   "source": [
    "years_series.index"
   ]
  },
  {
   "cell_type": "code",
   "execution_count": null,
   "id": "f3584447",
   "metadata": {},
   "outputs": [],
   "source": [
    "years_series"
   ]
  },
  {
   "cell_type": "markdown",
   "id": "8f7cd5d9",
   "metadata": {},
   "source": [
    "#### A series from a scalar"
   ]
  },
  {
   "cell_type": "code",
   "execution_count": null,
   "id": "90154d33",
   "metadata": {},
   "outputs": [],
   "source": [
    "scalar_series =pd.Series(12, index=list(range(1,9)))\n"
   ]
  },
  {
   "cell_type": "code",
   "execution_count": null,
   "id": "2291a174",
   "metadata": {},
   "outputs": [],
   "source": [
    "scalar_series.index"
   ]
  },
  {
   "cell_type": "code",
   "execution_count": null,
   "id": "5a803064",
   "metadata": {},
   "outputs": [],
   "source": [
    "scalar_series"
   ]
  },
  {
   "cell_type": "code",
   "execution_count": null,
   "id": "555e117b",
   "metadata": {},
   "outputs": [],
   "source": []
  },
  {
   "cell_type": "markdown",
   "id": "7c2b0b5b",
   "metadata": {},
   "source": [
    "### Series Indexing and Slicing"
   ]
  },
  {
   "cell_type": "code",
   "execution_count": null,
   "id": "9811021e",
   "metadata": {},
   "outputs": [],
   "source": [
    "countries = [\"Ghana\", \"Nigeria\", \"Togo\",\"Benin\", \"Niger\"]\n",
    "countries_series =pd.Series(countries, name= \"countries\", index= list(range(1,6)))"
   ]
  },
  {
   "cell_type": "code",
   "execution_count": null,
   "id": "328a029d",
   "metadata": {
    "scrolled": true
   },
   "outputs": [],
   "source": [
    "countries_series"
   ]
  },
  {
   "cell_type": "code",
   "execution_count": null,
   "id": "e6b29bd7",
   "metadata": {},
   "outputs": [],
   "source": [
    "countries_series[1]"
   ]
  },
  {
   "cell_type": "code",
   "execution_count": null,
   "id": "13d2e174",
   "metadata": {},
   "outputs": [],
   "source": [
    "countries_series[5]"
   ]
  },
  {
   "cell_type": "code",
   "execution_count": null,
   "id": "0ecdaf84",
   "metadata": {},
   "outputs": [],
   "source": [
    "countries_series[2:4]"
   ]
  },
  {
   "cell_type": "code",
   "execution_count": null,
   "id": "4dd9f2d9",
   "metadata": {},
   "outputs": [],
   "source": [
    "countries_series[3:5]"
   ]
  },
  {
   "cell_type": "code",
   "execution_count": null,
   "id": "6c001571",
   "metadata": {},
   "outputs": [],
   "source": [
    "countries_series[3:]"
   ]
  },
  {
   "cell_type": "markdown",
   "id": "bdc89c39",
   "metadata": {},
   "source": [
    "The `get` method is used to retrieve a value from a  series based on the specific index.\n",
    "\n",
    "The get method returns None if the specified index is not found in the series."
   ]
  },
  {
   "cell_type": "code",
   "execution_count": null,
   "id": "0cd9e28b",
   "metadata": {},
   "outputs": [],
   "source": [
    "#Using the get method for indexing\n",
    "countries_series.get(4)"
   ]
  },
  {
   "cell_type": "code",
   "execution_count": null,
   "id": "a6260bab",
   "metadata": {},
   "outputs": [],
   "source": [
    "countries_series.get(2)"
   ]
  },
  {
   "cell_type": "code",
   "execution_count": null,
   "id": "f70ca930",
   "metadata": {},
   "outputs": [],
   "source": [
    "#returns none\n",
    "countries_series.get(6)"
   ]
  },
  {
   "cell_type": "markdown",
   "id": "5884662c",
   "metadata": {},
   "source": [
    "#### iloc method\n",
    "\n",
    "The iloc method can be used to index a series.\n",
    "\n",
    "The iloc method takes an integer index as its argument, starting from 0 for the first element, and to access the element at that index.\n",
    "\n",
    "The iloc method can be used to index a range of elements in the series."
   ]
  },
  {
   "cell_type": "code",
   "execution_count": null,
   "id": "74296a4c",
   "metadata": {},
   "outputs": [],
   "source": [
    "countries_series"
   ]
  },
  {
   "cell_type": "code",
   "execution_count": null,
   "id": "61e0b127",
   "metadata": {},
   "outputs": [],
   "source": [
    "countries_series.iloc[2]"
   ]
  },
  {
   "cell_type": "code",
   "execution_count": null,
   "id": "e68f9473",
   "metadata": {},
   "outputs": [],
   "source": [
    "# This error will throw an error\n",
    "countries_series.iloc[4]"
   ]
  },
  {
   "cell_type": "code",
   "execution_count": null,
   "id": "3c4c4884",
   "metadata": {},
   "outputs": [],
   "source": []
  },
  {
   "cell_type": "markdown",
   "id": "476081ca",
   "metadata": {},
   "source": [
    "**loc method**\n",
    "\n",
    "The loc  method is used to select data from a series based on label based indexing i.e data rows are selected based on the label of the index.\n"
   ]
  },
  {
   "cell_type": "code",
   "execution_count": null,
   "id": "fe34a8e2",
   "metadata": {},
   "outputs": [],
   "source": [
    "countries_series"
   ]
  },
  {
   "cell_type": "code",
   "execution_count": null,
   "id": "2a3c3adb",
   "metadata": {},
   "outputs": [],
   "source": [
    "countries_series.loc[1]"
   ]
  },
  {
   "cell_type": "code",
   "execution_count": null,
   "id": "c97d6351",
   "metadata": {},
   "outputs": [],
   "source": [
    "countries_series.iloc[1]"
   ]
  },
  {
   "cell_type": "code",
   "execution_count": null,
   "id": "1662aafe",
   "metadata": {},
   "outputs": [],
   "source": [
    "countries_series[1]"
   ]
  },
  {
   "cell_type": "code",
   "execution_count": null,
   "id": "fb9dfd33",
   "metadata": {},
   "outputs": [],
   "source": [
    "#Renaming the index of the series\n",
    "countries_series.index = [\"a\",\"b\",\"c\",\"d\",\"e\"]\n",
    "countries_series"
   ]
  },
  {
   "cell_type": "code",
   "execution_count": null,
   "id": "f071ae55",
   "metadata": {},
   "outputs": [],
   "source": [
    "countries_series.loc[\"a\"]"
   ]
  },
  {
   "cell_type": "code",
   "execution_count": null,
   "id": "a2729d74",
   "metadata": {},
   "outputs": [],
   "source": [
    "countries_series.loc[\"d\"]"
   ]
  },
  {
   "cell_type": "code",
   "execution_count": null,
   "id": "c9836a8e",
   "metadata": {},
   "outputs": [],
   "source": [
    "countries_series.loc[\"a\":\"d\"]"
   ]
  },
  {
   "cell_type": "code",
   "execution_count": null,
   "id": "9ce332d4",
   "metadata": {},
   "outputs": [],
   "source": [
    "countries_series.loc[\"c\":\"e\"]"
   ]
  },
  {
   "cell_type": "code",
   "execution_count": null,
   "id": "9f9642ea",
   "metadata": {},
   "outputs": [],
   "source": [
    "# select multiple values using loc\n",
    "countries_series.loc[[\"a\",\"c\",\"e\"]]"
   ]
  },
  {
   "cell_type": "markdown",
   "id": "880447d0",
   "metadata": {},
   "source": [
    "### DataFrame"
   ]
  },
  {
   "cell_type": "markdown",
   "id": "d9b4482f",
   "metadata": {},
   "source": [
    "A DataFrame is a 2D table-like data structure used to store and manipulate tabular data.\n",
    "\n",
    "It consists of rows and columns where each column can be of different data type\n",
    "\n",
    "Dataframes can be created from Series, list, numpy arrays and dictionaries using the format below\n",
    "\n",
    "`pandas.DataFrame(data, index, columns, dtype, copy,...)`\n"
   ]
  },
  {
   "cell_type": "code",
   "execution_count": null,
   "id": "ae09d94e",
   "metadata": {},
   "outputs": [],
   "source": [
    "# DataFrame from Dictionary of Series\n",
    "data_1= {'Name' : pd.Series(['Selasi', 'Frank', 'Precious','Richmond'], index=[1,2,3,4]),\n",
    "       \n",
    "   'Rate' : pd.Series(['4', '3', '5', '2'], index=[1,2,3,4])}\n",
    "\n",
    "data_1"
   ]
  },
  {
   "cell_type": "code",
   "execution_count": null,
   "id": "b2776d5d",
   "metadata": {},
   "outputs": [],
   "source": [
    "rating_df = pd.DataFrame(data_1)\n",
    "rating_df"
   ]
  },
  {
   "cell_type": "code",
   "execution_count": null,
   "id": "2e61b502",
   "metadata": {},
   "outputs": [],
   "source": [
    "# DataFrame from Dictionary\n",
    "#The keys of the dictionary becomes the columns of the DataFrame\n",
    "students = {'name': ['Jude', 'Bob', 'Jael'], 'age': [40, 30, 35], 'gender': ['M', 'M', 'F']}\n",
    "students_df = pd.DataFrame(students)\n",
    "students_df"
   ]
  },
  {
   "cell_type": "code",
   "execution_count": null,
   "id": "974b390d",
   "metadata": {},
   "outputs": [],
   "source": [
    "#DataFrame from list of Lists\n",
    "data = [['Alice', 25, 'F'], ['Mary', 30, 'F'], ['Sedem', 35, 'M']]\n",
    "data_df = pd.DataFrame(data,columns=['name', 'age', 'gender'])\n",
    "data_df"
   ]
  },
  {
   "cell_type": "markdown",
   "id": "ef0d33a3",
   "metadata": {},
   "source": [
    "#### Indexing and Slicing"
   ]
  },
  {
   "cell_type": "code",
   "execution_count": null,
   "id": "f42bfb0e",
   "metadata": {
    "scrolled": true
   },
   "outputs": [],
   "source": [
    "data_df"
   ]
  },
  {
   "cell_type": "code",
   "execution_count": null,
   "id": "e7a979ec",
   "metadata": {},
   "outputs": [],
   "source": [
    "data_df.shape"
   ]
  },
  {
   "cell_type": "code",
   "execution_count": null,
   "id": "4e2fa80a",
   "metadata": {},
   "outputs": [],
   "source": [
    "type(data_df)"
   ]
  },
  {
   "cell_type": "code",
   "execution_count": null,
   "id": "91c7db9d",
   "metadata": {},
   "outputs": [],
   "source": [
    "data_df.ndim"
   ]
  },
  {
   "cell_type": "code",
   "execution_count": null,
   "id": "98c0e6c0",
   "metadata": {},
   "outputs": [],
   "source": [
    "data_df.index"
   ]
  },
  {
   "cell_type": "code",
   "execution_count": null,
   "id": "6785baaa",
   "metadata": {},
   "outputs": [],
   "source": [
    "data_columns = data_df.columns\n",
    "data_columns"
   ]
  },
  {
   "cell_type": "code",
   "execution_count": null,
   "id": "ac8ddd25",
   "metadata": {},
   "outputs": [],
   "source": [
    "data_df"
   ]
  },
  {
   "cell_type": "code",
   "execution_count": null,
   "id": "743f3733",
   "metadata": {},
   "outputs": [],
   "source": [
    "#Selecting a single column\n",
    "age_col = data_df[\"age\"]\n",
    "age_col"
   ]
  },
  {
   "cell_type": "code",
   "execution_count": null,
   "id": "224fc62d",
   "metadata": {},
   "outputs": [],
   "source": [
    "# the type of age_col is a Series\n",
    "type(age_col)"
   ]
  },
  {
   "cell_type": "code",
   "execution_count": null,
   "id": "1de17427",
   "metadata": {},
   "outputs": [],
   "source": [
    "#Selecting a single column\n",
    "age_col2 = data_df[[\"age\"]]\n",
    "age_col2"
   ]
  },
  {
   "cell_type": "code",
   "execution_count": null,
   "id": "ed5382eb",
   "metadata": {},
   "outputs": [],
   "source": [
    "# the type of age_col is a data Frame\n",
    "type(age_col2)"
   ]
  },
  {
   "cell_type": "code",
   "execution_count": null,
   "id": "bcf3f410",
   "metadata": {},
   "outputs": [],
   "source": [
    "data_df"
   ]
  },
  {
   "cell_type": "code",
   "execution_count": null,
   "id": "5a05555b",
   "metadata": {},
   "outputs": [],
   "source": [
    "#Selecting multiple columns\n",
    "\n",
    "data_df[[\"name\",\"age\"]]"
   ]
  },
  {
   "cell_type": "markdown",
   "id": "2b0ac8a5",
   "metadata": {},
   "source": [
    "### loc method"
   ]
  },
  {
   "cell_type": "markdown",
   "id": "2f0a3f3d",
   "metadata": {},
   "source": [
    "The loc method is used to select rows and columns from a Dataframe based on the row index and the column names."
   ]
  },
  {
   "cell_type": "code",
   "execution_count": null,
   "id": "48125fca",
   "metadata": {},
   "outputs": [],
   "source": [
    "data_df.loc[2,\"name\"]"
   ]
  },
  {
   "cell_type": "code",
   "execution_count": null,
   "id": "3a7d7645",
   "metadata": {},
   "outputs": [],
   "source": [
    "# Selecting all rows for a single column\n",
    "data_df.loc[:,\"name\"]"
   ]
  },
  {
   "cell_type": "code",
   "execution_count": null,
   "id": "d6117db5",
   "metadata": {},
   "outputs": [],
   "source": [
    "# Selecting all columns for a single row\n",
    "data_df.loc[1,:]"
   ]
  },
  {
   "cell_type": "code",
   "execution_count": null,
   "id": "89d317f8",
   "metadata": {},
   "outputs": [],
   "source": [
    "# Select multiple rows\n",
    "data_df.loc[:,[\"name\",\"age\"]]"
   ]
  },
  {
   "cell_type": "code",
   "execution_count": null,
   "id": "1c331584",
   "metadata": {},
   "outputs": [],
   "source": [
    "# Select a subset of rows and columns\n",
    "data_df.loc[1:3,[\"name\",\"age\"]]"
   ]
  },
  {
   "cell_type": "markdown",
   "id": "7cab838e",
   "metadata": {},
   "source": [
    "### iloc"
   ]
  },
  {
   "cell_type": "markdown",
   "id": "33624b7c",
   "metadata": {},
   "source": [
    "It is used to select data by integer position from a DataFrame."
   ]
  },
  {
   "cell_type": "code",
   "execution_count": null,
   "id": "a546b26c",
   "metadata": {},
   "outputs": [],
   "source": [
    "data_df"
   ]
  },
  {
   "cell_type": "code",
   "execution_count": null,
   "id": "b4ffbcc3",
   "metadata": {},
   "outputs": [],
   "source": [
    "#Accessing a single row\n",
    "data_df.iloc[0]"
   ]
  },
  {
   "cell_type": "code",
   "execution_count": null,
   "id": "7039e365",
   "metadata": {},
   "outputs": [],
   "source": [
    "data_df.iloc[0,1]"
   ]
  },
  {
   "cell_type": "code",
   "execution_count": null,
   "id": "579ae514",
   "metadata": {},
   "outputs": [],
   "source": [
    "data_df.iloc[:,1]"
   ]
  },
  {
   "cell_type": "code",
   "execution_count": null,
   "id": "6f819fdd",
   "metadata": {},
   "outputs": [],
   "source": [
    "data_df.iloc[0:2,0:1]"
   ]
  },
  {
   "cell_type": "markdown",
   "id": "77c22338",
   "metadata": {},
   "source": [
    "### Basic Statistics Using Pandas"
   ]
  },
  {
   "cell_type": "code",
   "execution_count": null,
   "id": "54684d4c",
   "metadata": {},
   "outputs": [],
   "source": [
    "my_data = pd.DataFrame({'price': [200, 100, 50, 300, 600], 'profit': [20, 60, 75, 32, 20],'City':['Accra','Tema','Kumasi','Suyani','Koforidua']})\n",
    "my_data"
   ]
  },
  {
   "cell_type": "code",
   "execution_count": null,
   "id": "672b71fe",
   "metadata": {},
   "outputs": [],
   "source": [
    "#Sum of profit\n",
    "my_data[\"profit\"].sum()"
   ]
  },
  {
   "cell_type": "code",
   "execution_count": null,
   "id": "bf87e1bb",
   "metadata": {},
   "outputs": [],
   "source": [
    "#Minimum of Profit\n",
    "my_data[\"profit\"].min()"
   ]
  },
  {
   "cell_type": "code",
   "execution_count": null,
   "id": "07a20f84",
   "metadata": {},
   "outputs": [],
   "source": [
    "#Mmximum of Profit\n",
    "my_data[\"profit\"].max()"
   ]
  },
  {
   "cell_type": "code",
   "execution_count": null,
   "id": "47769e84",
   "metadata": {},
   "outputs": [],
   "source": [
    "#Sum of profit and sum of price\n",
    "my_data[[\"profit\",\"price\"]].sum()"
   ]
  },
  {
   "cell_type": "code",
   "execution_count": null,
   "id": "8eb1b8bb",
   "metadata": {},
   "outputs": [],
   "source": [
    "#Mean of profit and sum of price\n",
    "my_data[[\"profit\",\"price\"]].mean()"
   ]
  },
  {
   "cell_type": "code",
   "execution_count": null,
   "id": "80b61424",
   "metadata": {},
   "outputs": [],
   "source": [
    "#Standard Deviation of profit and sum of price\n",
    "my_data[[\"profit\",\"price\"]].std()"
   ]
  },
  {
   "cell_type": "code",
   "execution_count": null,
   "id": "fdc372f9",
   "metadata": {},
   "outputs": [],
   "source": [
    "#Brief statistics of the dataframe\n",
    "my_data.describe()"
   ]
  },
  {
   "cell_type": "code",
   "execution_count": null,
   "id": "76ab2e3c",
   "metadata": {},
   "outputs": [],
   "source": [
    "#Brief info of the dataframe\n",
    "my_data.info()"
   ]
  },
  {
   "cell_type": "code",
   "execution_count": null,
   "id": "86c244cb",
   "metadata": {},
   "outputs": [],
   "source": [
    "#the number of non null-values\n",
    "my_data.count()"
   ]
  },
  {
   "cell_type": "markdown",
   "id": "14bf393e",
   "metadata": {},
   "source": [
    "### Read CSV Files  \n",
    "\n",
    "A simple way to store big data sets is to use CSV files (comma separated files).\n",
    "\n",
    "CSV files contains plain text and is a well know format that can be read by everyone including Pandas.\n",
    "\n",
    "In our examples we will be using a CSV file called 'data.csv'."
   ]
  },
  {
   "cell_type": "code",
   "execution_count": 1,
   "id": "75d4730b",
   "metadata": {},
   "outputs": [],
   "source": [
    "###Load the CSV into a DataFrame:\n",
    "\n",
    "import pandas as pd\n",
    "\n",
    "df = pd.read_csv(\"data.csv\")\n",
    "\n",
    "#print(df.to_string()) "
   ]
  },
  {
   "cell_type": "markdown",
   "id": "9f06308a",
   "metadata": {},
   "source": [
    "### Viewing the Data  \n",
    "\n",
    "One of the most used method for getting a quick overview of the DataFrame, is the head() method.\n",
    "\n",
    "The head() method returns the headers and a specified number of rows, starting from the top."
   ]
  },
  {
   "cell_type": "code",
   "execution_count": 7,
   "id": "725ec5ba",
   "metadata": {},
   "outputs": [
    {
     "name": "stdout",
     "output_type": "stream",
     "text": [
      "   Duration  Pulse  Maxpulse  Calories\n",
      "0        60    110       130     409.1\n",
      "1        60    117       145     479.0\n",
      "2        60    103       135     340.0\n",
      "3        45    109       175     282.4\n",
      "4        45    117       148     406.0\n",
      "5        60    102       127     300.0\n",
      "6        60    110       136     374.0\n",
      "7        45    104       134     253.3\n",
      "8        30    109       133     195.1\n",
      "9        60     98       124     269.0\n"
     ]
    }
   ],
   "source": [
    "import pandas as pd\n",
    "\n",
    "df = pd.read_csv('data.csv')\n",
    "\n",
    "print(df.head(10))\n"
   ]
  },
  {
   "cell_type": "markdown",
   "id": "6c647bc9",
   "metadata": {},
   "source": [
    "There is also a tail() method for viewing the last rows of the DataFrame.\n",
    "\n",
    "The tail() method returns the headers and a specified number of rows, starting from the bottom."
   ]
  },
  {
   "cell_type": "code",
   "execution_count": 11,
   "id": "1a0644f8",
   "metadata": {},
   "outputs": [
    {
     "name": "stdout",
     "output_type": "stream",
     "text": [
      "     Duration  Pulse  Maxpulse  Calories\n",
      "149        60    110       150     409.4\n",
      "150        60    106       134     343.0\n",
      "151        60    109       129     353.2\n",
      "152        60    109       138     374.0\n",
      "153        30    150       167     275.8\n",
      "154        60    105       128     328.0\n",
      "155        60    111       151     368.5\n",
      "156        60     97       131     270.4\n",
      "157        60    100       120     270.4\n",
      "158        60    114       150     382.8\n",
      "159        30     80       120     240.9\n",
      "160        30     85       120     250.4\n",
      "161        45     90       130     260.4\n",
      "162        45     95       130     270.0\n",
      "163        45    100       140     280.9\n",
      "164        60    105       140     290.8\n",
      "165        60    110       145     300.0\n",
      "166        60    115       145     310.2\n",
      "167        75    120       150     320.4\n",
      "168        75    125       150     330.4\n"
     ]
    }
   ],
   "source": [
    "print(df.tail(20)) "
   ]
  },
  {
   "cell_type": "markdown",
   "id": "f2a7a08e",
   "metadata": {},
   "source": [
    "### Info About the Data  \n",
    "\n",
    "The DataFrames object has a method called info(), that gives you more information about the data set."
   ]
  },
  {
   "cell_type": "code",
   "execution_count": 12,
   "id": "f1e0c487",
   "metadata": {},
   "outputs": [
    {
     "name": "stdout",
     "output_type": "stream",
     "text": [
      "<class 'pandas.core.frame.DataFrame'>\n",
      "RangeIndex: 169 entries, 0 to 168\n",
      "Data columns (total 4 columns):\n",
      " #   Column    Non-Null Count  Dtype  \n",
      "---  ------    --------------  -----  \n",
      " 0   Duration  169 non-null    int64  \n",
      " 1   Pulse     169 non-null    int64  \n",
      " 2   Maxpulse  169 non-null    int64  \n",
      " 3   Calories  164 non-null    float64\n",
      "dtypes: float64(1), int64(3)\n",
      "memory usage: 5.4 KB\n",
      "None\n"
     ]
    }
   ],
   "source": [
    "print(df.info()) "
   ]
  },
  {
   "cell_type": "markdown",
   "id": "26892fe2",
   "metadata": {},
   "source": [
    "### Null Values  \n",
    "\n",
    "The info() method also tells us how many Non-Null values there are present in each column, and in our data set it seems like there are 164 of 169 Non-Null values in the \"Calories\" column.\n",
    "\n",
    "Which means that there are 5 rows with no value at all, in the \"Calories\" column, for whatever reason.\n",
    "\n",
    "Empty values, or Null values, can be bad when analyzing data, and you should consider removing rows with empty values. This is a step towards what is called cleaning data, and you will learn more about that in the next chapters.\n",
    "\n"
   ]
  },
  {
   "cell_type": "code",
   "execution_count": null,
   "id": "32be6468",
   "metadata": {},
   "outputs": [],
   "source": []
  }
 ],
 "metadata": {
  "kernelspec": {
   "display_name": "Python 3 (ipykernel)",
   "language": "python",
   "name": "python3"
  },
  "language_info": {
   "codemirror_mode": {
    "name": "ipython",
    "version": 3
   },
   "file_extension": ".py",
   "mimetype": "text/x-python",
   "name": "python",
   "nbconvert_exporter": "python",
   "pygments_lexer": "ipython3",
   "version": "3.10.9"
  }
 },
 "nbformat": 4,
 "nbformat_minor": 5
}
