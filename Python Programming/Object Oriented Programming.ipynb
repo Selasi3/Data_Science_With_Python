{
 "cells": [
  {
   "cell_type": "markdown",
   "id": "648db128",
   "metadata": {},
   "source": [
    "# Object Oriented Programming(OOP)\n"
   ]
  },
  {
   "cell_type": "markdown",
   "id": "671f14d7",
   "metadata": {},
   "source": [
    "- Object-oriented programming is a computer programming model that relies on the concept of classes and objects rather than fuctions and logic."
   ]
  },
  {
   "cell_type": "markdown",
   "id": "6b926c40",
   "metadata": {},
   "source": [
    "### Advantages of OOP\n",
    "\n",
    "  * It reduces code repetition using the principle Don't Repeat Yourself(DRY) principle"
   ]
  },
  {
   "cell_type": "markdown",
   "id": "6dc183f0",
   "metadata": {},
   "source": [
    "Object :\n",
    "\n",
    "In Python everything is an object and every object has a class"
   ]
  },
  {
   "cell_type": "code",
   "execution_count": 1,
   "id": "473559f2",
   "metadata": {},
   "outputs": [],
   "source": [
    "num =5"
   ]
  },
  {
   "cell_type": "code",
   "execution_count": 26,
   "id": "98772f76",
   "metadata": {},
   "outputs": [
    {
     "name": "stdout",
     "output_type": "stream",
     "text": [
      "<class 'int'>\n"
     ]
    }
   ],
   "source": [
    "print(type(num))"
   ]
  },
  {
   "cell_type": "markdown",
   "id": "25b7e2ee",
   "metadata": {},
   "source": [
    "**Class:**\n",
    "\n",
    "A  class is a blueprint for an object which describe the state(attributes) and behaviour(methods) of an object"
   ]
  },
  {
   "cell_type": "markdown",
   "id": "6b47753c",
   "metadata": {},
   "source": [
    "**Instance:**\n",
    "\n",
    "An instance is an object that is built from a class and contains real data"
   ]
  },
  {
   "cell_type": "markdown",
   "id": "f35de8b7",
   "metadata": {},
   "source": [
    "**Attributes**\n",
    "\n",
    "Atrributes are variables that belongs to a class"
   ]
  },
  {
   "cell_type": "markdown",
   "id": "831dd6b9",
   "metadata": {},
   "source": [
    "**Methods**\n",
    "\n",
    "Methods are functions that belongs to a class"
   ]
  },
  {
   "cell_type": "markdown",
   "id": "4e9e2c6b",
   "metadata": {},
   "source": [
    "### Examples:\n",
    "\n",
    "Create a class Fruit\n",
    "\n",
    "Examples of fruits banana, apple, orange are instance of the class Fruits\n",
    "\n",
    "The size and color of the fruit are attributes of the fruits.\n",
    "\n",
    " The methods of the class fruit can be cut method, the eat"
   ]
  },
  {
   "cell_type": "markdown",
   "id": "940953b5",
   "metadata": {},
   "source": [
    "### Creating  a Class in Python"
   ]
  },
  {
   "cell_type": "markdown",
   "id": "43b9d718",
   "metadata": {},
   "source": [
    "To create a class in Python use the keyword **class** followed by the name of the class and a colon.\n",
    "\n",
    "The class name should be in CamelCase.\n",
    "\n",
    "The body of the class comprises of the attributes and methods of the class"
   ]
  },
  {
   "cell_type": "code",
   "execution_count": 27,
   "id": "cc49e1d6",
   "metadata": {},
   "outputs": [],
   "source": [
    "class DataAnalytics:\n",
    "    pass"
   ]
  },
  {
   "cell_type": "code",
   "execution_count": 30,
   "id": "6094c67c",
   "metadata": {},
   "outputs": [
    {
     "data": {
      "text/plain": [
       "<__main__.DataAnalytics at 0x1dd8037ccd0>"
      ]
     },
     "execution_count": 30,
     "metadata": {},
     "output_type": "execute_result"
    }
   ],
   "source": [
    "# Create  an instance of DataAnalytics\n",
    "data = DataAnalytics()\n",
    "data"
   ]
  },
  {
   "cell_type": "code",
   "execution_count": 31,
   "id": "7b926215",
   "metadata": {},
   "outputs": [
    {
     "data": {
      "text/plain": [
       "__main__.DataAnalytics"
      ]
     },
     "execution_count": 31,
     "metadata": {},
     "output_type": "execute_result"
    }
   ],
   "source": [
    "type(data)"
   ]
  },
  {
   "cell_type": "code",
   "execution_count": 5,
   "id": "c39c2fc8",
   "metadata": {},
   "outputs": [
    {
     "data": {
      "text/plain": [
       "<__main__.MyClass at 0x1ddfefd8370>"
      ]
     },
     "execution_count": 5,
     "metadata": {},
     "output_type": "execute_result"
    }
   ],
   "source": [
    "myclass"
   ]
  },
  {
   "cell_type": "code",
   "execution_count": 6,
   "id": "c18e3bb8",
   "metadata": {},
   "outputs": [
    {
     "data": {
      "text/plain": [
       "__main__.MyClass"
      ]
     },
     "execution_count": 6,
     "metadata": {},
     "output_type": "execute_result"
    }
   ],
   "source": [
    "type(myclass)"
   ]
  },
  {
   "cell_type": "markdown",
   "id": "fb8fa111",
   "metadata": {},
   "source": [
    "**__init__ method**\n",
    "\n",
    "The init method of the class is called the constructor of the class.\n",
    "It is used to initialize the attribute of the class and can  take a number of argument.\n",
    "\n",
    "The first argument of the __init__ method is always the **self** argument, which refers to the instance of the class being created."
   ]
  },
  {
   "cell_type": "code",
   "execution_count": 7,
   "id": "844f6344",
   "metadata": {},
   "outputs": [],
   "source": [
    "delali= [\"ama\",78,\"blossom\"]\n",
    "samuel= [\"kojo\",98,\"blossom\"]\n",
    "denver= [\"kwame\",\"blossom\"]"
   ]
  },
  {
   "cell_type": "code",
   "execution_count": 8,
   "id": "09e1cbbc",
   "metadata": {},
   "outputs": [
    {
     "data": {
      "text/plain": [
       "'blossom'"
      ]
     },
     "execution_count": 8,
     "metadata": {},
     "output_type": "execute_result"
    }
   ],
   "source": [
    "denver[1]"
   ]
  },
  {
   "cell_type": "code",
   "execution_count": 72,
   "id": "b027aa23",
   "metadata": {},
   "outputs": [],
   "source": [
    "category = \"mango\"\n",
    "class Fruits:\n",
    "    category = \"fruit species\"\n",
    "    \n",
    "    def __init__(self,name, colour,age):\n",
    "        self.name = name\n",
    "        self.colour = colour\n",
    "        self.age = age\n",
    "        \n",
    "    def __str__(self):\n",
    "        return f\"{self.name.title()} is a fruit and it has a {self.colour} colour.\"\n",
    "    \n",
    "    def set_texture(self,texture):\n",
    "        self.texture = texture\n",
    "        \n",
    "\n",
    "        \n",
    "    \n",
    "    "
   ]
  },
  {
   "cell_type": "code",
   "execution_count": 73,
   "id": "e744d5aa",
   "metadata": {},
   "outputs": [
    {
     "data": {
      "text/plain": [
       "<__main__.Fruits at 0x1dd8010b610>"
      ]
     },
     "execution_count": 73,
     "metadata": {},
     "output_type": "execute_result"
    }
   ],
   "source": [
    "Fruits(\"Orange\",\"Yellow\",\"102\")"
   ]
  },
  {
   "cell_type": "code",
   "execution_count": 74,
   "id": "ed4e274c",
   "metadata": {},
   "outputs": [],
   "source": [
    "orange = Fruits(\"Orange\",\"Yellow\",\"102\")"
   ]
  },
  {
   "cell_type": "code",
   "execution_count": 75,
   "id": "ed7cee67",
   "metadata": {},
   "outputs": [
    {
     "data": {
      "text/plain": [
       "'Orange'"
      ]
     },
     "execution_count": 75,
     "metadata": {},
     "output_type": "execute_result"
    }
   ],
   "source": [
    "orange.name"
   ]
  },
  {
   "cell_type": "code",
   "execution_count": 76,
   "id": "e3f6ce4d",
   "metadata": {},
   "outputs": [
    {
     "data": {
      "text/plain": [
       "'Yellow'"
      ]
     },
     "execution_count": 76,
     "metadata": {},
     "output_type": "execute_result"
    }
   ],
   "source": [
    "orange.colour"
   ]
  },
  {
   "cell_type": "code",
   "execution_count": 77,
   "id": "797cd094",
   "metadata": {},
   "outputs": [
    {
     "data": {
      "text/plain": [
       "'102'"
      ]
     },
     "execution_count": 77,
     "metadata": {},
     "output_type": "execute_result"
    }
   ],
   "source": [
    "orange.age"
   ]
  },
  {
   "cell_type": "code",
   "execution_count": 78,
   "id": "8afd88cc",
   "metadata": {},
   "outputs": [],
   "source": [
    "apple = Fruits(\"apple\",\"green\",90)"
   ]
  },
  {
   "cell_type": "code",
   "execution_count": 79,
   "id": "e43685fd",
   "metadata": {},
   "outputs": [
    {
     "data": {
      "text/plain": [
       "90"
      ]
     },
     "execution_count": 79,
     "metadata": {},
     "output_type": "execute_result"
    }
   ],
   "source": [
    "apple.age"
   ]
  },
  {
   "cell_type": "code",
   "execution_count": 80,
   "id": "31090a73",
   "metadata": {},
   "outputs": [
    {
     "data": {
      "text/plain": [
       "'green'"
      ]
     },
     "execution_count": 80,
     "metadata": {},
     "output_type": "execute_result"
    }
   ],
   "source": [
    "apple.colour"
   ]
  },
  {
   "cell_type": "code",
   "execution_count": 81,
   "id": "bdc3c3cb",
   "metadata": {},
   "outputs": [
    {
     "data": {
      "text/plain": [
       "'apple'"
      ]
     },
     "execution_count": 81,
     "metadata": {},
     "output_type": "execute_result"
    }
   ],
   "source": [
    "apple.name"
   ]
  },
  {
   "cell_type": "code",
   "execution_count": 82,
   "id": "ebb5186a",
   "metadata": {},
   "outputs": [],
   "source": [
    "apple.set_texture(\"smooth\")\n",
    "orange.set_texture(\"rough\")"
   ]
  },
  {
   "cell_type": "code",
   "execution_count": 83,
   "id": "1121d381",
   "metadata": {},
   "outputs": [
    {
     "data": {
      "text/plain": [
       "'smooth'"
      ]
     },
     "execution_count": 83,
     "metadata": {},
     "output_type": "execute_result"
    }
   ],
   "source": [
    "apple.texture"
   ]
  },
  {
   "cell_type": "code",
   "execution_count": 84,
   "id": "0c531907",
   "metadata": {},
   "outputs": [
    {
     "data": {
      "text/plain": [
       "'rough'"
      ]
     },
     "execution_count": 84,
     "metadata": {},
     "output_type": "execute_result"
    }
   ],
   "source": [
    "orange.texture"
   ]
  },
  {
   "cell_type": "code",
   "execution_count": 85,
   "id": "995027fa",
   "metadata": {},
   "outputs": [
    {
     "data": {
      "text/plain": [
       "'Orange is a fruit and it has a Yellow colour.'"
      ]
     },
     "execution_count": 85,
     "metadata": {},
     "output_type": "execute_result"
    }
   ],
   "source": [
    "str(orange)"
   ]
  },
  {
   "cell_type": "code",
   "execution_count": 86,
   "id": "fff55bdc",
   "metadata": {},
   "outputs": [
    {
     "name": "stdout",
     "output_type": "stream",
     "text": [
      "Orange is a fruit and it has a Yellow colour.\n"
     ]
    }
   ],
   "source": [
    "print(orange)"
   ]
  },
  {
   "cell_type": "code",
   "execution_count": 87,
   "id": "1fd2cf20",
   "metadata": {},
   "outputs": [
    {
     "data": {
      "text/plain": [
       "'Apple is a fruit and it has a green colour.'"
      ]
     },
     "execution_count": 87,
     "metadata": {},
     "output_type": "execute_result"
    }
   ],
   "source": [
    "str(apple)"
   ]
  },
  {
   "cell_type": "code",
   "execution_count": 88,
   "id": "e6eacdea",
   "metadata": {},
   "outputs": [
    {
     "name": "stdout",
     "output_type": "stream",
     "text": [
      "Apple is a fruit and it has a green colour.\n"
     ]
    }
   ],
   "source": [
    "print(apple)"
   ]
  },
  {
   "cell_type": "code",
   "execution_count": 89,
   "id": "a213aa83",
   "metadata": {},
   "outputs": [
    {
     "data": {
      "text/plain": [
       "'fruit species'"
      ]
     },
     "execution_count": 89,
     "metadata": {},
     "output_type": "execute_result"
    }
   ],
   "source": [
    "Fruits.category"
   ]
  },
  {
   "cell_type": "code",
   "execution_count": 90,
   "id": "11cc2b6d",
   "metadata": {},
   "outputs": [
    {
     "data": {
      "text/plain": [
       "'fruit species'"
      ]
     },
     "execution_count": 90,
     "metadata": {},
     "output_type": "execute_result"
    }
   ],
   "source": [
    "apple.category"
   ]
  },
  {
   "cell_type": "code",
   "execution_count": 91,
   "id": "48c0be1e",
   "metadata": {},
   "outputs": [
    {
     "data": {
      "text/plain": [
       "'fruit species'"
      ]
     },
     "execution_count": 91,
     "metadata": {},
     "output_type": "execute_result"
    }
   ],
   "source": [
    "orange.category"
   ]
  },
  {
   "cell_type": "code",
   "execution_count": null,
   "id": "74c40ed8",
   "metadata": {},
   "outputs": [],
   "source": []
  },
  {
   "cell_type": "code",
   "execution_count": null,
   "id": "e0906ed9",
   "metadata": {},
   "outputs": [],
   "source": []
  },
  {
   "cell_type": "code",
   "execution_count": null,
   "id": "f66a1788",
   "metadata": {},
   "outputs": [],
   "source": []
  },
  {
   "cell_type": "code",
   "execution_count": 11,
   "id": "4a5289c8",
   "metadata": {},
   "outputs": [
    {
     "data": {
      "text/plain": [
       "'yellow'"
      ]
     },
     "execution_count": 11,
     "metadata": {},
     "output_type": "execute_result"
    }
   ],
   "source": [
    "#Accessing the color of the orange \n",
    "orange.color"
   ]
  },
  {
   "cell_type": "code",
   "execution_count": 12,
   "id": "e315d9a7",
   "metadata": {},
   "outputs": [
    {
     "data": {
      "text/plain": [
       "'orange'"
      ]
     },
     "execution_count": 12,
     "metadata": {},
     "output_type": "execute_result"
    }
   ],
   "source": [
    "#Accessing the name of the orange \n",
    "orange.name"
   ]
  },
  {
   "cell_type": "code",
   "execution_count": 13,
   "id": "939b5140",
   "metadata": {},
   "outputs": [
    {
     "data": {
      "text/plain": [
       "'banana'"
      ]
     },
     "execution_count": 13,
     "metadata": {},
     "output_type": "execute_result"
    }
   ],
   "source": [
    "banana.name"
   ]
  },
  {
   "cell_type": "code",
   "execution_count": 14,
   "id": "f7a7214f",
   "metadata": {},
   "outputs": [
    {
     "data": {
      "text/plain": [
       "'green'"
      ]
     },
     "execution_count": 14,
     "metadata": {},
     "output_type": "execute_result"
    }
   ],
   "source": [
    "banana.color"
   ]
  },
  {
   "cell_type": "code",
   "execution_count": null,
   "id": "e8317686",
   "metadata": {},
   "outputs": [],
   "source": []
  },
  {
   "cell_type": "markdown",
   "id": "f586d0cf",
   "metadata": {},
   "source": [
    "**__str__ method**\n",
    "\n",
    "This method returns a string representation of an object."
   ]
  },
  {
   "cell_type": "code",
   "execution_count": 15,
   "id": "74606234",
   "metadata": {},
   "outputs": [],
   "source": [
    "class Fruit:\n",
    "    def __init__(self, name, color):\n",
    "        self.name = name\n",
    "        self.color = color\n",
    "        \n",
    "    def __str__(self):\n",
    "        return f\"{self.name.title()} is a fruit and it has a {self.color} color.\""
   ]
  },
  {
   "cell_type": "code",
   "execution_count": 16,
   "id": "6be0b3bb",
   "metadata": {},
   "outputs": [],
   "source": [
    "orange = Fruit(\"orange\",\"yellow\")"
   ]
  },
  {
   "cell_type": "code",
   "execution_count": 17,
   "id": "027c93aa",
   "metadata": {},
   "outputs": [
    {
     "name": "stdout",
     "output_type": "stream",
     "text": [
      "Orange is a fruit and it has a yellow color.\n"
     ]
    }
   ],
   "source": [
    "print(orange)"
   ]
  },
  {
   "cell_type": "code",
   "execution_count": 18,
   "id": "139f3fcd",
   "metadata": {},
   "outputs": [],
   "source": [
    "pawpaw = Fruit(\"pawpaw\",\"yellow\")"
   ]
  },
  {
   "cell_type": "code",
   "execution_count": 19,
   "id": "a04b169b",
   "metadata": {},
   "outputs": [
    {
     "name": "stdout",
     "output_type": "stream",
     "text": [
      "Pawpaw is a fruit and it has a yellow color.\n"
     ]
    }
   ],
   "source": [
    "print(pawpaw)"
   ]
  },
  {
   "cell_type": "code",
   "execution_count": 20,
   "id": "11dbfd76",
   "metadata": {},
   "outputs": [
    {
     "data": {
      "text/plain": [
       "'yellow'"
      ]
     },
     "execution_count": 20,
     "metadata": {},
     "output_type": "execute_result"
    }
   ],
   "source": [
    "pawpaw.color"
   ]
  },
  {
   "cell_type": "code",
   "execution_count": 21,
   "id": "e04a8abb",
   "metadata": {},
   "outputs": [
    {
     "data": {
      "text/plain": [
       "'pawpaw'"
      ]
     },
     "execution_count": 21,
     "metadata": {},
     "output_type": "execute_result"
    }
   ],
   "source": [
    "pawpaw.name"
   ]
  },
  {
   "cell_type": "code",
   "execution_count": 22,
   "id": "4f57daa3",
   "metadata": {},
   "outputs": [
    {
     "ename": "AttributeError",
     "evalue": "'Fruit' object has no attribute 'texture'",
     "output_type": "error",
     "traceback": [
      "\u001b[1;31m---------------------------------------------------------------------------\u001b[0m",
      "\u001b[1;31mAttributeError\u001b[0m                            Traceback (most recent call last)",
      "Input \u001b[1;32mIn [22]\u001b[0m, in \u001b[0;36m<cell line: 2>\u001b[1;34m()\u001b[0m\n\u001b[0;32m      1\u001b[0m \u001b[38;5;66;03m# This will throw an error\u001b[39;00m\n\u001b[1;32m----> 2\u001b[0m \u001b[43mpawpaw\u001b[49m\u001b[38;5;241;43m.\u001b[39;49m\u001b[43mtexture\u001b[49m\n",
      "\u001b[1;31mAttributeError\u001b[0m: 'Fruit' object has no attribute 'texture'"
     ]
    }
   ],
   "source": [
    "# This will throw an error\n",
    "pawpaw.texture"
   ]
  },
  {
   "cell_type": "code",
   "execution_count": null,
   "id": "f9849644",
   "metadata": {},
   "outputs": [],
   "source": []
  },
  {
   "cell_type": "code",
   "execution_count": null,
   "id": "dacad1b9",
   "metadata": {},
   "outputs": [],
   "source": [
    "class Fruit:\n",
    "    def __init__(self, name, color):\n",
    "        self.name = name\n",
    "        self.color = color\n",
    "        \n",
    "    def set_texture(self,texture_type):\n",
    "        self.texture = texture_type\n",
    "        \n",
    "    def __str__(self):\n",
    "        return f\"{self.name.title()} is a fruit and it has a {self.color} color.\""
   ]
  },
  {
   "cell_type": "code",
   "execution_count": null,
   "id": "8dee523f",
   "metadata": {},
   "outputs": [],
   "source": [
    "apple =Fruit(\"apple\",\"green\")"
   ]
  },
  {
   "cell_type": "code",
   "execution_count": null,
   "id": "382bda95",
   "metadata": {},
   "outputs": [],
   "source": [
    "print(apple)"
   ]
  },
  {
   "cell_type": "code",
   "execution_count": null,
   "id": "0474d7d9",
   "metadata": {},
   "outputs": [],
   "source": [
    "apple.set_texture(\"smooth\")"
   ]
  },
  {
   "cell_type": "code",
   "execution_count": null,
   "id": "84765981",
   "metadata": {},
   "outputs": [],
   "source": [
    "apple.texture"
   ]
  },
  {
   "cell_type": "markdown",
   "id": "73470b27",
   "metadata": {},
   "source": [
    "### Class Attribute\n",
    "\n",
    "Attribute of a class that is shared among all instances of a class"
   ]
  },
  {
   "cell_type": "code",
   "execution_count": 65,
   "id": "719ae61e",
   "metadata": {},
   "outputs": [],
   "source": [
    "class Fruit:\n",
    "    category = \"Fruit Type\"\n",
    "    def __init__(self, name, color):\n",
    "        self.name = name\n",
    "        self.color = color\n",
    "        \n",
    "    def set_texture(self,texture_type):\n",
    "        self.texture = texture_type\n",
    "        \n",
    "    def __str__(self):\n",
    "        return f\"{self.name.title()} is a fruit and it has a {self.color} color.\""
   ]
  },
  {
   "cell_type": "code",
   "execution_count": 66,
   "id": "453d9483",
   "metadata": {},
   "outputs": [],
   "source": [
    "pawpaw = Fruit(\"pawpaw\",\"yellow\")\n",
    "apple =Fruit(\"apple\",\"green\")"
   ]
  },
  {
   "cell_type": "code",
   "execution_count": 67,
   "id": "d5f28528",
   "metadata": {},
   "outputs": [
    {
     "data": {
      "text/plain": [
       "'Fruit Type'"
      ]
     },
     "execution_count": 67,
     "metadata": {},
     "output_type": "execute_result"
    }
   ],
   "source": [
    "pawpaw.category"
   ]
  },
  {
   "cell_type": "code",
   "execution_count": 68,
   "id": "0d50d51c",
   "metadata": {},
   "outputs": [
    {
     "data": {
      "text/plain": [
       "'Fruit Type'"
      ]
     },
     "execution_count": 68,
     "metadata": {},
     "output_type": "execute_result"
    }
   ],
   "source": [
    "apple.category"
   ]
  },
  {
   "cell_type": "code",
   "execution_count": null,
   "id": "c5f4995a",
   "metadata": {},
   "outputs": [],
   "source": []
  },
  {
   "cell_type": "markdown",
   "id": "bbec7604",
   "metadata": {},
   "source": [
    "### Class Methods:\n",
    "\n",
    "Class method is a method bounded to the class and not the instance of the class."
   ]
  },
  {
   "cell_type": "code",
   "execution_count": null,
   "id": "4133adc3",
   "metadata": {},
   "outputs": [],
   "source": [
    "\n",
    "class Fruit:\n",
    "    category = \"Fruit Type\"\n",
    "    #using class methods to create object\n",
    "    @classmethod\n",
    "    def create_friut(cls, fruit_name, fruit_color):\n",
    "        return cls(fruit_name,fruit_color)\n",
    "    \n",
    "    @classmethod\n",
    "    def description(cls):\n",
    "        print(\"Modelling a Fruit\")\n",
    "        \n",
    "    def __init__(self, name, color):\n",
    "        self.name = name\n",
    "        self.color = color\n",
    "        \n",
    "    def set_texture(self,texture_type):\n",
    "        self.texture = texture_type\n",
    "        \n",
    "\n",
    "    def __str__(self):\n",
    "        return f\"{self.name.title()} is a fruit and it has a {self.color} color.\""
   ]
  },
  {
   "cell_type": "code",
   "execution_count": null,
   "id": "87569151",
   "metadata": {},
   "outputs": [],
   "source": [
    "watermelon =Fruit.create_friut(\"watermelon\",\"green\")"
   ]
  },
  {
   "cell_type": "code",
   "execution_count": null,
   "id": "5165e5d4",
   "metadata": {},
   "outputs": [],
   "source": [
    "print(watermelon)"
   ]
  },
  {
   "cell_type": "code",
   "execution_count": null,
   "id": "c6443a80",
   "metadata": {},
   "outputs": [],
   "source": [
    "watermelon.name"
   ]
  },
  {
   "cell_type": "code",
   "execution_count": null,
   "id": "38d7023d",
   "metadata": {},
   "outputs": [],
   "source": [
    "watermelon.color"
   ]
  },
  {
   "cell_type": "code",
   "execution_count": null,
   "id": "5681bbbb",
   "metadata": {},
   "outputs": [],
   "source": [
    "Fruit.description()"
   ]
  },
  {
   "cell_type": "code",
   "execution_count": null,
   "id": "55e108ec",
   "metadata": {},
   "outputs": [],
   "source": [
    "watermelon.description()"
   ]
  },
  {
   "cell_type": "code",
   "execution_count": null,
   "id": "3d503d6a",
   "metadata": {},
   "outputs": [],
   "source": []
  },
  {
   "cell_type": "markdown",
   "id": "ecbf63da",
   "metadata": {},
   "source": [
    "### Encapsulation"
   ]
  },
  {
   "cell_type": "markdown",
   "id": "41c42ed6",
   "metadata": {},
   "source": [
    "Encapsulation refers to the practice of hiding the implementation details of an object from the outside world, and instead providing a public interface for accessing and manipulating the object's data.\n",
    "\n",
    "Encapsulation uses access modifiers to specify the visibility and accessibility of the class attributes and methods.\n",
    "\n",
    "The two types of access modifiers are **public** and **private**\n",
    "\n",
    "Public attributes and methods can be accessed from anywhere in the program, while private attributes and methods can only be accessed from within the class itself. \n",
    "\n",
    "Private attributes and methods are indicated by using double underscore (__) before the attribute or method name."
   ]
  },
  {
   "cell_type": "code",
   "execution_count": 118,
   "id": "321e9cf3",
   "metadata": {},
   "outputs": [],
   "source": [
    "class Student:\n",
    "    def __init__(self, name, index_number):\n",
    "        self.name = name                 # Public attribute\n",
    "        self.__index_number = index_number # Private attribute\n",
    "        self.marks = {} \n",
    "# Public attribute\n",
    "\n",
    "    def get_index_number(self):\n",
    "        return self.__index_number\n",
    "\n",
    "    def add_marks(self, subject, marks, position):\n",
    "        self.marks[subject] = marks\n",
    "        \n",
    "\n",
    "    def get_marks(self):\n",
    "        return self.marks\n",
    "\n"
   ]
  },
  {
   "cell_type": "code",
   "execution_count": 119,
   "id": "3c73918e",
   "metadata": {},
   "outputs": [],
   "source": [
    "student_1 = Student(\"Selasi\",\"PS001\")"
   ]
  },
  {
   "cell_type": "code",
   "execution_count": 120,
   "id": "13bfdfed",
   "metadata": {},
   "outputs": [
    {
     "data": {
      "text/plain": [
       "'Selasi'"
      ]
     },
     "execution_count": 120,
     "metadata": {},
     "output_type": "execute_result"
    }
   ],
   "source": [
    "student_1.name"
   ]
  },
  {
   "cell_type": "code",
   "execution_count": 121,
   "id": "ab8c26d8",
   "metadata": {},
   "outputs": [
    {
     "ename": "AttributeError",
     "evalue": "'Student' object has no attribute '__index_number'",
     "output_type": "error",
     "traceback": [
      "\u001b[1;31m---------------------------------------------------------------------------\u001b[0m",
      "\u001b[1;31mAttributeError\u001b[0m                            Traceback (most recent call last)",
      "Input \u001b[1;32mIn [121]\u001b[0m, in \u001b[0;36m<cell line: 2>\u001b[1;34m()\u001b[0m\n\u001b[0;32m      1\u001b[0m \u001b[38;5;66;03m#This will throw an error\u001b[39;00m\n\u001b[1;32m----> 2\u001b[0m \u001b[43mstudent_1\u001b[49m\u001b[38;5;241;43m.\u001b[39;49m\u001b[43m__index_number\u001b[49m\n",
      "\u001b[1;31mAttributeError\u001b[0m: 'Student' object has no attribute '__index_number'"
     ]
    }
   ],
   "source": [
    "#This will throw an error\n",
    "student_1.__index_number"
   ]
  },
  {
   "cell_type": "code",
   "execution_count": 96,
   "id": "ea8c44ce",
   "metadata": {},
   "outputs": [
    {
     "name": "stdout",
     "output_type": "stream",
     "text": [
      "PS001\n"
     ]
    }
   ],
   "source": [
    "print(student_1.get_index_number())      \n"
   ]
  },
  {
   "cell_type": "code",
   "execution_count": 97,
   "id": "c8943b2b",
   "metadata": {},
   "outputs": [],
   "source": [
    "student_1.add_marks(\"Maths\", 88)\n",
    "student_1.add_marks(\"Science\", 90)"
   ]
  },
  {
   "cell_type": "code",
   "execution_count": 98,
   "id": "3bd7a912",
   "metadata": {},
   "outputs": [
    {
     "data": {
      "text/plain": [
       "{'Maths': 88, 'Science': 90}"
      ]
     },
     "execution_count": 98,
     "metadata": {},
     "output_type": "execute_result"
    }
   ],
   "source": [
    "student_1.get_marks()"
   ]
  },
  {
   "cell_type": "code",
   "execution_count": null,
   "id": "7bb72e0f",
   "metadata": {},
   "outputs": [],
   "source": []
  },
  {
   "cell_type": "markdown",
   "id": "da17c97c",
   "metadata": {},
   "source": [
    "### Inheritance"
   ]
  },
  {
   "cell_type": "markdown",
   "id": "f8712863",
   "metadata": {},
   "source": [
    "Inheritance is the act of allowing a class to possess all the properties (attributes and methods) of another class.\n",
    "\n",
    "The class which is being inherited is called parent class whilst the one that inherits is called child class"
   ]
  },
  {
   "cell_type": "code",
   "execution_count": 100,
   "id": "2daac849",
   "metadata": {},
   "outputs": [],
   "source": [
    "class Person:\n",
    "    def __init__(self, name, age):\n",
    "        self.name = name\n",
    "        self.age = age\n",
    "\n",
    "    def info(self):\n",
    "        print({\"Name\": self.name,\"Age:\": self.age})\n",
    "\n",
    "\n",
    "class Student(Person):\n",
    "    def __init__(self, name, age, index_number):\n",
    "        super().__init__(name, age)\n",
    "        self.index_number = index_number\n",
    "\n",
    "    def info(self):\n",
    "        print({\"Name\": self.name,\"Age:\": self.age,\"Index number\":self.index_number})"
   ]
  },
  {
   "cell_type": "code",
   "execution_count": 101,
   "id": "72aa2d90",
   "metadata": {},
   "outputs": [],
   "source": [
    "person_1 = Person(\"Selasi\", 15)"
   ]
  },
  {
   "cell_type": "code",
   "execution_count": 102,
   "id": "8528a44e",
   "metadata": {},
   "outputs": [
    {
     "name": "stdout",
     "output_type": "stream",
     "text": [
      "{'Name': 'Selasi', 'Age:': 15}\n"
     ]
    }
   ],
   "source": [
    "person_1.info()"
   ]
  },
  {
   "cell_type": "code",
   "execution_count": 103,
   "id": "4f56d5c6",
   "metadata": {},
   "outputs": [
    {
     "data": {
      "text/plain": [
       "'Selasi'"
      ]
     },
     "execution_count": 103,
     "metadata": {},
     "output_type": "execute_result"
    }
   ],
   "source": [
    "person_1.name\n"
   ]
  },
  {
   "cell_type": "code",
   "execution_count": 106,
   "id": "e841b682",
   "metadata": {},
   "outputs": [
    {
     "data": {
      "text/plain": [
       "15"
      ]
     },
     "execution_count": 106,
     "metadata": {},
     "output_type": "execute_result"
    }
   ],
   "source": [
    "person_1.age"
   ]
  },
  {
   "cell_type": "code",
   "execution_count": 107,
   "id": "2bec4b3b",
   "metadata": {},
   "outputs": [],
   "source": [
    "student_2 = Student(\"Emefa\",30,\"PS002\")"
   ]
  },
  {
   "cell_type": "code",
   "execution_count": 108,
   "id": "6dac61d7",
   "metadata": {},
   "outputs": [
    {
     "data": {
      "text/plain": [
       "__main__.Student"
      ]
     },
     "execution_count": 108,
     "metadata": {},
     "output_type": "execute_result"
    }
   ],
   "source": [
    "type(student_2)"
   ]
  },
  {
   "cell_type": "code",
   "execution_count": 109,
   "id": "c781e2d2",
   "metadata": {},
   "outputs": [
    {
     "data": {
      "text/plain": [
       "'Emefa'"
      ]
     },
     "execution_count": 109,
     "metadata": {},
     "output_type": "execute_result"
    }
   ],
   "source": [
    "student_2.name"
   ]
  },
  {
   "cell_type": "code",
   "execution_count": 110,
   "id": "c903701d",
   "metadata": {},
   "outputs": [
    {
     "data": {
      "text/plain": [
       "'PS002'"
      ]
     },
     "execution_count": 110,
     "metadata": {},
     "output_type": "execute_result"
    }
   ],
   "source": [
    "student_2.index_number"
   ]
  },
  {
   "cell_type": "code",
   "execution_count": 111,
   "id": "2ad304ce",
   "metadata": {},
   "outputs": [
    {
     "name": "stdout",
     "output_type": "stream",
     "text": [
      "{'Name': 'Emefa', 'Age:': 30, 'Index number': 'PS002'}\n"
     ]
    }
   ],
   "source": [
    "student_2.info()"
   ]
  },
  {
   "cell_type": "code",
   "execution_count": null,
   "id": "ef431786",
   "metadata": {},
   "outputs": [],
   "source": []
  },
  {
   "cell_type": "code",
   "execution_count": null,
   "id": "87fa0124",
   "metadata": {},
   "outputs": [],
   "source": []
  }
 ],
 "metadata": {
  "kernelspec": {
   "display_name": "Python 3 (ipykernel)",
   "language": "python",
   "name": "python3"
  },
  "language_info": {
   "codemirror_mode": {
    "name": "ipython",
    "version": 3
   },
   "file_extension": ".py",
   "mimetype": "text/x-python",
   "name": "python",
   "nbconvert_exporter": "python",
   "pygments_lexer": "ipython3",
   "version": "3.9.12"
  }
 },
 "nbformat": 4,
 "nbformat_minor": 5
}
