{
 "cells": [
  {
   "cell_type": "markdown",
   "id": "10695ae6",
   "metadata": {},
   "source": [
    "### Probability\n",
    "\n",
    "Probability is a measure of the chance that a particular event will occur.\n",
    "\n",
    "It is expressed as a number between 0 and 1\n",
    "\n",
    "`Probability of an event = (# of ways it can happen) / (total number of outcomes)`\n",
    "\n"
   ]
  },
  {
   "cell_type": "markdown",
   "id": "ee74ecc3",
   "metadata": {},
   "source": [
    "### Sample Space\n",
    "A sample space is the set of all possible outcomes of a random experiment \n",
    "\n",
    "It is denoted by the symbol S\n",
    "\n",
    "Example\n",
    "\n",
    "The sample space for rolling a die can be repesented as\n",
    "\n",
    " S = {1, 2, 3, 4, 5, 6}"
   ]
  },
  {
   "cell_type": "markdown",
   "id": "2005cbe1",
   "metadata": {},
   "source": [
    "### Event\n",
    "An event is a subset of the sample space. "
   ]
  },
  {
   "cell_type": "markdown",
   "id": "9446aa2b",
   "metadata": {},
   "source": [
    "### Independent events"
   ]
  },
  {
   "cell_type": "markdown",
   "id": "e375ccb9",
   "metadata": {},
   "source": [
    "Two events are independent if the probability of the second event is not affected by tje outcone of the first event"
   ]
  },
  {
   "cell_type": "markdown",
   "id": "a2565c5c",
   "metadata": {},
   "source": [
    "### Dependent events\n"
   ]
  },
  {
   "cell_type": "markdown",
   "id": "3b11c967",
   "metadata": {},
   "source": [
    "Two events are dependent if the probability of the second event is affected by the outcome of the first event"
   ]
  },
  {
   "cell_type": "code",
   "execution_count": null,
   "id": "f664a400",
   "metadata": {},
   "outputs": [],
   "source": []
  },
  {
   "cell_type": "code",
   "execution_count": null,
   "id": "e1a8890a",
   "metadata": {},
   "outputs": [],
   "source": []
  },
  {
   "cell_type": "markdown",
   "id": "6352cb54",
   "metadata": {},
   "source": [
    "###  Discrete Distribution"
   ]
  },
  {
   "cell_type": "code",
   "execution_count": null,
   "id": "94d33982",
   "metadata": {},
   "outputs": [],
   "source": []
  },
  {
   "cell_type": "markdown",
   "id": "d2ed57ab",
   "metadata": {},
   "source": [
    "### Probability distribution"
   ]
  },
  {
   "cell_type": "markdown",
   "id": "87441cff",
   "metadata": {},
   "source": [
    "It describes the probability of each possible outcome in a scenario"
   ]
  },
  {
   "cell_type": "markdown",
   "id": "90ec3b77",
   "metadata": {},
   "source": [
    "### Expected Value"
   ]
  },
  {
   "cell_type": "markdown",
   "id": "64bfb8c1",
   "metadata": {},
   "source": [
    "It is the mean of a probability distribution.\n",
    "\n",
    "It is calculated as the sum of the product of the value of the variable and its corresponding probability."
   ]
  },
  {
   "cell_type": "markdown",
   "id": "d2789f1c",
   "metadata": {},
   "source": [
    "### Continuous Uniform Distribution"
   ]
  },
  {
   "cell_type": "code",
   "execution_count": null,
   "id": "b461656d",
   "metadata": {},
   "outputs": [],
   "source": []
  }
 ],
 "metadata": {
  "kernelspec": {
   "display_name": "Python 3 (ipykernel)",
   "language": "python",
   "name": "python3"
  },
  "language_info": {
   "codemirror_mode": {
    "name": "ipython",
    "version": 3
   },
   "file_extension": ".py",
   "mimetype": "text/x-python",
   "name": "python",
   "nbconvert_exporter": "python",
   "pygments_lexer": "ipython3",
   "version": "3.9.12"
  }
 },
 "nbformat": 4,
 "nbformat_minor": 5
}
