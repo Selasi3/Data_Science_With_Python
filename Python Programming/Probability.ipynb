{
 "cells": [
  {
   "cell_type": "code",
   "execution_count": null,
   "id": "df468c9e",
   "metadata": {},
   "outputs": [],
   "source": []
  },
  {
   "cell_type": "code",
   "execution_count": null,
   "id": "c52d29ca",
   "metadata": {},
   "outputs": [],
   "source": []
  },
  {
   "cell_type": "code",
   "execution_count": null,
   "id": "1952bad7",
   "metadata": {},
   "outputs": [],
   "source": []
  },
  {
   "cell_type": "markdown",
   "id": "9446aa2b",
   "metadata": {},
   "source": [
    "### Independent events"
   ]
  },
  {
   "cell_type": "markdown",
   "id": "e375ccb9",
   "metadata": {},
   "source": [
    "Two events are independent if the probability of the second event is not affected by tje outcone of the first event"
   ]
  },
  {
   "cell_type": "markdown",
   "id": "a2565c5c",
   "metadata": {},
   "source": [
    "### Dependent events\n"
   ]
  },
  {
   "cell_type": "markdown",
   "id": "3b11c967",
   "metadata": {},
   "source": [
    "Two events are dependent if the probability of the second event is affected by the outcome of the first event"
   ]
  },
  {
   "cell_type": "code",
   "execution_count": null,
   "id": "f664a400",
   "metadata": {},
   "outputs": [],
   "source": []
  },
  {
   "cell_type": "code",
   "execution_count": null,
   "id": "e1a8890a",
   "metadata": {},
   "outputs": [],
   "source": []
  },
  {
   "cell_type": "markdown",
   "id": "6352cb54",
   "metadata": {},
   "source": [
    "###  Discrete Distribution"
   ]
  },
  {
   "cell_type": "code",
   "execution_count": null,
   "id": "94d33982",
   "metadata": {},
   "outputs": [],
   "source": []
  },
  {
   "cell_type": "markdown",
   "id": "d2ed57ab",
   "metadata": {},
   "source": [
    "### Probability distribution"
   ]
  },
  {
   "cell_type": "markdown",
   "id": "87441cff",
   "metadata": {},
   "source": [
    "It describes the probability of each possible outcome in a scenario"
   ]
  },
  {
   "cell_type": "markdown",
   "id": "90ec3b77",
   "metadata": {},
   "source": [
    "### Expected Value"
   ]
  },
  {
   "cell_type": "markdown",
   "id": "64bfb8c1",
   "metadata": {},
   "source": [
    "It is the mean of a probability distribution.\n",
    "\n",
    "It is calculated as the sum of the product of the value of the variable and its corresponding probability."
   ]
  },
  {
   "cell_type": "markdown",
   "id": "d2789f1c",
   "metadata": {},
   "source": [
    "### Continuous Uniform Distribution"
   ]
  },
  {
   "cell_type": "code",
   "execution_count": null,
   "id": "b461656d",
   "metadata": {},
   "outputs": [],
   "source": []
  }
 ],
 "metadata": {
  "kernelspec": {
   "display_name": "Python 3 (ipykernel)",
   "language": "python",
   "name": "python3"
  },
  "language_info": {
   "codemirror_mode": {
    "name": "ipython",
    "version": 3
   },
   "file_extension": ".py",
   "mimetype": "text/x-python",
   "name": "python",
   "nbconvert_exporter": "python",
   "pygments_lexer": "ipython3",
   "version": "3.9.12"
  }
 },
 "nbformat": 4,
 "nbformat_minor": 5
}
